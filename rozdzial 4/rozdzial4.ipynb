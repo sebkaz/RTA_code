{
 "cells": [
  {
   "cell_type": "code",
   "execution_count": null,
   "metadata": {},
   "outputs": [],
   "source": [
    "%%file app.py\n",
    "\n",
    "from flask import Flask\n",
    "\n",
    "# Create a flask\n",
    "app = Flask(__name__)\n",
    "\n",
    "# Create an API end point\n",
    "@app.route('/', methods=['GET'])\n",
    "def hello_world():\n",
    "    return \"<h1> Hello World </h1>\"\n",
    "\n",
    "if __name__ == '__main__':\n",
    "    app.run(host='0.0.0.0')"
   ]
  },
  {
   "cell_type": "code",
   "execution_count": null,
   "metadata": {},
   "outputs": [],
   "source": [
    "# DEKORATORY\n",
    "def dekorator(funkcja_do_opakowania):\n",
    "    def opakowanie():\n",
    "        print('tekst przed opakowaniem')\n",
    "        funkcja_do_opakowania()\n",
    "        print('tekst po opakowaniu')\n",
    "    return opakowanie\n",
    "\n",
    "def test():\n",
    "    print('tekst do opakowania')\n",
    "\n",
    "\n",
    "f = dekorator(test)\n",
    "f()"
   ]
  },
  {
   "cell_type": "code",
   "execution_count": null,
   "metadata": {},
   "outputs": [],
   "source": [
    "@dekorator\n",
    "def test2():\n",
    "    print('inny tekst do opakowania')\n",
    "\n",
    "test2()"
   ]
  },
  {
   "cell_type": "code",
   "execution_count": null,
   "metadata": {},
   "outputs": [],
   "source": [
    "import subprocess\n",
    "import requests"
   ]
  },
  {
   "cell_type": "code",
   "execution_count": null,
   "metadata": {},
   "outputs": [],
   "source": [
    "p = subprocess.Popen([\"python\", \"app1.py\"])"
   ]
  },
  {
   "cell_type": "code",
   "execution_count": null,
   "metadata": {},
   "outputs": [],
   "source": [
    "response = requests.get(\"http://127.0.0.1:5000/hello\")\n",
    "response.content\n",
    "\n",
    "p.kill()"
   ]
  },
  {
   "cell_type": "code",
   "execution_count": null,
   "metadata": {},
   "outputs": [],
   "source": [
    "%%file app2.py\n",
    "\n",
    "from flask import Flask\n",
    "from flask import request\n",
    "\n",
    "# Create a flask\n",
    "app = Flask(__name__)\n",
    "\n",
    "# Create an API end point\n",
    "@app.route('/hello', methods=['GET'])\n",
    "def say_hello():\n",
    "    name = request.args.get(\"name\", \"\")\n",
    "    title = request.args.get(\"title\", \"\")\n",
    "    if name:\n",
    "        resp = f\"Hello {title} {name}\" if title else f\"Hello {name}\"\n",
    "    else:\n",
    "        resp = f\"Hello {title}\" if title else \"Hello\"\n",
    "    return resp\n",
    "\n",
    "if __name__ == '__main__':\n",
    "    app.run()"
   ]
  },
  {
   "cell_type": "code",
   "execution_count": null,
   "metadata": {},
   "outputs": [],
   "source": [
    "p = subprocess.Popen([\"python\", \"app2.py\"])\n",
    "\n",
    "response = requests.get(\"http://127.0.0.1:5000/hello?name=Sebastian\")\n",
    "response.content"
   ]
  },
  {
   "cell_type": "code",
   "execution_count": null,
   "metadata": {},
   "outputs": [],
   "source": [
    "import requests as r\n",
    "res = r.get(http://localhost:5000/api/predict?&sl=4.5&pl=1.3)\n",
    "print(res.content)"
   ]
  },
  {
   "cell_type": "code",
   "execution_count": null,
   "metadata": {},
   "outputs": [],
   "source": [
    "!curl 'localhost:5000/api/predict?&sl=4.5&pl=1.3'"
   ]
  },
  {
   "cell_type": "code",
   "execution_count": null,
   "metadata": {},
   "outputs": [],
   "source": [
    "from transformers import pipeline\n",
    "senti_classifier = pipeline('sentiment-analysis')\n",
    "senti_classifier(\"AWESOME!!!\")"
   ]
  },
  {
   "cell_type": "code",
   "execution_count": null,
   "metadata": {},
   "outputs": [],
   "source": [
    "senti_docs = [\n",
    "    \"AWESOME!!!\", \n",
    "    \":(\", \n",
    "    \"I like this product but I won't buy it again\"]\n",
    "senti_classifier(senti_docs)"
   ]
  },
  {
   "cell_type": "code",
   "execution_count": null,
   "metadata": {},
   "outputs": [],
   "source": [
    "senti_classifier = pipeline(\"sentiment-analysis\",\n",
    "model=\"nlptown/bert-base-multilingual-uncased-sentiment\")"
   ]
  },
  {
   "cell_type": "code",
   "execution_count": null,
   "metadata": {},
   "outputs": [],
   "source": [
    "senti_docs = [\n",
    "    \"AWESOME!!!\", \n",
    "    \":(\", \n",
    "    \"I like this product but I won't buy it again\",\n",
    "    \"to chyba żart\",\n",
    "    \"jesteś niepoważny\",\n",
    "    \"ten sprzęt jest tak świetny, że nie da się go nawet włączyć\"\n",
    "]\n",
    "senti_classifier(senti_docs)"
   ]
  },
  {
   "cell_type": "code",
   "execution_count": null,
   "metadata": {},
   "outputs": [],
   "source": [
    "summarizer = pipeline(\"summarization\",\n",
    "model=\"sshleifer/distilbart-cnn-12-6\")"
   ]
  },
  {
   "cell_type": "code",
   "execution_count": null,
   "metadata": {},
   "outputs": [],
   "source": [
    "sum_doc = (\"\"\"\n",
    "A regular expression (shortened as regex or regexp; also \n",
    "referred to as rational expression) is a sequence of characters \n",
    "that specifies a search pattern. Usually such patterns are used \n",
    "by string-searching algorithms for 'find' or 'find and replace' \n",
    "operations on strings, or for input validation. It is a technique \n",
    "developed in theoretical computer science and formal language \n",
    "theory. The concept arose in the 1950s when the American \n",
    "mathematician Stephen Cole Kleene formalized the description \n",
    "of a regular language. The concept came into common use with Unix \n",
    "text-processing utilities. Different syntaxes for writing regular \n",
    "expressions have existed since the 1980s, one being the POSIX \n",
    "standard and another, widely used, being the Perl syntax.\n",
    "Regular expressions are used in search engines, search and replace \n",
    "dialogs of word processors and text editors, in text processing \n",
    "utilities such as sed and AWK and in lexical analysis.\n",
    "Many programming languages provide regex capabilities either \n",
    "built-in or via libraries, as it has uses in many situations.\n",
    "\"\"\"\n",
    ")"
   ]
  },
  {
   "cell_type": "code",
   "execution_count": null,
   "metadata": {},
   "outputs": [],
   "source": [
    "summarizer(sum_doc, min_length=10, max_length=50)"
   ]
  },
  {
   "cell_type": "code",
   "execution_count": null,
   "metadata": {},
   "outputs": [],
   "source": [
    "summarizer(sum_doc, min_length=10, max_length=100)"
   ]
  },
  {
   "cell_type": "code",
   "execution_count": null,
   "metadata": {},
   "outputs": [],
   "source": [
    "translator = pipeline(\"translation_pl_to_en\",\n",
    "model=\"Helsinki-NLP/opus-mt-pl-en\")\n",
    "\n",
    "translator(\"coś bym napisał, ale mi się nie chce\")"
   ]
  },
  {
   "cell_type": "code",
   "execution_count": null,
   "metadata": {},
   "outputs": [],
   "source": [
    "translator2 = pipeline(\"translation_en_to_pl\",\n",
    "model=\"Helsinki-NLP/opus-mt-en-zlw\")"
   ]
  },
  {
   "cell_type": "code",
   "execution_count": null,
   "metadata": {},
   "outputs": [],
   "source": [
    "translator2(\"I'd write something but I don't want to.\")"
   ]
  },
  {
   "cell_type": "code",
   "execution_count": null,
   "metadata": {},
   "outputs": [],
   "source": [
    "gen_doc = \"Knock knock. Who's there?\"\n",
    "\n",
    "generator = pipeline(\"text-generation\", model=\"gpt2\")"
   ]
  },
  {
   "cell_type": "code",
   "execution_count": null,
   "metadata": {},
   "outputs": [],
   "source": [
    "generator(gen_doc, max_length=50)"
   ]
  },
  {
   "cell_type": "code",
   "execution_count": null,
   "metadata": {},
   "outputs": [],
   "source": []
  }
 ],
 "metadata": {
  "interpreter": {
   "hash": "e1143f982d67ed63b394819c0055b556226ea2b15cfc376a81c44e9359cfc8e9"
  },
  "kernelspec": {
   "display_name": "Python 3.8.9 ('venv': venv)",
   "language": "python",
   "name": "python3"
  },
  "language_info": {
   "codemirror_mode": {
    "name": "ipython",
    "version": 3
   },
   "file_extension": ".py",
   "mimetype": "text/x-python",
   "name": "python",
   "nbconvert_exporter": "python",
   "pygments_lexer": "ipython3",
   "version": "3.9.13"
  },
  "orig_nbformat": 4
 },
 "nbformat": 4,
 "nbformat_minor": 2
}
