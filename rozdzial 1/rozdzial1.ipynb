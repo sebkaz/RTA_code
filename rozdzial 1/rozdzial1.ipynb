{
 "cells": [
  {
   "cell_type": "markdown",
   "metadata": {},
   "source": [
    "# 1. Dane i ich modele przetwarzania\n",
    "## 1.1 Dane w pythonie"
   ]
  },
  {
   "cell_type": "code",
   "execution_count": 1,
   "metadata": {},
   "outputs": [],
   "source": [
    "klient = [38, 'Kawaler',1, 56.3]"
   ]
  },
  {
   "cell_type": "code",
   "execution_count": 2,
   "metadata": {},
   "outputs": [
    {
     "data": {
      "text/plain": [
       "list"
      ]
     },
     "execution_count": 2,
     "metadata": {},
     "output_type": "execute_result"
    }
   ],
   "source": [
    "type(klient)"
   ]
  },
  {
   "cell_type": "code",
   "execution_count": 3,
   "metadata": {},
   "outputs": [
    {
     "name": "stdout",
     "output_type": "stream",
     "text": [
      "a+b: [1, 2, 3, 4, 5, 6]\n"
     ]
    }
   ],
   "source": [
    "a = [1,2,3]\n",
    "b = [4,5,6]\n",
    "print(f\"a+b: {a+b}\")"
   ]
  },
  {
   "cell_type": "code",
   "execution_count": 4,
   "metadata": {},
   "outputs": [
    {
     "name": "stdout",
     "output_type": "stream",
     "text": [
      "operacja niezdefiniowana\n"
     ]
    }
   ],
   "source": [
    "try:\n",
    "    print(a*b)\n",
    "except TypeError:\n",
    "    print(\"operacja niezdefiniowana\")"
   ]
  },
  {
   "cell_type": "code",
   "execution_count": 5,
   "metadata": {},
   "outputs": [
    {
     "data": {
      "text/plain": [
       "numpy.ndarray"
      ]
     },
     "execution_count": 5,
     "metadata": {},
     "output_type": "execute_result"
    }
   ],
   "source": [
    "import numpy as np\n",
    "aa = np.array([1,2,3])\n",
    "bb = np.array([4,5,6])\n",
    "\n",
    "type(aa)"
   ]
  },
  {
   "cell_type": "code",
   "execution_count": 6,
   "metadata": {},
   "outputs": [
    {
     "name": "stdout",
     "output_type": "stream",
     "text": [
      "aa+bb: [5 7 9]\n"
     ]
    }
   ],
   "source": [
    "print(f\"aa+bb: {aa+bb}\")"
   ]
  },
  {
   "cell_type": "code",
   "execution_count": 7,
   "metadata": {},
   "outputs": [
    {
     "name": "stdout",
     "output_type": "stream",
     "text": [
      "[ 4 10 18]\n"
     ]
    }
   ],
   "source": [
    "try:\n",
    "    print(aa*bb)\n",
    "except TypeError:\n",
    "    print(\"operacja niezdefiniowana\")"
   ]
  },
  {
   "cell_type": "code",
   "execution_count": 8,
   "metadata": {},
   "outputs": [
    {
     "data": {
      "text/plain": [
       "array([0, 1, 2, 3])"
      ]
     },
     "execution_count": 8,
     "metadata": {},
     "output_type": "execute_result"
    }
   ],
   "source": [
    "x = np.array(range(4))\n",
    "x"
   ]
  },
  {
   "cell_type": "code",
   "execution_count": 9,
   "metadata": {},
   "outputs": [
    {
     "data": {
      "text/plain": [
       "(4,)"
      ]
     },
     "execution_count": 9,
     "metadata": {},
     "output_type": "execute_result"
    }
   ],
   "source": [
    "x.shape"
   ]
  },
  {
   "cell_type": "code",
   "execution_count": 10,
   "metadata": {},
   "outputs": [
    {
     "data": {
      "text/plain": [
       "array([[0, 1, 2, 3],\n",
       "       [0, 1, 2, 3]])"
      ]
     },
     "execution_count": 10,
     "metadata": {},
     "output_type": "execute_result"
    }
   ],
   "source": [
    "A = np.array([range(4),range(4)])\n",
    "A"
   ]
  },
  {
   "cell_type": "code",
   "execution_count": 11,
   "metadata": {},
   "outputs": [
    {
     "data": {
      "text/plain": [
       "(2, 4)"
      ]
     },
     "execution_count": 11,
     "metadata": {},
     "output_type": "execute_result"
    }
   ],
   "source": [
    "A.shape"
   ]
  },
  {
   "cell_type": "code",
   "execution_count": 12,
   "metadata": {},
   "outputs": [
    {
     "data": {
      "text/plain": [
       "array([[0, 0],\n",
       "       [1, 1],\n",
       "       [2, 2],\n",
       "       [3, 3]])"
      ]
     },
     "execution_count": 12,
     "metadata": {},
     "output_type": "execute_result"
    }
   ],
   "source": [
    "A.T"
   ]
  },
  {
   "cell_type": "code",
   "execution_count": 13,
   "metadata": {},
   "outputs": [],
   "source": [
    "from sklearn.datasets import load_iris\n",
    "iris = load_iris()"
   ]
  },
  {
   "cell_type": "code",
   "execution_count": 14,
   "metadata": {},
   "outputs": [
    {
     "data": {
      "text/plain": [
       "sklearn.utils.Bunch"
      ]
     },
     "execution_count": 14,
     "metadata": {},
     "output_type": "execute_result"
    }
   ],
   "source": [
    "type(iris)"
   ]
  },
  {
   "cell_type": "code",
   "execution_count": 15,
   "metadata": {},
   "outputs": [
    {
     "data": {
      "text/plain": [
       "dict_keys(['data', 'target', 'frame', 'target_names', 'DESCR', 'feature_names', 'filename', 'data_module'])"
      ]
     },
     "execution_count": 15,
     "metadata": {},
     "output_type": "execute_result"
    }
   ],
   "source": [
    "iris.keys()"
   ]
  },
  {
   "cell_type": "code",
   "execution_count": 16,
   "metadata": {},
   "outputs": [
    {
     "name": "stdout",
     "output_type": "stream",
     "text": [
      "<class 'pandas.core.frame.DataFrame'>\n"
     ]
    }
   ],
   "source": [
    "import numpy as np\n",
    "import pandas as pd\n",
    "pd.set_option('display.precision',2)\n",
    "\n",
    "df = pd.DataFrame(data= np.c_[iris['data'], iris['target']],\n",
    "                  columns= iris['feature_names'] + ['target'])\n",
    "                  \n",
    "print(type(df))"
   ]
  },
  {
   "cell_type": "code",
   "execution_count": 17,
   "metadata": {},
   "outputs": [],
   "source": [
    "# nowa kolumna\n",
    "df['species'] = pd.Categorical.from_codes(iris.target, iris.target_names)"
   ]
  },
  {
   "cell_type": "code",
   "execution_count": 19,
   "metadata": {},
   "outputs": [],
   "source": [
    "# usuniecie kolumny\n",
    "df = df.drop(columns=['target'])"
   ]
  },
  {
   "cell_type": "code",
   "execution_count": 20,
   "metadata": {},
   "outputs": [
    {
     "data": {
      "text/html": [
       "<div>\n",
       "<style scoped>\n",
       "    .dataframe tbody tr th:only-of-type {\n",
       "        vertical-align: middle;\n",
       "    }\n",
       "\n",
       "    .dataframe tbody tr th {\n",
       "        vertical-align: top;\n",
       "    }\n",
       "\n",
       "    .dataframe thead th {\n",
       "        text-align: right;\n",
       "    }\n",
       "</style>\n",
       "<table border=\"1\" class=\"dataframe\">\n",
       "  <thead>\n",
       "    <tr style=\"text-align: right;\">\n",
       "      <th></th>\n",
       "      <th>sepal length (cm)</th>\n",
       "      <th>sepal width (cm)</th>\n",
       "      <th>petal length (cm)</th>\n",
       "      <th>petal width (cm)</th>\n",
       "      <th>species</th>\n",
       "    </tr>\n",
       "  </thead>\n",
       "  <tbody>\n",
       "    <tr>\n",
       "      <th>0</th>\n",
       "      <td>5.1</td>\n",
       "      <td>3.5</td>\n",
       "      <td>1.4</td>\n",
       "      <td>0.2</td>\n",
       "      <td>setosa</td>\n",
       "    </tr>\n",
       "    <tr>\n",
       "      <th>1</th>\n",
       "      <td>4.9</td>\n",
       "      <td>3.0</td>\n",
       "      <td>1.4</td>\n",
       "      <td>0.2</td>\n",
       "      <td>setosa</td>\n",
       "    </tr>\n",
       "    <tr>\n",
       "      <th>2</th>\n",
       "      <td>4.7</td>\n",
       "      <td>3.2</td>\n",
       "      <td>1.3</td>\n",
       "      <td>0.2</td>\n",
       "      <td>setosa</td>\n",
       "    </tr>\n",
       "    <tr>\n",
       "      <th>3</th>\n",
       "      <td>4.6</td>\n",
       "      <td>3.1</td>\n",
       "      <td>1.5</td>\n",
       "      <td>0.2</td>\n",
       "      <td>setosa</td>\n",
       "    </tr>\n",
       "    <tr>\n",
       "      <th>4</th>\n",
       "      <td>5.0</td>\n",
       "      <td>3.6</td>\n",
       "      <td>1.4</td>\n",
       "      <td>0.2</td>\n",
       "      <td>setosa</td>\n",
       "    </tr>\n",
       "  </tbody>\n",
       "</table>\n",
       "</div>"
      ],
      "text/plain": [
       "   sepal length (cm)  sepal width (cm)  petal length (cm)  petal width (cm)  \\\n",
       "0                5.1               3.5                1.4               0.2   \n",
       "1                4.9               3.0                1.4               0.2   \n",
       "2                4.7               3.2                1.3               0.2   \n",
       "3                4.6               3.1                1.5               0.2   \n",
       "4                5.0               3.6                1.4               0.2   \n",
       "\n",
       "  species  \n",
       "0  setosa  \n",
       "1  setosa  \n",
       "2  setosa  \n",
       "3  setosa  \n",
       "4  setosa  "
      ]
     },
     "execution_count": 20,
     "metadata": {},
     "output_type": "execute_result"
    }
   ],
   "source": [
    "# pierwsze wiersze\n",
    "df.head()"
   ]
  },
  {
   "cell_type": "code",
   "execution_count": 21,
   "metadata": {},
   "outputs": [
    {
     "data": {
      "text/html": [
       "<div>\n",
       "<style scoped>\n",
       "    .dataframe tbody tr th:only-of-type {\n",
       "        vertical-align: middle;\n",
       "    }\n",
       "\n",
       "    .dataframe tbody tr th {\n",
       "        vertical-align: top;\n",
       "    }\n",
       "\n",
       "    .dataframe thead th {\n",
       "        text-align: right;\n",
       "    }\n",
       "</style>\n",
       "<table border=\"1\" class=\"dataframe\">\n",
       "  <thead>\n",
       "    <tr style=\"text-align: right;\">\n",
       "      <th></th>\n",
       "      <th>sepal length (cm)</th>\n",
       "      <th>sepal width (cm)</th>\n",
       "      <th>petal length (cm)</th>\n",
       "      <th>petal width (cm)</th>\n",
       "      <th>species</th>\n",
       "    </tr>\n",
       "  </thead>\n",
       "  <tbody>\n",
       "    <tr>\n",
       "      <th>145</th>\n",
       "      <td>6.7</td>\n",
       "      <td>3.0</td>\n",
       "      <td>5.2</td>\n",
       "      <td>2.3</td>\n",
       "      <td>virginica</td>\n",
       "    </tr>\n",
       "    <tr>\n",
       "      <th>146</th>\n",
       "      <td>6.3</td>\n",
       "      <td>2.5</td>\n",
       "      <td>5.0</td>\n",
       "      <td>1.9</td>\n",
       "      <td>virginica</td>\n",
       "    </tr>\n",
       "    <tr>\n",
       "      <th>147</th>\n",
       "      <td>6.5</td>\n",
       "      <td>3.0</td>\n",
       "      <td>5.2</td>\n",
       "      <td>2.0</td>\n",
       "      <td>virginica</td>\n",
       "    </tr>\n",
       "    <tr>\n",
       "      <th>148</th>\n",
       "      <td>6.2</td>\n",
       "      <td>3.4</td>\n",
       "      <td>5.4</td>\n",
       "      <td>2.3</td>\n",
       "      <td>virginica</td>\n",
       "    </tr>\n",
       "    <tr>\n",
       "      <th>149</th>\n",
       "      <td>5.9</td>\n",
       "      <td>3.0</td>\n",
       "      <td>5.1</td>\n",
       "      <td>1.8</td>\n",
       "      <td>virginica</td>\n",
       "    </tr>\n",
       "  </tbody>\n",
       "</table>\n",
       "</div>"
      ],
      "text/plain": [
       "     sepal length (cm)  sepal width (cm)  petal length (cm)  petal width (cm)  \\\n",
       "145                6.7               3.0                5.2               2.3   \n",
       "146                6.3               2.5                5.0               1.9   \n",
       "147                6.5               3.0                5.2               2.0   \n",
       "148                6.2               3.4                5.4               2.3   \n",
       "149                5.9               3.0                5.1               1.8   \n",
       "\n",
       "       species  \n",
       "145  virginica  \n",
       "146  virginica  \n",
       "147  virginica  \n",
       "148  virginica  \n",
       "149  virginica  "
      ]
     },
     "execution_count": 21,
     "metadata": {},
     "output_type": "execute_result"
    }
   ],
   "source": [
    "# ostatnie wiersze\n",
    "df.tail()"
   ]
  },
  {
   "cell_type": "code",
   "execution_count": 22,
   "metadata": {},
   "outputs": [
    {
     "name": "stdout",
     "output_type": "stream",
     "text": [
      "<class 'pandas.core.frame.DataFrame'>\n",
      "RangeIndex: 150 entries, 0 to 149\n",
      "Data columns (total 5 columns):\n",
      " #   Column             Non-Null Count  Dtype   \n",
      "---  ------             --------------  -----   \n",
      " 0   sepal length (cm)  150 non-null    float64 \n",
      " 1   sepal width (cm)   150 non-null    float64 \n",
      " 2   petal length (cm)  150 non-null    float64 \n",
      " 3   petal width (cm)   150 non-null    float64 \n",
      " 4   species            150 non-null    category\n",
      "dtypes: category(1), float64(4)\n",
      "memory usage: 5.1 KB\n"
     ]
    }
   ],
   "source": [
    "# podstawowe informacje\n",
    "df.info()"
   ]
  },
  {
   "cell_type": "code",
   "execution_count": 23,
   "metadata": {},
   "outputs": [
    {
     "data": {
      "text/html": [
       "<div>\n",
       "<style scoped>\n",
       "    .dataframe tbody tr th:only-of-type {\n",
       "        vertical-align: middle;\n",
       "    }\n",
       "\n",
       "    .dataframe tbody tr th {\n",
       "        vertical-align: top;\n",
       "    }\n",
       "\n",
       "    .dataframe thead th {\n",
       "        text-align: right;\n",
       "    }\n",
       "</style>\n",
       "<table border=\"1\" class=\"dataframe\">\n",
       "  <thead>\n",
       "    <tr style=\"text-align: right;\">\n",
       "      <th></th>\n",
       "      <th>sepal length (cm)</th>\n",
       "      <th>sepal width (cm)</th>\n",
       "      <th>petal length (cm)</th>\n",
       "      <th>petal width (cm)</th>\n",
       "    </tr>\n",
       "  </thead>\n",
       "  <tbody>\n",
       "    <tr>\n",
       "      <th>count</th>\n",
       "      <td>150.00</td>\n",
       "      <td>150.00</td>\n",
       "      <td>150.00</td>\n",
       "      <td>150.00</td>\n",
       "    </tr>\n",
       "    <tr>\n",
       "      <th>mean</th>\n",
       "      <td>5.84</td>\n",
       "      <td>3.06</td>\n",
       "      <td>3.76</td>\n",
       "      <td>1.20</td>\n",
       "    </tr>\n",
       "    <tr>\n",
       "      <th>std</th>\n",
       "      <td>0.83</td>\n",
       "      <td>0.44</td>\n",
       "      <td>1.77</td>\n",
       "      <td>0.76</td>\n",
       "    </tr>\n",
       "    <tr>\n",
       "      <th>min</th>\n",
       "      <td>4.30</td>\n",
       "      <td>2.00</td>\n",
       "      <td>1.00</td>\n",
       "      <td>0.10</td>\n",
       "    </tr>\n",
       "    <tr>\n",
       "      <th>25%</th>\n",
       "      <td>5.10</td>\n",
       "      <td>2.80</td>\n",
       "      <td>1.60</td>\n",
       "      <td>0.30</td>\n",
       "    </tr>\n",
       "    <tr>\n",
       "      <th>50%</th>\n",
       "      <td>5.80</td>\n",
       "      <td>3.00</td>\n",
       "      <td>4.35</td>\n",
       "      <td>1.30</td>\n",
       "    </tr>\n",
       "    <tr>\n",
       "      <th>75%</th>\n",
       "      <td>6.40</td>\n",
       "      <td>3.30</td>\n",
       "      <td>5.10</td>\n",
       "      <td>1.80</td>\n",
       "    </tr>\n",
       "    <tr>\n",
       "      <th>max</th>\n",
       "      <td>7.90</td>\n",
       "      <td>4.40</td>\n",
       "      <td>6.90</td>\n",
       "      <td>2.50</td>\n",
       "    </tr>\n",
       "  </tbody>\n",
       "</table>\n",
       "</div>"
      ],
      "text/plain": [
       "       sepal length (cm)  sepal width (cm)  petal length (cm)  \\\n",
       "count             150.00            150.00             150.00   \n",
       "mean                5.84              3.06               3.76   \n",
       "std                 0.83              0.44               1.77   \n",
       "min                 4.30              2.00               1.00   \n",
       "25%                 5.10              2.80               1.60   \n",
       "50%                 5.80              3.00               4.35   \n",
       "75%                 6.40              3.30               5.10   \n",
       "max                 7.90              4.40               6.90   \n",
       "\n",
       "       petal width (cm)  \n",
       "count            150.00  \n",
       "mean               1.20  \n",
       "std                0.76  \n",
       "min                0.10  \n",
       "25%                0.30  \n",
       "50%                1.30  \n",
       "75%                1.80  \n",
       "max                2.50  "
      ]
     },
     "execution_count": 23,
     "metadata": {},
     "output_type": "execute_result"
    }
   ],
   "source": [
    "# podstawowe statystyki \n",
    "df.describe()"
   ]
  },
  {
   "cell_type": "code",
   "execution_count": 24,
   "metadata": {},
   "outputs": [],
   "source": [
    "# filtrowanie danych\n",
    "X = df.iloc[:100,[0,2]].values \n",
    "# pierwsze sto wierszy + kolumna 0 i 2, "
   ]
  },
  {
   "cell_type": "code",
   "execution_count": 25,
   "metadata": {},
   "outputs": [],
   "source": [
    "\n",
    "# values- zamienia DataFrame na np.array\n",
    "y = df.iloc[:100,4].values"
   ]
  },
  {
   "cell_type": "code",
   "execution_count": 26,
   "metadata": {},
   "outputs": [
    {
     "data": {
      "text/plain": [
       "['setosa', 'versicolor']\n",
       "Categories (3, object): ['setosa', 'versicolor', 'virginica']"
      ]
     },
     "execution_count": 26,
     "metadata": {},
     "output_type": "execute_result"
    }
   ],
   "source": [
    "# unikalne wartosci\n",
    "y.unique()"
   ]
  },
  {
   "cell_type": "code",
   "execution_count": 27,
   "metadata": {},
   "outputs": [],
   "source": [
    "# przetwarzanie warunkowe\n",
    "y = np.where(y == 'setosa',-1,1)\n",
    "X_iris, y_iris = X, y "
   ]
  },
  {
   "cell_type": "code",
   "execution_count": 28,
   "metadata": {},
   "outputs": [],
   "source": [
    "import matplotlib.pyplot as plt"
   ]
  },
  {
   "cell_type": "code",
   "execution_count": 29,
   "metadata": {},
   "outputs": [
    {
     "data": {
      "image/png": "[encoded data removed]",
      "text/plain": [
       "<Figure size 432x288 with 1 Axes>"
      ]
     },
     "metadata": {
      "needs_background": "light"
     },
     "output_type": "display_data"
    }
   ],
   "source": [
    "plt.scatter(X[:50,0],X[:50,1],color='red', marker='o',label='setosa')\n",
    "plt.scatter(X[50:100,0],X[50:100,1],color='blue', marker='x',\n",
    "label='versicolor')\n",
    "plt.xlabel('sepal length (cm)')\n",
    "plt.ylabel('petal length (cm)')\n",
    "plt.legend(loc='upper left')\n",
    "# plt.savefig('rys1_1.eps', format='eps')\n",
    "plt.show()"
   ]
  },
  {
   "cell_type": "code",
   "execution_count": 30,
   "metadata": {},
   "outputs": [
    {
     "data": {
      "text/plain": [
       "(60000, 28, 28)"
      ]
     },
     "execution_count": 30,
     "metadata": {},
     "output_type": "execute_result"
    }
   ],
   "source": [
    "import numpy as np\n",
    "from keras.datasets import mnist\n",
    "\n",
    "(X_train, y_train),(X_test, y_test) = mnist.load_data()\n",
    "\n",
    "X_train.shape"
   ]
  },
  {
   "cell_type": "code",
   "execution_count": 31,
   "metadata": {},
   "outputs": [
    {
     "data": {
      "text/plain": [
       "<matplotlib.image.AxesImage at 0x1340704f0>"
      ]
     },
     "execution_count": 31,
     "metadata": {},
     "output_type": "execute_result"
    },
    {
     "data": {
      "image/png": "[encoded data removed]",
      "text/plain": [
       "<Figure size 432x288 with 1 Axes>"
      ]
     },
     "metadata": {
      "needs_background": "light"
     },
     "output_type": "display_data"
    }
   ],
   "source": [
    "import matplotlib.pyplot as plt\n",
    "plt.imshow(X_train[0], cmap=plt.cm.binary)"
   ]
  },
  {
   "cell_type": "code",
   "execution_count": 32,
   "metadata": {},
   "outputs": [],
   "source": [
    "from fastai.vision.all import *"
   ]
  },
  {
   "cell_type": "code",
   "execution_count": 33,
   "metadata": {},
   "outputs": [],
   "source": [
    "path = untar_data(URLs.MNIST_SAMPLE)\n",
    "# wybierz trojke\n",
    "thress = (path/'train'/'3').ls().sorted()\n",
    "im3_path = thress[1]\n",
    "im3 = Image.open(im3_path)\n",
    "# zapisz obraz jako tensor i wytnij czesc\n",
    "im3_t = tensor(im3)[4:15,4:22]"
   ]
  },
  {
   "cell_type": "code",
   "execution_count": 34,
   "metadata": {},
   "outputs": [
    {
     "data": {
      "text/html": [
       "<style type=\"text/css\">\n",
       "#T_c0c80_row0_col0, #T_c0c80_row0_col1, #T_c0c80_row0_col2, #T_c0c80_row0_col3, #T_c0c80_row0_col4, #T_c0c80_row0_col5, #T_c0c80_row0_col6, #T_c0c80_row0_col7, #T_c0c80_row0_col8, #T_c0c80_row0_col9, #T_c0c80_row0_col10, #T_c0c80_row0_col11, #T_c0c80_row0_col12, #T_c0c80_row0_col13, #T_c0c80_row0_col14, #T_c0c80_row0_col15, #T_c0c80_row0_col16, #T_c0c80_row0_col17, #T_c0c80_row1_col0, #T_c0c80_row1_col1, #T_c0c80_row1_col2, #T_c0c80_row1_col3, #T_c0c80_row1_col4, #T_c0c80_row1_col15, #T_c0c80_row1_col16, #T_c0c80_row1_col17, #T_c0c80_row2_col0, #T_c0c80_row2_col1, #T_c0c80_row2_col2, #T_c0c80_row2_col15, #T_c0c80_row2_col16, #T_c0c80_row2_col17, #T_c0c80_row3_col0, #T_c0c80_row3_col15, #T_c0c80_row3_col16, #T_c0c80_row3_col17, #T_c0c80_row4_col0, #T_c0c80_row4_col6, #T_c0c80_row4_col7, #T_c0c80_row4_col8, #T_c0c80_row4_col9, #T_c0c80_row4_col10, #T_c0c80_row4_col15, #T_c0c80_row4_col16, #T_c0c80_row4_col17, #T_c0c80_row5_col0, #T_c0c80_row5_col5, #T_c0c80_row5_col6, #T_c0c80_row5_col7, #T_c0c80_row5_col8, #T_c0c80_row5_col9, #T_c0c80_row5_col15, #T_c0c80_row5_col16, #T_c0c80_row5_col17, #T_c0c80_row6_col0, #T_c0c80_row6_col1, #T_c0c80_row6_col2, #T_c0c80_row6_col3, #T_c0c80_row6_col4, #T_c0c80_row6_col5, #T_c0c80_row6_col6, #T_c0c80_row6_col7, #T_c0c80_row6_col8, #T_c0c80_row6_col9, #T_c0c80_row6_col14, #T_c0c80_row6_col15, #T_c0c80_row6_col16, #T_c0c80_row6_col17, #T_c0c80_row7_col0, #T_c0c80_row7_col1, #T_c0c80_row7_col2, #T_c0c80_row7_col3, #T_c0c80_row7_col4, #T_c0c80_row7_col5, #T_c0c80_row7_col6, #T_c0c80_row7_col13, #T_c0c80_row7_col14, #T_c0c80_row7_col15, #T_c0c80_row7_col16, #T_c0c80_row7_col17, #T_c0c80_row8_col0, #T_c0c80_row8_col1, #T_c0c80_row8_col2, #T_c0c80_row8_col3, #T_c0c80_row8_col4, #T_c0c80_row8_col13, #T_c0c80_row8_col14, #T_c0c80_row8_col15, #T_c0c80_row8_col16, #T_c0c80_row8_col17, #T_c0c80_row9_col0, #T_c0c80_row9_col1, #T_c0c80_row9_col2, #T_c0c80_row9_col3, #T_c0c80_row9_col4, #T_c0c80_row9_col16, #T_c0c80_row9_col17, #T_c0c80_row10_col0, #T_c0c80_row10_col1, #T_c0c80_row10_col2, #T_c0c80_row10_col3, #T_c0c80_row10_col4, #T_c0c80_row10_col5, #T_c0c80_row10_col6, #T_c0c80_row10_col17 {\n",
       "  font-size: 6pt;\n",
       "  background-color: #ffffff;\n",
       "  color: #000000;\n",
       "}\n",
       "#T_c0c80_row1_col5 {\n",
       "  font-size: 6pt;\n",
       "  background-color: #efefef;\n",
       "  color: #000000;\n",
       "}\n",
       "#T_c0c80_row1_col6, #T_c0c80_row1_col13 {\n",
       "  font-size: 6pt;\n",
       "  background-color: #7c7c7c;\n",
       "  color: #f1f1f1;\n",
       "}\n",
       "#T_c0c80_row1_col7 {\n",
       "  font-size: 6pt;\n",
       "  background-color: #4a4a4a;\n",
       "  color: #f1f1f1;\n",
       "}\n",
       "#T_c0c80_row1_col8, #T_c0c80_row1_col9, #T_c0c80_row1_col10, #T_c0c80_row2_col5, #T_c0c80_row2_col6, #T_c0c80_row2_col7, #T_c0c80_row2_col11, #T_c0c80_row2_col12, #T_c0c80_row2_col13, #T_c0c80_row3_col4, #T_c0c80_row3_col12, #T_c0c80_row3_col13, #T_c0c80_row4_col1, #T_c0c80_row4_col2, #T_c0c80_row4_col3, #T_c0c80_row4_col12, #T_c0c80_row4_col13, #T_c0c80_row5_col12, #T_c0c80_row6_col11, #T_c0c80_row9_col11, #T_c0c80_row10_col11, #T_c0c80_row10_col12, #T_c0c80_row10_col13, #T_c0c80_row10_col14, #T_c0c80_row10_col15, #T_c0c80_row10_col16 {\n",
       "  font-size: 6pt;\n",
       "  background-color: #000000;\n",
       "  color: #f1f1f1;\n",
       "}\n",
       "#T_c0c80_row1_col11 {\n",
       "  font-size: 6pt;\n",
       "  background-color: #606060;\n",
       "  color: #f1f1f1;\n",
       "}\n",
       "#T_c0c80_row1_col12 {\n",
       "  font-size: 6pt;\n",
       "  background-color: #4d4d4d;\n",
       "  color: #f1f1f1;\n",
       "}\n",
       "#T_c0c80_row1_col14 {\n",
       "  font-size: 6pt;\n",
       "  background-color: #bbbbbb;\n",
       "  color: #000000;\n",
       "}\n",
       "#T_c0c80_row2_col3 {\n",
       "  font-size: 6pt;\n",
       "  background-color: #e4e4e4;\n",
       "  color: #000000;\n",
       "}\n",
       "#T_c0c80_row2_col4, #T_c0c80_row8_col6 {\n",
       "  font-size: 6pt;\n",
       "  background-color: #6b6b6b;\n",
       "  color: #f1f1f1;\n",
       "}\n",
       "#T_c0c80_row2_col8, #T_c0c80_row2_col14, #T_c0c80_row3_col14 {\n",
       "  font-size: 6pt;\n",
       "  background-color: #171717;\n",
       "  color: #f1f1f1;\n",
       "}\n",
       "#T_c0c80_row2_col9, #T_c0c80_row3_col11 {\n",
       "  font-size: 6pt;\n",
       "  background-color: #4b4b4b;\n",
       "  color: #f1f1f1;\n",
       "}\n",
       "#T_c0c80_row2_col10, #T_c0c80_row7_col10, #T_c0c80_row8_col8, #T_c0c80_row8_col10, #T_c0c80_row9_col8, #T_c0c80_row9_col10 {\n",
       "  font-size: 6pt;\n",
       "  background-color: #010101;\n",
       "  color: #f1f1f1;\n",
       "}\n",
       "#T_c0c80_row3_col1 {\n",
       "  font-size: 6pt;\n",
       "  background-color: #272727;\n",
       "  color: #f1f1f1;\n",
       "}\n",
       "#T_c0c80_row3_col2 {\n",
       "  font-size: 6pt;\n",
       "  background-color: #0a0a0a;\n",
       "  color: #f1f1f1;\n",
       "}\n",
       "#T_c0c80_row3_col3 {\n",
       "  font-size: 6pt;\n",
       "  background-color: #050505;\n",
       "  color: #f1f1f1;\n",
       "}\n",
       "#T_c0c80_row3_col5 {\n",
       "  font-size: 6pt;\n",
       "  background-color: #333333;\n",
       "  color: #f1f1f1;\n",
       "}\n",
       "#T_c0c80_row3_col6 {\n",
       "  font-size: 6pt;\n",
       "  background-color: #e6e6e6;\n",
       "  color: #000000;\n",
       "}\n",
       "#T_c0c80_row3_col7, #T_c0c80_row3_col10 {\n",
       "  font-size: 6pt;\n",
       "  background-color: #fafafa;\n",
       "  color: #000000;\n",
       "}\n",
       "#T_c0c80_row3_col8 {\n",
       "  font-size: 6pt;\n",
       "  background-color: #fbfbfb;\n",
       "  color: #000000;\n",
       "}\n",
       "#T_c0c80_row3_col9 {\n",
       "  font-size: 6pt;\n",
       "  background-color: #fdfdfd;\n",
       "  color: #000000;\n",
       "}\n",
       "#T_c0c80_row4_col4 {\n",
       "  font-size: 6pt;\n",
       "  background-color: #1b1b1b;\n",
       "  color: #f1f1f1;\n",
       "}\n",
       "#T_c0c80_row4_col5 {\n",
       "  font-size: 6pt;\n",
       "  background-color: #e0e0e0;\n",
       "  color: #000000;\n",
       "}\n",
       "#T_c0c80_row4_col11 {\n",
       "  font-size: 6pt;\n",
       "  background-color: #4e4e4e;\n",
       "  color: #f1f1f1;\n",
       "}\n",
       "#T_c0c80_row4_col14 {\n",
       "  font-size: 6pt;\n",
       "  background-color: #767676;\n",
       "  color: #f1f1f1;\n",
       "}\n",
       "#T_c0c80_row5_col1 {\n",
       "  font-size: 6pt;\n",
       "  background-color: #fcfcfc;\n",
       "  color: #000000;\n",
       "}\n",
       "#T_c0c80_row5_col2, #T_c0c80_row5_col3 {\n",
       "  font-size: 6pt;\n",
       "  background-color: #f6f6f6;\n",
       "  color: #000000;\n",
       "}\n",
       "#T_c0c80_row5_col4, #T_c0c80_row7_col7 {\n",
       "  font-size: 6pt;\n",
       "  background-color: #f8f8f8;\n",
       "  color: #000000;\n",
       "}\n",
       "#T_c0c80_row5_col10, #T_c0c80_row10_col7 {\n",
       "  font-size: 6pt;\n",
       "  background-color: #e8e8e8;\n",
       "  color: #000000;\n",
       "}\n",
       "#T_c0c80_row5_col11 {\n",
       "  font-size: 6pt;\n",
       "  background-color: #222222;\n",
       "  color: #f1f1f1;\n",
       "}\n",
       "#T_c0c80_row5_col13, #T_c0c80_row6_col12 {\n",
       "  font-size: 6pt;\n",
       "  background-color: #090909;\n",
       "  color: #f1f1f1;\n",
       "}\n",
       "#T_c0c80_row5_col14 {\n",
       "  font-size: 6pt;\n",
       "  background-color: #d0d0d0;\n",
       "  color: #000000;\n",
       "}\n",
       "#T_c0c80_row6_col10, #T_c0c80_row7_col11, #T_c0c80_row9_col6 {\n",
       "  font-size: 6pt;\n",
       "  background-color: #060606;\n",
       "  color: #f1f1f1;\n",
       "}\n",
       "#T_c0c80_row6_col13 {\n",
       "  font-size: 6pt;\n",
       "  background-color: #979797;\n",
       "  color: #f1f1f1;\n",
       "}\n",
       "#T_c0c80_row7_col8 {\n",
       "  font-size: 6pt;\n",
       "  background-color: #b6b6b6;\n",
       "  color: #000000;\n",
       "}\n",
       "#T_c0c80_row7_col9 {\n",
       "  font-size: 6pt;\n",
       "  background-color: #252525;\n",
       "  color: #f1f1f1;\n",
       "}\n",
       "#T_c0c80_row7_col12 {\n",
       "  font-size: 6pt;\n",
       "  background-color: #999999;\n",
       "  color: #f1f1f1;\n",
       "}\n",
       "#T_c0c80_row8_col5 {\n",
       "  font-size: 6pt;\n",
       "  background-color: #f9f9f9;\n",
       "  color: #000000;\n",
       "}\n",
       "#T_c0c80_row8_col7 {\n",
       "  font-size: 6pt;\n",
       "  background-color: #101010;\n",
       "  color: #f1f1f1;\n",
       "}\n",
       "#T_c0c80_row8_col9, #T_c0c80_row9_col9 {\n",
       "  font-size: 6pt;\n",
       "  background-color: #020202;\n",
       "  color: #f1f1f1;\n",
       "}\n",
       "#T_c0c80_row8_col11 {\n",
       "  font-size: 6pt;\n",
       "  background-color: #545454;\n",
       "  color: #f1f1f1;\n",
       "}\n",
       "#T_c0c80_row8_col12 {\n",
       "  font-size: 6pt;\n",
       "  background-color: #f1f1f1;\n",
       "  color: #000000;\n",
       "}\n",
       "#T_c0c80_row9_col5 {\n",
       "  font-size: 6pt;\n",
       "  background-color: #f7f7f7;\n",
       "  color: #000000;\n",
       "}\n",
       "#T_c0c80_row9_col7 {\n",
       "  font-size: 6pt;\n",
       "  background-color: #030303;\n",
       "  color: #f1f1f1;\n",
       "}\n",
       "#T_c0c80_row9_col12 {\n",
       "  font-size: 6pt;\n",
       "  background-color: #181818;\n",
       "  color: #f1f1f1;\n",
       "}\n",
       "#T_c0c80_row9_col13 {\n",
       "  font-size: 6pt;\n",
       "  background-color: #303030;\n",
       "  color: #f1f1f1;\n",
       "}\n",
       "#T_c0c80_row9_col14 {\n",
       "  font-size: 6pt;\n",
       "  background-color: #a9a9a9;\n",
       "  color: #f1f1f1;\n",
       "}\n",
       "#T_c0c80_row9_col15 {\n",
       "  font-size: 6pt;\n",
       "  background-color: #fefefe;\n",
       "  color: #000000;\n",
       "}\n",
       "#T_c0c80_row10_col8, #T_c0c80_row10_col9 {\n",
       "  font-size: 6pt;\n",
       "  background-color: #bababa;\n",
       "  color: #000000;\n",
       "}\n",
       "#T_c0c80_row10_col10 {\n",
       "  font-size: 6pt;\n",
       "  background-color: #393939;\n",
       "  color: #f1f1f1;\n",
       "}\n",
       "</style>\n",
       "<table id=\"T_c0c80\">\n",
       "  <thead>\n",
       "    <tr>\n",
       "      <th class=\"blank level0\" >&nbsp;</th>\n",
       "      <th id=\"T_c0c80_level0_col0\" class=\"col_heading level0 col0\" >0</th>\n",
       "      <th id=\"T_c0c80_level0_col1\" class=\"col_heading level0 col1\" >1</th>\n",
       "      <th id=\"T_c0c80_level0_col2\" class=\"col_heading level0 col2\" >2</th>\n",
       "      <th id=\"T_c0c80_level0_col3\" class=\"col_heading level0 col3\" >3</th>\n",
       "      <th id=\"T_c0c80_level0_col4\" class=\"col_heading level0 col4\" >4</th>\n",
       "      <th id=\"T_c0c80_level0_col5\" class=\"col_heading level0 col5\" >5</th>\n",
       "      <th id=\"T_c0c80_level0_col6\" class=\"col_heading level0 col6\" >6</th>\n",
       "      <th id=\"T_c0c80_level0_col7\" class=\"col_heading level0 col7\" >7</th>\n",
       "      <th id=\"T_c0c80_level0_col8\" class=\"col_heading level0 col8\" >8</th>\n",
       "      <th id=\"T_c0c80_level0_col9\" class=\"col_heading level0 col9\" >9</th>\n",
       "      <th id=\"T_c0c80_level0_col10\" class=\"col_heading level0 col10\" >10</th>\n",
       "      <th id=\"T_c0c80_level0_col11\" class=\"col_heading level0 col11\" >11</th>\n",
       "      <th id=\"T_c0c80_level0_col12\" class=\"col_heading level0 col12\" >12</th>\n",
       "      <th id=\"T_c0c80_level0_col13\" class=\"col_heading level0 col13\" >13</th>\n",
       "      <th id=\"T_c0c80_level0_col14\" class=\"col_heading level0 col14\" >14</th>\n",
       "      <th id=\"T_c0c80_level0_col15\" class=\"col_heading level0 col15\" >15</th>\n",
       "      <th id=\"T_c0c80_level0_col16\" class=\"col_heading level0 col16\" >16</th>\n",
       "      <th id=\"T_c0c80_level0_col17\" class=\"col_heading level0 col17\" >17</th>\n",
       "    </tr>\n",
       "  </thead>\n",
       "  <tbody>\n",
       "    <tr>\n",
       "      <th id=\"T_c0c80_level0_row0\" class=\"row_heading level0 row0\" >0</th>\n",
       "      <td id=\"T_c0c80_row0_col0\" class=\"data row0 col0\" >0</td>\n",
       "      <td id=\"T_c0c80_row0_col1\" class=\"data row0 col1\" >0</td>\n",
       "      <td id=\"T_c0c80_row0_col2\" class=\"data row0 col2\" >0</td>\n",
       "      <td id=\"T_c0c80_row0_col3\" class=\"data row0 col3\" >0</td>\n",
       "      <td id=\"T_c0c80_row0_col4\" class=\"data row0 col4\" >0</td>\n",
       "      <td id=\"T_c0c80_row0_col5\" class=\"data row0 col5\" >0</td>\n",
       "      <td id=\"T_c0c80_row0_col6\" class=\"data row0 col6\" >0</td>\n",
       "      <td id=\"T_c0c80_row0_col7\" class=\"data row0 col7\" >0</td>\n",
       "      <td id=\"T_c0c80_row0_col8\" class=\"data row0 col8\" >0</td>\n",
       "      <td id=\"T_c0c80_row0_col9\" class=\"data row0 col9\" >0</td>\n",
       "      <td id=\"T_c0c80_row0_col10\" class=\"data row0 col10\" >0</td>\n",
       "      <td id=\"T_c0c80_row0_col11\" class=\"data row0 col11\" >0</td>\n",
       "      <td id=\"T_c0c80_row0_col12\" class=\"data row0 col12\" >0</td>\n",
       "      <td id=\"T_c0c80_row0_col13\" class=\"data row0 col13\" >0</td>\n",
       "      <td id=\"T_c0c80_row0_col14\" class=\"data row0 col14\" >0</td>\n",
       "      <td id=\"T_c0c80_row0_col15\" class=\"data row0 col15\" >0</td>\n",
       "      <td id=\"T_c0c80_row0_col16\" class=\"data row0 col16\" >0</td>\n",
       "      <td id=\"T_c0c80_row0_col17\" class=\"data row0 col17\" >0</td>\n",
       "    </tr>\n",
       "    <tr>\n",
       "      <th id=\"T_c0c80_level0_row1\" class=\"row_heading level0 row1\" >1</th>\n",
       "      <td id=\"T_c0c80_row1_col0\" class=\"data row1 col0\" >0</td>\n",
       "      <td id=\"T_c0c80_row1_col1\" class=\"data row1 col1\" >0</td>\n",
       "      <td id=\"T_c0c80_row1_col2\" class=\"data row1 col2\" >0</td>\n",
       "      <td id=\"T_c0c80_row1_col3\" class=\"data row1 col3\" >0</td>\n",
       "      <td id=\"T_c0c80_row1_col4\" class=\"data row1 col4\" >0</td>\n",
       "      <td id=\"T_c0c80_row1_col5\" class=\"data row1 col5\" >29</td>\n",
       "      <td id=\"T_c0c80_row1_col6\" class=\"data row1 col6\" >150</td>\n",
       "      <td id=\"T_c0c80_row1_col7\" class=\"data row1 col7\" >195</td>\n",
       "      <td id=\"T_c0c80_row1_col8\" class=\"data row1 col8\" >254</td>\n",
       "      <td id=\"T_c0c80_row1_col9\" class=\"data row1 col9\" >255</td>\n",
       "      <td id=\"T_c0c80_row1_col10\" class=\"data row1 col10\" >254</td>\n",
       "      <td id=\"T_c0c80_row1_col11\" class=\"data row1 col11\" >176</td>\n",
       "      <td id=\"T_c0c80_row1_col12\" class=\"data row1 col12\" >193</td>\n",
       "      <td id=\"T_c0c80_row1_col13\" class=\"data row1 col13\" >150</td>\n",
       "      <td id=\"T_c0c80_row1_col14\" class=\"data row1 col14\" >96</td>\n",
       "      <td id=\"T_c0c80_row1_col15\" class=\"data row1 col15\" >0</td>\n",
       "      <td id=\"T_c0c80_row1_col16\" class=\"data row1 col16\" >0</td>\n",
       "      <td id=\"T_c0c80_row1_col17\" class=\"data row1 col17\" >0</td>\n",
       "    </tr>\n",
       "    <tr>\n",
       "      <th id=\"T_c0c80_level0_row2\" class=\"row_heading level0 row2\" >2</th>\n",
       "      <td id=\"T_c0c80_row2_col0\" class=\"data row2 col0\" >0</td>\n",
       "      <td id=\"T_c0c80_row2_col1\" class=\"data row2 col1\" >0</td>\n",
       "      <td id=\"T_c0c80_row2_col2\" class=\"data row2 col2\" >0</td>\n",
       "      <td id=\"T_c0c80_row2_col3\" class=\"data row2 col3\" >48</td>\n",
       "      <td id=\"T_c0c80_row2_col4\" class=\"data row2 col4\" >166</td>\n",
       "      <td id=\"T_c0c80_row2_col5\" class=\"data row2 col5\" >224</td>\n",
       "      <td id=\"T_c0c80_row2_col6\" class=\"data row2 col6\" >253</td>\n",
       "      <td id=\"T_c0c80_row2_col7\" class=\"data row2 col7\" >253</td>\n",
       "      <td id=\"T_c0c80_row2_col8\" class=\"data row2 col8\" >234</td>\n",
       "      <td id=\"T_c0c80_row2_col9\" class=\"data row2 col9\" >196</td>\n",
       "      <td id=\"T_c0c80_row2_col10\" class=\"data row2 col10\" >253</td>\n",
       "      <td id=\"T_c0c80_row2_col11\" class=\"data row2 col11\" >253</td>\n",
       "      <td id=\"T_c0c80_row2_col12\" class=\"data row2 col12\" >253</td>\n",
       "      <td id=\"T_c0c80_row2_col13\" class=\"data row2 col13\" >253</td>\n",
       "      <td id=\"T_c0c80_row2_col14\" class=\"data row2 col14\" >233</td>\n",
       "      <td id=\"T_c0c80_row2_col15\" class=\"data row2 col15\" >0</td>\n",
       "      <td id=\"T_c0c80_row2_col16\" class=\"data row2 col16\" >0</td>\n",
       "      <td id=\"T_c0c80_row2_col17\" class=\"data row2 col17\" >0</td>\n",
       "    </tr>\n",
       "    <tr>\n",
       "      <th id=\"T_c0c80_level0_row3\" class=\"row_heading level0 row3\" >3</th>\n",
       "      <td id=\"T_c0c80_row3_col0\" class=\"data row3 col0\" >0</td>\n",
       "      <td id=\"T_c0c80_row3_col1\" class=\"data row3 col1\" >93</td>\n",
       "      <td id=\"T_c0c80_row3_col2\" class=\"data row3 col2\" >244</td>\n",
       "      <td id=\"T_c0c80_row3_col3\" class=\"data row3 col3\" >249</td>\n",
       "      <td id=\"T_c0c80_row3_col4\" class=\"data row3 col4\" >253</td>\n",
       "      <td id=\"T_c0c80_row3_col5\" class=\"data row3 col5\" >187</td>\n",
       "      <td id=\"T_c0c80_row3_col6\" class=\"data row3 col6\" >46</td>\n",
       "      <td id=\"T_c0c80_row3_col7\" class=\"data row3 col7\" >10</td>\n",
       "      <td id=\"T_c0c80_row3_col8\" class=\"data row3 col8\" >8</td>\n",
       "      <td id=\"T_c0c80_row3_col9\" class=\"data row3 col9\" >4</td>\n",
       "      <td id=\"T_c0c80_row3_col10\" class=\"data row3 col10\" >10</td>\n",
       "      <td id=\"T_c0c80_row3_col11\" class=\"data row3 col11\" >194</td>\n",
       "      <td id=\"T_c0c80_row3_col12\" class=\"data row3 col12\" >253</td>\n",
       "      <td id=\"T_c0c80_row3_col13\" class=\"data row3 col13\" >253</td>\n",
       "      <td id=\"T_c0c80_row3_col14\" class=\"data row3 col14\" >233</td>\n",
       "      <td id=\"T_c0c80_row3_col15\" class=\"data row3 col15\" >0</td>\n",
       "      <td id=\"T_c0c80_row3_col16\" class=\"data row3 col16\" >0</td>\n",
       "      <td id=\"T_c0c80_row3_col17\" class=\"data row3 col17\" >0</td>\n",
       "    </tr>\n",
       "    <tr>\n",
       "      <th id=\"T_c0c80_level0_row4\" class=\"row_heading level0 row4\" >4</th>\n",
       "      <td id=\"T_c0c80_row4_col0\" class=\"data row4 col0\" >0</td>\n",
       "      <td id=\"T_c0c80_row4_col1\" class=\"data row4 col1\" >107</td>\n",
       "      <td id=\"T_c0c80_row4_col2\" class=\"data row4 col2\" >253</td>\n",
       "      <td id=\"T_c0c80_row4_col3\" class=\"data row4 col3\" >253</td>\n",
       "      <td id=\"T_c0c80_row4_col4\" class=\"data row4 col4\" >230</td>\n",
       "      <td id=\"T_c0c80_row4_col5\" class=\"data row4 col5\" >48</td>\n",
       "      <td id=\"T_c0c80_row4_col6\" class=\"data row4 col6\" >0</td>\n",
       "      <td id=\"T_c0c80_row4_col7\" class=\"data row4 col7\" >0</td>\n",
       "      <td id=\"T_c0c80_row4_col8\" class=\"data row4 col8\" >0</td>\n",
       "      <td id=\"T_c0c80_row4_col9\" class=\"data row4 col9\" >0</td>\n",
       "      <td id=\"T_c0c80_row4_col10\" class=\"data row4 col10\" >0</td>\n",
       "      <td id=\"T_c0c80_row4_col11\" class=\"data row4 col11\" >192</td>\n",
       "      <td id=\"T_c0c80_row4_col12\" class=\"data row4 col12\" >253</td>\n",
       "      <td id=\"T_c0c80_row4_col13\" class=\"data row4 col13\" >253</td>\n",
       "      <td id=\"T_c0c80_row4_col14\" class=\"data row4 col14\" >156</td>\n",
       "      <td id=\"T_c0c80_row4_col15\" class=\"data row4 col15\" >0</td>\n",
       "      <td id=\"T_c0c80_row4_col16\" class=\"data row4 col16\" >0</td>\n",
       "      <td id=\"T_c0c80_row4_col17\" class=\"data row4 col17\" >0</td>\n",
       "    </tr>\n",
       "    <tr>\n",
       "      <th id=\"T_c0c80_level0_row5\" class=\"row_heading level0 row5\" >5</th>\n",
       "      <td id=\"T_c0c80_row5_col0\" class=\"data row5 col0\" >0</td>\n",
       "      <td id=\"T_c0c80_row5_col1\" class=\"data row5 col1\" >3</td>\n",
       "      <td id=\"T_c0c80_row5_col2\" class=\"data row5 col2\" >20</td>\n",
       "      <td id=\"T_c0c80_row5_col3\" class=\"data row5 col3\" >20</td>\n",
       "      <td id=\"T_c0c80_row5_col4\" class=\"data row5 col4\" >15</td>\n",
       "      <td id=\"T_c0c80_row5_col5\" class=\"data row5 col5\" >0</td>\n",
       "      <td id=\"T_c0c80_row5_col6\" class=\"data row5 col6\" >0</td>\n",
       "      <td id=\"T_c0c80_row5_col7\" class=\"data row5 col7\" >0</td>\n",
       "      <td id=\"T_c0c80_row5_col8\" class=\"data row5 col8\" >0</td>\n",
       "      <td id=\"T_c0c80_row5_col9\" class=\"data row5 col9\" >0</td>\n",
       "      <td id=\"T_c0c80_row5_col10\" class=\"data row5 col10\" >43</td>\n",
       "      <td id=\"T_c0c80_row5_col11\" class=\"data row5 col11\" >224</td>\n",
       "      <td id=\"T_c0c80_row5_col12\" class=\"data row5 col12\" >253</td>\n",
       "      <td id=\"T_c0c80_row5_col13\" class=\"data row5 col13\" >245</td>\n",
       "      <td id=\"T_c0c80_row5_col14\" class=\"data row5 col14\" >74</td>\n",
       "      <td id=\"T_c0c80_row5_col15\" class=\"data row5 col15\" >0</td>\n",
       "      <td id=\"T_c0c80_row5_col16\" class=\"data row5 col16\" >0</td>\n",
       "      <td id=\"T_c0c80_row5_col17\" class=\"data row5 col17\" >0</td>\n",
       "    </tr>\n",
       "    <tr>\n",
       "      <th id=\"T_c0c80_level0_row6\" class=\"row_heading level0 row6\" >6</th>\n",
       "      <td id=\"T_c0c80_row6_col0\" class=\"data row6 col0\" >0</td>\n",
       "      <td id=\"T_c0c80_row6_col1\" class=\"data row6 col1\" >0</td>\n",
       "      <td id=\"T_c0c80_row6_col2\" class=\"data row6 col2\" >0</td>\n",
       "      <td id=\"T_c0c80_row6_col3\" class=\"data row6 col3\" >0</td>\n",
       "      <td id=\"T_c0c80_row6_col4\" class=\"data row6 col4\" >0</td>\n",
       "      <td id=\"T_c0c80_row6_col5\" class=\"data row6 col5\" >0</td>\n",
       "      <td id=\"T_c0c80_row6_col6\" class=\"data row6 col6\" >0</td>\n",
       "      <td id=\"T_c0c80_row6_col7\" class=\"data row6 col7\" >0</td>\n",
       "      <td id=\"T_c0c80_row6_col8\" class=\"data row6 col8\" >0</td>\n",
       "      <td id=\"T_c0c80_row6_col9\" class=\"data row6 col9\" >0</td>\n",
       "      <td id=\"T_c0c80_row6_col10\" class=\"data row6 col10\" >249</td>\n",
       "      <td id=\"T_c0c80_row6_col11\" class=\"data row6 col11\" >253</td>\n",
       "      <td id=\"T_c0c80_row6_col12\" class=\"data row6 col12\" >245</td>\n",
       "      <td id=\"T_c0c80_row6_col13\" class=\"data row6 col13\" >126</td>\n",
       "      <td id=\"T_c0c80_row6_col14\" class=\"data row6 col14\" >0</td>\n",
       "      <td id=\"T_c0c80_row6_col15\" class=\"data row6 col15\" >0</td>\n",
       "      <td id=\"T_c0c80_row6_col16\" class=\"data row6 col16\" >0</td>\n",
       "      <td id=\"T_c0c80_row6_col17\" class=\"data row6 col17\" >0</td>\n",
       "    </tr>\n",
       "    <tr>\n",
       "      <th id=\"T_c0c80_level0_row7\" class=\"row_heading level0 row7\" >7</th>\n",
       "      <td id=\"T_c0c80_row7_col0\" class=\"data row7 col0\" >0</td>\n",
       "      <td id=\"T_c0c80_row7_col1\" class=\"data row7 col1\" >0</td>\n",
       "      <td id=\"T_c0c80_row7_col2\" class=\"data row7 col2\" >0</td>\n",
       "      <td id=\"T_c0c80_row7_col3\" class=\"data row7 col3\" >0</td>\n",
       "      <td id=\"T_c0c80_row7_col4\" class=\"data row7 col4\" >0</td>\n",
       "      <td id=\"T_c0c80_row7_col5\" class=\"data row7 col5\" >0</td>\n",
       "      <td id=\"T_c0c80_row7_col6\" class=\"data row7 col6\" >0</td>\n",
       "      <td id=\"T_c0c80_row7_col7\" class=\"data row7 col7\" >14</td>\n",
       "      <td id=\"T_c0c80_row7_col8\" class=\"data row7 col8\" >101</td>\n",
       "      <td id=\"T_c0c80_row7_col9\" class=\"data row7 col9\" >223</td>\n",
       "      <td id=\"T_c0c80_row7_col10\" class=\"data row7 col10\" >253</td>\n",
       "      <td id=\"T_c0c80_row7_col11\" class=\"data row7 col11\" >248</td>\n",
       "      <td id=\"T_c0c80_row7_col12\" class=\"data row7 col12\" >124</td>\n",
       "      <td id=\"T_c0c80_row7_col13\" class=\"data row7 col13\" >0</td>\n",
       "      <td id=\"T_c0c80_row7_col14\" class=\"data row7 col14\" >0</td>\n",
       "      <td id=\"T_c0c80_row7_col15\" class=\"data row7 col15\" >0</td>\n",
       "      <td id=\"T_c0c80_row7_col16\" class=\"data row7 col16\" >0</td>\n",
       "      <td id=\"T_c0c80_row7_col17\" class=\"data row7 col17\" >0</td>\n",
       "    </tr>\n",
       "    <tr>\n",
       "      <th id=\"T_c0c80_level0_row8\" class=\"row_heading level0 row8\" >8</th>\n",
       "      <td id=\"T_c0c80_row8_col0\" class=\"data row8 col0\" >0</td>\n",
       "      <td id=\"T_c0c80_row8_col1\" class=\"data row8 col1\" >0</td>\n",
       "      <td id=\"T_c0c80_row8_col2\" class=\"data row8 col2\" >0</td>\n",
       "      <td id=\"T_c0c80_row8_col3\" class=\"data row8 col3\" >0</td>\n",
       "      <td id=\"T_c0c80_row8_col4\" class=\"data row8 col4\" >0</td>\n",
       "      <td id=\"T_c0c80_row8_col5\" class=\"data row8 col5\" >11</td>\n",
       "      <td id=\"T_c0c80_row8_col6\" class=\"data row8 col6\" >166</td>\n",
       "      <td id=\"T_c0c80_row8_col7\" class=\"data row8 col7\" >239</td>\n",
       "      <td id=\"T_c0c80_row8_col8\" class=\"data row8 col8\" >253</td>\n",
       "      <td id=\"T_c0c80_row8_col9\" class=\"data row8 col9\" >253</td>\n",
       "      <td id=\"T_c0c80_row8_col10\" class=\"data row8 col10\" >253</td>\n",
       "      <td id=\"T_c0c80_row8_col11\" class=\"data row8 col11\" >187</td>\n",
       "      <td id=\"T_c0c80_row8_col12\" class=\"data row8 col12\" >30</td>\n",
       "      <td id=\"T_c0c80_row8_col13\" class=\"data row8 col13\" >0</td>\n",
       "      <td id=\"T_c0c80_row8_col14\" class=\"data row8 col14\" >0</td>\n",
       "      <td id=\"T_c0c80_row8_col15\" class=\"data row8 col15\" >0</td>\n",
       "      <td id=\"T_c0c80_row8_col16\" class=\"data row8 col16\" >0</td>\n",
       "      <td id=\"T_c0c80_row8_col17\" class=\"data row8 col17\" >0</td>\n",
       "    </tr>\n",
       "    <tr>\n",
       "      <th id=\"T_c0c80_level0_row9\" class=\"row_heading level0 row9\" >9</th>\n",
       "      <td id=\"T_c0c80_row9_col0\" class=\"data row9 col0\" >0</td>\n",
       "      <td id=\"T_c0c80_row9_col1\" class=\"data row9 col1\" >0</td>\n",
       "      <td id=\"T_c0c80_row9_col2\" class=\"data row9 col2\" >0</td>\n",
       "      <td id=\"T_c0c80_row9_col3\" class=\"data row9 col3\" >0</td>\n",
       "      <td id=\"T_c0c80_row9_col4\" class=\"data row9 col4\" >0</td>\n",
       "      <td id=\"T_c0c80_row9_col5\" class=\"data row9 col5\" >16</td>\n",
       "      <td id=\"T_c0c80_row9_col6\" class=\"data row9 col6\" >248</td>\n",
       "      <td id=\"T_c0c80_row9_col7\" class=\"data row9 col7\" >250</td>\n",
       "      <td id=\"T_c0c80_row9_col8\" class=\"data row9 col8\" >253</td>\n",
       "      <td id=\"T_c0c80_row9_col9\" class=\"data row9 col9\" >253</td>\n",
       "      <td id=\"T_c0c80_row9_col10\" class=\"data row9 col10\" >253</td>\n",
       "      <td id=\"T_c0c80_row9_col11\" class=\"data row9 col11\" >253</td>\n",
       "      <td id=\"T_c0c80_row9_col12\" class=\"data row9 col12\" >232</td>\n",
       "      <td id=\"T_c0c80_row9_col13\" class=\"data row9 col13\" >213</td>\n",
       "      <td id=\"T_c0c80_row9_col14\" class=\"data row9 col14\" >111</td>\n",
       "      <td id=\"T_c0c80_row9_col15\" class=\"data row9 col15\" >2</td>\n",
       "      <td id=\"T_c0c80_row9_col16\" class=\"data row9 col16\" >0</td>\n",
       "      <td id=\"T_c0c80_row9_col17\" class=\"data row9 col17\" >0</td>\n",
       "    </tr>\n",
       "    <tr>\n",
       "      <th id=\"T_c0c80_level0_row10\" class=\"row_heading level0 row10\" >10</th>\n",
       "      <td id=\"T_c0c80_row10_col0\" class=\"data row10 col0\" >0</td>\n",
       "      <td id=\"T_c0c80_row10_col1\" class=\"data row10 col1\" >0</td>\n",
       "      <td id=\"T_c0c80_row10_col2\" class=\"data row10 col2\" >0</td>\n",
       "      <td id=\"T_c0c80_row10_col3\" class=\"data row10 col3\" >0</td>\n",
       "      <td id=\"T_c0c80_row10_col4\" class=\"data row10 col4\" >0</td>\n",
       "      <td id=\"T_c0c80_row10_col5\" class=\"data row10 col5\" >0</td>\n",
       "      <td id=\"T_c0c80_row10_col6\" class=\"data row10 col6\" >0</td>\n",
       "      <td id=\"T_c0c80_row10_col7\" class=\"data row10 col7\" >43</td>\n",
       "      <td id=\"T_c0c80_row10_col8\" class=\"data row10 col8\" >98</td>\n",
       "      <td id=\"T_c0c80_row10_col9\" class=\"data row10 col9\" >98</td>\n",
       "      <td id=\"T_c0c80_row10_col10\" class=\"data row10 col10\" >208</td>\n",
       "      <td id=\"T_c0c80_row10_col11\" class=\"data row10 col11\" >253</td>\n",
       "      <td id=\"T_c0c80_row10_col12\" class=\"data row10 col12\" >253</td>\n",
       "      <td id=\"T_c0c80_row10_col13\" class=\"data row10 col13\" >253</td>\n",
       "      <td id=\"T_c0c80_row10_col14\" class=\"data row10 col14\" >253</td>\n",
       "      <td id=\"T_c0c80_row10_col15\" class=\"data row10 col15\" >187</td>\n",
       "      <td id=\"T_c0c80_row10_col16\" class=\"data row10 col16\" >22</td>\n",
       "      <td id=\"T_c0c80_row10_col17\" class=\"data row10 col17\" >0</td>\n",
       "    </tr>\n",
       "  </tbody>\n",
       "</table>\n"
      ],
      "text/plain": [
       "<pandas.io.formats.style.Styler at 0x126033d60>"
      ]
     },
     "execution_count": 34,
     "metadata": {},
     "output_type": "execute_result"
    }
   ],
   "source": [
    "im3_df = pd.DataFrame(im3_t)\n",
    "im3_df.style.set_properties(**{'font-size':'6pt'})\\\n",
    ".background_gradient('Greys')"
   ]
  },
  {
   "cell_type": "code",
   "execution_count": 35,
   "metadata": {},
   "outputs": [
    {
     "data": {
      "text/plain": [
       "(50000, 32, 32, 3)"
      ]
     },
     "execution_count": 35,
     "metadata": {},
     "output_type": "execute_result"
    }
   ],
   "source": [
    "import numpy as np\n",
    "from keras.datasets import cifar10\n",
    "\n",
    "(X_train, y_train),(X_test, y_test) = cifar10.load_data()\n",
    "# rozmiar \n",
    "X_train.shape"
   ]
  },
  {
   "cell_type": "code",
   "execution_count": 36,
   "metadata": {},
   "outputs": [
    {
     "name": "stdout",
     "output_type": "stream",
     "text": [
      "0\n"
     ]
    }
   ],
   "source": [
    "import numpy as np\n",
    "skalar = np.array(5)\n",
    "print(skalar.ndim)"
   ]
  },
  {
   "cell_type": "code",
   "execution_count": 37,
   "metadata": {},
   "outputs": [
    {
     "name": "stdout",
     "output_type": "stream",
     "text": [
      "1\n"
     ]
    }
   ],
   "source": [
    "wektor_1d = np.array([3, 5, 7])\n",
    "print(wektor_1d.ndim)"
   ]
  },
  {
   "cell_type": "code",
   "execution_count": 65,
   "metadata": {},
   "outputs": [
    {
     "name": "stdout",
     "output_type": "stream",
     "text": [
      "2\n"
     ]
    }
   ],
   "source": [
    "macierz_2d = np.array([[1,2],[3,4]])\n",
    "print(macierz_2d.ndim)"
   ]
  },
  {
   "cell_type": "code",
   "execution_count": 38,
   "metadata": {},
   "outputs": [
    {
     "name": "stdout",
     "output_type": "stream",
     "text": [
      "tensor([4, 6, 8])\n"
     ]
    }
   ],
   "source": [
    "import torch \n",
    "a = torch.tensor([1,2,3])\n",
    "b = torch.tensor([3,4,5])\n",
    "c = a+b\n",
    "print(c)"
   ]
  },
  {
   "cell_type": "code",
   "execution_count": 39,
   "metadata": {},
   "outputs": [
    {
     "data": {
      "text/plain": [
       "torch.Size([2, 3])"
      ]
     },
     "execution_count": 39,
     "metadata": {},
     "output_type": "execute_result"
    }
   ],
   "source": [
    "d = torch.tensor([[1,2,3],[3,4,5]])\n",
    "d.size()\n"
   ]
  },
  {
   "cell_type": "code",
   "execution_count": 40,
   "metadata": {},
   "outputs": [
    {
     "data": {
      "text/plain": [
       "tensor([[1, 3],\n",
       "        [2, 4],\n",
       "        [3, 5]])"
      ]
     },
     "execution_count": 40,
     "metadata": {},
     "output_type": "execute_result"
    }
   ],
   "source": [
    "d.T"
   ]
  },
  {
   "cell_type": "code",
   "execution_count": 41,
   "metadata": {},
   "outputs": [
    {
     "data": {
      "text/plain": [
       "device(type='cpu')"
      ]
     },
     "execution_count": 41,
     "metadata": {},
     "output_type": "execute_result"
    }
   ],
   "source": [
    "device = \"cuda\" if torch.cuda.is_available() else \"cpu\"\n",
    "\n",
    "x = torch.tensor([[1,2,3],[4,5,6]], device=device)\n",
    "x.device"
   ]
  },
  {
   "cell_type": "markdown",
   "metadata": {},
   "source": [
    "## Podłączenie do Apache Spark\n",
    "\n",
    "Sprawdź rozdział 3"
   ]
  },
  {
   "cell_type": "code",
   "execution_count": 70,
   "metadata": {},
   "outputs": [],
   "source": [
    "import findspark\n",
    "findspark.init('/Users/air/Desktop/spark')"
   ]
  },
  {
   "cell_type": "code",
   "execution_count": 71,
   "metadata": {},
   "outputs": [
    {
     "name": "stderr",
     "output_type": "stream",
     "text": [
      "Setting default log level to \"WARN\".\n",
      "To adjust logging level use sc.setLogLevel(newLevel). For SparkR, use setLogLevel(newLevel).\n"
     ]
    }
   ],
   "source": [
    "from pyspark import SparkContext\n",
    "\n",
    "sc = SparkContext(master='local[*]', appName=\"book app\")"
   ]
  },
  {
   "cell_type": "code",
   "execution_count": 72,
   "metadata": {},
   "outputs": [
    {
     "data": {
      "text/html": [
       "\n",
       "        <div>\n",
       "            <p><b>SparkContext</b></p>\n",
       "\n",
       "            <p><a href=\"http://macbook-air-mac.home:4040\">Spark UI</a></p>\n",
       "\n",
       "            <dl>\n",
       "              <dt>Version</dt>\n",
       "                <dd><code>v3.2.1</code></dd>\n",
       "              <dt>Master</dt>\n",
       "                <dd><code>local[*]</code></dd>\n",
       "              <dt>AppName</dt>\n",
       "                <dd><code>book app</code></dd>\n",
       "            </dl>\n",
       "        </div>\n",
       "        "
      ],
      "text/plain": [
       "<SparkContext master=local[*] appName=book app>"
      ]
     },
     "execution_count": 72,
     "metadata": {},
     "output_type": "execute_result"
    }
   ],
   "source": [
    "sc"
   ]
  },
  {
   "cell_type": "code",
   "execution_count": 73,
   "metadata": {},
   "outputs": [],
   "source": [
    "rdd = sc.parallelize(range(10))"
   ]
  },
  {
   "cell_type": "code",
   "execution_count": 74,
   "metadata": {},
   "outputs": [
    {
     "data": {
      "text/plain": [
       "PythonRDD[1] at RDD at PythonRDD.scala:53"
      ]
     },
     "execution_count": 74,
     "metadata": {},
     "output_type": "execute_result"
    }
   ],
   "source": [
    "rdd"
   ]
  },
  {
   "cell_type": "code",
   "execution_count": 75,
   "metadata": {},
   "outputs": [
    {
     "name": "stderr",
     "output_type": "stream",
     "text": [
      "                                                                                \r"
     ]
    },
    {
     "data": {
      "text/plain": [
       "0"
      ]
     },
     "execution_count": 75,
     "metadata": {},
     "output_type": "execute_result"
    }
   ],
   "source": [
    "# pierwszy element\n",
    "rdd.first()"
   ]
  },
  {
   "cell_type": "code",
   "execution_count": 76,
   "metadata": {},
   "outputs": [
    {
     "data": {
      "text/plain": [
       "[0, 1]"
      ]
     },
     "execution_count": 76,
     "metadata": {},
     "output_type": "execute_result"
    }
   ],
   "source": [
    "# pierwsze dwa elementy\n",
    "rdd.take(2)"
   ]
  },
  {
   "cell_type": "code",
   "execution_count": 77,
   "metadata": {},
   "outputs": [
    {
     "name": "stderr",
     "output_type": "stream",
     "text": [
      "                                                                                \r"
     ]
    },
    {
     "data": {
      "text/plain": [
       "[1, 6, 2]"
      ]
     },
     "execution_count": 77,
     "metadata": {},
     "output_type": "execute_result"
    }
   ],
   "source": [
    "# losowe elementy v1\n",
    "rdd.takeSample(True,3)"
   ]
  },
  {
   "cell_type": "code",
   "execution_count": 78,
   "metadata": {},
   "outputs": [
    {
     "data": {
      "text/plain": [
       "[3, 9, 7]"
      ]
     },
     "execution_count": 78,
     "metadata": {},
     "output_type": "execute_result"
    }
   ],
   "source": [
    "# losowe elementy v2\n",
    "rdd.takeSample(False,3)"
   ]
  },
  {
   "cell_type": "code",
   "execution_count": 79,
   "metadata": {},
   "outputs": [
    {
     "data": {
      "text/plain": [
       "10"
      ]
     },
     "execution_count": 79,
     "metadata": {},
     "output_type": "execute_result"
    }
   ],
   "source": [
    "rdd.count()"
   ]
  },
  {
   "cell_type": "code",
   "execution_count": 80,
   "metadata": {},
   "outputs": [
    {
     "data": {
      "text/plain": [
       "4.5"
      ]
     },
     "execution_count": 80,
     "metadata": {},
     "output_type": "execute_result"
    }
   ],
   "source": [
    "rdd.mean()"
   ]
  },
  {
   "cell_type": "code",
   "execution_count": 81,
   "metadata": {},
   "outputs": [
    {
     "data": {
      "text/plain": [
       "45"
      ]
     },
     "execution_count": 81,
     "metadata": {},
     "output_type": "execute_result"
    }
   ],
   "source": [
    "rdd.reduce(lambda x,y: x+y)"
   ]
  },
  {
   "cell_type": "code",
   "execution_count": 82,
   "metadata": {},
   "outputs": [
    {
     "data": {
      "text/plain": [
       "45"
      ]
     },
     "execution_count": 82,
     "metadata": {},
     "output_type": "execute_result"
    }
   ],
   "source": [
    "rdd.sum()"
   ]
  },
  {
   "cell_type": "code",
   "execution_count": 83,
   "metadata": {},
   "outputs": [
    {
     "data": {
      "text/plain": [
       "[0, 1, 4, 9, 16, 25, 36, 49, 64, 81]"
      ]
     },
     "execution_count": 83,
     "metadata": {},
     "output_type": "execute_result"
    }
   ],
   "source": [
    "rdd2 = rdd.map(lambda x: x*x)\n",
    "rdd2.collect()"
   ]
  },
  {
   "cell_type": "code",
   "execution_count": 84,
   "metadata": {},
   "outputs": [
    {
     "data": {
      "text/plain": [
       "[[0, 0],\n",
       " [1, 1],\n",
       " [2, 2],\n",
       " [3, 3],\n",
       " [4, 4],\n",
       " [5, 5],\n",
       " [6, 6],\n",
       " [7, 7],\n",
       " [8, 8],\n",
       " [9, 9]]"
      ]
     },
     "execution_count": 84,
     "metadata": {},
     "output_type": "execute_result"
    }
   ],
   "source": [
    "rdd3 = rdd.map(lambda x: [x,x])\n",
    "rdd3.collect()"
   ]
  },
  {
   "cell_type": "code",
   "execution_count": 85,
   "metadata": {},
   "outputs": [
    {
     "data": {
      "text/plain": [
       "[0, 0, 1, 1, 2, 2, 3, 3, 4, 4, 5, 5, 6, 6, 7, 7, 8, 8, 9, 9]"
      ]
     },
     "execution_count": 85,
     "metadata": {},
     "output_type": "execute_result"
    }
   ],
   "source": [
    "rdd4 = rdd.flatMap(lambda x: [x,x])\n",
    "rdd4.collect()"
   ]
  },
  {
   "cell_type": "code",
   "execution_count": 86,
   "metadata": {},
   "outputs": [
    {
     "data": {
      "text/plain": [
       "378"
      ]
     },
     "execution_count": 86,
     "metadata": {},
     "output_type": "execute_result"
    }
   ],
   "source": [
    "sc.parallelize(range(20)) \\\n",
    ".map(lambda x: x * 2) \\\n",
    ".filter(lambda x: x != 2) \\\n",
    ".reduce(lambda x,y: x + y)"
   ]
  },
  {
   "cell_type": "code",
   "execution_count": 87,
   "metadata": {},
   "outputs": [
    {
     "name": "stdout",
     "output_type": "stream",
     "text": [
      "Overwriting example.txt\n"
     ]
    }
   ],
   "source": [
    "%%file example.txt\n",
    "first \n",
    "second line \n",
    "the third line \n",
    "then a fourth line"
   ]
  },
  {
   "cell_type": "code",
   "execution_count": 88,
   "metadata": {},
   "outputs": [],
   "source": [
    "text_rdd = sc.textFile('example.txt')"
   ]
  },
  {
   "cell_type": "code",
   "execution_count": 89,
   "metadata": {},
   "outputs": [
    {
     "data": {
      "text/plain": [
       "'first '"
      ]
     },
     "execution_count": 89,
     "metadata": {},
     "output_type": "execute_result"
    }
   ],
   "source": [
    "text_rdd.first()\n"
   ]
  },
  {
   "cell_type": "code",
   "execution_count": 90,
   "metadata": {},
   "outputs": [
    {
     "data": {
      "text/plain": [
       "['first ', 'second line ', 'the third line ']"
      ]
     },
     "execution_count": 90,
     "metadata": {},
     "output_type": "execute_result"
    }
   ],
   "source": [
    "\n",
    "text_rdd.take(3)"
   ]
  },
  {
   "cell_type": "code",
   "execution_count": 91,
   "metadata": {},
   "outputs": [
    {
     "data": {
      "text/plain": [
       "['second line ', 'the third line ']"
      ]
     },
     "execution_count": 91,
     "metadata": {},
     "output_type": "execute_result"
    }
   ],
   "source": [
    "text_rdd.takeSample(True,2)"
   ]
  },
  {
   "cell_type": "code",
   "execution_count": 92,
   "metadata": {},
   "outputs": [
    {
     "data": {
      "text/plain": [
       "4"
      ]
     },
     "execution_count": 92,
     "metadata": {},
     "output_type": "execute_result"
    }
   ],
   "source": [
    "text_rdd.count()"
   ]
  },
  {
   "cell_type": "code",
   "execution_count": 93,
   "metadata": {},
   "outputs": [
    {
     "data": {
      "text/plain": [
       "[['first'],\n",
       " ['second', 'line'],\n",
       " ['the', 'third', 'line'],\n",
       " ['then', 'a', 'fourth', 'line']]"
      ]
     },
     "execution_count": 93,
     "metadata": {},
     "output_type": "execute_result"
    }
   ],
   "source": [
    "text_rdd.map(lambda line: line.split()).collect()"
   ]
  },
  {
   "cell_type": "code",
   "execution_count": 94,
   "metadata": {},
   "outputs": [],
   "source": [
    "def nasza_fun(line):\n",
    "    return line.split()"
   ]
  },
  {
   "cell_type": "code",
   "execution_count": 95,
   "metadata": {},
   "outputs": [
    {
     "data": {
      "text/plain": [
       "[['first'],\n",
       " ['second', 'line'],\n",
       " ['the', 'third', 'line'],\n",
       " ['then', 'a', 'fourth', 'line']]"
      ]
     },
     "execution_count": 95,
     "metadata": {},
     "output_type": "execute_result"
    }
   ],
   "source": [
    "text_rdd.map(nasza_fun).collect()"
   ]
  },
  {
   "cell_type": "code",
   "execution_count": 121,
   "metadata": {},
   "outputs": [
    {
     "data": {
      "text/plain": [
       "[('line', 3),\n",
       " ('third', 1),\n",
       " ('fourth', 1),\n",
       " ('first', 1),\n",
       " ('second', 1),\n",
       " ('the', 1),\n",
       " ('then', 1),\n",
       " ('a', 1)]"
      ]
     },
     "execution_count": 121,
     "metadata": {},
     "output_type": "execute_result"
    }
   ],
   "source": [
    "import re\n",
    "sc.textFile(\"example.txt\") \\\n",
    ".map(lambda x: re.findall(r\"[a-z']+\", x.lower())) \\\n",
    ".flatMap(lambda x: [(y, 1) for y in x]) \\\n",
    ".reduceByKey(lambda x,y: x + y) \\\n",
    ".collect()"
   ]
  },
  {
   "cell_type": "code",
   "execution_count": 122,
   "metadata": {},
   "outputs": [
    {
     "data": {
      "text/plain": [
       "<Response [200]>"
      ]
     },
     "execution_count": 122,
     "metadata": {},
     "output_type": "execute_result"
    }
   ],
   "source": [
    "import requests\n",
    "requests.get('https://sebastianzajac.pl')"
   ]
  },
  {
   "cell_type": "code",
   "execution_count": 123,
   "metadata": {},
   "outputs": [],
   "source": [
    "import requests\n",
    "import json\n",
    "\n",
    "def pobierz_info_slowa(slowo):\n",
    "  language = 'en-gb'\n",
    "  headers = {\"app_id\":\"c7f6d128\",\n",
    "             \"app_key\":\"73ea2ed8109721300050137e74044fa6\"}\n",
    "  url_1 = \"https://od-api.oxforddictionaries.com:443/api/v2/entries/\"\n",
    "  url = f\"{url_1}{language}/{slowo.lower()}\"\n",
    "  return requests.get(url, headers=headers)"
   ]
  },
  {
   "cell_type": "code",
   "execution_count": 124,
   "metadata": {},
   "outputs": [
    {
     "name": "stdout",
     "output_type": "stream",
     "text": [
      "{\n",
      "    \"id\": \"streaming\",\n",
      "    \"metadata\": {\n",
      "        \"operation\": \"retrieve\",\n",
      "        \"provider\": \"Oxford University Press\",\n",
      "        \"schema\": \"RetrieveEntry\"\n",
      "    },\n",
      "    \"results\": [\n",
      "        {\n",
      "            \"id\": \"streaming\",\n",
      "            \"language\": \"en-gb\",\n",
      "            \"lexicalEntries\": [\n",
      "                {\n",
      "                    \"entries\": [\n",
      "                        {\n",
      "                            \"grammaticalFeatures\": [\n",
      "                                {\n",
      "                                    \"id\": \"mass\",\n",
      "                                    \"text\": \"Mass\",\n",
      "                                    \"type\": \"Countability\"\n",
      "                                }\n",
      "                            ],\n",
      "                            \"pronunciations\": [\n",
      "                                {\n",
      "                                    \"audioFile\": \"https://audio.oxforddictionaries.com/en/mp3/streaming_gb_2.mp3\",\n",
      "                                    \"dialects\": [\n",
      "                                        \"British English\"\n",
      "                                    ],\n",
      "                                    \"phoneticNotation\": \"IPA\",\n",
      "                                    \"phoneticSpelling\": \"ˈstriːmɪŋ\"\n",
      "                                }\n",
      "                            ],\n",
      "                            \"senses\": [\n",
      "                                {\n",
      "                                    \"definitions\": [\n",
      "                                        \"a method of transmitting or receiving data (especially video and audio material) over a computer network as a steady, continuous flow, allowing playback to start while the rest of the data is still being received.\"\n",
      "                                    ],\n",
      "                                    \"domainClasses\": [\n",
      "                                        {\n",
      "                                            \"id\": \"audio\",\n",
      "                                            \"text\": \"Audio\"\n",
      "                                        },\n",
      "                                        {\n",
      "                                            \"id\": \"computing\",\n",
      "                                            \"text\": \"Computing\"\n",
      "                                        },\n",
      "                                        {\n",
      "                                            \"id\": \"video\",\n",
      "                                            \"text\": \"Video\"\n",
      "                                        }\n",
      "                                    ],\n",
      "                                    \"id\": \"m_en_gbus1001810.012\",\n",
      "                                    \"semanticClasses\": [\n",
      "                                        {\n",
      "                                            \"id\": \"technical_system\",\n",
      "                                            \"text\": \"Technical_System\"\n",
      "                                        }\n",
      "                                    ],\n",
      "                                    \"shortDefinitions\": [\n",
      "                                        \"method of relaying data over computer network as steady continuous stream\"\n",
      "                                    ]\n",
      "                                },\n",
      "                                {\n",
      "                                    \"definitions\": [\n",
      "                                        \"the practice of putting schoolchildren in groups of the same age and ability to be taught together\"\n",
      "                                    ],\n",
      "                                    \"domainClasses\": [\n",
      "                                        {\n",
      "                                            \"id\": \"education\",\n",
      "                                            \"text\": \"Education\"\n",
      "                                        }\n",
      "                                    ],\n",
      "                                    \"examples\": [\n",
      "                                        {\n",
      "                                            \"text\": \"streaming within secondary schools is common practice\"\n",
      "                                        }\n",
      "                                    ],\n",
      "                                    \"id\": \"m_en_gbus1001810.034\",\n",
      "                                    \"regions\": [\n",
      "                                        {\n",
      "                                            \"id\": \"british\",\n",
      "                                            \"text\": \"British\"\n",
      "                                        }\n",
      "                                    ],\n",
      "                                    \"semanticClasses\": [\n",
      "                                        {\n",
      "                                            \"id\": \"practice\",\n",
      "                                            \"text\": \"Practice\"\n",
      "                                        }\n",
      "                                    ],\n",
      "                                    \"shortDefinitions\": [\n",
      "                                        \"practice of putting schoolchildren in groups of same age and ability to be taught together\"\n",
      "                                    ]\n",
      "                                }\n",
      "                            ]\n",
      "                        }\n",
      "                    ],\n",
      "                    \"language\": \"en-gb\",\n",
      "                    \"lexicalCategory\": {\n",
      "                        \"id\": \"noun\",\n",
      "                        \"text\": \"Noun\"\n",
      "                    },\n",
      "                    \"text\": \"streaming\"\n",
      "                },\n",
      "                {\n",
      "                    \"entries\": [\n",
      "                        {\n",
      "                            \"notes\": [\n",
      "                                {\n",
      "                                    \"text\": \"attributive\",\n",
      "                                    \"type\": \"grammaticalNote\"\n",
      "                                }\n",
      "                            ],\n",
      "                            \"pronunciations\": [\n",
      "                                {\n",
      "                                    \"audioFile\": \"https://audio.oxforddictionaries.com/en/mp3/streaming_gb_2.mp3\",\n",
      "                                    \"dialects\": [\n",
      "                                        \"British English\"\n",
      "                                    ],\n",
      "                                    \"phoneticNotation\": \"IPA\",\n",
      "                                    \"phoneticSpelling\": \"ˈstriːmɪŋ\"\n",
      "                                }\n",
      "                            ],\n",
      "                            \"senses\": [\n",
      "                                {\n",
      "                                    \"definitions\": [\n",
      "                                        \"relating to or using data transmitted in a continuous stream while earlier parts are being used\"\n",
      "                                    ],\n",
      "                                    \"domainClasses\": [\n",
      "                                        {\n",
      "                                            \"id\": \"computing\",\n",
      "                                            \"text\": \"Computing\"\n",
      "                                        }\n",
      "                                    ],\n",
      "                                    \"examples\": [\n",
      "                                        {\n",
      "                                            \"text\": \"a streaming service\"\n",
      "                                        },\n",
      "                                        {\n",
      "                                            \"text\": \"a streaming platform\"\n",
      "                                        }\n",
      "                                    ],\n",
      "                                    \"id\": \"m_en_gbus1001810.010\",\n",
      "                                    \"shortDefinitions\": [\n",
      "                                        \"relating to data transmitted in continuous stream\"\n",
      "                                    ],\n",
      "                                    \"subsenses\": [\n",
      "                                        {\n",
      "                                            \"definitions\": [\n",
      "                                                \"relating to or making use of a form of tape transport, used mainly to provide backup storage, in which data may be transferred in bulk while the tape is in motion\"\n",
      "                                            ],\n",
      "                                            \"domainClasses\": [\n",
      "                                                {\n",
      "                                                    \"id\": \"computing\",\n",
      "                                                    \"text\": \"Computing\"\n",
      "                                                }\n",
      "                                            ],\n",
      "                                            \"domains\": [\n",
      "                                                {\n",
      "                                                    \"id\": \"computing\",\n",
      "                                                    \"text\": \"Computing\"\n",
      "                                                }\n",
      "                                            ],\n",
      "                                            \"examples\": [\n",
      "                                                {\n",
      "                                                    \"text\": \"a streaming tape drive\"\n",
      "                                                }\n",
      "                                            ],\n",
      "                                            \"id\": \"m_en_gbus1001810.009\",\n",
      "                                            \"shortDefinitions\": [\n",
      "                                                \"relating to or making use of form of tape transport\"\n",
      "                                            ]\n",
      "                                        }\n",
      "                                    ]\n",
      "                                },\n",
      "                                {\n",
      "                                    \"definitions\": [\n",
      "                                        \"(of a cold) accompanied by copious running of the nose and eyes\"\n",
      "                                    ],\n",
      "                                    \"examples\": [\n",
      "                                        {\n",
      "                                            \"text\": \"she's got a streaming cold\"\n",
      "                                        }\n",
      "                                    ],\n",
      "                                    \"id\": \"m_en_gbus1001810.006\",\n",
      "                                    \"regions\": [\n",
      "                                        {\n",
      "                                            \"id\": \"british\",\n",
      "                                            \"text\": \"British\"\n",
      "                                        }\n",
      "                                    ],\n",
      "                                    \"shortDefinitions\": [\n",
      "                                        \"denoting cold accompanied by copious running of nose and eyes\"\n",
      "                                    ],\n",
      "                                    \"synonyms\": [\n",
      "                                        {\n",
      "                                            \"language\": \"en\",\n",
      "                                            \"text\": \"flowing\"\n",
      "                                        },\n",
      "                                        {\n",
      "                                            \"language\": \"en\",\n",
      "                                            \"text\": \"streaming\"\n",
      "                                        },\n",
      "                                        {\n",
      "                                            \"language\": \"en\",\n",
      "                                            \"text\": \"gushing\"\n",
      "                                        },\n",
      "                                        {\n",
      "                                            \"language\": \"en\",\n",
      "                                            \"text\": \"rushing\"\n",
      "                                        },\n",
      "                                        {\n",
      "                                            \"language\": \"en\",\n",
      "                                            \"text\": \"moving\"\n",
      "                                        }\n",
      "                                    ],\n",
      "                                    \"thesaurusLinks\": [\n",
      "                                        {\n",
      "                                            \"entry_id\": \"running\",\n",
      "                                            \"sense_id\": \"t_en_gb0012797.006\"\n",
      "                                        }\n",
      "                                    ]\n",
      "                                }\n",
      "                            ]\n",
      "                        }\n",
      "                    ],\n",
      "                    \"language\": \"en-gb\",\n",
      "                    \"lexicalCategory\": {\n",
      "                        \"id\": \"adjective\",\n",
      "                        \"text\": \"Adjective\"\n",
      "                    },\n",
      "                    \"text\": \"streaming\"\n",
      "                }\n",
      "            ],\n",
      "            \"type\": \"headword\",\n",
      "            \"word\": \"streaming\"\n",
      "        }\n",
      "    ],\n",
      "    \"word\": \"streaming\"\n",
      "}\n"
     ]
    }
   ],
   "source": [
    "odp = pobierz_info_slowa('streaming')\n",
    "print(odp.text)"
   ]
  },
  {
   "cell_type": "code",
   "execution_count": 125,
   "metadata": {},
   "outputs": [
    {
     "data": {
      "text/plain": [
       "{'Date': 'Wed, 30 Mar 2022 23:26:32 GMT', 'Content-Type': 'application/json;charset=utf-8', 'Content-Length': '12038', 'Connection': 'keep-alive', 'Server': 'openresty', 'X-Request-Id': '1-6244e728-25245ee1793e1f5f7cfd5843', 'code_version': 'v2.8.8.0-0-g522bb6a', 'api_version': 'v2'}"
      ]
     },
     "execution_count": 125,
     "metadata": {},
     "output_type": "execute_result"
    }
   ],
   "source": [
    "odp.headers"
   ]
  },
  {
   "cell_type": "code",
   "execution_count": 126,
   "metadata": {},
   "outputs": [],
   "source": [
    "from pyspark.sql import SparkSession\n",
    "spark = SparkSession.builder.appName('newApp').getOrCreate()\n"
   ]
  },
  {
   "cell_type": "code",
   "execution_count": 127,
   "metadata": {},
   "outputs": [
    {
     "name": "stdout",
     "output_type": "stream",
     "text": [
      "+---------+--------------------------------------------------+-----------------------------------------------------------------------------------------------------------------------------------------------------------------------------------------------------------------------------------------------------------------------------------------------------------------------------------------------------------------------------------------------------------------------------------------------------------------------------------------------------------------------------------------------------------------------------------------------------------------------------------------------------------------------------------------------------------------------------------------------------------------------------------------------------------------------------------------------------------------------------------------------------------------------------------------------------------------------------------------------------------------------------------------------------------------------------------------------------------------------------------------------------------------------------------------------------------------------------------------------------------------------------------------------------------------------------------------------------------------------------------------------------------------------------------------------------------------------------------------------------------------------------------------------------------------------------------------------------------------------------------------------------------------------------------------------------------------------------------------------------------------------------------------------------------------------------------------------------------------------------------------------------------------------------------------------------------------------------------------------------------------------------------------------------------------------------------------------------------------------------------------------------------------------------------------------------------------------------------------------------------+---------+\n",
      "|id       |metadata                                          |results                                                                                                                                                                                                                                                                                                                                                                                                                                                                                                                                                                                                                                                                                                                                                                                                                                                                                                                                                                                                                                                                                                                                                                                                                                                                                                                                                                                                                                                                                                                                                                                                                                                                                                                                                                                                                                                                                                                                                                                                                                                                                                                                                                                                                                                    |word     |\n",
      "+---------+--------------------------------------------------+-----------------------------------------------------------------------------------------------------------------------------------------------------------------------------------------------------------------------------------------------------------------------------------------------------------------------------------------------------------------------------------------------------------------------------------------------------------------------------------------------------------------------------------------------------------------------------------------------------------------------------------------------------------------------------------------------------------------------------------------------------------------------------------------------------------------------------------------------------------------------------------------------------------------------------------------------------------------------------------------------------------------------------------------------------------------------------------------------------------------------------------------------------------------------------------------------------------------------------------------------------------------------------------------------------------------------------------------------------------------------------------------------------------------------------------------------------------------------------------------------------------------------------------------------------------------------------------------------------------------------------------------------------------------------------------------------------------------------------------------------------------------------------------------------------------------------------------------------------------------------------------------------------------------------------------------------------------------------------------------------------------------------------------------------------------------------------------------------------------------------------------------------------------------------------------------------------------------------------------------------------------+---------+\n",
      "|streaming|{retrieve, Oxford University Press, RetrieveEntry}|[{streaming, en-gb, [{[{[{mass, Mass, Countability}], null, [{https://audio.oxforddictionaries.com/en/mp3/streaming_gb_2.mp3, [British English], IPA, ˈstriːmɪŋ}], [{[a method of transmitting or receiving data (especially video and audio material) over a computer network as a steady, continuous flow, allowing playback to start while the rest of the data is still being received.], [{audio, Audio}, {computing, Computing}, {video, Video}], null, m_en_gbus1001810.012, null, [{technical_system, Technical_System}], [method of relaying data over computer network as steady continuous stream], null, null, null}, {[the practice of putting schoolchildren in groups of the same age and ability to be taught together], [{education, Education}], [{streaming within secondary schools is common practice}], m_en_gbus1001810.034, [{british, British}], [{practice, Practice}], [practice of putting schoolchildren in groups of same age and ability to be taught together], null, null, null}]}], en-gb, {noun, Noun}, streaming}, {[{null, [{attributive, grammaticalNote}], [{https://audio.oxforddictionaries.com/en/mp3/streaming_gb_2.mp3, [British English], IPA, ˈstriːmɪŋ}], [{[relating to or using data transmitted in a continuous stream while earlier parts are being used], [{computing, Computing}], [{a streaming service}, {a streaming platform}], m_en_gbus1001810.010, null, null, [relating to data transmitted in continuous stream], [{[relating to or making use of a form of tape transport, used mainly to provide backup storage, in which data may be transferred in bulk while the tape is in motion], [{computing, Computing}], [{computing, Computing}], [{a streaming tape drive}], m_en_gbus1001810.009, [relating to or making use of form of tape transport]}], null, null}, {[(of a cold) accompanied by copious running of the nose and eyes], null, [{she's got a streaming cold}], m_en_gbus1001810.006, [{british, British}], null, [denoting cold accompanied by copious running of nose and eyes], null, [{en, flowing}, {en, streaming}, {en, gushing}, {en, rushing}, {en, moving}], [{running, t_en_gb0012797.006}]}]}], en-gb, {adjective, Adjective}, streaming}], headword, streaming}]|streaming|\n",
      "+---------+--------------------------------------------------+-----------------------------------------------------------------------------------------------------------------------------------------------------------------------------------------------------------------------------------------------------------------------------------------------------------------------------------------------------------------------------------------------------------------------------------------------------------------------------------------------------------------------------------------------------------------------------------------------------------------------------------------------------------------------------------------------------------------------------------------------------------------------------------------------------------------------------------------------------------------------------------------------------------------------------------------------------------------------------------------------------------------------------------------------------------------------------------------------------------------------------------------------------------------------------------------------------------------------------------------------------------------------------------------------------------------------------------------------------------------------------------------------------------------------------------------------------------------------------------------------------------------------------------------------------------------------------------------------------------------------------------------------------------------------------------------------------------------------------------------------------------------------------------------------------------------------------------------------------------------------------------------------------------------------------------------------------------------------------------------------------------------------------------------------------------------------------------------------------------------------------------------------------------------------------------------------------------------------------------------------------------+---------+\n",
      "\n"
     ]
    }
   ],
   "source": [
    "json_rdd = sc.parallelize([odp.text])\n",
    "df_sp = spark.read.json(json_rdd)\n",
    "df_sp.show(truncate=False)"
   ]
  },
  {
   "cell_type": "code",
   "execution_count": 128,
   "metadata": {},
   "outputs": [
    {
     "name": "stdout",
     "output_type": "stream",
     "text": [
      "+------------+--------------------+--------------------+------------+\n",
      "|          id|            metadata|             results|        word|\n",
      "+------------+--------------------+--------------------+------------+\n",
      "|      cogent|{retrieve, Oxford...|[{cogent, en-gb, ...|      cogent|\n",
      "|     digress|{retrieve, Oxford...|[{digress, en-gb,...|     digress|\n",
      "|    tangible|{retrieve, Oxford...|[{tangible, en-gb...|    tangible|\n",
      "|    diligent|{retrieve, Oxford...|[{diligent, en-gb...|    diligent|\n",
      "| mellifluous|{retrieve, Oxford...|[{mellifluous, en...| mellifluous|\n",
      "|     obscure|{retrieve, Oxford...|[{obscure, en-gb,...|     obscure|\n",
      "|intelligible|{retrieve, Oxford...|[{intelligible, e...|intelligible|\n",
      "+------------+--------------------+--------------------+------------+\n",
      "\n"
     ]
    }
   ],
   "source": [
    "words = [\"cogent\", \"digress\", \"tangible\",\n",
    "\"diligent\", \"mellifluous\", \"obscure\", \"intelligible\"]\n",
    "lista_odp = [pobierz_info_slowa(word).text for word in words]\n",
    "json_rdd = sc.parallelize(lista_odp)\n",
    "json_df = spark.read.json(json_rdd)\n",
    "json_df.show()"
   ]
  },
  {
   "cell_type": "code",
   "execution_count": 129,
   "metadata": {},
   "outputs": [
    {
     "name": "stdout",
     "output_type": "stream",
     "text": [
      "root\n",
      " |-- id: string (nullable = true)\n",
      " |-- metadata: struct (nullable = true)\n",
      " |    |-- operation: string (nullable = true)\n",
      " |    |-- provider: string (nullable = true)\n",
      " |    |-- schema: string (nullable = true)\n",
      " |-- results: array (nullable = true)\n",
      " |    |-- element: struct (containsNull = true)\n",
      " |    |    |-- id: string (nullable = true)\n",
      " |    |    |-- language: string (nullable = true)\n",
      " |    |    |-- lexicalEntries: array (nullable = true)\n",
      " |    |    |    |-- element: struct (containsNull = true)\n",
      " |    |    |    |    |-- derivatives: array (nullable = true)\n",
      " |    |    |    |    |    |-- element: struct (containsNull = true)\n",
      " |    |    |    |    |    |    |-- id: string (nullable = true)\n",
      " |    |    |    |    |    |    |-- text: string (nullable = true)\n",
      " |    |    |    |    |-- entries: array (nullable = true)\n",
      " |    |    |    |    |    |-- element: struct (containsNull = true)\n",
      " |    |    |    |    |    |    |-- etymologies: array (nullable = true)\n",
      " |    |    |    |    |    |    |    |-- element: string (containsNull = true)\n",
      " |    |    |    |    |    |    |-- grammaticalFeatures: array (nullable = true)\n",
      " |    |    |    |    |    |    |    |-- element: struct (containsNull = true)\n",
      " |    |    |    |    |    |    |    |    |-- id: string (nullable = true)\n",
      " |    |    |    |    |    |    |    |    |-- text: string (nullable = true)\n",
      " |    |    |    |    |    |    |    |    |-- type: string (nullable = true)\n",
      " |    |    |    |    |    |    |-- inflections: array (nullable = true)\n",
      " |    |    |    |    |    |    |    |-- element: struct (containsNull = true)\n",
      " |    |    |    |    |    |    |    |    |-- inflectedForm: string (nullable = true)\n",
      " |    |    |    |    |    |    |-- notes: array (nullable = true)\n",
      " |    |    |    |    |    |    |    |-- element: struct (containsNull = true)\n",
      " |    |    |    |    |    |    |    |    |-- text: string (nullable = true)\n",
      " |    |    |    |    |    |    |    |    |-- type: string (nullable = true)\n",
      " |    |    |    |    |    |    |-- pronunciations: array (nullable = true)\n",
      " |    |    |    |    |    |    |    |-- element: struct (containsNull = true)\n",
      " |    |    |    |    |    |    |    |    |-- audioFile: string (nullable = true)\n",
      " |    |    |    |    |    |    |    |    |-- dialects: array (nullable = true)\n",
      " |    |    |    |    |    |    |    |    |    |-- element: string (containsNull = true)\n",
      " |    |    |    |    |    |    |    |    |-- phoneticNotation: string (nullable = true)\n",
      " |    |    |    |    |    |    |    |    |-- phoneticSpelling: string (nullable = true)\n",
      " |    |    |    |    |    |    |-- senses: array (nullable = true)\n",
      " |    |    |    |    |    |    |    |-- element: struct (containsNull = true)\n",
      " |    |    |    |    |    |    |    |    |-- constructions: array (nullable = true)\n",
      " |    |    |    |    |    |    |    |    |    |-- element: struct (containsNull = true)\n",
      " |    |    |    |    |    |    |    |    |    |    |-- text: string (nullable = true)\n",
      " |    |    |    |    |    |    |    |    |-- definitions: array (nullable = true)\n",
      " |    |    |    |    |    |    |    |    |    |-- element: string (containsNull = true)\n",
      " |    |    |    |    |    |    |    |    |-- examples: array (nullable = true)\n",
      " |    |    |    |    |    |    |    |    |    |-- element: struct (containsNull = true)\n",
      " |    |    |    |    |    |    |    |    |    |    |-- text: string (nullable = true)\n",
      " |    |    |    |    |    |    |    |    |-- id: string (nullable = true)\n",
      " |    |    |    |    |    |    |    |    |-- semanticClasses: array (nullable = true)\n",
      " |    |    |    |    |    |    |    |    |    |-- element: struct (containsNull = true)\n",
      " |    |    |    |    |    |    |    |    |    |    |-- id: string (nullable = true)\n",
      " |    |    |    |    |    |    |    |    |    |    |-- text: string (nullable = true)\n",
      " |    |    |    |    |    |    |    |    |-- shortDefinitions: array (nullable = true)\n",
      " |    |    |    |    |    |    |    |    |    |-- element: string (containsNull = true)\n",
      " |    |    |    |    |    |    |    |    |-- subsenses: array (nullable = true)\n",
      " |    |    |    |    |    |    |    |    |    |-- element: struct (containsNull = true)\n",
      " |    |    |    |    |    |    |    |    |    |    |-- definitions: array (nullable = true)\n",
      " |    |    |    |    |    |    |    |    |    |    |    |-- element: string (containsNull = true)\n",
      " |    |    |    |    |    |    |    |    |    |    |-- domainClasses: array (nullable = true)\n",
      " |    |    |    |    |    |    |    |    |    |    |    |-- element: struct (containsNull = true)\n",
      " |    |    |    |    |    |    |    |    |    |    |    |    |-- id: string (nullable = true)\n",
      " |    |    |    |    |    |    |    |    |    |    |    |    |-- text: string (nullable = true)\n",
      " |    |    |    |    |    |    |    |    |    |    |-- domains: array (nullable = true)\n",
      " |    |    |    |    |    |    |    |    |    |    |    |-- element: struct (containsNull = true)\n",
      " |    |    |    |    |    |    |    |    |    |    |    |    |-- id: string (nullable = true)\n",
      " |    |    |    |    |    |    |    |    |    |    |    |    |-- text: string (nullable = true)\n",
      " |    |    |    |    |    |    |    |    |    |    |-- examples: array (nullable = true)\n",
      " |    |    |    |    |    |    |    |    |    |    |    |-- element: struct (containsNull = true)\n",
      " |    |    |    |    |    |    |    |    |    |    |    |    |-- text: string (nullable = true)\n",
      " |    |    |    |    |    |    |    |    |    |    |-- id: string (nullable = true)\n",
      " |    |    |    |    |    |    |    |    |    |    |-- shortDefinitions: array (nullable = true)\n",
      " |    |    |    |    |    |    |    |    |    |    |    |-- element: string (containsNull = true)\n",
      " |    |    |    |    |    |    |    |    |    |    |-- synonyms: array (nullable = true)\n",
      " |    |    |    |    |    |    |    |    |    |    |    |-- element: struct (containsNull = true)\n",
      " |    |    |    |    |    |    |    |    |    |    |    |    |-- language: string (nullable = true)\n",
      " |    |    |    |    |    |    |    |    |    |    |    |    |-- text: string (nullable = true)\n",
      " |    |    |    |    |    |    |    |    |    |    |-- thesaurusLinks: array (nullable = true)\n",
      " |    |    |    |    |    |    |    |    |    |    |    |-- element: struct (containsNull = true)\n",
      " |    |    |    |    |    |    |    |    |    |    |    |    |-- entry_id: string (nullable = true)\n",
      " |    |    |    |    |    |    |    |    |    |    |    |    |-- sense_id: string (nullable = true)\n",
      " |    |    |    |    |    |    |    |    |-- synonyms: array (nullable = true)\n",
      " |    |    |    |    |    |    |    |    |    |-- element: struct (containsNull = true)\n",
      " |    |    |    |    |    |    |    |    |    |    |-- language: string (nullable = true)\n",
      " |    |    |    |    |    |    |    |    |    |    |-- text: string (nullable = true)\n",
      " |    |    |    |    |    |    |    |    |-- thesaurusLinks: array (nullable = true)\n",
      " |    |    |    |    |    |    |    |    |    |-- element: struct (containsNull = true)\n",
      " |    |    |    |    |    |    |    |    |    |    |-- entry_id: string (nullable = true)\n",
      " |    |    |    |    |    |    |    |    |    |    |-- sense_id: string (nullable = true)\n",
      " |    |    |    |    |-- language: string (nullable = true)\n",
      " |    |    |    |    |-- lexicalCategory: struct (nullable = true)\n",
      " |    |    |    |    |    |-- id: string (nullable = true)\n",
      " |    |    |    |    |    |-- text: string (nullable = true)\n",
      " |    |    |    |    |-- text: string (nullable = true)\n",
      " |    |    |-- type: string (nullable = true)\n",
      " |    |    |-- word: string (nullable = true)\n",
      " |-- word: string (nullable = true)\n",
      "\n"
     ]
    }
   ],
   "source": [
    "json_df.printSchema()"
   ]
  },
  {
   "cell_type": "code",
   "execution_count": 130,
   "metadata": {},
   "outputs": [
    {
     "name": "stdout",
     "output_type": "stream",
     "text": [
      "root\n",
      " |-- operation: string (nullable = true)\n",
      " |-- provider: string (nullable = true)\n",
      " |-- schema: string (nullable = true)\n",
      "\n"
     ]
    }
   ],
   "source": [
    "json_df.select('metadata.*').printSchema()"
   ]
  },
  {
   "cell_type": "code",
   "execution_count": 131,
   "metadata": {},
   "outputs": [],
   "source": [
    "json1 = \"\"\"\n",
    "{\n",
    "\"num\": [1,2,3,4]\n",
    "}\n",
    "\"\"\""
   ]
  },
  {
   "cell_type": "code",
   "execution_count": 132,
   "metadata": {},
   "outputs": [
    {
     "name": "stdout",
     "output_type": "stream",
     "text": [
      "root\n",
      " |-- num: array (nullable = true)\n",
      " |    |-- element: long (containsNull = true)\n",
      "\n"
     ]
    }
   ],
   "source": [
    "df1 = spark.read.json(sc.parallelize([json1]))\n",
    "df1.printSchema()"
   ]
  },
  {
   "cell_type": "code",
   "execution_count": 133,
   "metadata": {},
   "outputs": [
    {
     "name": "stdout",
     "output_type": "stream",
     "text": [
      "+------+\n",
      "|number|\n",
      "+------+\n",
      "|     1|\n",
      "|     2|\n",
      "|     3|\n",
      "|     4|\n",
      "+------+\n",
      "\n"
     ]
    }
   ],
   "source": [
    "from pyspark.sql.functions import *\n",
    "\n",
    "df1.select(explode('num').alias('number')).show()"
   ]
  },
  {
   "cell_type": "code",
   "execution_count": 134,
   "metadata": {},
   "outputs": [],
   "source": [
    "json_df.createOrReplaceTempView('slownik')"
   ]
  },
  {
   "cell_type": "code",
   "execution_count": 135,
   "metadata": {},
   "outputs": [
    {
     "name": "stdout",
     "output_type": "stream",
     "text": [
      "+------------+--------+\n",
      "|        word|language|\n",
      "+------------+--------+\n",
      "|      cogent|   en-gb|\n",
      "|     digress|   en-gb|\n",
      "|    tangible|   en-gb|\n",
      "|    diligent|   en-gb|\n",
      "| mellifluous|   en-gb|\n",
      "|     obscure|   en-gb|\n",
      "|intelligible|   en-gb|\n",
      "+------------+--------+\n",
      "\n"
     ]
    }
   ],
   "source": [
    "flat_df = spark.sql(\"\"\"select id as word, \n",
    "a.language\n",
    "from slownik\n",
    "lateral view outer explode(results)tmp1 as a\n",
    "\"\"\")\n",
    "flat_df.show()"
   ]
  },
  {
   "cell_type": "code",
   "execution_count": 136,
   "metadata": {},
   "outputs": [],
   "source": [
    "flat_df2 = spark.sql(\"\"\"select id as word, \n",
    "a.language, b\n",
    "from slownik\n",
    "lateral view outer explode(results)tmp1 as a\n",
    "lateral view outer explode(a.lexicalEntries)tmp2 as b\n",
    "\"\"\")"
   ]
  },
  {
   "cell_type": "code",
   "execution_count": 137,
   "metadata": {},
   "outputs": [],
   "source": [
    "flat_df3 = spark.sql(\"\"\"select id as word, \n",
    "a.language, definitions as definition,\n",
    "examples.text as example\n",
    "from slownik\n",
    "lateral view outer explode(results)tmp1 as a\n",
    "lateral view outer explode(a.lexicalEntries)tmp2 as b\n",
    "lateral view outer explode(b.entries)tmp3 as c\n",
    "lateral view outer explode(c.senses)tmp4 as d\n",
    "lateral view outer explode(d.definitions)tmp5 as definitions\n",
    "lateral view outer explode(d.examples)tmp6 as examples\n",
    "\"\"\")"
   ]
  },
  {
   "cell_type": "markdown",
   "metadata": {},
   "source": [
    "## 1.2. Żródła i przechowywanie danych"
   ]
  },
  {
   "cell_type": "code",
   "execution_count": 42,
   "metadata": {},
   "outputs": [
    {
     "data": {
      "text/html": [
       "<div>\n",
       "<style scoped>\n",
       "    .dataframe tbody tr th:only-of-type {\n",
       "        vertical-align: middle;\n",
       "    }\n",
       "\n",
       "    .dataframe tbody tr th {\n",
       "        vertical-align: top;\n",
       "    }\n",
       "\n",
       "    .dataframe thead th {\n",
       "        text-align: right;\n",
       "    }\n",
       "</style>\n",
       "<table border=\"1\" class=\"dataframe\">\n",
       "  <thead>\n",
       "    <tr style=\"text-align: right;\">\n",
       "      <th></th>\n",
       "      <th>sepal length (cm)</th>\n",
       "      <th>sepal width (cm)</th>\n",
       "      <th>petal length (cm)</th>\n",
       "      <th>petal width (cm)</th>\n",
       "      <th>species</th>\n",
       "    </tr>\n",
       "  </thead>\n",
       "  <tbody>\n",
       "    <tr>\n",
       "      <th>0</th>\n",
       "      <td>5.1</td>\n",
       "      <td>3.5</td>\n",
       "      <td>1.4</td>\n",
       "      <td>0.2</td>\n",
       "      <td>setosa</td>\n",
       "    </tr>\n",
       "    <tr>\n",
       "      <th>1</th>\n",
       "      <td>4.9</td>\n",
       "      <td>3.0</td>\n",
       "      <td>1.4</td>\n",
       "      <td>0.2</td>\n",
       "      <td>setosa</td>\n",
       "    </tr>\n",
       "    <tr>\n",
       "      <th>2</th>\n",
       "      <td>4.7</td>\n",
       "      <td>3.2</td>\n",
       "      <td>1.3</td>\n",
       "      <td>0.2</td>\n",
       "      <td>setosa</td>\n",
       "    </tr>\n",
       "    <tr>\n",
       "      <th>3</th>\n",
       "      <td>4.6</td>\n",
       "      <td>3.1</td>\n",
       "      <td>1.5</td>\n",
       "      <td>0.2</td>\n",
       "      <td>setosa</td>\n",
       "    </tr>\n",
       "    <tr>\n",
       "      <th>4</th>\n",
       "      <td>5.0</td>\n",
       "      <td>3.6</td>\n",
       "      <td>1.4</td>\n",
       "      <td>0.2</td>\n",
       "      <td>setosa</td>\n",
       "    </tr>\n",
       "  </tbody>\n",
       "</table>\n",
       "</div>"
      ],
      "text/plain": [
       "   sepal length (cm)  sepal width (cm)  petal length (cm)  petal width (cm)  \\\n",
       "0                5.1               3.5                1.4               0.2   \n",
       "1                4.9               3.0                1.4               0.2   \n",
       "2                4.7               3.2                1.3               0.2   \n",
       "3                4.6               3.1                1.5               0.2   \n",
       "4                5.0               3.6                1.4               0.2   \n",
       "\n",
       "  species  \n",
       "0  setosa  \n",
       "1  setosa  \n",
       "2  setosa  \n",
       "3  setosa  \n",
       "4  setosa  "
      ]
     },
     "execution_count": 42,
     "metadata": {},
     "output_type": "execute_result"
    }
   ],
   "source": [
    "df.head()"
   ]
  },
  {
   "cell_type": "code",
   "execution_count": 43,
   "metadata": {},
   "outputs": [],
   "source": [
    "from sqlalchemy import create_engine"
   ]
  },
  {
   "cell_type": "code",
   "execution_count": 44,
   "metadata": {},
   "outputs": [
    {
     "data": {
      "text/plain": [
       "150"
      ]
     },
     "execution_count": 44,
     "metadata": {},
     "output_type": "execute_result"
    }
   ],
   "source": [
    "engine = create_engine('sqlite:///irysy.db')\n",
    "# zapis ramki do bazy SQL\n",
    "df.to_sql('dane', con=engine, index=False)"
   ]
  },
  {
   "cell_type": "code",
   "execution_count": 45,
   "metadata": {},
   "outputs": [
    {
     "data": {
      "text/html": [
       "<div>\n",
       "<style scoped>\n",
       "    .dataframe tbody tr th:only-of-type {\n",
       "        vertical-align: middle;\n",
       "    }\n",
       "\n",
       "    .dataframe tbody tr th {\n",
       "        vertical-align: top;\n",
       "    }\n",
       "\n",
       "    .dataframe thead th {\n",
       "        text-align: right;\n",
       "    }\n",
       "</style>\n",
       "<table border=\"1\" class=\"dataframe\">\n",
       "  <thead>\n",
       "    <tr style=\"text-align: right;\">\n",
       "      <th></th>\n",
       "      <th>sepal length (cm)</th>\n",
       "      <th>sepal width (cm)</th>\n",
       "      <th>petal length (cm)</th>\n",
       "      <th>petal width (cm)</th>\n",
       "      <th>species</th>\n",
       "    </tr>\n",
       "  </thead>\n",
       "  <tbody>\n",
       "    <tr>\n",
       "      <th>0</th>\n",
       "      <td>5.1</td>\n",
       "      <td>3.5</td>\n",
       "      <td>1.4</td>\n",
       "      <td>0.2</td>\n",
       "      <td>setosa</td>\n",
       "    </tr>\n",
       "    <tr>\n",
       "      <th>1</th>\n",
       "      <td>4.9</td>\n",
       "      <td>3.0</td>\n",
       "      <td>1.4</td>\n",
       "      <td>0.2</td>\n",
       "      <td>setosa</td>\n",
       "    </tr>\n",
       "    <tr>\n",
       "      <th>2</th>\n",
       "      <td>4.7</td>\n",
       "      <td>3.2</td>\n",
       "      <td>1.3</td>\n",
       "      <td>0.2</td>\n",
       "      <td>setosa</td>\n",
       "    </tr>\n",
       "    <tr>\n",
       "      <th>3</th>\n",
       "      <td>4.6</td>\n",
       "      <td>3.1</td>\n",
       "      <td>1.5</td>\n",
       "      <td>0.2</td>\n",
       "      <td>setosa</td>\n",
       "    </tr>\n",
       "    <tr>\n",
       "      <th>4</th>\n",
       "      <td>5.0</td>\n",
       "      <td>3.6</td>\n",
       "      <td>1.4</td>\n",
       "      <td>0.2</td>\n",
       "      <td>setosa</td>\n",
       "    </tr>\n",
       "  </tbody>\n",
       "</table>\n",
       "</div>"
      ],
      "text/plain": [
       "   sepal length (cm)  sepal width (cm)  petal length (cm)  petal width (cm)  \\\n",
       "0                5.1               3.5                1.4               0.2   \n",
       "1                4.9               3.0                1.4               0.2   \n",
       "2                4.7               3.2                1.3               0.2   \n",
       "3                4.6               3.1                1.5               0.2   \n",
       "4                5.0               3.6                1.4               0.2   \n",
       "\n",
       "  species  \n",
       "0  setosa  \n",
       "1  setosa  \n",
       "2  setosa  \n",
       "3  setosa  \n",
       "4  setosa  "
      ]
     },
     "execution_count": 45,
     "metadata": {},
     "output_type": "execute_result"
    }
   ],
   "source": [
    "a = engine.execute(\"SELECT * FROM dane\").fetchall()\n",
    "df2 = pd.DataFrame(a, columns=df.columns)\n",
    "df2.head()"
   ]
  },
  {
   "cell_type": "code",
   "execution_count": 46,
   "metadata": {},
   "outputs": [
    {
     "name": "stdout",
     "output_type": "stream",
     "text": [
      "{'name': 'Alice', 'languages': ['English', 'French']}\n"
     ]
    }
   ],
   "source": [
    "import json\n",
    "person = '{\"name\": \"Alice\", \"languages\": [\"English\", \"French\"]}'\n",
    "person_dict = json.loads(person)\n",
    "\n",
    "print( person_dict)"
   ]
  },
  {
   "cell_type": "code",
   "execution_count": 47,
   "metadata": {},
   "outputs": [
    {
     "name": "stdout",
     "output_type": "stream",
     "text": [
      "['English', 'French']\n"
     ]
    }
   ],
   "source": [
    "print(person_dict['languages'])"
   ]
  },
  {
   "cell_type": "code",
   "execution_count": 142,
   "metadata": {},
   "outputs": [
    {
     "name": "stdout",
     "output_type": "stream",
     "text": [
      "Overwriting test.json\n"
     ]
    }
   ],
   "source": [
    "%%file test.json\n",
    "{\"name\": \"Alice\", \"languages\": [\"English\", \"French\"]}"
   ]
  },
  {
   "cell_type": "code",
   "execution_count": 48,
   "metadata": {},
   "outputs": [
    {
     "name": "stdout",
     "output_type": "stream",
     "text": [
      "{'name': 'Alice', 'languages': ['English', 'French']}\n"
     ]
    }
   ],
   "source": [
    "with open('test.json') as f:\n",
    "    data = json.load(f)\n",
    "\n",
    "print(data)"
   ]
  },
  {
   "cell_type": "code",
   "execution_count": 49,
   "metadata": {},
   "outputs": [],
   "source": [
    "with open('person.json', 'w') as json_file:\n",
    "    json.dump(person_dict, json_file)"
   ]
  },
  {
   "cell_type": "code",
   "execution_count": 51,
   "metadata": {},
   "outputs": [
    {
     "data": {
      "text/plain": [
       "RandomForestClassifier()"
      ]
     },
     "execution_count": 51,
     "metadata": {},
     "output_type": "execute_result"
    }
   ],
   "source": [
    "from sklearn import datasets\n",
    "from sklearn.ensemble import RandomForestClassifier\n",
    "\n",
    "X, y = datasets.make_classification(n_samples=10**4,\n",
    "n_features=20, n_informative=2, n_redundant=2)\n",
    "                                    \n",
    "train_samples = 7000\n",
    "\n",
    "X_train = X[:train_samples]\n",
    "X_test = X[train_samples:]\n",
    "y_train = y[:train_samples]\n",
    "y_test = y[train_samples:]\n",
    "\n",
    "rfc = RandomForestClassifier()\n",
    "rfc.fit(X_train, y_train)"
   ]
  },
  {
   "cell_type": "code",
   "execution_count": 52,
   "metadata": {},
   "outputs": [],
   "source": [
    "import pickle"
   ]
  },
  {
   "cell_type": "code",
   "execution_count": 53,
   "metadata": {},
   "outputs": [],
   "source": [
    "with open('model.pkl', \"wb\") as picklefile:\n",
    "    pickle.dump(rfc, picklefile)"
   ]
  },
  {
   "cell_type": "code",
   "execution_count": 54,
   "metadata": {},
   "outputs": [],
   "source": [
    "with open('model.pkl',\"rb\") as picklefile:\n",
    "    model = pickle.load(picklefile)"
   ]
  },
  {
   "cell_type": "code",
   "execution_count": 55,
   "metadata": {},
   "outputs": [],
   "source": [
    "from joblib import dump, load"
   ]
  },
  {
   "cell_type": "code",
   "execution_count": 56,
   "metadata": {},
   "outputs": [],
   "source": [
    "with open('model.joblib', \"wb\") as jobf:\n",
    "    dump(rfc, jobf)"
   ]
  },
  {
   "cell_type": "code",
   "execution_count": 57,
   "metadata": {},
   "outputs": [],
   "source": [
    "with open('model.joblib',\"rb\") as jobf:\n",
    "    model = load(jobf)"
   ]
  },
  {
   "cell_type": "markdown",
   "metadata": {},
   "source": [
    "## 1.3. Dane i Metadane"
   ]
  },
  {
   "cell_type": "code",
   "execution_count": 58,
   "metadata": {},
   "outputs": [],
   "source": [
    "import pandas as pd\n",
    "import pyarrow as pa\n",
    "import pyarrow.parquet as pq\n",
    "import json"
   ]
  },
  {
   "cell_type": "code",
   "execution_count": 59,
   "metadata": {},
   "outputs": [],
   "source": [
    "dane = {'temp':[15.2, 10, 13, 10, 12, 10],\n",
    "        'deszcz':[2.5, 0.2, 0.6, 0.3, 1.8, 0.2]}\n",
    "df = pd.DataFrame(dane)\n",
    "df.index = pd.DatetimeIndex(['2021-10-01', '2021-10-02',\n",
    "    '2021-10-03', '2021-10-04', '2021-10-05', '2021-10-06'], name=\"data\")"
   ]
  },
  {
   "cell_type": "code",
   "execution_count": 60,
   "metadata": {},
   "outputs": [],
   "source": [
    "meta_dane = {'czas_zapisu': '2021-10-10T10:10:59',\n",
    "'user':'Sebastian Zajac', 'wsp':'52.143 N, 21.1554 E'}"
   ]
  },
  {
   "cell_type": "code",
   "execution_count": 61,
   "metadata": {},
   "outputs": [],
   "source": [
    "meta_dane_key = 'pogoda.iot'"
   ]
  },
  {
   "cell_type": "code",
   "execution_count": 62,
   "metadata": {},
   "outputs": [
    {
     "name": "stdout",
     "output_type": "stream",
     "text": [
      "{b'pandas': b'{\"index_columns\": [\"data\"], \"column_indexes\": [{\"name\": null, \"field_name\": null, \"pandas_type\": \"unicode\", \"numpy_type\": \"object\", \"metadata\": {\"encoding\": \"UTF-8\"}}], \"columns\": [{\"name\": \"temp\", \"field_name\": \"temp\", \"pandas_type\": \"float64\", \"numpy_type\": \"float64\", \"metadata\": null}, {\"name\": \"deszcz\", \"field_name\": \"deszcz\", \"pandas_type\": \"float64\", \"numpy_type\": \"float64\", \"metadata\": null}, {\"name\": \"data\", \"field_name\": \"data\", \"pandas_type\": \"datetime\", \"numpy_type\": \"datetime64[ns]\", \"metadata\": null}], \"creator\": {\"library\": \"pyarrow\", \"version\": \"7.0.0\"}, \"pandas_version\": \"1.4.0\"}'}\n"
     ]
    }
   ],
   "source": [
    "tabela_A = pa.Table.from_pandas(df)\n",
    "print(tabela_A.schema.metadata)"
   ]
  },
  {
   "cell_type": "code",
   "execution_count": 63,
   "metadata": {},
   "outputs": [],
   "source": [
    "meta_json = json.dumps(meta_dane)"
   ]
  },
  {
   "cell_type": "code",
   "execution_count": 64,
   "metadata": {},
   "outputs": [],
   "source": [
    "istniejace_metadane = tabela_A.schema.metadata\n",
    "all_metadane = {meta_dane_key.encode() : meta_json.encode(),\n",
    "**istniejace_metadane}"
   ]
  },
  {
   "cell_type": "code",
   "execution_count": 65,
   "metadata": {},
   "outputs": [],
   "source": [
    "tabela_A_md = tabela_A.replace_schema_metadata(all_metadane)\n",
    "pq.write_table(tabela_A_md, 'przyklad.parquet',\n",
    "compression='GZIP')"
   ]
  },
  {
   "cell_type": "code",
   "execution_count": 66,
   "metadata": {},
   "outputs": [],
   "source": [
    "tabela = pq.read_table('przyklad.parquet')\n",
    "df2 = tabela.to_pandas()"
   ]
  },
  {
   "cell_type": "code",
   "execution_count": 67,
   "metadata": {},
   "outputs": [],
   "source": [
    "moje_meta_dane = tabela.schema.metadata[meta_dane_key.encode()]\n",
    "m_m_d = json.loads(moje_meta_dane)"
   ]
  },
  {
   "cell_type": "markdown",
   "metadata": {},
   "source": [
    "## 1.5. Obiektowośc Pythona a dane\n",
    "\n",
    "### 1.5.1. Klasa 0 - Pusta klasa"
   ]
  },
  {
   "cell_type": "code",
   "execution_count": 68,
   "metadata": {},
   "outputs": [],
   "source": [
    "def moja_funkcja():\n",
    "    pass"
   ]
  },
  {
   "cell_type": "code",
   "execution_count": 69,
   "metadata": {},
   "outputs": [],
   "source": [
    "class Nazwa(object):\n",
    "    pass"
   ]
  },
  {
   "cell_type": "code",
   "execution_count": 70,
   "metadata": {},
   "outputs": [],
   "source": [
    "a = Nazwa()\n",
    "b = Nazwa()"
   ]
  },
  {
   "cell_type": "code",
   "execution_count": 71,
   "metadata": {},
   "outputs": [
    {
     "data": {
      "text/plain": [
       "[<__main__.Nazwa at 0x138faebe0>,\n",
       " <__main__.Nazwa at 0x138faec10>,\n",
       " <__main__.Nazwa at 0x138faee50>,\n",
       " <__main__.Nazwa at 0x138faec70>,\n",
       " <__main__.Nazwa at 0x138faedf0>]"
      ]
     },
     "execution_count": 71,
     "metadata": {},
     "output_type": "execute_result"
    }
   ],
   "source": [
    "[Nazwa() for x in range(5)]"
   ]
  },
  {
   "cell_type": "code",
   "execution_count": 72,
   "metadata": {},
   "outputs": [
    {
     "data": {
      "text/plain": [
       "['__module__',\n",
       " '__dict__',\n",
       " '__weakref__',\n",
       " '__doc__',\n",
       " '__repr__',\n",
       " '__hash__',\n",
       " '__str__',\n",
       " '__getattribute__',\n",
       " '__setattr__',\n",
       " '__delattr__',\n",
       " '__lt__',\n",
       " '__le__',\n",
       " '__eq__',\n",
       " '__ne__',\n",
       " '__gt__',\n",
       " '__ge__',\n",
       " '__init__',\n",
       " '__new__',\n",
       " '__reduce_ex__',\n",
       " '__reduce__',\n",
       " '__subclasshook__',\n",
       " '__init_subclass__',\n",
       " '__format__',\n",
       " '__sizeof__',\n",
       " '__dir__',\n",
       " '__class__']"
      ]
     },
     "execution_count": 72,
     "metadata": {},
     "output_type": "execute_result"
    }
   ],
   "source": [
    "b.__dir__()"
   ]
  },
  {
   "cell_type": "code",
   "execution_count": 73,
   "metadata": {},
   "outputs": [
    {
     "data": {
      "text/plain": [
       "['__repr__',\n",
       " '__hash__',\n",
       " '__str__',\n",
       " '__getattribute__',\n",
       " '__lt__',\n",
       " '__le__',\n",
       " '__eq__',\n",
       " '__ne__',\n",
       " '__gt__',\n",
       " '__ge__',\n",
       " '__iter__',\n",
       " '__mod__',\n",
       " '__rmod__',\n",
       " '__len__',\n",
       " '__getitem__',\n",
       " '__add__',\n",
       " '__mul__',\n",
       " '__rmul__',\n",
       " '__contains__',\n",
       " '__new__',\n",
       " 'encode',\n",
       " 'replace',\n",
       " 'split',\n",
       " 'rsplit',\n",
       " 'join',\n",
       " 'capitalize',\n",
       " 'casefold',\n",
       " 'title',\n",
       " 'center',\n",
       " 'count',\n",
       " 'expandtabs',\n",
       " 'find',\n",
       " 'partition',\n",
       " 'index',\n",
       " 'ljust',\n",
       " 'lower',\n",
       " 'lstrip',\n",
       " 'rfind',\n",
       " 'rindex',\n",
       " 'rjust',\n",
       " 'rstrip',\n",
       " 'rpartition',\n",
       " 'splitlines',\n",
       " 'strip',\n",
       " 'swapcase',\n",
       " 'translate',\n",
       " 'upper',\n",
       " 'startswith',\n",
       " 'endswith',\n",
       " 'isascii',\n",
       " 'islower',\n",
       " 'isupper',\n",
       " 'istitle',\n",
       " 'isspace',\n",
       " 'isdecimal',\n",
       " 'isdigit',\n",
       " 'isnumeric',\n",
       " 'isalpha',\n",
       " 'isalnum',\n",
       " 'isidentifier',\n",
       " 'isprintable',\n",
       " 'zfill',\n",
       " 'format',\n",
       " 'format_map',\n",
       " '__format__',\n",
       " 'maketrans',\n",
       " '__sizeof__',\n",
       " '__getnewargs__',\n",
       " '__doc__',\n",
       " '__setattr__',\n",
       " '__delattr__',\n",
       " '__init__',\n",
       " '__reduce_ex__',\n",
       " '__reduce__',\n",
       " '__subclasshook__',\n",
       " '__init_subclass__',\n",
       " '__dir__',\n",
       " '__class__']"
      ]
     },
     "execution_count": 73,
     "metadata": {},
     "output_type": "execute_result"
    }
   ],
   "source": [
    "'napis'.__dir__()"
   ]
  },
  {
   "cell_type": "markdown",
   "metadata": {},
   "source": [
    "### 1.5.2. Klasa 1 - rzut kością"
   ]
  },
  {
   "cell_type": "code",
   "execution_count": 74,
   "metadata": {},
   "outputs": [],
   "source": [
    "from random import randint\n",
    "\n",
    "class Kosc(object):\n",
    "    \"\"\"\n",
    "    Klasa realizująca pojedynczy rzut kością\n",
    "    \n",
    "    Atributes\n",
    "    ---------\n",
    "    sciany : int, optional\n",
    "        liczba ścian losowej kości (default is 6)\n",
    "    \n",
    "    Methods\n",
    "    -------\n",
    "    roll() :\n",
    "        zwraca losową wartość od 1 do liczby ścian \n",
    "    \"\"\"\n",
    "    def __init__(self, sciany: int=6):\n",
    "        \"\"\"\n",
    "        Parameters\n",
    "        ----------\n",
    "        sciany : int\n",
    "            liczba ścian kości\n",
    "        \"\"\"\n",
    "\n",
    "        self.sciany = sciany\n",
    "\n",
    "    def roll(self):\n",
    "        '''\n",
    "        Zwraca losową liczbę naturalną od 1 do liczby ścian\n",
    "        Return\n",
    "        ------\n",
    "        losowa wartość ściany kości\n",
    "        '''\n",
    "        return randint(1,self.sciany)"
   ]
  },
  {
   "cell_type": "code",
   "execution_count": 75,
   "metadata": {},
   "outputs": [],
   "source": [
    "kosc = Kosc() # stwórz kość"
   ]
  },
  {
   "cell_type": "code",
   "execution_count": 76,
   "metadata": {},
   "outputs": [
    {
     "name": "stdout",
     "output_type": "stream",
     "text": [
      "[3, 5, 1, 5, 4, 3, 4, 5, 4, 2]\n"
     ]
    }
   ],
   "source": [
    "results = []\n",
    "for _ in range(10): # powtórz 10 razy\n",
    "    result = kosc.roll() # rzuć kością raz\n",
    "    results.append(result) # zapisz do listy\n",
    "\n",
    "print(results)"
   ]
  },
  {
   "cell_type": "markdown",
   "metadata": {},
   "source": [
    "### 1.5.3. Klasa 2 - błądzenie losowe"
   ]
  },
  {
   "cell_type": "code",
   "execution_count": 77,
   "metadata": {},
   "outputs": [],
   "source": [
    "from random import choice\n",
    "\n",
    "class RandomWalk(object):\n",
    "    \"\"\"\n",
    "    Klasa generująca błądzenie losowego w 2D\n",
    "\n",
    "    Atributes\n",
    "    ---------\n",
    "    num_points : int\n",
    "        liczba ścian losowej kości\n",
    "    \n",
    "    Methods\n",
    "    -------\n",
    "    fill_walk()) :\n",
    "        zwraca realizację błądzenia losowego na płaszczyźnie\n",
    "    \"\"\"\n",
    "    \n",
    "    def __init__(self, num_points: int=5000):\n",
    "        \"\"\"\n",
    "        Parameters\n",
    "        ----------\n",
    "        num_points : int, optional\n",
    "            liczba kroków\n",
    "        x_values : list \n",
    "            lista losowych połozen x\n",
    "            początkowo punkt 0\n",
    "        y_values : list\n",
    "            lista losowych połozen y\n",
    "            początkowo punkt 0\n",
    "        \"\"\"\n",
    "        self.num_points = num_points\n",
    "        self.x_values = [0]\n",
    "        self.y_values = [0]\n",
    "\n",
    "    def fill_walk(self):\n",
    "        '''\n",
    "        Zwraca wygenerowany przypadek bładzenia losowego\n",
    "        Return\n",
    "        ------\n",
    "        listy x_values i y_values\n",
    "        '''\n",
    "        while len(self.x_values) < self.num_points:\n",
    "            x_direction = choice([-1,1])\n",
    "            x_distance = choice([0,1,2,3,4])\n",
    "            x_step = x_direction*x_distance\n",
    "\n",
    "            y_direction = choice([-1,1])\n",
    "            y_distance = choice([0,1,2,3,4])\n",
    "            y_step = y_direction*y_distance\n",
    "\n",
    "            if x_step == 0 and y_step == 0:\n",
    "                continue\n",
    "\n",
    "            next_x = self.x_values[-1] + x_step\n",
    "            next_y = self.y_values[-1] + y_step\n",
    "\n",
    "            self.x_values.append(next_x)\n",
    "            self.y_values.append(next_y)"
   ]
  },
  {
   "cell_type": "code",
   "execution_count": 78,
   "metadata": {},
   "outputs": [],
   "source": [
    "rw = RandomWalk(50000)\n",
    "rw.fill_walk()"
   ]
  },
  {
   "cell_type": "code",
   "execution_count": 79,
   "metadata": {},
   "outputs": [
    {
     "data": {
      "image/png": "[encoded data removed]",
      "text/plain": [
       "<Figure size 432x288 with 1 Axes>"
      ]
     },
     "metadata": {
      "needs_background": "light"
     },
     "output_type": "display_data"
    }
   ],
   "source": [
    "import matplotlib.pyplot as plt\n",
    "point_number = list(range(rw.num_points))\n",
    "plt.scatter(rw.x_values, rw.y_values, c=point_number, cmap=plt.cm.Blues, edgecolor='none', s=15)\n",
    "plt.scatter(0, 0, c='green', edgecolor='none', s=100)\n",
    "plt.scatter(rw.x_values[-1], rw.y_values[-1], c='red', edgecolor='none', s=100)\n",
    "plt.axis('off')\n",
    "#plt.savefig('rys1_3.eps', format='eps')\n",
    "plt.show()"
   ]
  },
  {
   "cell_type": "markdown",
   "metadata": {},
   "source": [
    "### 1.5.4. Obiekty i bazy danych"
   ]
  },
  {
   "cell_type": "code",
   "execution_count": 172,
   "metadata": {},
   "outputs": [],
   "source": [
    "from sqlalchemy import create_engine\n",
    "from sqlalchemy import Column, String, Integer\n",
    "from sqlalchemy.ext.declarative import declarative_base\n",
    "from sqlalchemy.orm import sessionmaker"
   ]
  },
  {
   "cell_type": "code",
   "execution_count": 173,
   "metadata": {},
   "outputs": [],
   "source": [
    "engine = create_engine('sqlite:///irysy.db')\n",
    "base = declarative_base()"
   ]
  },
  {
   "cell_type": "code",
   "execution_count": 174,
   "metadata": {},
   "outputs": [],
   "source": [
    "class Transakcje(base):\n",
    "    \"\"\"Tabela danych\"\"\"\n",
    "    __tablename__ = 'transakcje'\n",
    "    transakcja_id = Column(Integer, primary_key=True )\n",
    "    data = Column(String)\n",
    "    przedmiot_id = Column(Integer)\n",
    "    cena = Column(Integer)\n",
    "\n",
    "    def __init__(self, transakcja_id, data, przedmiot_id, cena):\n",
    "        self.transakcja_id = transakcja_id\n",
    "        self.data = data\n",
    "        self.przedmiot_id = przedmiot_id\n",
    "        self.cena = cena"
   ]
  },
  {
   "cell_type": "code",
   "execution_count": 175,
   "metadata": {},
   "outputs": [],
   "source": [
    "base.metadata.create_all(engine)\n",
    "\n",
    "from sqlalchemy.orm import sessionmaker\n",
    "# Stworzenie nowej sesji\n",
    "Session = sessionmaker(bind=engine)\n",
    "session = Session()"
   ]
  },
  {
   "cell_type": "code",
   "execution_count": 176,
   "metadata": {},
   "outputs": [],
   "source": [
    "for t in range(10):\n",
    "    tr = Transakcje(t, f'200{t}/05/06', t**2-t*2, 19)\n",
    "    session.add(tr)\n",
    "# zapis zmian w bazie danych\n",
    "session.commit()"
   ]
  },
  {
   "cell_type": "code",
   "execution_count": 177,
   "metadata": {},
   "outputs": [
    {
     "name": "stdout",
     "output_type": "stream",
     "text": [
      "0 2000/05/06 19\n",
      "1 2001/05/06 19\n",
      "2 2002/05/06 19\n",
      "3 2003/05/06 19\n",
      "4 2004/05/06 19\n",
      "5 2005/05/06 19\n",
      "6 2006/05/06 19\n",
      "7 2007/05/06 19\n",
      "8 2008/05/06 19\n",
      "9 2009/05/06 19\n"
     ]
    }
   ],
   "source": [
    "for s in session.query(Transakcje).all():\n",
    "    print(s.transakcja_id, s.data, s.cena)"
   ]
  },
  {
   "cell_type": "code",
   "execution_count": 178,
   "metadata": {},
   "outputs": [
    {
     "name": "stdout",
     "output_type": "stream",
     "text": [
      "6 2006/05/06\n",
      "7 2007/05/06\n",
      "8 2008/05/06\n",
      "9 2009/05/06\n"
     ]
    }
   ],
   "source": [
    "# wybrane transakcje\n",
    "for s in session.query(Transakcje).filter(Transakcje.transakcja_id>5):\n",
    "    print(s.transakcja_id, s.data)"
   ]
  },
  {
   "cell_type": "markdown",
   "metadata": {},
   "source": [
    "### 1.5.5. Obiektowoś w pakiecie Scikit-Learn"
   ]
  },
  {
   "cell_type": "code",
   "execution_count": 82,
   "metadata": {},
   "outputs": [],
   "source": [
    "from sklearn.pipeline import Pipeline\n",
    "from sklearn.compose import ColumnTransformer\n",
    "from sklearn.preprocessing import StandardScaler\n",
    "from sklearn.impute import SimpleImputer\n",
    "from sklearn.preprocessing import OneHotEncoder"
   ]
  },
  {
   "cell_type": "code",
   "execution_count": 83,
   "metadata": {},
   "outputs": [],
   "source": [
    "# przykładowe dane\n",
    "dane = {\"zm1\":[4.35, 23.3, 5.34, 45.2, 5, 34.5, 23.5, 62.3, 62.7, 35.8],\n",
    "        \"zm2\":[2.3, 5.2, np.nan, 6.2, 3.4, np.nan, 3.5, 1.3, 7.4, 5.66 ], \n",
    "        \"zm3\":[\"czerwony\",\"zielony\",\"czerwony\",\"niebieski\",\"zielony\",\n",
    "               \"zielony\", \"niebieski\", \"niebieski\",\"czerwony\",\"zielony\"], \n",
    "        \"zm4\":[\"M\",\"F\",\"M\",\"M\",\"F\",\"M\",\"M\",\"F\",\"F\",\"F\"]\n",
    "        }\n",
    "df = pd.DataFrame(dane)"
   ]
  },
  {
   "cell_type": "code",
   "execution_count": 84,
   "metadata": {},
   "outputs": [],
   "source": [
    "numeric_features = [\"zm1\", \"zm2\"]\n",
    "numeric_transformer = Pipeline(steps=[\n",
    "    (\"imputer\", SimpleImputer(strategy=\"mean\")),\n",
    "    (\"scaler\", StandardScaler())\n",
    "])\n",
    "categorical_features = [\"zm3\", \"zm4\"]\n",
    "categorical_transformer = OneHotEncoder(handle_unknown=\"ignore\")\n",
    "\n",
    "preprocessor = ColumnTransformer(transformers=[\n",
    "    (\"num_trans\", numeric_transformer, numeric_features),\n",
    "    (\"cat_trans\", categorical_transformer, categorical_features)\n",
    "])"
   ]
  },
  {
   "cell_type": "code",
   "execution_count": 85,
   "metadata": {},
   "outputs": [],
   "source": [
    "from sklearn.linear_model import LogisticRegression\n",
    "\n",
    "pipeline = Pipeline(steps=[\n",
    "    (\"preproc\", preprocessor),\n",
    "    (\"model\", LogisticRegression())\n",
    "])"
   ]
  },
  {
   "cell_type": "code",
   "execution_count": 86,
   "metadata": {},
   "outputs": [
    {
     "data": {
      "text/html": [
       "<style>#sk-21f4ccb9-5e89-46c5-8135-bba8e3461282 {color: black;background-color: white;}#sk-21f4ccb9-5e89-46c5-8135-bba8e3461282 pre{padding: 0;}#sk-21f4ccb9-5e89-46c5-8135-bba8e3461282 div.sk-toggleable {background-color: white;}#sk-21f4ccb9-5e89-46c5-8135-bba8e3461282 label.sk-toggleable__label {cursor: pointer;display: block;width: 100%;margin-bottom: 0;padding: 0.3em;box-sizing: border-box;text-align: center;}#sk-21f4ccb9-5e89-46c5-8135-bba8e3461282 label.sk-toggleable__label-arrow:before {content: \"▸\";float: left;margin-right: 0.25em;color: #696969;}#sk-21f4ccb9-5e89-46c5-8135-bba8e3461282 label.sk-toggleable__label-arrow:hover:before {color: black;}#sk-21f4ccb9-5e89-46c5-8135-bba8e3461282 div.sk-estimator:hover label.sk-toggleable__label-arrow:before {color: black;}#sk-21f4ccb9-5e89-46c5-8135-bba8e3461282 div.sk-toggleable__content {max-height: 0;max-width: 0;overflow: hidden;text-align: left;background-color: #f0f8ff;}#sk-21f4ccb9-5e89-46c5-8135-bba8e3461282 div.sk-toggleable__content pre {margin: 0.2em;color: black;border-radius: 0.25em;background-color: #f0f8ff;}#sk-21f4ccb9-5e89-46c5-8135-bba8e3461282 input.sk-toggleable__control:checked~div.sk-toggleable__content {max-height: 200px;max-width: 100%;overflow: auto;}#sk-21f4ccb9-5e89-46c5-8135-bba8e3461282 input.sk-toggleable__control:checked~label.sk-toggleable__label-arrow:before {content: \"▾\";}#sk-21f4ccb9-5e89-46c5-8135-bba8e3461282 div.sk-estimator input.sk-toggleable__control:checked~label.sk-toggleable__label {background-color: #d4ebff;}#sk-21f4ccb9-5e89-46c5-8135-bba8e3461282 div.sk-label input.sk-toggleable__control:checked~label.sk-toggleable__label {background-color: #d4ebff;}#sk-21f4ccb9-5e89-46c5-8135-bba8e3461282 input.sk-hidden--visually {border: 0;clip: rect(1px 1px 1px 1px);clip: rect(1px, 1px, 1px, 1px);height: 1px;margin: -1px;overflow: hidden;padding: 0;position: absolute;width: 1px;}#sk-21f4ccb9-5e89-46c5-8135-bba8e3461282 div.sk-estimator {font-family: monospace;background-color: #f0f8ff;border: 1px dotted black;border-radius: 0.25em;box-sizing: border-box;margin-bottom: 0.5em;}#sk-21f4ccb9-5e89-46c5-8135-bba8e3461282 div.sk-estimator:hover {background-color: #d4ebff;}#sk-21f4ccb9-5e89-46c5-8135-bba8e3461282 div.sk-parallel-item::after {content: \"\";width: 100%;border-bottom: 1px solid gray;flex-grow: 1;}#sk-21f4ccb9-5e89-46c5-8135-bba8e3461282 div.sk-label:hover label.sk-toggleable__label {background-color: #d4ebff;}#sk-21f4ccb9-5e89-46c5-8135-bba8e3461282 div.sk-serial::before {content: \"\";position: absolute;border-left: 1px solid gray;box-sizing: border-box;top: 2em;bottom: 0;left: 50%;}#sk-21f4ccb9-5e89-46c5-8135-bba8e3461282 div.sk-serial {display: flex;flex-direction: column;align-items: center;background-color: white;padding-right: 0.2em;padding-left: 0.2em;}#sk-21f4ccb9-5e89-46c5-8135-bba8e3461282 div.sk-item {z-index: 1;}#sk-21f4ccb9-5e89-46c5-8135-bba8e3461282 div.sk-parallel {display: flex;align-items: stretch;justify-content: center;background-color: white;}#sk-21f4ccb9-5e89-46c5-8135-bba8e3461282 div.sk-parallel::before {content: \"\";position: absolute;border-left: 1px solid gray;box-sizing: border-box;top: 2em;bottom: 0;left: 50%;}#sk-21f4ccb9-5e89-46c5-8135-bba8e3461282 div.sk-parallel-item {display: flex;flex-direction: column;position: relative;background-color: white;}#sk-21f4ccb9-5e89-46c5-8135-bba8e3461282 div.sk-parallel-item:first-child::after {align-self: flex-end;width: 50%;}#sk-21f4ccb9-5e89-46c5-8135-bba8e3461282 div.sk-parallel-item:last-child::after {align-self: flex-start;width: 50%;}#sk-21f4ccb9-5e89-46c5-8135-bba8e3461282 div.sk-parallel-item:only-child::after {width: 0;}#sk-21f4ccb9-5e89-46c5-8135-bba8e3461282 div.sk-dashed-wrapped {border: 1px dashed gray;margin: 0 0.4em 0.5em 0.4em;box-sizing: border-box;padding-bottom: 0.4em;background-color: white;position: relative;}#sk-21f4ccb9-5e89-46c5-8135-bba8e3461282 div.sk-label label {font-family: monospace;font-weight: bold;background-color: white;display: inline-block;line-height: 1.2em;}#sk-21f4ccb9-5e89-46c5-8135-bba8e3461282 div.sk-label-container {position: relative;z-index: 2;text-align: center;}#sk-21f4ccb9-5e89-46c5-8135-bba8e3461282 div.sk-container {/* jupyter's `normalize.less` sets `[hidden] { display: none; }` but bootstrap.min.css set `[hidden] { display: none !important; }` so we also need the `!important` here to be able to override the default hidden behavior on the sphinx rendered scikit-learn.org. See: https://github.com/scikit-learn/scikit-learn/issues/21755 */display: inline-block !important;position: relative;}#sk-21f4ccb9-5e89-46c5-8135-bba8e3461282 div.sk-text-repr-fallback {display: none;}</style><div id=\"sk-21f4ccb9-5e89-46c5-8135-bba8e3461282\" class=\"sk-top-container\"><div class=\"sk-text-repr-fallback\"><pre>Pipeline(steps=[(&#x27;preproc&#x27;,\n",
       "                 ColumnTransformer(transformers=[(&#x27;num_trans&#x27;,\n",
       "                                                  Pipeline(steps=[(&#x27;imputer&#x27;,\n",
       "                                                                   SimpleImputer()),\n",
       "                                                                  (&#x27;scaler&#x27;,\n",
       "                                                                   StandardScaler())]),\n",
       "                                                  [&#x27;zm1&#x27;, &#x27;zm2&#x27;]),\n",
       "                                                 (&#x27;cat_trans&#x27;,\n",
       "                                                  OneHotEncoder(handle_unknown=&#x27;ignore&#x27;),\n",
       "                                                  [&#x27;zm3&#x27;, &#x27;zm4&#x27;])])),\n",
       "                (&#x27;model&#x27;, LogisticRegression())])</pre><b>Please rerun this cell to show the HTML repr or trust the notebook.</b></div><div class=\"sk-container\" hidden><div class=\"sk-item sk-dashed-wrapped\"><div class=\"sk-label-container\"><div class=\"sk-label sk-toggleable\"><input class=\"sk-toggleable__control sk-hidden--visually\" id=\"1459bb32-934e-4945-9e86-43422597406d\" type=\"checkbox\" ><label for=\"1459bb32-934e-4945-9e86-43422597406d\" class=\"sk-toggleable__label sk-toggleable__label-arrow\">Pipeline</label><div class=\"sk-toggleable__content\"><pre>Pipeline(steps=[(&#x27;preproc&#x27;,\n",
       "                 ColumnTransformer(transformers=[(&#x27;num_trans&#x27;,\n",
       "                                                  Pipeline(steps=[(&#x27;imputer&#x27;,\n",
       "                                                                   SimpleImputer()),\n",
       "                                                                  (&#x27;scaler&#x27;,\n",
       "                                                                   StandardScaler())]),\n",
       "                                                  [&#x27;zm1&#x27;, &#x27;zm2&#x27;]),\n",
       "                                                 (&#x27;cat_trans&#x27;,\n",
       "                                                  OneHotEncoder(handle_unknown=&#x27;ignore&#x27;),\n",
       "                                                  [&#x27;zm3&#x27;, &#x27;zm4&#x27;])])),\n",
       "                (&#x27;model&#x27;, LogisticRegression())])</pre></div></div></div><div class=\"sk-serial\"><div class=\"sk-item sk-dashed-wrapped\"><div class=\"sk-label-container\"><div class=\"sk-label sk-toggleable\"><input class=\"sk-toggleable__control sk-hidden--visually\" id=\"089ad5ab-fdd6-4d59-85de-0cdaa7fd0334\" type=\"checkbox\" ><label for=\"089ad5ab-fdd6-4d59-85de-0cdaa7fd0334\" class=\"sk-toggleable__label sk-toggleable__label-arrow\">preproc: ColumnTransformer</label><div class=\"sk-toggleable__content\"><pre>ColumnTransformer(transformers=[(&#x27;num_trans&#x27;,\n",
       "                                 Pipeline(steps=[(&#x27;imputer&#x27;, SimpleImputer()),\n",
       "                                                 (&#x27;scaler&#x27;, StandardScaler())]),\n",
       "                                 [&#x27;zm1&#x27;, &#x27;zm2&#x27;]),\n",
       "                                (&#x27;cat_trans&#x27;,\n",
       "                                 OneHotEncoder(handle_unknown=&#x27;ignore&#x27;),\n",
       "                                 [&#x27;zm3&#x27;, &#x27;zm4&#x27;])])</pre></div></div></div><div class=\"sk-parallel\"><div class=\"sk-parallel-item\"><div class=\"sk-item\"><div class=\"sk-label-container\"><div class=\"sk-label sk-toggleable\"><input class=\"sk-toggleable__control sk-hidden--visually\" id=\"fb7938ab-723a-498d-a040-dcb8b9db8da0\" type=\"checkbox\" ><label for=\"fb7938ab-723a-498d-a040-dcb8b9db8da0\" class=\"sk-toggleable__label sk-toggleable__label-arrow\">num_trans</label><div class=\"sk-toggleable__content\"><pre>[&#x27;zm1&#x27;, &#x27;zm2&#x27;]</pre></div></div></div><div class=\"sk-serial\"><div class=\"sk-item\"><div class=\"sk-serial\"><div class=\"sk-item\"><div class=\"sk-estimator sk-toggleable\"><input class=\"sk-toggleable__control sk-hidden--visually\" id=\"6ac913e6-93d7-44e0-9a4f-63e95f67277e\" type=\"checkbox\" ><label for=\"6ac913e6-93d7-44e0-9a4f-63e95f67277e\" class=\"sk-toggleable__label sk-toggleable__label-arrow\">SimpleImputer</label><div class=\"sk-toggleable__content\"><pre>SimpleImputer()</pre></div></div></div><div class=\"sk-item\"><div class=\"sk-estimator sk-toggleable\"><input class=\"sk-toggleable__control sk-hidden--visually\" id=\"9ff55710-3311-46c2-b4ae-bdacbe1def4e\" type=\"checkbox\" ><label for=\"9ff55710-3311-46c2-b4ae-bdacbe1def4e\" class=\"sk-toggleable__label sk-toggleable__label-arrow\">StandardScaler</label><div class=\"sk-toggleable__content\"><pre>StandardScaler()</pre></div></div></div></div></div></div></div></div><div class=\"sk-parallel-item\"><div class=\"sk-item\"><div class=\"sk-label-container\"><div class=\"sk-label sk-toggleable\"><input class=\"sk-toggleable__control sk-hidden--visually\" id=\"0685b054-c3ce-4042-bdea-b0e603b0d6db\" type=\"checkbox\" ><label for=\"0685b054-c3ce-4042-bdea-b0e603b0d6db\" class=\"sk-toggleable__label sk-toggleable__label-arrow\">cat_trans</label><div class=\"sk-toggleable__content\"><pre>[&#x27;zm3&#x27;, &#x27;zm4&#x27;]</pre></div></div></div><div class=\"sk-serial\"><div class=\"sk-item\"><div class=\"sk-estimator sk-toggleable\"><input class=\"sk-toggleable__control sk-hidden--visually\" id=\"3252a0c7-cf18-437f-a144-a7e0f6c6c811\" type=\"checkbox\" ><label for=\"3252a0c7-cf18-437f-a144-a7e0f6c6c811\" class=\"sk-toggleable__label sk-toggleable__label-arrow\">OneHotEncoder</label><div class=\"sk-toggleable__content\"><pre>OneHotEncoder(handle_unknown=&#x27;ignore&#x27;)</pre></div></div></div></div></div></div></div></div><div class=\"sk-item\"><div class=\"sk-estimator sk-toggleable\"><input class=\"sk-toggleable__control sk-hidden--visually\" id=\"38bdc31a-b5fd-494c-a13f-8b0fa909fb14\" type=\"checkbox\" ><label for=\"38bdc31a-b5fd-494c-a13f-8b0fa909fb14\" class=\"sk-toggleable__label sk-toggleable__label-arrow\">LogisticRegression</label><div class=\"sk-toggleable__content\"><pre>LogisticRegression()</pre></div></div></div></div></div></div></div>"
      ],
      "text/plain": [
       "Pipeline(steps=[('preproc',\n",
       "                 ColumnTransformer(transformers=[('num_trans',\n",
       "                                                  Pipeline(steps=[('imputer',\n",
       "                                                                   SimpleImputer()),\n",
       "                                                                  ('scaler',\n",
       "                                                                   StandardScaler())]),\n",
       "                                                  ['zm1', 'zm2']),\n",
       "                                                 ('cat_trans',\n",
       "                                                  OneHotEncoder(handle_unknown='ignore'),\n",
       "                                                  ['zm3', 'zm4'])])),\n",
       "                ('model', LogisticRegression())])"
      ]
     },
     "execution_count": 86,
     "metadata": {},
     "output_type": "execute_result"
    }
   ],
   "source": [
    "from sklearn import set_config\n",
    "set_config(display='diagram')\n",
    "\n",
    "pipeline"
   ]
  },
  {
   "cell_type": "code",
   "execution_count": 87,
   "metadata": {},
   "outputs": [],
   "source": [
    "X = df\n",
    "y = [0,1,1,0,1,0,0,0,1,1]"
   ]
  },
  {
   "cell_type": "code",
   "execution_count": 88,
   "metadata": {},
   "outputs": [
    {
     "name": "stdout",
     "output_type": "stream",
     "text": [
      "1.0\n"
     ]
    }
   ],
   "source": [
    "from sklearn.model_selection import train_test_split\n",
    "X_tr, X_test, y_tr, y_test = train_test_split(X,y, \n",
    "test_size=0.2, random_state=42)\n",
    "pipeline.fit(X_tr, y_tr)\n",
    "# jakość modelu\n",
    "score = pipeline.score(X_test, y_test)\n",
    "print(score)"
   ]
  },
  {
   "cell_type": "code",
   "execution_count": 89,
   "metadata": {},
   "outputs": [
    {
     "data": {
      "text/plain": [
       "['your_pipeline.pkl']"
      ]
     },
     "execution_count": 89,
     "metadata": {},
     "output_type": "execute_result"
    }
   ],
   "source": [
    "import joblib\n",
    "joblib.dump(pipeline, 'your_pipeline.pkl')"
   ]
  },
  {
   "cell_type": "code",
   "execution_count": 90,
   "metadata": {},
   "outputs": [],
   "source": [
    "param_grid = [\n",
    "              {\"preproc__num_trans__imputer__strategy\":\n",
    "              [\"mean\",\"median\"],\n",
    "               \"model__n_estimators\":[2,5,10,100,500],\n",
    "               \"model__min_samples_leaf\": [1, 0.1],\n",
    "               \"model\":[RandomForestClassifier()]},\n",
    "              {\"preproc__num_trans__imputer__strategy\":\n",
    "              [\"mean\",\"median\"],\n",
    "               \"model__C\":[0.1,1.0,10.0,100.0,1000],\n",
    "               \"model\":[LogisticRegression()]}\n",
    "]"
   ]
  },
  {
   "cell_type": "code",
   "execution_count": 91,
   "metadata": {},
   "outputs": [
    {
     "name": "stdout",
     "output_type": "stream",
     "text": [
      "Fitting 3 folds for each of 30 candidates, totalling 90 fits\n"
     ]
    },
    {
     "data": {
      "text/html": [
       "<style>#sk-6a6e204c-ab3c-4ab0-8aef-ae36cd3ac735 {color: black;background-color: white;}#sk-6a6e204c-ab3c-4ab0-8aef-ae36cd3ac735 pre{padding: 0;}#sk-6a6e204c-ab3c-4ab0-8aef-ae36cd3ac735 div.sk-toggleable {background-color: white;}#sk-6a6e204c-ab3c-4ab0-8aef-ae36cd3ac735 label.sk-toggleable__label {cursor: pointer;display: block;width: 100%;margin-bottom: 0;padding: 0.3em;box-sizing: border-box;text-align: center;}#sk-6a6e204c-ab3c-4ab0-8aef-ae36cd3ac735 label.sk-toggleable__label-arrow:before {content: \"▸\";float: left;margin-right: 0.25em;color: #696969;}#sk-6a6e204c-ab3c-4ab0-8aef-ae36cd3ac735 label.sk-toggleable__label-arrow:hover:before {color: black;}#sk-6a6e204c-ab3c-4ab0-8aef-ae36cd3ac735 div.sk-estimator:hover label.sk-toggleable__label-arrow:before {color: black;}#sk-6a6e204c-ab3c-4ab0-8aef-ae36cd3ac735 div.sk-toggleable__content {max-height: 0;max-width: 0;overflow: hidden;text-align: left;background-color: #f0f8ff;}#sk-6a6e204c-ab3c-4ab0-8aef-ae36cd3ac735 div.sk-toggleable__content pre {margin: 0.2em;color: black;border-radius: 0.25em;background-color: #f0f8ff;}#sk-6a6e204c-ab3c-4ab0-8aef-ae36cd3ac735 input.sk-toggleable__control:checked~div.sk-toggleable__content {max-height: 200px;max-width: 100%;overflow: auto;}#sk-6a6e204c-ab3c-4ab0-8aef-ae36cd3ac735 input.sk-toggleable__control:checked~label.sk-toggleable__label-arrow:before {content: \"▾\";}#sk-6a6e204c-ab3c-4ab0-8aef-ae36cd3ac735 div.sk-estimator input.sk-toggleable__control:checked~label.sk-toggleable__label {background-color: #d4ebff;}#sk-6a6e204c-ab3c-4ab0-8aef-ae36cd3ac735 div.sk-label input.sk-toggleable__control:checked~label.sk-toggleable__label {background-color: #d4ebff;}#sk-6a6e204c-ab3c-4ab0-8aef-ae36cd3ac735 input.sk-hidden--visually {border: 0;clip: rect(1px 1px 1px 1px);clip: rect(1px, 1px, 1px, 1px);height: 1px;margin: -1px;overflow: hidden;padding: 0;position: absolute;width: 1px;}#sk-6a6e204c-ab3c-4ab0-8aef-ae36cd3ac735 div.sk-estimator {font-family: monospace;background-color: #f0f8ff;border: 1px dotted black;border-radius: 0.25em;box-sizing: border-box;margin-bottom: 0.5em;}#sk-6a6e204c-ab3c-4ab0-8aef-ae36cd3ac735 div.sk-estimator:hover {background-color: #d4ebff;}#sk-6a6e204c-ab3c-4ab0-8aef-ae36cd3ac735 div.sk-parallel-item::after {content: \"\";width: 100%;border-bottom: 1px solid gray;flex-grow: 1;}#sk-6a6e204c-ab3c-4ab0-8aef-ae36cd3ac735 div.sk-label:hover label.sk-toggleable__label {background-color: #d4ebff;}#sk-6a6e204c-ab3c-4ab0-8aef-ae36cd3ac735 div.sk-serial::before {content: \"\";position: absolute;border-left: 1px solid gray;box-sizing: border-box;top: 2em;bottom: 0;left: 50%;}#sk-6a6e204c-ab3c-4ab0-8aef-ae36cd3ac735 div.sk-serial {display: flex;flex-direction: column;align-items: center;background-color: white;padding-right: 0.2em;padding-left: 0.2em;}#sk-6a6e204c-ab3c-4ab0-8aef-ae36cd3ac735 div.sk-item {z-index: 1;}#sk-6a6e204c-ab3c-4ab0-8aef-ae36cd3ac735 div.sk-parallel {display: flex;align-items: stretch;justify-content: center;background-color: white;}#sk-6a6e204c-ab3c-4ab0-8aef-ae36cd3ac735 div.sk-parallel::before {content: \"\";position: absolute;border-left: 1px solid gray;box-sizing: border-box;top: 2em;bottom: 0;left: 50%;}#sk-6a6e204c-ab3c-4ab0-8aef-ae36cd3ac735 div.sk-parallel-item {display: flex;flex-direction: column;position: relative;background-color: white;}#sk-6a6e204c-ab3c-4ab0-8aef-ae36cd3ac735 div.sk-parallel-item:first-child::after {align-self: flex-end;width: 50%;}#sk-6a6e204c-ab3c-4ab0-8aef-ae36cd3ac735 div.sk-parallel-item:last-child::after {align-self: flex-start;width: 50%;}#sk-6a6e204c-ab3c-4ab0-8aef-ae36cd3ac735 div.sk-parallel-item:only-child::after {width: 0;}#sk-6a6e204c-ab3c-4ab0-8aef-ae36cd3ac735 div.sk-dashed-wrapped {border: 1px dashed gray;margin: 0 0.4em 0.5em 0.4em;box-sizing: border-box;padding-bottom: 0.4em;background-color: white;position: relative;}#sk-6a6e204c-ab3c-4ab0-8aef-ae36cd3ac735 div.sk-label label {font-family: monospace;font-weight: bold;background-color: white;display: inline-block;line-height: 1.2em;}#sk-6a6e204c-ab3c-4ab0-8aef-ae36cd3ac735 div.sk-label-container {position: relative;z-index: 2;text-align: center;}#sk-6a6e204c-ab3c-4ab0-8aef-ae36cd3ac735 div.sk-container {/* jupyter's `normalize.less` sets `[hidden] { display: none; }` but bootstrap.min.css set `[hidden] { display: none !important; }` so we also need the `!important` here to be able to override the default hidden behavior on the sphinx rendered scikit-learn.org. See: https://github.com/scikit-learn/scikit-learn/issues/21755 */display: inline-block !important;position: relative;}#sk-6a6e204c-ab3c-4ab0-8aef-ae36cd3ac735 div.sk-text-repr-fallback {display: none;}</style><div id=\"sk-6a6e204c-ab3c-4ab0-8aef-ae36cd3ac735\" class=\"sk-top-container\"><div class=\"sk-text-repr-fallback\"><pre>GridSearchCV(cv=3,\n",
       "             estimator=Pipeline(steps=[(&#x27;preproc&#x27;,\n",
       "                                        ColumnTransformer(transformers=[(&#x27;num_trans&#x27;,\n",
       "                                                                         Pipeline(steps=[(&#x27;imputer&#x27;,\n",
       "                                                                                          SimpleImputer()),\n",
       "                                                                                         (&#x27;scaler&#x27;,\n",
       "                                                                                          StandardScaler())]),\n",
       "                                                                         [&#x27;zm1&#x27;,\n",
       "                                                                          &#x27;zm2&#x27;]),\n",
       "                                                                        (&#x27;cat_trans&#x27;,\n",
       "                                                                         OneHotEncoder(handle_unknown=&#x27;ignore&#x27;),\n",
       "                                                                         [&#x27;zm3&#x27;,\n",
       "                                                                          &#x27;zm4&#x27;])])),\n",
       "                                       (&#x27;model&#x27;, LogisticRegression())]),\n",
       "             n_jobs=-1,\n",
       "             param_grid=[{&#x27;model&#x27;: [RandomForestClassifier(min_samples_leaf=0.1,\n",
       "                                                           n_estimators=10)],\n",
       "                          &#x27;model__min_samples_leaf&#x27;: [1, 0.1],\n",
       "                          &#x27;model__n_estimators&#x27;: [2, 5, 10, 100, 500],\n",
       "                          &#x27;preproc__num_trans__imputer__strategy&#x27;: [&#x27;mean&#x27;,\n",
       "                                                                    &#x27;median&#x27;]},\n",
       "                         {&#x27;model&#x27;: [LogisticRegression()],\n",
       "                          &#x27;model__C&#x27;: [0.1, 1.0, 10.0, 100.0, 1000],\n",
       "                          &#x27;preproc__num_trans__imputer__strategy&#x27;: [&#x27;mean&#x27;,\n",
       "                                                                    &#x27;median&#x27;]}],\n",
       "             verbose=1)</pre><b>Please rerun this cell to show the HTML repr or trust the notebook.</b></div><div class=\"sk-container\" hidden><div class=\"sk-item sk-dashed-wrapped\"><div class=\"sk-label-container\"><div class=\"sk-label sk-toggleable\"><input class=\"sk-toggleable__control sk-hidden--visually\" id=\"c3adc342-1d61-4911-a8cf-7e9a6e4062dc\" type=\"checkbox\" ><label for=\"c3adc342-1d61-4911-a8cf-7e9a6e4062dc\" class=\"sk-toggleable__label sk-toggleable__label-arrow\">GridSearchCV</label><div class=\"sk-toggleable__content\"><pre>GridSearchCV(cv=3,\n",
       "             estimator=Pipeline(steps=[(&#x27;preproc&#x27;,\n",
       "                                        ColumnTransformer(transformers=[(&#x27;num_trans&#x27;,\n",
       "                                                                         Pipeline(steps=[(&#x27;imputer&#x27;,\n",
       "                                                                                          SimpleImputer()),\n",
       "                                                                                         (&#x27;scaler&#x27;,\n",
       "                                                                                          StandardScaler())]),\n",
       "                                                                         [&#x27;zm1&#x27;,\n",
       "                                                                          &#x27;zm2&#x27;]),\n",
       "                                                                        (&#x27;cat_trans&#x27;,\n",
       "                                                                         OneHotEncoder(handle_unknown=&#x27;ignore&#x27;),\n",
       "                                                                         [&#x27;zm3&#x27;,\n",
       "                                                                          &#x27;zm4&#x27;])])),\n",
       "                                       (&#x27;model&#x27;, LogisticRegression())]),\n",
       "             n_jobs=-1,\n",
       "             param_grid=[{&#x27;model&#x27;: [RandomForestClassifier(min_samples_leaf=0.1,\n",
       "                                                           n_estimators=10)],\n",
       "                          &#x27;model__min_samples_leaf&#x27;: [1, 0.1],\n",
       "                          &#x27;model__n_estimators&#x27;: [2, 5, 10, 100, 500],\n",
       "                          &#x27;preproc__num_trans__imputer__strategy&#x27;: [&#x27;mean&#x27;,\n",
       "                                                                    &#x27;median&#x27;]},\n",
       "                         {&#x27;model&#x27;: [LogisticRegression()],\n",
       "                          &#x27;model__C&#x27;: [0.1, 1.0, 10.0, 100.0, 1000],\n",
       "                          &#x27;preproc__num_trans__imputer__strategy&#x27;: [&#x27;mean&#x27;,\n",
       "                                                                    &#x27;median&#x27;]}],\n",
       "             verbose=1)</pre></div></div></div><div class=\"sk-parallel\"><div class=\"sk-parallel-item\"><div class=\"sk-item\"><div class=\"sk-serial\"><div class=\"sk-item\"><div class=\"sk-serial\"><div class=\"sk-item sk-dashed-wrapped\"><div class=\"sk-label-container\"><div class=\"sk-label sk-toggleable\"><input class=\"sk-toggleable__control sk-hidden--visually\" id=\"9d3a3e11-cf5a-49b6-8f78-ba10ffe7b209\" type=\"checkbox\" ><label for=\"9d3a3e11-cf5a-49b6-8f78-ba10ffe7b209\" class=\"sk-toggleable__label sk-toggleable__label-arrow\">preproc: ColumnTransformer</label><div class=\"sk-toggleable__content\"><pre>ColumnTransformer(transformers=[(&#x27;num_trans&#x27;,\n",
       "                                 Pipeline(steps=[(&#x27;imputer&#x27;, SimpleImputer()),\n",
       "                                                 (&#x27;scaler&#x27;, StandardScaler())]),\n",
       "                                 [&#x27;zm1&#x27;, &#x27;zm2&#x27;]),\n",
       "                                (&#x27;cat_trans&#x27;,\n",
       "                                 OneHotEncoder(handle_unknown=&#x27;ignore&#x27;),\n",
       "                                 [&#x27;zm3&#x27;, &#x27;zm4&#x27;])])</pre></div></div></div><div class=\"sk-parallel\"><div class=\"sk-parallel-item\"><div class=\"sk-item\"><div class=\"sk-label-container\"><div class=\"sk-label sk-toggleable\"><input class=\"sk-toggleable__control sk-hidden--visually\" id=\"1d60d36a-ce0b-4a10-b0aa-d5806b20f32e\" type=\"checkbox\" ><label for=\"1d60d36a-ce0b-4a10-b0aa-d5806b20f32e\" class=\"sk-toggleable__label sk-toggleable__label-arrow\">num_trans</label><div class=\"sk-toggleable__content\"><pre>[&#x27;zm1&#x27;, &#x27;zm2&#x27;]</pre></div></div></div><div class=\"sk-serial\"><div class=\"sk-item\"><div class=\"sk-serial\"><div class=\"sk-item\"><div class=\"sk-estimator sk-toggleable\"><input class=\"sk-toggleable__control sk-hidden--visually\" id=\"cd81e374-7cae-4059-8b5b-456813fceb61\" type=\"checkbox\" ><label for=\"cd81e374-7cae-4059-8b5b-456813fceb61\" class=\"sk-toggleable__label sk-toggleable__label-arrow\">SimpleImputer</label><div class=\"sk-toggleable__content\"><pre>SimpleImputer()</pre></div></div></div><div class=\"sk-item\"><div class=\"sk-estimator sk-toggleable\"><input class=\"sk-toggleable__control sk-hidden--visually\" id=\"9cad6d36-4dd0-437e-b600-bf7d967329b9\" type=\"checkbox\" ><label for=\"9cad6d36-4dd0-437e-b600-bf7d967329b9\" class=\"sk-toggleable__label sk-toggleable__label-arrow\">StandardScaler</label><div class=\"sk-toggleable__content\"><pre>StandardScaler()</pre></div></div></div></div></div></div></div></div><div class=\"sk-parallel-item\"><div class=\"sk-item\"><div class=\"sk-label-container\"><div class=\"sk-label sk-toggleable\"><input class=\"sk-toggleable__control sk-hidden--visually\" id=\"f91b40da-6037-42d3-98f9-a243ce38c453\" type=\"checkbox\" ><label for=\"f91b40da-6037-42d3-98f9-a243ce38c453\" class=\"sk-toggleable__label sk-toggleable__label-arrow\">cat_trans</label><div class=\"sk-toggleable__content\"><pre>[&#x27;zm3&#x27;, &#x27;zm4&#x27;]</pre></div></div></div><div class=\"sk-serial\"><div class=\"sk-item\"><div class=\"sk-estimator sk-toggleable\"><input class=\"sk-toggleable__control sk-hidden--visually\" id=\"2e093cc2-6e61-4b41-8948-485a3d69aca8\" type=\"checkbox\" ><label for=\"2e093cc2-6e61-4b41-8948-485a3d69aca8\" class=\"sk-toggleable__label sk-toggleable__label-arrow\">OneHotEncoder</label><div class=\"sk-toggleable__content\"><pre>OneHotEncoder(handle_unknown=&#x27;ignore&#x27;)</pre></div></div></div></div></div></div></div></div><div class=\"sk-item\"><div class=\"sk-estimator sk-toggleable\"><input class=\"sk-toggleable__control sk-hidden--visually\" id=\"c8cedf80-b87e-407b-b8c8-5d1fe27fdccf\" type=\"checkbox\" ><label for=\"c8cedf80-b87e-407b-b8c8-5d1fe27fdccf\" class=\"sk-toggleable__label sk-toggleable__label-arrow\">LogisticRegression</label><div class=\"sk-toggleable__content\"><pre>LogisticRegression()</pre></div></div></div></div></div></div></div></div></div></div></div></div>"
      ],
      "text/plain": [
       "GridSearchCV(cv=3,\n",
       "             estimator=Pipeline(steps=[('preproc',\n",
       "                                        ColumnTransformer(transformers=[('num_trans',\n",
       "                                                                         Pipeline(steps=[('imputer',\n",
       "                                                                                          SimpleImputer()),\n",
       "                                                                                         ('scaler',\n",
       "                                                                                          StandardScaler())]),\n",
       "                                                                         ['zm1',\n",
       "                                                                          'zm2']),\n",
       "                                                                        ('cat_trans',\n",
       "                                                                         OneHotEncoder(handle_unknown='ignore'),\n",
       "                                                                         ['zm3',\n",
       "                                                                          'zm4'])])),\n",
       "                                       ('model', LogisticRegression())]),\n",
       "             n_jobs=-1,\n",
       "             param_grid=[{'model': [RandomForestClassifier(min_samples_leaf=0.1,\n",
       "                                                           n_estimators=10)],\n",
       "                          'model__min_samples_leaf': [1, 0.1],\n",
       "                          'model__n_estimators': [2, 5, 10, 100, 500],\n",
       "                          'preproc__num_trans__imputer__strategy': ['mean',\n",
       "                                                                    'median']},\n",
       "                         {'model': [LogisticRegression()],\n",
       "                          'model__C': [0.1, 1.0, 10.0, 100.0, 1000],\n",
       "                          'preproc__num_trans__imputer__strategy': ['mean',\n",
       "                                                                    'median']}],\n",
       "             verbose=1)"
      ]
     },
     "execution_count": 91,
     "metadata": {},
     "output_type": "execute_result"
    }
   ],
   "source": [
    "from sklearn.model_selection import GridSearchCV\n",
    "grid_search = GridSearchCV(pipeline, param_grid, \n",
    "cv=3, verbose=1, n_jobs=-1)\n",
    "grid_search.fit(X_tr, y_tr)"
   ]
  },
  {
   "cell_type": "code",
   "execution_count": 92,
   "metadata": {},
   "outputs": [
    {
     "data": {
      "text/plain": [
       "{'model': RandomForestClassifier(min_samples_leaf=0.1, n_estimators=10),\n",
       " 'model__min_samples_leaf': 0.1,\n",
       " 'model__n_estimators': 10,\n",
       " 'preproc__num_trans__imputer__strategy': 'mean'}"
      ]
     },
     "execution_count": 92,
     "metadata": {},
     "output_type": "execute_result"
    }
   ],
   "source": [
    "grid_search.best_params_"
   ]
  },
  {
   "cell_type": "code",
   "execution_count": 191,
   "metadata": {},
   "outputs": [
    {
     "data": {
      "text/plain": [
       "1.0"
      ]
     },
     "execution_count": 191,
     "metadata": {},
     "output_type": "execute_result"
    }
   ],
   "source": [
    "grid_search.best_estimator_.score(X_test,y_test)"
   ]
  },
  {
   "cell_type": "code",
   "execution_count": 93,
   "metadata": {},
   "outputs": [],
   "source": [
    "from sklearn.base import BaseEstimator, TransformerMixin\n",
    "\n",
    "class DelOneValueFeature(BaseEstimator, TransformerMixin):\n",
    "    \"\"\"Transformacja usuwająca zmienne, które posiadają\n",
    "    tylko jedną wartość w całej kolumnie. Takie kolumny\n",
    "    nie nadają się do modelowania. Metoda fit() wyszuka\n",
    "    wszystkie takie kolumny. Natomiast metoda transform()\n",
    "    usunie je ze zbioru danych.\n",
    "    \"\"\"\n",
    "    def __init__(self):\n",
    "        self.one_value_features = []\n",
    "        \n",
    "    def fit(self, X, y=None):\n",
    "        for feature in X.columns:\n",
    "            unikalne = X[feature].unique()\n",
    "            if len(unikalne)==1:\n",
    "                self.one_value_features.append(feature)\n",
    "        return self\n",
    "    \n",
    "    def transform(self, X, y=None):\n",
    "        if not self.one_value_features:\n",
    "            return X\n",
    "        return X.drop(axis='columns',\n",
    "        columns=self.one_value_features)"
   ]
  },
  {
   "cell_type": "code",
   "execution_count": 94,
   "metadata": {},
   "outputs": [],
   "source": [
    "pipeline2 = Pipeline([\n",
    "    (\"moja_transformacja\",DelOneValueFeature()),\n",
    "    (\"preprocesser\", preprocessor), \n",
    "    (\"classifier\", LogisticRegression())])"
   ]
  },
  {
   "cell_type": "code",
   "execution_count": 95,
   "metadata": {},
   "outputs": [],
   "source": [
    "pipeline2.fit(X_tr, y_tr)\n",
    "score2 = pipeline2.score(X_test, y_test)"
   ]
  },
  {
   "cell_type": "code",
   "execution_count": 96,
   "metadata": {},
   "outputs": [
    {
     "data": {
      "text/plain": [
       "1.0"
      ]
     },
     "execution_count": 96,
     "metadata": {},
     "output_type": "execute_result"
    }
   ],
   "source": [
    "score2"
   ]
  },
  {
   "cell_type": "markdown",
   "metadata": {},
   "source": [
    "### 1.5.6. Obiektowa siec neuronowa"
   ]
  },
  {
   "cell_type": "code",
   "execution_count": 97,
   "metadata": {},
   "outputs": [],
   "source": [
    "X = 3 * np.random.rand(100,1)\n",
    "y = 5 + 2 * X + np.random.randn(100,1)"
   ]
  },
  {
   "cell_type": "code",
   "execution_count": 98,
   "metadata": {},
   "outputs": [
    {
     "data": {
      "text/plain": [
       "array([[5.23245801],\n",
       "       [1.90386963]])"
      ]
     },
     "execution_count": 98,
     "metadata": {},
     "output_type": "execute_result"
    }
   ],
   "source": [
    "# dodajemy 1 do każdej obserwacji \n",
    "X_b = np.c_[np.ones((100,1)),X]\n",
    "# rozwiazanie\n",
    "parametry = np.linalg.inv(X_b.T.dot(X_b)).dot(X_b.T).dot(y)\n",
    "parametry\n",
    "# dla wylosowanych przeze mnie danych"
   ]
  },
  {
   "cell_type": "code",
   "execution_count": 99,
   "metadata": {},
   "outputs": [],
   "source": [
    "df2 = pd.DataFrame(X,columns=['X']) "
   ]
  },
  {
   "cell_type": "code",
   "execution_count": 100,
   "metadata": {},
   "outputs": [],
   "source": [
    "df2['y'] = y"
   ]
  },
  {
   "cell_type": "code",
   "execution_count": 101,
   "metadata": {},
   "outputs": [
    {
     "data": {
      "text/html": [
       "<div>\n",
       "<style scoped>\n",
       "    .dataframe tbody tr th:only-of-type {\n",
       "        vertical-align: middle;\n",
       "    }\n",
       "\n",
       "    .dataframe tbody tr th {\n",
       "        vertical-align: top;\n",
       "    }\n",
       "\n",
       "    .dataframe thead th {\n",
       "        text-align: right;\n",
       "    }\n",
       "</style>\n",
       "<table border=\"1\" class=\"dataframe\">\n",
       "  <thead>\n",
       "    <tr style=\"text-align: right;\">\n",
       "      <th></th>\n",
       "      <th>X</th>\n",
       "      <th>y</th>\n",
       "    </tr>\n",
       "  </thead>\n",
       "  <tbody>\n",
       "    <tr>\n",
       "      <th>0</th>\n",
       "      <td>0.10</td>\n",
       "      <td>5.80</td>\n",
       "    </tr>\n",
       "    <tr>\n",
       "      <th>1</th>\n",
       "      <td>1.19</td>\n",
       "      <td>6.63</td>\n",
       "    </tr>\n",
       "    <tr>\n",
       "      <th>2</th>\n",
       "      <td>1.84</td>\n",
       "      <td>8.32</td>\n",
       "    </tr>\n",
       "    <tr>\n",
       "      <th>3</th>\n",
       "      <td>1.76</td>\n",
       "      <td>6.82</td>\n",
       "    </tr>\n",
       "    <tr>\n",
       "      <th>4</th>\n",
       "      <td>2.70</td>\n",
       "      <td>8.80</td>\n",
       "    </tr>\n",
       "    <tr>\n",
       "      <th>...</th>\n",
       "      <td>...</td>\n",
       "      <td>...</td>\n",
       "    </tr>\n",
       "    <tr>\n",
       "      <th>95</th>\n",
       "      <td>1.74</td>\n",
       "      <td>10.72</td>\n",
       "    </tr>\n",
       "    <tr>\n",
       "      <th>96</th>\n",
       "      <td>2.09</td>\n",
       "      <td>9.39</td>\n",
       "    </tr>\n",
       "    <tr>\n",
       "      <th>97</th>\n",
       "      <td>1.90</td>\n",
       "      <td>6.21</td>\n",
       "    </tr>\n",
       "    <tr>\n",
       "      <th>98</th>\n",
       "      <td>2.28</td>\n",
       "      <td>9.37</td>\n",
       "    </tr>\n",
       "    <tr>\n",
       "      <th>99</th>\n",
       "      <td>1.97</td>\n",
       "      <td>10.12</td>\n",
       "    </tr>\n",
       "  </tbody>\n",
       "</table>\n",
       "<p>100 rows × 2 columns</p>\n",
       "</div>"
      ],
      "text/plain": [
       "       X      y\n",
       "0   0.10   5.80\n",
       "1   1.19   6.63\n",
       "2   1.84   8.32\n",
       "3   1.76   6.82\n",
       "4   2.70   8.80\n",
       "..   ...    ...\n",
       "95  1.74  10.72\n",
       "96  2.09   9.39\n",
       "97  1.90   6.21\n",
       "98  2.28   9.37\n",
       "99  1.97  10.12\n",
       "\n",
       "[100 rows x 2 columns]"
      ]
     },
     "execution_count": 101,
     "metadata": {},
     "output_type": "execute_result"
    }
   ],
   "source": [
    "df2"
   ]
  },
  {
   "cell_type": "code",
   "execution_count": 102,
   "metadata": {},
   "outputs": [
    {
     "data": {
      "image/png": "[encoded data removed]",
      "text/plain": [
       "<Figure size 432x288 with 1 Axes>"
      ]
     },
     "metadata": {
      "needs_background": "light"
     },
     "output_type": "display_data"
    }
   ],
   "source": [
    "import seaborn as sb \n",
    "import pandas as pd\n",
    "\n",
    "sb.scatterplot(data = df2, x='X',y='y')\n",
    "plt.savefig('rys1_4.eps')"
   ]
  },
  {
   "cell_type": "code",
   "execution_count": 103,
   "metadata": {},
   "outputs": [
    {
     "data": {
      "image/png": "[encoded data removed]",
      "text/plain": [
       "<Figure size 432x288 with 1 Axes>"
      ]
     },
     "metadata": {
      "needs_background": "light"
     },
     "output_type": "display_data"
    }
   ],
   "source": [
    "#sb.lmplot(data=df2, x='X',y='y', lowess=True)\n",
    "x_lin=np.linspace(0,3)\n",
    "y_lin=x_lin*parametry[1]+parametry[0]  \n",
    "plt.plot(x_lin, y_lin, color=\"red\") \n",
    "sb.scatterplot(data = df2, x='X',y='y')\n",
    "plt.savefig('rys1_5.eps')"
   ]
  },
  {
   "cell_type": "code",
   "execution_count": 104,
   "metadata": {},
   "outputs": [],
   "source": [
    "eta = 0.1\n",
    "l_iteracji = 1000\n",
    "m = 100\n",
    "# losowe wartosci poczatkowe\n",
    "theta = np.random.randn(2,1)"
   ]
  },
  {
   "cell_type": "code",
   "execution_count": 105,
   "metadata": {},
   "outputs": [
    {
     "data": {
      "text/plain": [
       "array([[5.23245801],\n",
       "       [1.90386963]])"
      ]
     },
     "execution_count": 105,
     "metadata": {},
     "output_type": "execute_result"
    }
   ],
   "source": [
    "for epoka in range(l_iteracji):\n",
    "    grad = 2/m * X_b.T.dot(X_b.dot(theta)-y)\n",
    "    theta = theta - eta * grad\n",
    "\n",
    "theta"
   ]
  },
  {
   "cell_type": "code",
   "execution_count": 106,
   "metadata": {},
   "outputs": [
    {
     "name": "stderr",
     "output_type": "stream",
     "text": [
      "2022-04-12 01:55:45.053448: I tensorflow/core/platform/cpu_feature_guard.cc:151] This TensorFlow binary is optimized with oneAPI Deep Neural Network Library (oneDNN) to use the following CPU instructions in performance-critical operations:  AVX2 FMA\n",
      "To enable them in other operations, rebuild TensorFlow with the appropriate compiler flags.\n"
     ]
    },
    {
     "name": "stdout",
     "output_type": "stream",
     "text": [
      "Epoch 1/500\n",
      "4/4 [==============================] - 1s 5ms/step - loss: 44.4984\n",
      "Epoch 2/500\n",
      "4/4 [==============================] - 0s 15ms/step - loss: 23.5567\n",
      "Epoch 3/500\n",
      "4/4 [==============================] - 0s 7ms/step - loss: 13.1486\n",
      "Epoch 4/500\n",
      "4/4 [==============================] - 0s 6ms/step - loss: 8.2106\n",
      "Epoch 5/500\n",
      "4/4 [==============================] - 0s 5ms/step - loss: 5.6462\n",
      "Epoch 6/500\n",
      "4/4 [==============================] - 0s 3ms/step - loss: 4.7204\n",
      "Epoch 7/500\n",
      "4/4 [==============================] - 0s 6ms/step - loss: 4.0430\n",
      "Epoch 8/500\n",
      "4/4 [==============================] - 0s 15ms/step - loss: 3.8219\n",
      "Epoch 9/500\n",
      "4/4 [==============================] - 0s 5ms/step - loss: 3.5984\n",
      "Epoch 10/500\n",
      "4/4 [==============================] - 0s 5ms/step - loss: 3.5145\n",
      "Epoch 11/500\n",
      "4/4 [==============================] - 0s 5ms/step - loss: 3.4838\n",
      "Epoch 12/500\n",
      "4/4 [==============================] - 0s 4ms/step - loss: 3.3972\n",
      "Epoch 13/500\n",
      "4/4 [==============================] - 0s 13ms/step - loss: 3.3491\n",
      "Epoch 14/500\n",
      "4/4 [==============================] - 0s 3ms/step - loss: 3.3027\n",
      "Epoch 15/500\n",
      "4/4 [==============================] - 0s 4ms/step - loss: 3.2658\n",
      "Epoch 16/500\n",
      "4/4 [==============================] - 0s 10ms/step - loss: 3.2033\n",
      "Epoch 17/500\n",
      "4/4 [==============================] - 0s 13ms/step - loss: 3.1373\n",
      "Epoch 18/500\n",
      "4/4 [==============================] - 0s 4ms/step - loss: 3.0922\n",
      "Epoch 19/500\n",
      "4/4 [==============================] - 0s 7ms/step - loss: 3.0410\n",
      "Epoch 20/500\n",
      "4/4 [==============================] - 0s 3ms/step - loss: 2.9945\n",
      "Epoch 21/500\n",
      "4/4 [==============================] - 0s 7ms/step - loss: 2.9559\n",
      "Epoch 22/500\n",
      "4/4 [==============================] - 0s 5ms/step - loss: 2.9035\n",
      "Epoch 23/500\n",
      "4/4 [==============================] - 0s 3ms/step - loss: 2.8556\n",
      "Epoch 24/500\n",
      "4/4 [==============================] - 0s 6ms/step - loss: 2.8149\n",
      "Epoch 25/500\n",
      "4/4 [==============================] - 0s 9ms/step - loss: 2.7724\n",
      "Epoch 26/500\n",
      "4/4 [==============================] - 0s 8ms/step - loss: 2.7323\n",
      "Epoch 27/500\n",
      "4/4 [==============================] - 0s 7ms/step - loss: 2.6887\n",
      "Epoch 28/500\n",
      "4/4 [==============================] - 0s 6ms/step - loss: 2.6325\n",
      "Epoch 29/500\n",
      "4/4 [==============================] - 0s 6ms/step - loss: 2.5898\n",
      "Epoch 30/500\n",
      "4/4 [==============================] - 0s 8ms/step - loss: 2.5622\n",
      "Epoch 31/500\n",
      "4/4 [==============================] - 0s 7ms/step - loss: 2.5238\n",
      "Epoch 32/500\n",
      "4/4 [==============================] - 0s 6ms/step - loss: 2.4804\n",
      "Epoch 33/500\n",
      "4/4 [==============================] - 0s 4ms/step - loss: 2.4516\n",
      "Epoch 34/500\n",
      "4/4 [==============================] - 0s 5ms/step - loss: 2.4195\n",
      "Epoch 35/500\n",
      "4/4 [==============================] - 0s 7ms/step - loss: 2.3814\n",
      "Epoch 36/500\n",
      "4/4 [==============================] - 0s 10ms/step - loss: 2.3644\n",
      "Epoch 37/500\n",
      "4/4 [==============================] - 0s 4ms/step - loss: 2.3361\n",
      "Epoch 38/500\n",
      "4/4 [==============================] - 0s 8ms/step - loss: 2.3059\n",
      "Epoch 39/500\n",
      "4/4 [==============================] - 0s 6ms/step - loss: 2.2902\n",
      "Epoch 40/500\n",
      "4/4 [==============================] - 0s 6ms/step - loss: 2.2583\n",
      "Epoch 41/500\n",
      "4/4 [==============================] - 0s 6ms/step - loss: 2.2199\n",
      "Epoch 42/500\n",
      "4/4 [==============================] - 0s 5ms/step - loss: 2.2023\n",
      "Epoch 43/500\n",
      "4/4 [==============================] - 0s 5ms/step - loss: 2.1738\n",
      "Epoch 44/500\n",
      "4/4 [==============================] - 0s 6ms/step - loss: 2.1484\n",
      "Epoch 45/500\n",
      "4/4 [==============================] - 0s 8ms/step - loss: 2.1173\n",
      "Epoch 46/500\n",
      "4/4 [==============================] - 0s 5ms/step - loss: 2.1013\n",
      "Epoch 47/500\n",
      "4/4 [==============================] - 0s 5ms/step - loss: 2.0769\n",
      "Epoch 48/500\n",
      "4/4 [==============================] - 0s 9ms/step - loss: 2.0575\n",
      "Epoch 49/500\n",
      "4/4 [==============================] - 0s 4ms/step - loss: 2.0310\n",
      "Epoch 50/500\n",
      "4/4 [==============================] - 0s 7ms/step - loss: 2.0141\n",
      "Epoch 51/500\n",
      "4/4 [==============================] - 0s 5ms/step - loss: 2.0000\n",
      "Epoch 52/500\n",
      "4/4 [==============================] - 0s 9ms/step - loss: 1.9863\n",
      "Epoch 53/500\n",
      "4/4 [==============================] - 0s 6ms/step - loss: 1.9746\n",
      "Epoch 54/500\n",
      "4/4 [==============================] - 0s 7ms/step - loss: 1.9530\n",
      "Epoch 55/500\n",
      "4/4 [==============================] - 0s 3ms/step - loss: 1.9348\n",
      "Epoch 56/500\n",
      "4/4 [==============================] - 0s 4ms/step - loss: 1.9233\n",
      "Epoch 57/500\n",
      "4/4 [==============================] - 0s 4ms/step - loss: 1.9177\n",
      "Epoch 58/500\n",
      "4/4 [==============================] - 0s 7ms/step - loss: 1.8917\n",
      "Epoch 59/500\n",
      "4/4 [==============================] - 0s 6ms/step - loss: 1.8739\n",
      "Epoch 60/500\n",
      "4/4 [==============================] - 0s 5ms/step - loss: 1.8479\n",
      "Epoch 61/500\n",
      "4/4 [==============================] - 0s 4ms/step - loss: 1.8338\n",
      "Epoch 62/500\n",
      "4/4 [==============================] - 0s 6ms/step - loss: 1.8287\n",
      "Epoch 63/500\n",
      "4/4 [==============================] - 0s 7ms/step - loss: 1.8165\n",
      "Epoch 64/500\n",
      "4/4 [==============================] - 0s 7ms/step - loss: 1.8009\n",
      "Epoch 65/500\n",
      "4/4 [==============================] - 0s 3ms/step - loss: 1.7812\n",
      "Epoch 66/500\n",
      "4/4 [==============================] - 0s 4ms/step - loss: 1.7781\n",
      "Epoch 67/500\n",
      "4/4 [==============================] - 0s 8ms/step - loss: 1.7516\n",
      "Epoch 68/500\n",
      "4/4 [==============================] - 0s 6ms/step - loss: 1.7446\n",
      "Epoch 69/500\n",
      "4/4 [==============================] - 0s 5ms/step - loss: 1.7266\n",
      "Epoch 70/500\n",
      "4/4 [==============================] - 0s 5ms/step - loss: 1.7137\n",
      "Epoch 71/500\n",
      "4/4 [==============================] - 0s 5ms/step - loss: 1.7083\n",
      "Epoch 72/500\n",
      "4/4 [==============================] - 0s 4ms/step - loss: 1.6891\n",
      "Epoch 73/500\n",
      "4/4 [==============================] - 0s 5ms/step - loss: 1.6768\n",
      "Epoch 74/500\n",
      "4/4 [==============================] - 0s 8ms/step - loss: 1.6673\n",
      "Epoch 75/500\n",
      "4/4 [==============================] - 0s 8ms/step - loss: 1.6541\n",
      "Epoch 76/500\n",
      "4/4 [==============================] - 0s 3ms/step - loss: 1.6481\n",
      "Epoch 77/500\n",
      "4/4 [==============================] - 0s 14ms/step - loss: 1.6410\n",
      "Epoch 78/500\n",
      "4/4 [==============================] - 0s 6ms/step - loss: 1.6294\n",
      "Epoch 79/500\n",
      "4/4 [==============================] - 0s 5ms/step - loss: 1.6213\n",
      "Epoch 80/500\n",
      "4/4 [==============================] - 0s 5ms/step - loss: 1.6120\n",
      "Epoch 81/500\n",
      "4/4 [==============================] - 0s 4ms/step - loss: 1.6048\n",
      "Epoch 82/500\n",
      "4/4 [==============================] - 0s 5ms/step - loss: 1.5951\n",
      "Epoch 83/500\n",
      "4/4 [==============================] - 0s 9ms/step - loss: 1.5869\n",
      "Epoch 84/500\n",
      "4/4 [==============================] - 0s 41ms/step - loss: 1.5842\n",
      "Epoch 85/500\n",
      "4/4 [==============================] - 0s 7ms/step - loss: 1.5806\n",
      "Epoch 86/500\n",
      "4/4 [==============================] - 0s 6ms/step - loss: 1.5722\n",
      "Epoch 87/500\n",
      "4/4 [==============================] - 0s 6ms/step - loss: 1.5650\n",
      "Epoch 88/500\n",
      "4/4 [==============================] - 0s 5ms/step - loss: 1.5561\n",
      "Epoch 89/500\n",
      "4/4 [==============================] - 0s 6ms/step - loss: 1.5470\n",
      "Epoch 90/500\n",
      "4/4 [==============================] - 0s 6ms/step - loss: 1.5407\n",
      "Epoch 91/500\n",
      "4/4 [==============================] - 0s 5ms/step - loss: 1.5365\n",
      "Epoch 92/500\n",
      "4/4 [==============================] - 0s 9ms/step - loss: 1.5273\n",
      "Epoch 93/500\n",
      "4/4 [==============================] - 0s 6ms/step - loss: 1.5175\n",
      "Epoch 94/500\n",
      "4/4 [==============================] - 0s 4ms/step - loss: 1.5132\n",
      "Epoch 95/500\n",
      "4/4 [==============================] - 0s 4ms/step - loss: 1.5062\n",
      "Epoch 96/500\n",
      "4/4 [==============================] - 0s 7ms/step - loss: 1.5000\n",
      "Epoch 97/500\n",
      "4/4 [==============================] - 0s 7ms/step - loss: 1.4958\n",
      "Epoch 98/500\n",
      "4/4 [==============================] - 0s 2ms/step - loss: 1.4940\n",
      "Epoch 99/500\n",
      "4/4 [==============================] - 0s 10ms/step - loss: 1.4850\n",
      "Epoch 100/500\n",
      "4/4 [==============================] - 0s 4ms/step - loss: 1.4796\n",
      "Epoch 101/500\n",
      "4/4 [==============================] - 0s 18ms/step - loss: 1.4769\n",
      "Epoch 102/500\n",
      "4/4 [==============================] - 0s 6ms/step - loss: 1.4685\n",
      "Epoch 103/500\n",
      "4/4 [==============================] - 0s 8ms/step - loss: 1.4627\n",
      "Epoch 104/500\n",
      "4/4 [==============================] - 0s 8ms/step - loss: 1.4555\n",
      "Epoch 105/500\n",
      "4/4 [==============================] - 0s 5ms/step - loss: 1.4504\n",
      "Epoch 106/500\n",
      "4/4 [==============================] - 0s 7ms/step - loss: 1.4447\n",
      "Epoch 107/500\n",
      "4/4 [==============================] - 0s 5ms/step - loss: 1.4398\n",
      "Epoch 108/500\n",
      "4/4 [==============================] - 0s 9ms/step - loss: 1.4337\n",
      "Epoch 109/500\n",
      "4/4 [==============================] - 0s 4ms/step - loss: 1.4263\n",
      "Epoch 110/500\n",
      "4/4 [==============================] - 0s 7ms/step - loss: 1.4307\n",
      "Epoch 111/500\n",
      "4/4 [==============================] - 0s 4ms/step - loss: 1.4199\n",
      "Epoch 112/500\n",
      "4/4 [==============================] - 0s 4ms/step - loss: 1.4165\n",
      "Epoch 113/500\n",
      "4/4 [==============================] - 0s 3ms/step - loss: 1.4145\n",
      "Epoch 114/500\n",
      "4/4 [==============================] - 0s 5ms/step - loss: 1.4105\n",
      "Epoch 115/500\n",
      "4/4 [==============================] - 0s 3ms/step - loss: 1.4080\n",
      "Epoch 116/500\n",
      "4/4 [==============================] - 0s 9ms/step - loss: 1.4054\n",
      "Epoch 117/500\n",
      "4/4 [==============================] - 0s 8ms/step - loss: 1.4069\n",
      "Epoch 118/500\n",
      "4/4 [==============================] - 0s 6ms/step - loss: 1.4059\n",
      "Epoch 119/500\n",
      "4/4 [==============================] - 0s 3ms/step - loss: 1.3944\n",
      "Epoch 120/500\n",
      "4/4 [==============================] - 0s 3ms/step - loss: 1.3929\n",
      "Epoch 121/500\n",
      "4/4 [==============================] - 0s 7ms/step - loss: 1.3827\n",
      "Epoch 122/500\n",
      "4/4 [==============================] - 0s 8ms/step - loss: 1.3841\n",
      "Epoch 123/500\n",
      "4/4 [==============================] - 0s 8ms/step - loss: 1.3826\n",
      "Epoch 124/500\n",
      "4/4 [==============================] - 0s 9ms/step - loss: 1.3797\n",
      "Epoch 125/500\n",
      "4/4 [==============================] - 0s 6ms/step - loss: 1.3752\n",
      "Epoch 126/500\n",
      "4/4 [==============================] - 0s 7ms/step - loss: 1.3718\n",
      "Epoch 127/500\n",
      "4/4 [==============================] - 0s 7ms/step - loss: 1.3698\n",
      "Epoch 128/500\n",
      "4/4 [==============================] - 0s 5ms/step - loss: 1.3647\n",
      "Epoch 129/500\n",
      "4/4 [==============================] - 0s 5ms/step - loss: 1.3694\n",
      "Epoch 130/500\n",
      "4/4 [==============================] - 0s 9ms/step - loss: 1.3589\n",
      "Epoch 131/500\n",
      "4/4 [==============================] - 0s 7ms/step - loss: 1.3604\n",
      "Epoch 132/500\n",
      "4/4 [==============================] - 0s 6ms/step - loss: 1.3512\n",
      "Epoch 133/500\n",
      "4/4 [==============================] - 0s 8ms/step - loss: 1.3510\n",
      "Epoch 134/500\n",
      "4/4 [==============================] - 0s 6ms/step - loss: 1.3455\n",
      "Epoch 135/500\n",
      "4/4 [==============================] - 0s 6ms/step - loss: 1.3462\n",
      "Epoch 136/500\n",
      "4/4 [==============================] - 0s 4ms/step - loss: 1.3545\n",
      "Epoch 137/500\n",
      "4/4 [==============================] - 0s 4ms/step - loss: 1.3381\n",
      "Epoch 138/500\n",
      "4/4 [==============================] - 0s 4ms/step - loss: 1.3407\n",
      "Epoch 139/500\n",
      "4/4 [==============================] - 0s 4ms/step - loss: 1.3366\n",
      "Epoch 140/500\n",
      "4/4 [==============================] - 0s 4ms/step - loss: 1.3328\n",
      "Epoch 141/500\n",
      "4/4 [==============================] - 0s 5ms/step - loss: 1.3320\n",
      "Epoch 142/500\n",
      "4/4 [==============================] - 0s 5ms/step - loss: 1.3293\n",
      "Epoch 143/500\n",
      "4/4 [==============================] - 0s 5ms/step - loss: 1.3308\n",
      "Epoch 144/500\n",
      "4/4 [==============================] - 0s 5ms/step - loss: 1.3264\n",
      "Epoch 145/500\n",
      "4/4 [==============================] - 0s 4ms/step - loss: 1.3256\n",
      "Epoch 146/500\n",
      "4/4 [==============================] - 0s 4ms/step - loss: 1.3291\n",
      "Epoch 147/500\n",
      "4/4 [==============================] - 0s 4ms/step - loss: 1.3424\n",
      "Epoch 148/500\n",
      "4/4 [==============================] - 0s 7ms/step - loss: 1.3281\n",
      "Epoch 149/500\n",
      "4/4 [==============================] - 0s 6ms/step - loss: 1.3221\n",
      "Epoch 150/500\n",
      "4/4 [==============================] - 0s 6ms/step - loss: 1.3195\n",
      "Epoch 151/500\n",
      "4/4 [==============================] - 0s 6ms/step - loss: 1.3265\n",
      "Epoch 152/500\n",
      "4/4 [==============================] - 0s 5ms/step - loss: 1.3219\n",
      "Epoch 153/500\n",
      "4/4 [==============================] - 0s 7ms/step - loss: 1.3195\n",
      "Epoch 154/500\n",
      "4/4 [==============================] - 0s 7ms/step - loss: 1.3170\n",
      "Epoch 155/500\n",
      "4/4 [==============================] - 0s 7ms/step - loss: 1.3086\n",
      "Epoch 156/500\n",
      "4/4 [==============================] - 0s 5ms/step - loss: 1.3102\n",
      "Epoch 157/500\n",
      "4/4 [==============================] - 0s 8ms/step - loss: 1.3199\n",
      "Epoch 158/500\n",
      "4/4 [==============================] - 0s 7ms/step - loss: 1.3126\n",
      "Epoch 159/500\n",
      "4/4 [==============================] - 0s 4ms/step - loss: 1.3083\n",
      "Epoch 160/500\n",
      "4/4 [==============================] - 0s 7ms/step - loss: 1.3071\n",
      "Epoch 161/500\n",
      "4/4 [==============================] - 0s 4ms/step - loss: 1.3025\n",
      "Epoch 162/500\n",
      "4/4 [==============================] - 0s 6ms/step - loss: 1.2987\n",
      "Epoch 163/500\n",
      "4/4 [==============================] - 0s 4ms/step - loss: 1.2970\n",
      "Epoch 164/500\n",
      "4/4 [==============================] - 0s 5ms/step - loss: 1.2944\n",
      "Epoch 165/500\n",
      "4/4 [==============================] - 0s 6ms/step - loss: 1.2948\n",
      "Epoch 166/500\n",
      "4/4 [==============================] - 0s 6ms/step - loss: 1.2933\n",
      "Epoch 167/500\n",
      "4/4 [==============================] - 0s 5ms/step - loss: 1.2905\n",
      "Epoch 168/500\n",
      "4/4 [==============================] - 0s 14ms/step - loss: 1.2889\n",
      "Epoch 169/500\n",
      "4/4 [==============================] - 0s 10ms/step - loss: 1.2871\n",
      "Epoch 170/500\n",
      "4/4 [==============================] - 0s 6ms/step - loss: 1.2882\n",
      "Epoch 171/500\n",
      "4/4 [==============================] - 0s 4ms/step - loss: 1.2865\n",
      "Epoch 172/500\n",
      "4/4 [==============================] - 0s 6ms/step - loss: 1.2894\n",
      "Epoch 173/500\n",
      "4/4 [==============================] - 0s 7ms/step - loss: 1.2863\n",
      "Epoch 174/500\n",
      "4/4 [==============================] - 0s 5ms/step - loss: 1.2876\n",
      "Epoch 175/500\n",
      "4/4 [==============================] - 0s 4ms/step - loss: 1.2835\n",
      "Epoch 176/500\n",
      "4/4 [==============================] - 0s 4ms/step - loss: 1.2852\n",
      "Epoch 177/500\n",
      "4/4 [==============================] - 0s 7ms/step - loss: 1.2833\n",
      "Epoch 178/500\n",
      "4/4 [==============================] - 0s 5ms/step - loss: 1.2862\n",
      "Epoch 179/500\n",
      "4/4 [==============================] - 0s 5ms/step - loss: 1.2867\n",
      "Epoch 180/500\n",
      "4/4 [==============================] - 0s 4ms/step - loss: 1.2813\n",
      "Epoch 181/500\n",
      "4/4 [==============================] - 0s 4ms/step - loss: 1.2834\n",
      "Epoch 182/500\n",
      "4/4 [==============================] - 0s 4ms/step - loss: 1.2834\n",
      "Epoch 183/500\n",
      "4/4 [==============================] - 0s 7ms/step - loss: 1.2833\n",
      "Epoch 184/500\n",
      "4/4 [==============================] - 0s 5ms/step - loss: 1.2880\n",
      "Epoch 185/500\n",
      "4/4 [==============================] - 0s 6ms/step - loss: 1.2938\n",
      "Epoch 186/500\n",
      "4/4 [==============================] - 0s 6ms/step - loss: 1.2849\n",
      "Epoch 187/500\n",
      "4/4 [==============================] - 0s 6ms/step - loss: 1.2904\n",
      "Epoch 188/500\n",
      "4/4 [==============================] - 0s 4ms/step - loss: 1.2873\n",
      "Epoch 189/500\n",
      "4/4 [==============================] - 0s 8ms/step - loss: 1.2880\n",
      "Epoch 190/500\n",
      "4/4 [==============================] - 0s 6ms/step - loss: 1.2813\n",
      "Epoch 191/500\n",
      "4/4 [==============================] - 0s 9ms/step - loss: 1.2777\n",
      "Epoch 192/500\n",
      "4/4 [==============================] - 0s 5ms/step - loss: 1.2777\n",
      "Epoch 193/500\n",
      "4/4 [==============================] - 0s 4ms/step - loss: 1.2785\n",
      "Epoch 194/500\n",
      "4/4 [==============================] - 0s 4ms/step - loss: 1.2866\n",
      "Epoch 195/500\n",
      "4/4 [==============================] - 0s 3ms/step - loss: 1.2824\n",
      "Epoch 196/500\n",
      "4/4 [==============================] - 0s 5ms/step - loss: 1.2802\n",
      "Epoch 197/500\n",
      "4/4 [==============================] - 0s 5ms/step - loss: 1.2800\n",
      "Epoch 198/500\n",
      "4/4 [==============================] - 0s 7ms/step - loss: 1.2863\n",
      "Epoch 199/500\n",
      "4/4 [==============================] - 0s 5ms/step - loss: 1.2844\n",
      "Epoch 200/500\n",
      "4/4 [==============================] - 0s 5ms/step - loss: 1.2784\n",
      "Epoch 201/500\n",
      "4/4 [==============================] - 0s 4ms/step - loss: 1.2747\n",
      "Epoch 202/500\n",
      "4/4 [==============================] - 0s 8ms/step - loss: 1.2753\n",
      "Epoch 203/500\n",
      "4/4 [==============================] - 0s 7ms/step - loss: 1.2820\n",
      "Epoch 204/500\n",
      "4/4 [==============================] - 0s 4ms/step - loss: 1.2734\n",
      "Epoch 205/500\n",
      "4/4 [==============================] - 0s 4ms/step - loss: 1.2777\n",
      "Epoch 206/500\n",
      "4/4 [==============================] - 0s 10ms/step - loss: 1.2729\n",
      "Epoch 207/500\n",
      "4/4 [==============================] - 0s 5ms/step - loss: 1.2750\n",
      "Epoch 208/500\n",
      "4/4 [==============================] - 0s 8ms/step - loss: 1.2725\n",
      "Epoch 209/500\n",
      "4/4 [==============================] - 0s 6ms/step - loss: 1.2738\n",
      "Epoch 210/500\n",
      "4/4 [==============================] - 0s 8ms/step - loss: 1.2856\n",
      "Epoch 211/500\n",
      "4/4 [==============================] - 0s 6ms/step - loss: 1.2864\n",
      "Epoch 212/500\n",
      "4/4 [==============================] - 0s 5ms/step - loss: 1.2749\n",
      "Epoch 213/500\n",
      "4/4 [==============================] - 0s 5ms/step - loss: 1.2725\n",
      "Epoch 214/500\n",
      "4/4 [==============================] - 0s 5ms/step - loss: 1.2746\n",
      "Epoch 215/500\n",
      "4/4 [==============================] - 0s 3ms/step - loss: 1.2717\n",
      "Epoch 216/500\n",
      "4/4 [==============================] - 0s 4ms/step - loss: 1.2728\n",
      "Epoch 217/500\n",
      "4/4 [==============================] - 0s 6ms/step - loss: 1.2780\n",
      "Epoch 218/500\n",
      "4/4 [==============================] - 0s 10ms/step - loss: 1.2851\n",
      "Epoch 219/500\n",
      "4/4 [==============================] - 0s 5ms/step - loss: 1.2803\n",
      "Epoch 220/500\n",
      "4/4 [==============================] - 0s 9ms/step - loss: 1.2730\n",
      "Epoch 221/500\n",
      "4/4 [==============================] - 0s 10ms/step - loss: 1.2697\n",
      "Epoch 222/500\n",
      "4/4 [==============================] - 0s 12ms/step - loss: 1.2718\n",
      "Epoch 223/500\n",
      "4/4 [==============================] - 0s 4ms/step - loss: 1.2769\n",
      "Epoch 224/500\n",
      "4/4 [==============================] - 0s 5ms/step - loss: 1.2744\n",
      "Epoch 225/500\n",
      "4/4 [==============================] - 0s 13ms/step - loss: 1.2690\n",
      "Epoch 226/500\n",
      "4/4 [==============================] - 0s 3ms/step - loss: 1.2735\n",
      "Epoch 227/500\n",
      "4/4 [==============================] - 0s 8ms/step - loss: 1.2765\n",
      "Epoch 228/500\n",
      "4/4 [==============================] - 0s 4ms/step - loss: 1.2810\n",
      "Epoch 229/500\n",
      "4/4 [==============================] - 0s 27ms/step - loss: 1.2718\n",
      "Epoch 230/500\n",
      "4/4 [==============================] - 0s 6ms/step - loss: 1.2677\n",
      "Epoch 231/500\n",
      "4/4 [==============================] - 0s 9ms/step - loss: 1.2674\n",
      "Epoch 232/500\n",
      "4/4 [==============================] - 0s 5ms/step - loss: 1.2662\n",
      "Epoch 233/500\n",
      "4/4 [==============================] - 0s 8ms/step - loss: 1.2708\n",
      "Epoch 234/500\n",
      "4/4 [==============================] - 0s 5ms/step - loss: 1.2670\n",
      "Epoch 235/500\n",
      "4/4 [==============================] - 0s 7ms/step - loss: 1.2690\n",
      "Epoch 236/500\n",
      "4/4 [==============================] - 0s 5ms/step - loss: 1.2753\n",
      "Epoch 237/500\n",
      "4/4 [==============================] - 0s 6ms/step - loss: 1.2752\n",
      "Epoch 238/500\n",
      "4/4 [==============================] - 0s 7ms/step - loss: 1.2796\n",
      "Epoch 239/500\n",
      "4/4 [==============================] - 0s 6ms/step - loss: 1.2815\n",
      "Epoch 240/500\n",
      "4/4 [==============================] - 0s 5ms/step - loss: 1.2792\n",
      "Epoch 241/500\n",
      "4/4 [==============================] - 0s 5ms/step - loss: 1.2736\n",
      "Epoch 242/500\n",
      "4/4 [==============================] - 0s 4ms/step - loss: 1.2725\n",
      "Epoch 243/500\n",
      "4/4 [==============================] - 0s 7ms/step - loss: 1.2736\n",
      "Epoch 244/500\n",
      "4/4 [==============================] - 0s 6ms/step - loss: 1.2676\n",
      "Epoch 245/500\n",
      "4/4 [==============================] - 0s 5ms/step - loss: 1.2665\n",
      "Epoch 246/500\n",
      "4/4 [==============================] - 0s 10ms/step - loss: 1.2681\n",
      "Epoch 247/500\n",
      "4/4 [==============================] - 0s 5ms/step - loss: 1.2636\n",
      "Epoch 248/500\n",
      "4/4 [==============================] - 0s 5ms/step - loss: 1.2655\n",
      "Epoch 249/500\n",
      "4/4 [==============================] - 0s 9ms/step - loss: 1.2731\n",
      "Epoch 250/500\n",
      "4/4 [==============================] - 0s 3ms/step - loss: 1.2643\n",
      "Epoch 251/500\n",
      "4/4 [==============================] - 0s 4ms/step - loss: 1.2635\n",
      "Epoch 252/500\n",
      "4/4 [==============================] - 0s 4ms/step - loss: 1.2644\n",
      "Epoch 253/500\n",
      "4/4 [==============================] - 0s 8ms/step - loss: 1.2654\n",
      "Epoch 254/500\n",
      "4/4 [==============================] - 0s 3ms/step - loss: 1.2657\n",
      "Epoch 255/500\n",
      "4/4 [==============================] - 0s 3ms/step - loss: 1.2633\n",
      "Epoch 256/500\n",
      "4/4 [==============================] - 0s 4ms/step - loss: 1.2666\n",
      "Epoch 257/500\n",
      "4/4 [==============================] - 0s 3ms/step - loss: 1.2655\n",
      "Epoch 258/500\n",
      "4/4 [==============================] - 0s 3ms/step - loss: 1.2675\n",
      "Epoch 259/500\n",
      "4/4 [==============================] - 0s 4ms/step - loss: 1.2627\n",
      "Epoch 260/500\n",
      "4/4 [==============================] - 0s 5ms/step - loss: 1.2666\n",
      "Epoch 261/500\n",
      "4/4 [==============================] - 0s 4ms/step - loss: 1.2704\n",
      "Epoch 262/500\n",
      "4/4 [==============================] - 0s 14ms/step - loss: 1.2654\n",
      "Epoch 263/500\n",
      "4/4 [==============================] - 0s 7ms/step - loss: 1.2693\n",
      "Epoch 264/500\n",
      "4/4 [==============================] - 0s 35ms/step - loss: 1.2635\n",
      "Epoch 265/500\n",
      "4/4 [==============================] - 0s 6ms/step - loss: 1.2629\n",
      "Epoch 266/500\n",
      "4/4 [==============================] - 0s 7ms/step - loss: 1.2652\n",
      "Epoch 267/500\n",
      "4/4 [==============================] - 0s 8ms/step - loss: 1.2657\n",
      "Epoch 268/500\n",
      "4/4 [==============================] - 0s 4ms/step - loss: 1.2633\n",
      "Epoch 269/500\n",
      "4/4 [==============================] - 0s 4ms/step - loss: 1.2640\n",
      "Epoch 270/500\n",
      "4/4 [==============================] - 0s 5ms/step - loss: 1.2641\n",
      "Epoch 271/500\n",
      "4/4 [==============================] - 0s 5ms/step - loss: 1.2683\n",
      "Epoch 272/500\n",
      "4/4 [==============================] - 0s 42ms/step - loss: 1.2698\n",
      "Epoch 273/500\n",
      "4/4 [==============================] - 0s 8ms/step - loss: 1.2635\n",
      "Epoch 274/500\n",
      "4/4 [==============================] - 0s 8ms/step - loss: 1.2630\n",
      "Epoch 275/500\n",
      "4/4 [==============================] - 0s 7ms/step - loss: 1.2692\n",
      "Epoch 276/500\n",
      "4/4 [==============================] - 0s 5ms/step - loss: 1.2642\n",
      "Epoch 277/500\n",
      "4/4 [==============================] - 0s 4ms/step - loss: 1.2660\n",
      "Epoch 278/500\n",
      "4/4 [==============================] - 0s 3ms/step - loss: 1.2620\n",
      "Epoch 279/500\n",
      "4/4 [==============================] - 0s 4ms/step - loss: 1.2633\n",
      "Epoch 280/500\n",
      "4/4 [==============================] - 0s 4ms/step - loss: 1.2606\n",
      "Epoch 281/500\n",
      "4/4 [==============================] - 0s 5ms/step - loss: 1.2614\n",
      "Epoch 282/500\n",
      "4/4 [==============================] - 0s 4ms/step - loss: 1.2624\n",
      "Epoch 283/500\n",
      "4/4 [==============================] - 0s 4ms/step - loss: 1.2624\n",
      "Epoch 284/500\n",
      "4/4 [==============================] - 0s 3ms/step - loss: 1.2621\n",
      "Epoch 285/500\n",
      "4/4 [==============================] - 0s 5ms/step - loss: 1.2636\n",
      "Epoch 286/500\n",
      "4/4 [==============================] - 0s 8ms/step - loss: 1.2676\n",
      "Epoch 287/500\n",
      "4/4 [==============================] - 0s 5ms/step - loss: 1.2674\n",
      "Epoch 288/500\n",
      "4/4 [==============================] - 0s 4ms/step - loss: 1.2617\n",
      "Epoch 289/500\n",
      "4/4 [==============================] - 0s 3ms/step - loss: 1.2656\n",
      "Epoch 290/500\n",
      "4/4 [==============================] - 0s 4ms/step - loss: 1.2679\n",
      "Epoch 291/500\n",
      "4/4 [==============================] - 0s 3ms/step - loss: 1.2690\n",
      "Epoch 292/500\n",
      "4/4 [==============================] - 0s 4ms/step - loss: 1.2608\n",
      "Epoch 293/500\n",
      "4/4 [==============================] - 0s 4ms/step - loss: 1.2647\n",
      "Epoch 294/500\n",
      "4/4 [==============================] - 0s 10ms/step - loss: 1.2658\n",
      "Epoch 295/500\n",
      "4/4 [==============================] - 0s 3ms/step - loss: 1.2618\n",
      "Epoch 296/500\n",
      "4/4 [==============================] - 0s 3ms/step - loss: 1.2622\n",
      "Epoch 297/500\n",
      "4/4 [==============================] - 0s 3ms/step - loss: 1.2673\n",
      "Epoch 298/500\n",
      "4/4 [==============================] - 0s 4ms/step - loss: 1.2707\n",
      "Epoch 299/500\n",
      "4/4 [==============================] - 0s 4ms/step - loss: 1.2657\n",
      "Epoch 300/500\n",
      "4/4 [==============================] - 0s 6ms/step - loss: 1.2751\n",
      "Epoch 301/500\n",
      "4/4 [==============================] - 0s 4ms/step - loss: 1.2635\n",
      "Epoch 302/500\n",
      "4/4 [==============================] - 0s 6ms/step - loss: 1.2644\n",
      "Epoch 303/500\n",
      "4/4 [==============================] - 0s 4ms/step - loss: 1.2630\n",
      "Epoch 304/500\n",
      "4/4 [==============================] - 0s 4ms/step - loss: 1.2615\n",
      "Epoch 305/500\n",
      "4/4 [==============================] - 0s 23ms/step - loss: 1.2639\n",
      "Epoch 306/500\n",
      "4/4 [==============================] - 0s 5ms/step - loss: 1.2609\n",
      "Epoch 307/500\n",
      "4/4 [==============================] - 0s 3ms/step - loss: 1.2654\n",
      "Epoch 308/500\n",
      "4/4 [==============================] - 0s 4ms/step - loss: 1.2636\n",
      "Epoch 309/500\n",
      "4/4 [==============================] - 0s 4ms/step - loss: 1.2634\n",
      "Epoch 310/500\n",
      "4/4 [==============================] - 0s 3ms/step - loss: 1.2616\n",
      "Epoch 311/500\n",
      "4/4 [==============================] - 0s 5ms/step - loss: 1.2601\n",
      "Epoch 312/500\n",
      "4/4 [==============================] - 0s 6ms/step - loss: 1.2627\n",
      "Epoch 313/500\n",
      "4/4 [==============================] - 0s 6ms/step - loss: 1.2613\n",
      "Epoch 314/500\n",
      "4/4 [==============================] - 0s 5ms/step - loss: 1.2658\n",
      "Epoch 315/500\n",
      "4/4 [==============================] - 0s 4ms/step - loss: 1.2678\n",
      "Epoch 316/500\n",
      "4/4 [==============================] - 0s 5ms/step - loss: 1.2657\n",
      "Epoch 317/500\n",
      "4/4 [==============================] - 0s 6ms/step - loss: 1.2622\n",
      "Epoch 318/500\n",
      "4/4 [==============================] - 0s 5ms/step - loss: 1.2630\n",
      "Epoch 319/500\n",
      "4/4 [==============================] - 0s 2ms/step - loss: 1.2606\n",
      "Epoch 320/500\n",
      "4/4 [==============================] - 0s 5ms/step - loss: 1.2684\n",
      "Epoch 321/500\n",
      "4/4 [==============================] - 0s 4ms/step - loss: 1.2606\n",
      "Epoch 322/500\n",
      "4/4 [==============================] - 0s 3ms/step - loss: 1.2615\n",
      "Epoch 323/500\n",
      "4/4 [==============================] - 0s 3ms/step - loss: 1.2701\n",
      "Epoch 324/500\n",
      "4/4 [==============================] - 0s 4ms/step - loss: 1.2616\n",
      "Epoch 325/500\n",
      "4/4 [==============================] - 0s 5ms/step - loss: 1.2619\n",
      "Epoch 326/500\n",
      "4/4 [==============================] - 0s 6ms/step - loss: 1.2645\n",
      "Epoch 327/500\n",
      "4/4 [==============================] - 0s 4ms/step - loss: 1.2620\n",
      "Epoch 328/500\n",
      "4/4 [==============================] - 0s 6ms/step - loss: 1.2633\n",
      "Epoch 329/500\n",
      "4/4 [==============================] - 0s 5ms/step - loss: 1.2601\n",
      "Epoch 330/500\n",
      "4/4 [==============================] - 0s 6ms/step - loss: 1.2602\n",
      "Epoch 331/500\n",
      "4/4 [==============================] - 0s 3ms/step - loss: 1.2612\n",
      "Epoch 332/500\n",
      "4/4 [==============================] - 0s 6ms/step - loss: 1.2633\n",
      "Epoch 333/500\n",
      "4/4 [==============================] - 0s 4ms/step - loss: 1.2598\n",
      "Epoch 334/500\n",
      "4/4 [==============================] - 0s 5ms/step - loss: 1.2665\n",
      "Epoch 335/500\n",
      "4/4 [==============================] - 0s 5ms/step - loss: 1.2680\n",
      "Epoch 336/500\n",
      "4/4 [==============================] - 0s 4ms/step - loss: 1.2645\n",
      "Epoch 337/500\n",
      "4/4 [==============================] - 0s 4ms/step - loss: 1.2642\n",
      "Epoch 338/500\n",
      "4/4 [==============================] - 0s 4ms/step - loss: 1.2606\n",
      "Epoch 339/500\n",
      "4/4 [==============================] - 0s 4ms/step - loss: 1.2637\n",
      "Epoch 340/500\n",
      "4/4 [==============================] - 0s 3ms/step - loss: 1.2607\n",
      "Epoch 341/500\n",
      "4/4 [==============================] - 0s 4ms/step - loss: 1.2639\n",
      "Epoch 342/500\n",
      "4/4 [==============================] - 0s 6ms/step - loss: 1.2618\n",
      "Epoch 343/500\n",
      "4/4 [==============================] - 0s 3ms/step - loss: 1.2598\n",
      "Epoch 344/500\n",
      "4/4 [==============================] - 0s 5ms/step - loss: 1.2665\n",
      "Epoch 345/500\n",
      "4/4 [==============================] - 0s 4ms/step - loss: 1.2620\n",
      "Epoch 346/500\n",
      "4/4 [==============================] - 0s 3ms/step - loss: 1.2638\n",
      "Epoch 347/500\n",
      "4/4 [==============================] - 0s 4ms/step - loss: 1.2615\n",
      "Epoch 348/500\n",
      "4/4 [==============================] - 0s 6ms/step - loss: 1.2611\n",
      "Epoch 349/500\n",
      "4/4 [==============================] - 0s 3ms/step - loss: 1.2627\n",
      "Epoch 350/500\n",
      "4/4 [==============================] - 0s 5ms/step - loss: 1.2612\n",
      "Epoch 351/500\n",
      "4/4 [==============================] - 0s 4ms/step - loss: 1.2617\n",
      "Epoch 352/500\n",
      "4/4 [==============================] - 0s 6ms/step - loss: 1.2643\n",
      "Epoch 353/500\n",
      "4/4 [==============================] - 0s 5ms/step - loss: 1.2683\n",
      "Epoch 354/500\n",
      "4/4 [==============================] - 0s 9ms/step - loss: 1.2679\n",
      "Epoch 355/500\n",
      "4/4 [==============================] - 0s 5ms/step - loss: 1.2688\n",
      "Epoch 356/500\n",
      "4/4 [==============================] - 0s 7ms/step - loss: 1.2631\n",
      "Epoch 357/500\n",
      "4/4 [==============================] - 0s 6ms/step - loss: 1.2748\n",
      "Epoch 358/500\n",
      "4/4 [==============================] - 0s 6ms/step - loss: 1.2674\n",
      "Epoch 359/500\n",
      "4/4 [==============================] - 0s 54ms/step - loss: 1.2618\n",
      "Epoch 360/500\n",
      "4/4 [==============================] - 0s 8ms/step - loss: 1.2620\n",
      "Epoch 361/500\n",
      "4/4 [==============================] - 0s 4ms/step - loss: 1.2632\n",
      "Epoch 362/500\n",
      "4/4 [==============================] - 0s 5ms/step - loss: 1.2669\n",
      "Epoch 363/500\n",
      "4/4 [==============================] - 0s 10ms/step - loss: 1.2601\n",
      "Epoch 364/500\n",
      "4/4 [==============================] - 0s 3ms/step - loss: 1.2599\n",
      "Epoch 365/500\n",
      "4/4 [==============================] - 0s 3ms/step - loss: 1.2622\n",
      "Epoch 366/500\n",
      "4/4 [==============================] - 0s 3ms/step - loss: 1.2705\n",
      "Epoch 367/500\n",
      "4/4 [==============================] - 0s 3ms/step - loss: 1.2606\n",
      "Epoch 368/500\n",
      "4/4 [==============================] - 0s 3ms/step - loss: 1.2670\n",
      "Epoch 369/500\n",
      "4/4 [==============================] - 0s 4ms/step - loss: 1.2697\n",
      "Epoch 370/500\n",
      "4/4 [==============================] - 0s 4ms/step - loss: 1.2843\n",
      "Epoch 371/500\n",
      "4/4 [==============================] - 0s 11ms/step - loss: 1.2775\n",
      "Epoch 372/500\n",
      "4/4 [==============================] - 0s 6ms/step - loss: 1.2703\n",
      "Epoch 373/500\n",
      "4/4 [==============================] - 0s 10ms/step - loss: 1.2662\n",
      "Epoch 374/500\n",
      "4/4 [==============================] - 0s 10ms/step - loss: 1.2663\n",
      "Epoch 375/500\n",
      "4/4 [==============================] - 0s 3ms/step - loss: 1.2626\n",
      "Epoch 376/500\n",
      "4/4 [==============================] - 0s 3ms/step - loss: 1.2632\n",
      "Epoch 377/500\n",
      "4/4 [==============================] - 0s 3ms/step - loss: 1.2692\n",
      "Epoch 378/500\n",
      "4/4 [==============================] - 0s 4ms/step - loss: 1.2636\n",
      "Epoch 379/500\n",
      "4/4 [==============================] - 0s 3ms/step - loss: 1.2623\n",
      "Epoch 380/500\n",
      "4/4 [==============================] - 0s 6ms/step - loss: 1.2604\n",
      "Epoch 381/500\n",
      "4/4 [==============================] - 0s 27ms/step - loss: 1.2624\n",
      "Epoch 382/500\n",
      "4/4 [==============================] - 0s 4ms/step - loss: 1.2655\n",
      "Epoch 383/500\n",
      "4/4 [==============================] - 0s 4ms/step - loss: 1.2672\n",
      "Epoch 384/500\n",
      "4/4 [==============================] - 0s 4ms/step - loss: 1.2688\n",
      "Epoch 385/500\n",
      "4/4 [==============================] - 0s 3ms/step - loss: 1.2644\n",
      "Epoch 386/500\n",
      "4/4 [==============================] - 0s 3ms/step - loss: 1.2659\n",
      "Epoch 387/500\n",
      "4/4 [==============================] - 0s 5ms/step - loss: 1.2643\n",
      "Epoch 388/500\n",
      "4/4 [==============================] - 0s 3ms/step - loss: 1.2631\n",
      "Epoch 389/500\n",
      "4/4 [==============================] - 0s 3ms/step - loss: 1.2639\n",
      "Epoch 390/500\n",
      "4/4 [==============================] - 0s 4ms/step - loss: 1.2632\n",
      "Epoch 391/500\n",
      "4/4 [==============================] - 0s 7ms/step - loss: 1.2675\n",
      "Epoch 392/500\n",
      "4/4 [==============================] - 0s 4ms/step - loss: 1.2775\n",
      "Epoch 393/500\n",
      "4/4 [==============================] - 0s 6ms/step - loss: 1.2763\n",
      "Epoch 394/500\n",
      "4/4 [==============================] - 0s 5ms/step - loss: 1.2742\n",
      "Epoch 395/500\n",
      "4/4 [==============================] - 0s 4ms/step - loss: 1.2831\n",
      "Epoch 396/500\n",
      "4/4 [==============================] - 0s 4ms/step - loss: 1.2834\n",
      "Epoch 397/500\n",
      "4/4 [==============================] - 0s 3ms/step - loss: 1.2724\n",
      "Epoch 398/500\n",
      "4/4 [==============================] - 0s 4ms/step - loss: 1.2658\n",
      "Epoch 399/500\n",
      "4/4 [==============================] - 0s 9ms/step - loss: 1.2648\n",
      "Epoch 400/500\n",
      "4/4 [==============================] - 0s 6ms/step - loss: 1.2690\n",
      "Epoch 401/500\n",
      "4/4 [==============================] - 0s 7ms/step - loss: 1.2642\n",
      "Epoch 402/500\n",
      "4/4 [==============================] - 0s 4ms/step - loss: 1.2617\n",
      "Epoch 403/500\n",
      "4/4 [==============================] - 0s 4ms/step - loss: 1.2654\n",
      "Epoch 404/500\n",
      "4/4 [==============================] - 0s 5ms/step - loss: 1.2634\n",
      "Epoch 405/500\n",
      "4/4 [==============================] - 0s 9ms/step - loss: 1.2613\n",
      "Epoch 406/500\n",
      "4/4 [==============================] - 0s 12ms/step - loss: 1.2648\n",
      "Epoch 407/500\n",
      "4/4 [==============================] - 0s 26ms/step - loss: 1.2616\n",
      "Epoch 408/500\n",
      "4/4 [==============================] - 0s 11ms/step - loss: 1.2627\n",
      "Epoch 409/500\n",
      "4/4 [==============================] - 0s 10ms/step - loss: 1.2646\n",
      "Epoch 410/500\n",
      "4/4 [==============================] - 0s 9ms/step - loss: 1.2697\n",
      "Epoch 411/500\n",
      "4/4 [==============================] - 0s 6ms/step - loss: 1.2673\n",
      "Epoch 412/500\n",
      "4/4 [==============================] - 0s 6ms/step - loss: 1.2603\n",
      "Epoch 413/500\n",
      "4/4 [==============================] - 0s 6ms/step - loss: 1.2612\n",
      "Epoch 414/500\n",
      "4/4 [==============================] - 0s 7ms/step - loss: 1.2621\n",
      "Epoch 415/500\n",
      "4/4 [==============================] - 0s 5ms/step - loss: 1.2601\n",
      "Epoch 416/500\n",
      "4/4 [==============================] - 0s 6ms/step - loss: 1.2642\n",
      "Epoch 417/500\n",
      "4/4 [==============================] - 0s 3ms/step - loss: 1.2710\n",
      "Epoch 418/500\n",
      "4/4 [==============================] - 0s 2ms/step - loss: 1.2626\n",
      "Epoch 419/500\n",
      "4/4 [==============================] - 0s 4ms/step - loss: 1.2622\n",
      "Epoch 420/500\n",
      "4/4 [==============================] - 0s 4ms/step - loss: 1.2605\n",
      "Epoch 421/500\n",
      "4/4 [==============================] - 0s 4ms/step - loss: 1.2604\n",
      "Epoch 422/500\n",
      "4/4 [==============================] - 0s 5ms/step - loss: 1.2638\n",
      "Epoch 423/500\n",
      "4/4 [==============================] - 0s 5ms/step - loss: 1.2636\n",
      "Epoch 424/500\n",
      "4/4 [==============================] - 0s 8ms/step - loss: 1.2657\n",
      "Epoch 425/500\n",
      "4/4 [==============================] - 0s 12ms/step - loss: 1.2633\n",
      "Epoch 426/500\n",
      "4/4 [==============================] - 0s 8ms/step - loss: 1.2610\n",
      "Epoch 427/500\n",
      "4/4 [==============================] - 0s 7ms/step - loss: 1.2647\n",
      "Epoch 428/500\n",
      "4/4 [==============================] - 0s 45ms/step - loss: 1.2636\n",
      "Epoch 429/500\n",
      "4/4 [==============================] - 0s 5ms/step - loss: 1.2597\n",
      "Epoch 430/500\n",
      "4/4 [==============================] - 0s 7ms/step - loss: 1.2630\n",
      "Epoch 431/500\n",
      "4/4 [==============================] - 0s 4ms/step - loss: 1.2610\n",
      "Epoch 432/500\n",
      "4/4 [==============================] - 0s 6ms/step - loss: 1.2609\n",
      "Epoch 433/500\n",
      "4/4 [==============================] - 0s 5ms/step - loss: 1.2668\n",
      "Epoch 434/500\n",
      "4/4 [==============================] - 0s 3ms/step - loss: 1.2600\n",
      "Epoch 435/500\n",
      "4/4 [==============================] - 0s 5ms/step - loss: 1.2610\n",
      "Epoch 436/500\n",
      "4/4 [==============================] - 0s 3ms/step - loss: 1.2694\n",
      "Epoch 437/500\n",
      "4/4 [==============================] - 0s 5ms/step - loss: 1.2655\n",
      "Epoch 438/500\n",
      "4/4 [==============================] - 0s 4ms/step - loss: 1.2620\n",
      "Epoch 439/500\n",
      "4/4 [==============================] - 0s 7ms/step - loss: 1.2608\n",
      "Epoch 440/500\n",
      "4/4 [==============================] - 0s 4ms/step - loss: 1.2630\n",
      "Epoch 441/500\n",
      "4/4 [==============================] - 0s 4ms/step - loss: 1.2601\n",
      "Epoch 442/500\n",
      "4/4 [==============================] - 0s 6ms/step - loss: 1.2654\n",
      "Epoch 443/500\n",
      "4/4 [==============================] - 0s 8ms/step - loss: 1.2674\n",
      "Epoch 444/500\n",
      "4/4 [==============================] - 0s 6ms/step - loss: 1.2608\n",
      "Epoch 445/500\n",
      "4/4 [==============================] - 0s 4ms/step - loss: 1.2629\n",
      "Epoch 446/500\n",
      "4/4 [==============================] - 0s 4ms/step - loss: 1.2661\n",
      "Epoch 447/500\n",
      "4/4 [==============================] - 0s 4ms/step - loss: 1.2625\n",
      "Epoch 448/500\n",
      "4/4 [==============================] - 0s 4ms/step - loss: 1.2629\n",
      "Epoch 449/500\n",
      "4/4 [==============================] - 0s 4ms/step - loss: 1.2623\n",
      "Epoch 450/500\n",
      "4/4 [==============================] - 0s 4ms/step - loss: 1.2626\n",
      "Epoch 451/500\n",
      "4/4 [==============================] - 0s 6ms/step - loss: 1.2614\n",
      "Epoch 452/500\n",
      "4/4 [==============================] - 0s 6ms/step - loss: 1.2640\n",
      "Epoch 453/500\n",
      "4/4 [==============================] - 0s 4ms/step - loss: 1.2634\n",
      "Epoch 454/500\n",
      "4/4 [==============================] - 0s 4ms/step - loss: 1.2663\n",
      "Epoch 455/500\n",
      "4/4 [==============================] - 0s 6ms/step - loss: 1.2622\n",
      "Epoch 456/500\n",
      "4/4 [==============================] - 0s 31ms/step - loss: 1.2632\n",
      "Epoch 457/500\n",
      "4/4 [==============================] - 0s 4ms/step - loss: 1.2623\n",
      "Epoch 458/500\n",
      "4/4 [==============================] - 0s 6ms/step - loss: 1.2626\n",
      "Epoch 459/500\n",
      "4/4 [==============================] - 0s 4ms/step - loss: 1.2602\n",
      "Epoch 460/500\n",
      "4/4 [==============================] - 0s 3ms/step - loss: 1.2641\n",
      "Epoch 461/500\n",
      "4/4 [==============================] - 0s 5ms/step - loss: 1.2612\n",
      "Epoch 462/500\n",
      "4/4 [==============================] - 0s 4ms/step - loss: 1.2617\n",
      "Epoch 463/500\n",
      "4/4 [==============================] - 0s 4ms/step - loss: 1.2620\n",
      "Epoch 464/500\n",
      "4/4 [==============================] - 0s 2ms/step - loss: 1.2636\n",
      "Epoch 465/500\n",
      "4/4 [==============================] - 0s 4ms/step - loss: 1.2728\n",
      "Epoch 466/500\n",
      "4/4 [==============================] - 0s 4ms/step - loss: 1.2630\n",
      "Epoch 467/500\n",
      "4/4 [==============================] - 0s 5ms/step - loss: 1.2599\n",
      "Epoch 468/500\n",
      "4/4 [==============================] - 0s 4ms/step - loss: 1.2624\n",
      "Epoch 469/500\n",
      "4/4 [==============================] - 0s 4ms/step - loss: 1.2626\n",
      "Epoch 470/500\n",
      "4/4 [==============================] - 0s 4ms/step - loss: 1.2616\n",
      "Epoch 471/500\n",
      "4/4 [==============================] - 0s 4ms/step - loss: 1.2620\n",
      "Epoch 472/500\n",
      "4/4 [==============================] - 0s 7ms/step - loss: 1.2597\n",
      "Epoch 473/500\n",
      "4/4 [==============================] - 0s 3ms/step - loss: 1.2618\n",
      "Epoch 474/500\n",
      "4/4 [==============================] - 0s 4ms/step - loss: 1.2694\n",
      "Epoch 475/500\n",
      "4/4 [==============================] - 0s 4ms/step - loss: 1.2637\n",
      "Epoch 476/500\n",
      "4/4 [==============================] - 0s 5ms/step - loss: 1.2691\n",
      "Epoch 477/500\n",
      "4/4 [==============================] - 0s 4ms/step - loss: 1.2624\n",
      "Epoch 478/500\n",
      "4/4 [==============================] - 0s 3ms/step - loss: 1.2617\n",
      "Epoch 479/500\n",
      "4/4 [==============================] - 0s 5ms/step - loss: 1.2609\n",
      "Epoch 480/500\n",
      "4/4 [==============================] - 0s 5ms/step - loss: 1.2625\n",
      "Epoch 481/500\n",
      "4/4 [==============================] - 0s 5ms/step - loss: 1.2624\n",
      "Epoch 482/500\n",
      "4/4 [==============================] - 0s 3ms/step - loss: 1.2676\n",
      "Epoch 483/500\n",
      "4/4 [==============================] - 0s 4ms/step - loss: 1.2623\n",
      "Epoch 484/500\n",
      "4/4 [==============================] - 0s 4ms/step - loss: 1.2656\n",
      "Epoch 485/500\n",
      "4/4 [==============================] - 0s 21ms/step - loss: 1.2616\n",
      "Epoch 486/500\n",
      "4/4 [==============================] - 0s 6ms/step - loss: 1.2610\n",
      "Epoch 487/500\n",
      "4/4 [==============================] - 0s 6ms/step - loss: 1.2599\n",
      "Epoch 488/500\n",
      "4/4 [==============================] - 0s 4ms/step - loss: 1.2611\n",
      "Epoch 489/500\n",
      "4/4 [==============================] - 0s 3ms/step - loss: 1.2638\n",
      "Epoch 490/500\n",
      "4/4 [==============================] - 0s 4ms/step - loss: 1.2615\n",
      "Epoch 491/500\n",
      "4/4 [==============================] - 0s 3ms/step - loss: 1.2616\n",
      "Epoch 492/500\n",
      "4/4 [==============================] - 0s 3ms/step - loss: 1.2643\n",
      "Epoch 493/500\n",
      "4/4 [==============================] - 0s 7ms/step - loss: 1.2612\n",
      "Epoch 494/500\n",
      "4/4 [==============================] - 0s 4ms/step - loss: 1.2615\n",
      "Epoch 495/500\n",
      "4/4 [==============================] - 0s 4ms/step - loss: 1.2633\n",
      "Epoch 496/500\n",
      "4/4 [==============================] - 0s 4ms/step - loss: 1.2614\n",
      "Epoch 497/500\n",
      "4/4 [==============================] - 0s 5ms/step - loss: 1.2636\n",
      "Epoch 498/500\n",
      "4/4 [==============================] - 0s 3ms/step - loss: 1.2609\n",
      "Epoch 499/500\n",
      "4/4 [==============================] - 0s 4ms/step - loss: 1.2654\n",
      "Epoch 500/500\n",
      "4/4 [==============================] - 0s 2ms/step - loss: 1.2612\n"
     ]
    },
    {
     "data": {
      "text/plain": [
       "<keras.callbacks.History at 0x13b10bdf0>"
      ]
     },
     "execution_count": 106,
     "metadata": {},
     "output_type": "execute_result"
    }
   ],
   "source": [
    "import numpy as np \n",
    "from keras import Sequential\n",
    "from keras.layers import Dense\n",
    "\n",
    "model = Sequential([\n",
    "    Dense(units=1, input_shape=[1])\n",
    "])\n",
    "model.compile(optimizer='sgd', loss=\"mean_squared_error\")\n",
    "model.fit(X, y, epochs=500)\n"
   ]
  },
  {
   "cell_type": "code",
   "execution_count": 107,
   "metadata": {},
   "outputs": [
    {
     "data": {
      "text/plain": [
       "[array([[1.9092709]], dtype=float32), array([5.2183743], dtype=float32)]"
      ]
     },
     "execution_count": 107,
     "metadata": {},
     "output_type": "execute_result"
    }
   ],
   "source": [
    "model.get_weights()"
   ]
  },
  {
   "cell_type": "code",
   "execution_count": 108,
   "metadata": {},
   "outputs": [
    {
     "ename": "NameError",
     "evalue": "name 'Perceptron' is not defined",
     "output_type": "error",
     "traceback": [
      "\u001b[0;31m---------------------------------------------------------------------------\u001b[0m",
      "\u001b[0;31mNameError\u001b[0m                                 Traceback (most recent call last)",
      "\u001b[1;32m/Users/air/Documents/GitHub/RTA_code/rozdzial 1/rozdzial1.ipynb Cell 167'\u001b[0m in \u001b[0;36m<module>\u001b[0;34m\u001b[0m\n\u001b[1;32m      <a href='vscode-notebook-cell:/Users/air/Documents/GitHub/RTA_code/rozdzial%201/rozdzial1.ipynb#ch0000166?line=0'>1</a>\u001b[0m X, y \u001b[39m=\u001b[39m X_iris, y_iris\n\u001b[0;32m----> <a href='vscode-notebook-cell:/Users/air/Documents/GitHub/RTA_code/rozdzial%201/rozdzial1.ipynb#ch0000166?line=1'>2</a>\u001b[0m dziecko \u001b[39m=\u001b[39m Perceptron()\n\u001b[1;32m      <a href='vscode-notebook-cell:/Users/air/Documents/GitHub/RTA_code/rozdzial%201/rozdzial1.ipynb#ch0000166?line=2'>3</a>\u001b[0m dziecko\u001b[39m.\u001b[39mfit(X,y)\n",
      "\u001b[0;31mNameError\u001b[0m: name 'Perceptron' is not defined"
     ]
    }
   ],
   "source": [
    "X, y = X_iris, y_iris\n",
    "dziecko = Perceptron()\n",
    "dziecko.fit(X,y)"
   ]
  },
  {
   "cell_type": "code",
   "execution_count": null,
   "metadata": {},
   "outputs": [],
   "source": [
    "class Perceptron(object):\n",
    "    \"\"\"Klasa realizująca algorytm sieci neuronowej\"\"\"\n",
    "    \n",
    "    def fit(self, X, y):\n",
    "        pass"
   ]
  },
  {
   "cell_type": "code",
   "execution_count": null,
   "metadata": {},
   "outputs": [],
   "source": [
    "dziecko = Perceptron()\n",
    "dziecko.fit(X,y)"
   ]
  },
  {
   "cell_type": "code",
   "execution_count": null,
   "metadata": {},
   "outputs": [],
   "source": [
    "class Perceptron(object):\n",
    "    \"\"\"Klasa realizująca algorytm sieci neuronowej\"\"\"\n",
    "    def __init__(self, eta=0.01, n_iter=10):\n",
    "        self.eta = eta\n",
    "        self.n_iter = n_iter\n",
    "    \n",
    "    def fit(self, X, y):\n",
    "        pass"
   ]
  },
  {
   "cell_type": "code",
   "execution_count": null,
   "metadata": {},
   "outputs": [
    {
     "data": {
      "text/plain": [
       "(10, 0.01)"
      ]
     },
     "execution_count": 200,
     "metadata": {},
     "output_type": "execute_result"
    }
   ],
   "source": [
    "dziecko = Perceptron()\n",
    "dziecko.fit(X,y)\n",
    "dziecko.n_iter, dziecko.eta"
   ]
  },
  {
   "cell_type": "code",
   "execution_count": 113,
   "metadata": {},
   "outputs": [],
   "source": [
    "class Perceptron(object):\n",
    "    \"\"\"Klasa realizująca algorytm sieci neuronowej\"\"\"\n",
    "    def __init__(self, eta=0.01, n_iter=10):\n",
    "        self.eta = eta\n",
    "        self.n_iter = n_iter\n",
    "    \n",
    "    def fit(self, X, y ):\n",
    "        self.w_ = np.zeros(1+X.shape[1])\n",
    "        self.errors_ = []\n",
    "        for _ in range(self.n_iter):\n",
    "            errors = 0\n",
    "            for xi, target in zip(X,y):\n",
    "               update = self.eta*(target-self.predict(xi))\n",
    "               self.w_[1:] += update*xi\n",
    "               self.w_[0] += update\n",
    "               errors += int(update != 0.0)\n",
    "            self.errors_.append(errors)\n",
    "        return self\n",
    "    \n",
    "    def net_input(self, X):\n",
    "        return np.dot(X, self.w_[1:])+self.w_[0]\n",
    "\n",
    "    def predict(self, X):\n",
    "        return np.where(self.net_input(X)>=0.0,1,-1)"
   ]
  },
  {
   "cell_type": "code",
   "execution_count": 114,
   "metadata": {},
   "outputs": [
    {
     "data": {
      "text/plain": [
       "<__main__.Perceptron at 0x13b33d040>"
      ]
     },
     "execution_count": 114,
     "metadata": {},
     "output_type": "execute_result"
    }
   ],
   "source": [
    "dziecko_uczy_sie_irysow = Perceptron()\n",
    "dziecko_uczy_sie_irysow.fit(X,y)"
   ]
  },
  {
   "cell_type": "code",
   "execution_count": 115,
   "metadata": {},
   "outputs": [
    {
     "name": "stdout",
     "output_type": "stream",
     "text": [
      "[-0.04  -0.068  0.182]\n"
     ]
    }
   ],
   "source": [
    "print(dziecko_uczy_sie_irysow.w_)"
   ]
  },
  {
   "cell_type": "code",
   "execution_count": 116,
   "metadata": {},
   "outputs": [
    {
     "name": "stdout",
     "output_type": "stream",
     "text": [
      "[2, 2, 3, 2, 1, 0, 0, 0, 0, 0]\n"
     ]
    }
   ],
   "source": [
    "print(dziecko_uczy_sie_irysow.errors_)"
   ]
  },
  {
   "cell_type": "code",
   "execution_count": 117,
   "metadata": {},
   "outputs": [],
   "source": [
    "import numpy as np\n",
    "X_and = np.array([[0,0],[0,1],[1,0],[1,1]])\n",
    "y_and = np.array([-1,-1,-1,1])"
   ]
  },
  {
   "cell_type": "code",
   "execution_count": 120,
   "metadata": {},
   "outputs": [],
   "source": [
    "from matplotlib.colors import ListedColormap\n",
    "\n",
    "def plot_decision_regions(X,y,classifier, resolution=0.02):\n",
    "    markers = ('s','x','o','^','v')\n",
    "    colors = ('red','blue','lightgreen','gray','cyan')\n",
    "    cmap = ListedColormap(colors[:len(np.unique(y))])\n",
    "\n",
    "    x1_min, x1_max = X[:,0].min() - 1, X[:,0].max()+1\n",
    "    x2_min, x2_max = X[:,1].min() -1, X[:,1].max()+1\n",
    "    xx1, xx2 = np.meshgrid(np.arange(x1_min, x1_max, resolution),\n",
    "                           np.arange(x2_min, x2_max, resolution))\n",
    "    Z = classifier.predict(np.array([xx1.ravel(), xx2.ravel()]).T)\n",
    "    Z = Z.reshape(xx1.shape)\n",
    "    plt.contourf(xx1, xx2, Z, alpha=0.4, cmap=cmap)\n",
    "    plt.xlim(xx1.min(), xx1.max())\n",
    "    plt.ylim(xx2.min(),xx2.max())\n",
    "\n",
    "    for idx, cl in enumerate(np.unique(y)):\n",
    "        plt.scatter(x=X[y == cl,0], y=X[y==cl,1],\n",
    "        alpha=0.8, c=cmap(idx), marker=markers[idx], label=cl)"
   ]
  },
  {
   "cell_type": "code",
   "execution_count": 122,
   "metadata": {},
   "outputs": [
    {
     "name": "stderr",
     "output_type": "stream",
     "text": [
      "*c* argument looks like a single numeric RGB or RGBA sequence, which should be avoided as value-mapping will have precedence in case its length matches with *x* & *y*.  Please use the *color* keyword-argument or provide a 2D array with a single row if you intend to specify the same RGB or RGBA value for all points.\n",
      "*c* argument looks like a single numeric RGB or RGBA sequence, which should be avoided as value-mapping will have precedence in case its length matches with *x* & *y*.  Please use the *color* keyword-argument or provide a 2D array with a single row if you intend to specify the same RGB or RGBA value for all points.\n",
      "The PostScript backend does not support transparency; partially transparent artists will be rendered opaque.\n"
     ]
    },
    {
     "data": {
      "image/png": "[encoded data removed]",
      "text/plain": [
       "<Figure size 432x288 with 1 Axes>"
      ]
     },
     "metadata": {
      "needs_background": "light"
     },
     "output_type": "display_data"
    }
   ],
   "source": [
    "plot_decision_regions(X,y,\n",
    "classifier=dziecko_uczy_sie_irysow)\n",
    "plt.xlabel(\"dlugosc dzialki [cm]\")\n",
    "plt.ylabel(\"dlugosc platka [cm]\")\n",
    "plt.legend(loc='upper left')\n",
    "plt.savefig('rys1_6.eps')\n",
    "plt.show()"
   ]
  },
  {
   "cell_type": "code",
   "execution_count": null,
   "metadata": {},
   "outputs": [],
   "source": [
    "'', 'Accent_r', 'Blues', 'Blues_r', 'BrBG', 'BrBG_r', 'BuGn', 'BuGn_r', 'BuPu', 'BuPu_r', 'CMRmap', 'CMRmap_r', 'Dark2', 'Dark2_r', 'GnBu', 'GnBu_r', 'Greens', 'Greens_r', 'Greys', 'Greys_r', 'OrRd', 'OrRd_r', 'Oranges', 'Oranges_r', 'PRGn', 'PRGn_r', 'Paired', 'Paired_r', 'Pastel1', 'Pastel1_r', 'Pastel2', 'Pastel2_r', 'PiYG', 'PiYG_r', 'PuBu', 'PuBuGn', 'PuBuGn_r', 'PuBu_r', 'PuOr', 'PuOr_r', 'PuRd', 'PuRd_r', 'Purples', 'Purples_r', 'RdBu', 'RdBu_r', 'RdGy', 'RdGy_r', 'RdPu', 'RdPu_r', 'RdYlBu', 'RdYlBu_r', 'RdYlGn', 'RdYlGn_r', 'Reds', 'Reds_r', 'Set1', 'Set1_r', 'Set2', 'Set2_r', 'Set3', 'Set3_r', 'Spectral', 'Spectral_r', 'Wistia', 'Wistia_r', 'YlGn', 'YlGnBu', 'YlGnBu_r', 'YlGn_r', 'YlOrBr', 'YlOrBr_r', 'YlOrRd', 'YlOrRd_r', 'afmhot', 'afmhot_r', 'autumn', 'autumn_r', 'binary', 'binary_r', 'bone', 'bone_r', 'brg', 'brg_r', 'bwr', 'bwr_r', 'cividis', 'cividis_r', 'cool', 'cool_r', 'coolwarm', 'coolwarm_r', 'copper', 'copper_r', 'crest', 'crest_r', 'cubehelix', 'cubehelix_r', 'flag', 'flag_r', 'flare', 'flare_r', 'gist_earth', 'gist_earth_r', 'gist_gray', 'gist_gray_r', 'gist_heat', 'gist_heat_r', 'gist_ncar', 'gist_ncar_r', 'gist_rainbow', 'gist_rainbow_r', 'gist_stern', 'gist_stern_r', 'gist_yarg', 'gist_yarg_r', 'gnuplot', 'gnuplot2', 'gnuplot2_r', 'gnuplot_r', 'gray', 'gray_r', 'hot', 'hot_r', 'hsv', 'hsv_r', 'icefire', 'icefire_r', 'inferno', 'inferno_r', 'jet', 'jet_r', 'magma', 'magma_r', 'mako', 'mako_r', 'nipy_spectral', 'nipy_spectral_r', 'ocean', 'ocean_r', 'pink', 'pink_r', 'plasma', 'plasma_r', 'prism', 'prism_r', 'rainbow', 'rainbow_r', 'rocket', 'rocket_r', 'seismic', 'seismic_r', 'spring', 'spring_r', 'summer', 'summer_r', 'tab10', 'tab10_r', 'tab20', 'tab20_r', 'tab20b', 'tab20b_r', 'tab20c', 'tab20c_r', 'terrain', 'terrain_r', 'turbo', 'turbo_r', 'twilight', 'twilight_r', 'twilight_shifted', 'twilight_shifted_r', 'viridis', 'viridis_r', 'vlag', 'vlag_r', '', 'winter_r'"
   ]
  },
  {
   "cell_type": "code",
   "execution_count": 227,
   "metadata": {},
   "outputs": [],
   "source": [
    "class Adaline():\n",
    "    '''Klasyfikator  - ADAptacyjny LIniowy NEuron'''\n",
    "    def __init__(self, eta=0.01, n_iter=10):\n",
    "        self.eta = eta\n",
    "        self.n_iter = n_iter\n",
    "\n",
    "    def fit(self, X,y):\n",
    "        self.w_ = np.zeros(1+X.shape[1])\n",
    "        self.cost_ = []\n",
    "\n",
    "        for i in range(self.n_iter):\n",
    "            net_input = self.net_input(X)\n",
    "            output = self.activation(X)\n",
    "            errors = (y-output)\n",
    "            self.w_[1:] += self.eta * X.T.dot(errors)\n",
    "            self.w_[0] += self.eta * errors.sum()\n",
    "            cost = (errors**2).sum() / 2.0\n",
    "            self.cost_.append(cost)\n",
    "        return self\n",
    "\n",
    "    def net_input(self, X):\n",
    "        return np.dot(X, self.w_[1:]) + self.w_[0]\n",
    "\n",
    "    def activation(self, X):\n",
    "        return self.net_input(X)\n",
    "\n",
    "    def predict(self, X):\n",
    "        return np.where(self.activation(X) >= 0.0, 1, -1)"
   ]
  },
  {
   "cell_type": "code",
   "execution_count": 233,
   "metadata": {},
   "outputs": [
    {
     "name": "stderr",
     "output_type": "stream",
     "text": [
      "*c* argument looks like a single numeric RGB or RGBA sequence, which should be avoided as value-mapping will have precedence in case its length matches with *x* & *y*.  Please use the *color* keyword-argument or provide a 2D array with a single row if you intend to specify the same RGB or RGBA value for all points.\n",
      "*c* argument looks like a single numeric RGB or RGBA sequence, which should be avoided as value-mapping will have precedence in case its length matches with *x* & *y*.  Please use the *color* keyword-argument or provide a 2D array with a single row if you intend to specify the same RGB or RGBA value for all points.\n",
      "The PostScript backend does not support transparency; partially transparent artists will be rendered opaque.\n"
     ]
    },
    {
     "data": {
      "image/png": "[encoded data removed]",
      "text/plain": [
       "<Figure size 432x288 with 1 Axes>"
      ]
     },
     "metadata": {
      "needs_background": "light"
     },
     "output_type": "display_data"
    }
   ],
   "source": [
    "ad = Adaline(n_iter=20, eta=0.01)\n",
    "ad.fit(X,y)\n",
    "# otrzymane wagi\n",
    "ad.w_\n",
    "# array([-0.0259, -0.06051, 0.17152])\n",
    "# wykres granicy decyzyjnej\n",
    "plot_decision_regions(X,y,classifier=ad)\n",
    "plt.xlabel(\"dlugosc dzialki [cm]\")\n",
    "plt.ylabel(\"dlugosc platka [cm]\")\n",
    "plt.legend(loc='upper left')\n",
    "plt.savefig('rys1_7.eps')"
   ]
  },
  {
   "cell_type": "code",
   "execution_count": 211,
   "metadata": {},
   "outputs": [
    {
     "data": {
      "text/plain": [
       "<__main__.Adaline at 0x15012b0d0>"
      ]
     },
     "execution_count": 211,
     "metadata": {},
     "output_type": "execute_result"
    }
   ],
   "source": [
    "ad2 = Adaline(n_iter=20, eta=0.0001)\n",
    "ad2.fit(X,y)"
   ]
  },
  {
   "cell_type": "code",
   "execution_count": 212,
   "metadata": {},
   "outputs": [
    {
     "data": {
      "text/plain": [
       "array([-0.02592486, -0.06051515,  0.1715288 ])"
      ]
     },
     "execution_count": 212,
     "metadata": {},
     "output_type": "execute_result"
    }
   ],
   "source": [
    "ad2.w_"
   ]
  },
  {
   "cell_type": "code",
   "execution_count": 234,
   "metadata": {},
   "outputs": [
    {
     "name": "stderr",
     "output_type": "stream",
     "text": [
      "*c* argument looks like a single numeric RGB or RGBA sequence, which should be avoided as value-mapping will have precedence in case its length matches with *x* & *y*.  Please use the *color* keyword-argument or provide a 2D array with a single row if you intend to specify the same RGB or RGBA value for all points.\n",
      "*c* argument looks like a single numeric RGB or RGBA sequence, which should be avoided as value-mapping will have precedence in case its length matches with *x* & *y*.  Please use the *color* keyword-argument or provide a 2D array with a single row if you intend to specify the same RGB or RGBA value for all points.\n",
      "The PostScript backend does not support transparency; partially transparent artists will be rendered opaque.\n"
     ]
    },
    {
     "data": {
      "image/png": "[encoded data removed]",
      "text/plain": [
       "<Figure size 432x288 with 1 Axes>"
      ]
     },
     "metadata": {
      "needs_background": "light"
     },
     "output_type": "display_data"
    }
   ],
   "source": [
    "plot_decision_regions(X,y,classifier=ad2)\n",
    "plt.xlabel(\"dlugosc dzialki [cm]\")\n",
    "plt.ylabel(\"dlugosc platka [cm]\")\n",
    "plt.legend(loc='upper left')\n",
    "plt.savefig('rys1_8.eps')"
   ]
  },
  {
   "cell_type": "code",
   "execution_count": null,
   "metadata": {},
   "outputs": [],
   "source": []
  }
 ],
 "metadata": {
  "kernelspec": {
   "display_name": "Python 3",
   "language": "python",
   "name": "python3"
  },
  "language_info": {
   "codemirror_mode": {
    "name": "ipython",
    "version": 3
   },
   "file_extension": ".py",
   "mimetype": "text/x-python",
   "name": "python",
   "nbconvert_exporter": "python",
   "pygments_lexer": "ipython3",
   "version": "3.8.9"
  }
 },
 "nbformat": 4,
 "nbformat_minor": 4
}
