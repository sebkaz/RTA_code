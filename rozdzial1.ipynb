{
 "cells": [
  {
   "cell_type": "code",
   "execution_count": 40,
   "metadata": {},
   "outputs": [],
   "source": [
    "klient = [38, 'Kawaler',1, 56.3]"
   ]
  },
  {
   "cell_type": "code",
   "execution_count": 41,
   "metadata": {},
   "outputs": [
    {
     "data": {
      "text/plain": [
       "list"
      ]
     },
     "execution_count": 41,
     "metadata": {},
     "output_type": "execute_result"
    }
   ],
   "source": [
    "type(klient)"
   ]
  },
  {
   "cell_type": "code",
   "execution_count": 42,
   "metadata": {},
   "outputs": [
    {
     "name": "stdout",
     "output_type": "stream",
     "text": [
      "a+b: [1, 2, 3, 4, 5, 6]\n"
     ]
    }
   ],
   "source": [
    "a = [1,2,3]\n",
    "b = [4,5,6]\n",
    "print(f\"a+b: {a+b}\")"
   ]
  },
  {
   "cell_type": "code",
   "execution_count": 43,
   "metadata": {},
   "outputs": [
    {
     "name": "stdout",
     "output_type": "stream",
     "text": [
      "operacja niezdefiniowana\n"
     ]
    }
   ],
   "source": [
    "try:\n",
    "    print(a*b)\n",
    "except TypeError:\n",
    "    print(\"operacja niezdefiniowana\")"
   ]
  },
  {
   "cell_type": "code",
   "execution_count": 44,
   "metadata": {},
   "outputs": [
    {
     "data": {
      "text/plain": [
       "numpy.ndarray"
      ]
     },
     "execution_count": 44,
     "metadata": {},
     "output_type": "execute_result"
    }
   ],
   "source": [
    "import numpy as np\n",
    "aa = np.array([1,2,3])\n",
    "bb = np.array([4,5,6])\n",
    "\n",
    "type(aa)"
   ]
  },
  {
   "cell_type": "code",
   "execution_count": 45,
   "metadata": {},
   "outputs": [
    {
     "name": "stdout",
     "output_type": "stream",
     "text": [
      "aa+bb: [5 7 9]\n"
     ]
    }
   ],
   "source": [
    "print(f\"aa+bb: {aa+bb}\")"
   ]
  },
  {
   "cell_type": "code",
   "execution_count": 46,
   "metadata": {},
   "outputs": [
    {
     "name": "stdout",
     "output_type": "stream",
     "text": [
      "[ 4 10 18]\n"
     ]
    }
   ],
   "source": [
    "try:\n",
    "    print(aa*bb)\n",
    "except TypeError:\n",
    "    print(\"operacja niezdefiniowana\")"
   ]
  },
  {
   "cell_type": "code",
   "execution_count": 47,
   "metadata": {},
   "outputs": [
    {
     "data": {
      "text/plain": [
       "array([0, 1, 2, 3])"
      ]
     },
     "execution_count": 47,
     "metadata": {},
     "output_type": "execute_result"
    }
   ],
   "source": [
    "x = np.array(range(4))\n",
    "x"
   ]
  },
  {
   "cell_type": "code",
   "execution_count": 48,
   "metadata": {},
   "outputs": [
    {
     "data": {
      "text/plain": [
       "(4,)"
      ]
     },
     "execution_count": 48,
     "metadata": {},
     "output_type": "execute_result"
    }
   ],
   "source": [
    "x.shape"
   ]
  },
  {
   "cell_type": "code",
   "execution_count": 49,
   "metadata": {},
   "outputs": [
    {
     "data": {
      "text/plain": [
       "array([[0, 1, 2, 3],\n",
       "       [0, 1, 2, 3]])"
      ]
     },
     "execution_count": 49,
     "metadata": {},
     "output_type": "execute_result"
    }
   ],
   "source": [
    "A = np.array([range(4),range(4)])\n",
    "A"
   ]
  },
  {
   "cell_type": "code",
   "execution_count": 50,
   "metadata": {},
   "outputs": [
    {
     "data": {
      "text/plain": [
       "(2, 4)"
      ]
     },
     "execution_count": 50,
     "metadata": {},
     "output_type": "execute_result"
    }
   ],
   "source": [
    "A.shape"
   ]
  },
  {
   "cell_type": "code",
   "execution_count": 51,
   "metadata": {},
   "outputs": [
    {
     "data": {
      "text/plain": [
       "array([[0, 0],\n",
       "       [1, 1],\n",
       "       [2, 2],\n",
       "       [3, 3]])"
      ]
     },
     "execution_count": 51,
     "metadata": {},
     "output_type": "execute_result"
    }
   ],
   "source": [
    "A.T"
   ]
  },
  {
   "cell_type": "code",
   "execution_count": 52,
   "metadata": {},
   "outputs": [],
   "source": [
    "from sklearn.datasets import load_iris\n",
    "iris = load_iris()"
   ]
  },
  {
   "cell_type": "code",
   "execution_count": 53,
   "metadata": {},
   "outputs": [
    {
     "data": {
      "text/plain": [
       "sklearn.utils.Bunch"
      ]
     },
     "execution_count": 53,
     "metadata": {},
     "output_type": "execute_result"
    }
   ],
   "source": [
    "type(iris)"
   ]
  },
  {
   "cell_type": "code",
   "execution_count": 54,
   "metadata": {},
   "outputs": [
    {
     "data": {
      "text/plain": [
       "dict_keys(['data', 'target', 'frame', 'target_names', 'DESCR', 'feature_names', 'filename', 'data_module'])"
      ]
     },
     "execution_count": 54,
     "metadata": {},
     "output_type": "execute_result"
    }
   ],
   "source": [
    "iris.keys()"
   ]
  },
  {
   "cell_type": "code",
   "execution_count": 55,
   "metadata": {},
   "outputs": [
    {
     "name": "stdout",
     "output_type": "stream",
     "text": [
      "<class 'pandas.core.frame.DataFrame'>\n"
     ]
    }
   ],
   "source": [
    "import numpy as np\n",
    "import pandas as pd\n",
    "pd.set_option('display.precision',2)\n",
    "\n",
    "df = pd.DataFrame(data= np.c_[iris['data'], iris['target']],\n",
    "                  columns= iris['feature_names'] + ['target'])\n",
    "                  \n",
    "print(type(df))"
   ]
  },
  {
   "cell_type": "code",
   "execution_count": 56,
   "metadata": {},
   "outputs": [],
   "source": [
    "# nowa kolumna\n",
    "df['species'] = pd.Categorical.from_codes(iris.target, iris.target_names)"
   ]
  },
  {
   "cell_type": "code",
   "execution_count": 57,
   "metadata": {},
   "outputs": [],
   "source": [
    "# usuniecie kolumny\n",
    "df = df.drop(columns=['target'])"
   ]
  },
  {
   "cell_type": "code",
   "execution_count": 58,
   "metadata": {},
   "outputs": [
    {
     "data": {
      "text/html": [
       "<div>\n",
       "<style scoped>\n",
       "    .dataframe tbody tr th:only-of-type {\n",
       "        vertical-align: middle;\n",
       "    }\n",
       "\n",
       "    .dataframe tbody tr th {\n",
       "        vertical-align: top;\n",
       "    }\n",
       "\n",
       "    .dataframe thead th {\n",
       "        text-align: right;\n",
       "    }\n",
       "</style>\n",
       "<table border=\"1\" class=\"dataframe\">\n",
       "  <thead>\n",
       "    <tr style=\"text-align: right;\">\n",
       "      <th></th>\n",
       "      <th>sepal length (cm)</th>\n",
       "      <th>sepal width (cm)</th>\n",
       "      <th>petal length (cm)</th>\n",
       "      <th>petal width (cm)</th>\n",
       "      <th>species</th>\n",
       "    </tr>\n",
       "  </thead>\n",
       "  <tbody>\n",
       "    <tr>\n",
       "      <th>0</th>\n",
       "      <td>5.1</td>\n",
       "      <td>3.5</td>\n",
       "      <td>1.4</td>\n",
       "      <td>0.2</td>\n",
       "      <td>setosa</td>\n",
       "    </tr>\n",
       "    <tr>\n",
       "      <th>1</th>\n",
       "      <td>4.9</td>\n",
       "      <td>3.0</td>\n",
       "      <td>1.4</td>\n",
       "      <td>0.2</td>\n",
       "      <td>setosa</td>\n",
       "    </tr>\n",
       "    <tr>\n",
       "      <th>2</th>\n",
       "      <td>4.7</td>\n",
       "      <td>3.2</td>\n",
       "      <td>1.3</td>\n",
       "      <td>0.2</td>\n",
       "      <td>setosa</td>\n",
       "    </tr>\n",
       "    <tr>\n",
       "      <th>3</th>\n",
       "      <td>4.6</td>\n",
       "      <td>3.1</td>\n",
       "      <td>1.5</td>\n",
       "      <td>0.2</td>\n",
       "      <td>setosa</td>\n",
       "    </tr>\n",
       "    <tr>\n",
       "      <th>4</th>\n",
       "      <td>5.0</td>\n",
       "      <td>3.6</td>\n",
       "      <td>1.4</td>\n",
       "      <td>0.2</td>\n",
       "      <td>setosa</td>\n",
       "    </tr>\n",
       "  </tbody>\n",
       "</table>\n",
       "</div>"
      ],
      "text/plain": [
       "   sepal length (cm)  sepal width (cm)  petal length (cm)  petal width (cm)  \\\n",
       "0                5.1               3.5                1.4               0.2   \n",
       "1                4.9               3.0                1.4               0.2   \n",
       "2                4.7               3.2                1.3               0.2   \n",
       "3                4.6               3.1                1.5               0.2   \n",
       "4                5.0               3.6                1.4               0.2   \n",
       "\n",
       "  species  \n",
       "0  setosa  \n",
       "1  setosa  \n",
       "2  setosa  \n",
       "3  setosa  \n",
       "4  setosa  "
      ]
     },
     "execution_count": 58,
     "metadata": {},
     "output_type": "execute_result"
    }
   ],
   "source": [
    "# pierwsze wiersze\n",
    "df.head()"
   ]
  },
  {
   "cell_type": "code",
   "execution_count": 59,
   "metadata": {},
   "outputs": [
    {
     "data": {
      "text/html": [
       "<div>\n",
       "<style scoped>\n",
       "    .dataframe tbody tr th:only-of-type {\n",
       "        vertical-align: middle;\n",
       "    }\n",
       "\n",
       "    .dataframe tbody tr th {\n",
       "        vertical-align: top;\n",
       "    }\n",
       "\n",
       "    .dataframe thead th {\n",
       "        text-align: right;\n",
       "    }\n",
       "</style>\n",
       "<table border=\"1\" class=\"dataframe\">\n",
       "  <thead>\n",
       "    <tr style=\"text-align: right;\">\n",
       "      <th></th>\n",
       "      <th>sepal length (cm)</th>\n",
       "      <th>sepal width (cm)</th>\n",
       "      <th>petal length (cm)</th>\n",
       "      <th>petal width (cm)</th>\n",
       "      <th>species</th>\n",
       "    </tr>\n",
       "  </thead>\n",
       "  <tbody>\n",
       "    <tr>\n",
       "      <th>145</th>\n",
       "      <td>6.7</td>\n",
       "      <td>3.0</td>\n",
       "      <td>5.2</td>\n",
       "      <td>2.3</td>\n",
       "      <td>virginica</td>\n",
       "    </tr>\n",
       "    <tr>\n",
       "      <th>146</th>\n",
       "      <td>6.3</td>\n",
       "      <td>2.5</td>\n",
       "      <td>5.0</td>\n",
       "      <td>1.9</td>\n",
       "      <td>virginica</td>\n",
       "    </tr>\n",
       "    <tr>\n",
       "      <th>147</th>\n",
       "      <td>6.5</td>\n",
       "      <td>3.0</td>\n",
       "      <td>5.2</td>\n",
       "      <td>2.0</td>\n",
       "      <td>virginica</td>\n",
       "    </tr>\n",
       "    <tr>\n",
       "      <th>148</th>\n",
       "      <td>6.2</td>\n",
       "      <td>3.4</td>\n",
       "      <td>5.4</td>\n",
       "      <td>2.3</td>\n",
       "      <td>virginica</td>\n",
       "    </tr>\n",
       "    <tr>\n",
       "      <th>149</th>\n",
       "      <td>5.9</td>\n",
       "      <td>3.0</td>\n",
       "      <td>5.1</td>\n",
       "      <td>1.8</td>\n",
       "      <td>virginica</td>\n",
       "    </tr>\n",
       "  </tbody>\n",
       "</table>\n",
       "</div>"
      ],
      "text/plain": [
       "     sepal length (cm)  sepal width (cm)  petal length (cm)  petal width (cm)  \\\n",
       "145                6.7               3.0                5.2               2.3   \n",
       "146                6.3               2.5                5.0               1.9   \n",
       "147                6.5               3.0                5.2               2.0   \n",
       "148                6.2               3.4                5.4               2.3   \n",
       "149                5.9               3.0                5.1               1.8   \n",
       "\n",
       "       species  \n",
       "145  virginica  \n",
       "146  virginica  \n",
       "147  virginica  \n",
       "148  virginica  \n",
       "149  virginica  "
      ]
     },
     "execution_count": 59,
     "metadata": {},
     "output_type": "execute_result"
    }
   ],
   "source": [
    "# ostatnie wiersze\n",
    "df.tail()"
   ]
  },
  {
   "cell_type": "code",
   "execution_count": 60,
   "metadata": {},
   "outputs": [
    {
     "name": "stdout",
     "output_type": "stream",
     "text": [
      "<class 'pandas.core.frame.DataFrame'>\n",
      "RangeIndex: 150 entries, 0 to 149\n",
      "Data columns (total 5 columns):\n",
      " #   Column             Non-Null Count  Dtype   \n",
      "---  ------             --------------  -----   \n",
      " 0   sepal length (cm)  150 non-null    float64 \n",
      " 1   sepal width (cm)   150 non-null    float64 \n",
      " 2   petal length (cm)  150 non-null    float64 \n",
      " 3   petal width (cm)   150 non-null    float64 \n",
      " 4   species            150 non-null    category\n",
      "dtypes: category(1), float64(4)\n",
      "memory usage: 5.1 KB\n"
     ]
    }
   ],
   "source": [
    "# podstawowe informacje\n",
    "df.info()"
   ]
  },
  {
   "cell_type": "code",
   "execution_count": 61,
   "metadata": {},
   "outputs": [
    {
     "data": {
      "text/html": [
       "<div>\n",
       "<style scoped>\n",
       "    .dataframe tbody tr th:only-of-type {\n",
       "        vertical-align: middle;\n",
       "    }\n",
       "\n",
       "    .dataframe tbody tr th {\n",
       "        vertical-align: top;\n",
       "    }\n",
       "\n",
       "    .dataframe thead th {\n",
       "        text-align: right;\n",
       "    }\n",
       "</style>\n",
       "<table border=\"1\" class=\"dataframe\">\n",
       "  <thead>\n",
       "    <tr style=\"text-align: right;\">\n",
       "      <th></th>\n",
       "      <th>sepal length (cm)</th>\n",
       "      <th>sepal width (cm)</th>\n",
       "      <th>petal length (cm)</th>\n",
       "      <th>petal width (cm)</th>\n",
       "    </tr>\n",
       "  </thead>\n",
       "  <tbody>\n",
       "    <tr>\n",
       "      <th>count</th>\n",
       "      <td>150.00</td>\n",
       "      <td>150.00</td>\n",
       "      <td>150.00</td>\n",
       "      <td>150.00</td>\n",
       "    </tr>\n",
       "    <tr>\n",
       "      <th>mean</th>\n",
       "      <td>5.84</td>\n",
       "      <td>3.06</td>\n",
       "      <td>3.76</td>\n",
       "      <td>1.20</td>\n",
       "    </tr>\n",
       "    <tr>\n",
       "      <th>std</th>\n",
       "      <td>0.83</td>\n",
       "      <td>0.44</td>\n",
       "      <td>1.77</td>\n",
       "      <td>0.76</td>\n",
       "    </tr>\n",
       "    <tr>\n",
       "      <th>min</th>\n",
       "      <td>4.30</td>\n",
       "      <td>2.00</td>\n",
       "      <td>1.00</td>\n",
       "      <td>0.10</td>\n",
       "    </tr>\n",
       "    <tr>\n",
       "      <th>25%</th>\n",
       "      <td>5.10</td>\n",
       "      <td>2.80</td>\n",
       "      <td>1.60</td>\n",
       "      <td>0.30</td>\n",
       "    </tr>\n",
       "    <tr>\n",
       "      <th>50%</th>\n",
       "      <td>5.80</td>\n",
       "      <td>3.00</td>\n",
       "      <td>4.35</td>\n",
       "      <td>1.30</td>\n",
       "    </tr>\n",
       "    <tr>\n",
       "      <th>75%</th>\n",
       "      <td>6.40</td>\n",
       "      <td>3.30</td>\n",
       "      <td>5.10</td>\n",
       "      <td>1.80</td>\n",
       "    </tr>\n",
       "    <tr>\n",
       "      <th>max</th>\n",
       "      <td>7.90</td>\n",
       "      <td>4.40</td>\n",
       "      <td>6.90</td>\n",
       "      <td>2.50</td>\n",
       "    </tr>\n",
       "  </tbody>\n",
       "</table>\n",
       "</div>"
      ],
      "text/plain": [
       "       sepal length (cm)  sepal width (cm)  petal length (cm)  \\\n",
       "count             150.00            150.00             150.00   \n",
       "mean                5.84              3.06               3.76   \n",
       "std                 0.83              0.44               1.77   \n",
       "min                 4.30              2.00               1.00   \n",
       "25%                 5.10              2.80               1.60   \n",
       "50%                 5.80              3.00               4.35   \n",
       "75%                 6.40              3.30               5.10   \n",
       "max                 7.90              4.40               6.90   \n",
       "\n",
       "       petal width (cm)  \n",
       "count            150.00  \n",
       "mean               1.20  \n",
       "std                0.76  \n",
       "min                0.10  \n",
       "25%                0.30  \n",
       "50%                1.30  \n",
       "75%                1.80  \n",
       "max                2.50  "
      ]
     },
     "execution_count": 61,
     "metadata": {},
     "output_type": "execute_result"
    }
   ],
   "source": [
    "# podstawowe statystyki \n",
    "df.describe()"
   ]
  },
  {
   "cell_type": "code",
   "execution_count": 62,
   "metadata": {},
   "outputs": [],
   "source": [
    "# filtrowanie danych\n",
    "X = df.iloc[:100,[0,2]].values \n",
    "# pierwsze sto wierszy + kolumna 0 i 2, "
   ]
  },
  {
   "cell_type": "code",
   "execution_count": 63,
   "metadata": {},
   "outputs": [],
   "source": [
    "\n",
    "# values- zamienia DataFrame na np.array\n",
    "y = df.iloc[:100,4].values"
   ]
  },
  {
   "cell_type": "code",
   "execution_count": 64,
   "metadata": {},
   "outputs": [
    {
     "data": {
      "text/plain": [
       "['setosa', 'versicolor']\n",
       "Categories (3, object): ['setosa', 'versicolor', 'virginica']"
      ]
     },
     "execution_count": 64,
     "metadata": {},
     "output_type": "execute_result"
    }
   ],
   "source": [
    "# unikalne wartosci\n",
    "y.unique()"
   ]
  },
  {
   "cell_type": "code",
   "execution_count": 65,
   "metadata": {},
   "outputs": [],
   "source": [
    "# przetwarzanie warunkowe\n",
    "y = np.where(y == 'setosa',-1,1)"
   ]
  },
  {
   "cell_type": "code",
   "execution_count": 66,
   "metadata": {},
   "outputs": [],
   "source": [
    "import matplotlib.pyplot as plt"
   ]
  },
  {
   "cell_type": "code",
   "execution_count": 67,
   "metadata": {},
   "outputs": [
    {
     "data": {
      "image/png": "[encoded data removed]",
      "text/plain": [
       "<Figure size 432x288 with 1 Axes>"
      ]
     },
     "metadata": {
      "needs_background": "light"
     },
     "output_type": "display_data"
    }
   ],
   "source": [
    "plt.scatter(X[:50,0],X[:50,1],color='red', marker='o',label='setosa')\n",
    "plt.scatter(X[50:100,0],X[50:100,1],color='blue', marker='x',\n",
    "label='versicolor')\n",
    "plt.xlabel('sepal length (cm)')\n",
    "plt.ylabel('petal length (cm)')\n",
    "plt.legend(loc='upper left')\n",
    "plt.show()"
   ]
  },
  {
   "cell_type": "code",
   "execution_count": 70,
   "metadata": {},
   "outputs": [
    {
     "name": "stdout",
     "output_type": "stream",
     "text": [
      "Downloading data from https://storage.googleapis.com/tensorflow/tf-keras-datasets/mnist.npz\n",
      "11493376/11490434 [==============================] - 0s 0us/step\n",
      "11501568/11490434 [==============================] - 0s 0us/step\n"
     ]
    },
    {
     "data": {
      "text/plain": [
       "(60000, 28, 28)"
      ]
     },
     "execution_count": 70,
     "metadata": {},
     "output_type": "execute_result"
    }
   ],
   "source": [
    "import numpy as np\n",
    "from keras.datasets import mnist\n",
    "\n",
    "(X_train, y_train),(X_test, y_test) = mnist.load_data()\n",
    "\n",
    "X_train.shape"
   ]
  },
  {
   "cell_type": "code",
   "execution_count": 71,
   "metadata": {},
   "outputs": [
    {
     "data": {
      "text/plain": [
       "<matplotlib.image.AxesImage at 0x124215880>"
      ]
     },
     "execution_count": 71,
     "metadata": {},
     "output_type": "execute_result"
    },
    {
     "data": {
      "image/png": "[encoded data removed]",
      "text/plain": [
       "<Figure size 432x288 with 1 Axes>"
      ]
     },
     "metadata": {
      "needs_background": "light"
     },
     "output_type": "display_data"
    }
   ],
   "source": [
    "import matplotlib.pyplot as plt\n",
    "plt.imshow(X_train[0], cmap=plt.cm.binary)"
   ]
  },
  {
   "cell_type": "code",
   "execution_count": 72,
   "metadata": {},
   "outputs": [],
   "source": [
    "from fastai.vision.all import *"
   ]
  },
  {
   "cell_type": "code",
   "execution_count": 74,
   "metadata": {},
   "outputs": [],
   "source": [
    "path = untar_data(URLs.MNIST_SAMPLE)\n",
    "# wybierz trojke\n",
    "thress = (path/'train'/'3').ls().sorted()\n",
    "im3_path = thress[1]\n",
    "im3 = Image.open(im3_path)\n",
    "# zapisz obraz jako tensor i wytnij czesc\n",
    "im3_t = tensor(im3)[4:15,4:22]"
   ]
  },
  {
   "cell_type": "code",
   "execution_count": 76,
   "metadata": {},
   "outputs": [
    {
     "data": {
      "text/html": [
       "<style type=\"text/css\">\n",
       "#T_4b185_row0_col0, #T_4b185_row0_col1, #T_4b185_row0_col2, #T_4b185_row0_col3, #T_4b185_row0_col4, #T_4b185_row0_col5, #T_4b185_row0_col6, #T_4b185_row0_col7, #T_4b185_row0_col8, #T_4b185_row0_col9, #T_4b185_row0_col10, #T_4b185_row0_col11, #T_4b185_row0_col12, #T_4b185_row0_col13, #T_4b185_row0_col14, #T_4b185_row0_col15, #T_4b185_row0_col16, #T_4b185_row0_col17, #T_4b185_row1_col0, #T_4b185_row1_col1, #T_4b185_row1_col2, #T_4b185_row1_col3, #T_4b185_row1_col4, #T_4b185_row1_col15, #T_4b185_row1_col16, #T_4b185_row1_col17, #T_4b185_row2_col0, #T_4b185_row2_col1, #T_4b185_row2_col2, #T_4b185_row2_col15, #T_4b185_row2_col16, #T_4b185_row2_col17, #T_4b185_row3_col0, #T_4b185_row3_col15, #T_4b185_row3_col16, #T_4b185_row3_col17, #T_4b185_row4_col0, #T_4b185_row4_col6, #T_4b185_row4_col7, #T_4b185_row4_col8, #T_4b185_row4_col9, #T_4b185_row4_col10, #T_4b185_row4_col15, #T_4b185_row4_col16, #T_4b185_row4_col17, #T_4b185_row5_col0, #T_4b185_row5_col5, #T_4b185_row5_col6, #T_4b185_row5_col7, #T_4b185_row5_col8, #T_4b185_row5_col9, #T_4b185_row5_col15, #T_4b185_row5_col16, #T_4b185_row5_col17, #T_4b185_row6_col0, #T_4b185_row6_col1, #T_4b185_row6_col2, #T_4b185_row6_col3, #T_4b185_row6_col4, #T_4b185_row6_col5, #T_4b185_row6_col6, #T_4b185_row6_col7, #T_4b185_row6_col8, #T_4b185_row6_col9, #T_4b185_row6_col14, #T_4b185_row6_col15, #T_4b185_row6_col16, #T_4b185_row6_col17, #T_4b185_row7_col0, #T_4b185_row7_col1, #T_4b185_row7_col2, #T_4b185_row7_col3, #T_4b185_row7_col4, #T_4b185_row7_col5, #T_4b185_row7_col6, #T_4b185_row7_col13, #T_4b185_row7_col14, #T_4b185_row7_col15, #T_4b185_row7_col16, #T_4b185_row7_col17, #T_4b185_row8_col0, #T_4b185_row8_col1, #T_4b185_row8_col2, #T_4b185_row8_col3, #T_4b185_row8_col4, #T_4b185_row8_col13, #T_4b185_row8_col14, #T_4b185_row8_col15, #T_4b185_row8_col16, #T_4b185_row8_col17, #T_4b185_row9_col0, #T_4b185_row9_col1, #T_4b185_row9_col2, #T_4b185_row9_col3, #T_4b185_row9_col4, #T_4b185_row9_col16, #T_4b185_row9_col17, #T_4b185_row10_col0, #T_4b185_row10_col1, #T_4b185_row10_col2, #T_4b185_row10_col3, #T_4b185_row10_col4, #T_4b185_row10_col5, #T_4b185_row10_col6, #T_4b185_row10_col17 {\n",
       "  font-size: 6pt;\n",
       "  background-color: #ffffff;\n",
       "  color: #000000;\n",
       "}\n",
       "#T_4b185_row1_col5 {\n",
       "  font-size: 6pt;\n",
       "  background-color: #efefef;\n",
       "  color: #000000;\n",
       "}\n",
       "#T_4b185_row1_col6, #T_4b185_row1_col13 {\n",
       "  font-size: 6pt;\n",
       "  background-color: #7c7c7c;\n",
       "  color: #f1f1f1;\n",
       "}\n",
       "#T_4b185_row1_col7 {\n",
       "  font-size: 6pt;\n",
       "  background-color: #4a4a4a;\n",
       "  color: #f1f1f1;\n",
       "}\n",
       "#T_4b185_row1_col8, #T_4b185_row1_col9, #T_4b185_row1_col10, #T_4b185_row2_col5, #T_4b185_row2_col6, #T_4b185_row2_col7, #T_4b185_row2_col11, #T_4b185_row2_col12, #T_4b185_row2_col13, #T_4b185_row3_col4, #T_4b185_row3_col12, #T_4b185_row3_col13, #T_4b185_row4_col1, #T_4b185_row4_col2, #T_4b185_row4_col3, #T_4b185_row4_col12, #T_4b185_row4_col13, #T_4b185_row5_col12, #T_4b185_row6_col11, #T_4b185_row9_col11, #T_4b185_row10_col11, #T_4b185_row10_col12, #T_4b185_row10_col13, #T_4b185_row10_col14, #T_4b185_row10_col15, #T_4b185_row10_col16 {\n",
       "  font-size: 6pt;\n",
       "  background-color: #000000;\n",
       "  color: #f1f1f1;\n",
       "}\n",
       "#T_4b185_row1_col11 {\n",
       "  font-size: 6pt;\n",
       "  background-color: #606060;\n",
       "  color: #f1f1f1;\n",
       "}\n",
       "#T_4b185_row1_col12 {\n",
       "  font-size: 6pt;\n",
       "  background-color: #4d4d4d;\n",
       "  color: #f1f1f1;\n",
       "}\n",
       "#T_4b185_row1_col14 {\n",
       "  font-size: 6pt;\n",
       "  background-color: #bbbbbb;\n",
       "  color: #000000;\n",
       "}\n",
       "#T_4b185_row2_col3 {\n",
       "  font-size: 6pt;\n",
       "  background-color: #e4e4e4;\n",
       "  color: #000000;\n",
       "}\n",
       "#T_4b185_row2_col4, #T_4b185_row8_col6 {\n",
       "  font-size: 6pt;\n",
       "  background-color: #6b6b6b;\n",
       "  color: #f1f1f1;\n",
       "}\n",
       "#T_4b185_row2_col8, #T_4b185_row2_col14, #T_4b185_row3_col14 {\n",
       "  font-size: 6pt;\n",
       "  background-color: #171717;\n",
       "  color: #f1f1f1;\n",
       "}\n",
       "#T_4b185_row2_col9, #T_4b185_row3_col11 {\n",
       "  font-size: 6pt;\n",
       "  background-color: #4b4b4b;\n",
       "  color: #f1f1f1;\n",
       "}\n",
       "#T_4b185_row2_col10, #T_4b185_row7_col10, #T_4b185_row8_col8, #T_4b185_row8_col10, #T_4b185_row9_col8, #T_4b185_row9_col10 {\n",
       "  font-size: 6pt;\n",
       "  background-color: #010101;\n",
       "  color: #f1f1f1;\n",
       "}\n",
       "#T_4b185_row3_col1 {\n",
       "  font-size: 6pt;\n",
       "  background-color: #272727;\n",
       "  color: #f1f1f1;\n",
       "}\n",
       "#T_4b185_row3_col2 {\n",
       "  font-size: 6pt;\n",
       "  background-color: #0a0a0a;\n",
       "  color: #f1f1f1;\n",
       "}\n",
       "#T_4b185_row3_col3 {\n",
       "  font-size: 6pt;\n",
       "  background-color: #050505;\n",
       "  color: #f1f1f1;\n",
       "}\n",
       "#T_4b185_row3_col5 {\n",
       "  font-size: 6pt;\n",
       "  background-color: #333333;\n",
       "  color: #f1f1f1;\n",
       "}\n",
       "#T_4b185_row3_col6 {\n",
       "  font-size: 6pt;\n",
       "  background-color: #e6e6e6;\n",
       "  color: #000000;\n",
       "}\n",
       "#T_4b185_row3_col7, #T_4b185_row3_col10 {\n",
       "  font-size: 6pt;\n",
       "  background-color: #fafafa;\n",
       "  color: #000000;\n",
       "}\n",
       "#T_4b185_row3_col8 {\n",
       "  font-size: 6pt;\n",
       "  background-color: #fbfbfb;\n",
       "  color: #000000;\n",
       "}\n",
       "#T_4b185_row3_col9 {\n",
       "  font-size: 6pt;\n",
       "  background-color: #fdfdfd;\n",
       "  color: #000000;\n",
       "}\n",
       "#T_4b185_row4_col4 {\n",
       "  font-size: 6pt;\n",
       "  background-color: #1b1b1b;\n",
       "  color: #f1f1f1;\n",
       "}\n",
       "#T_4b185_row4_col5 {\n",
       "  font-size: 6pt;\n",
       "  background-color: #e0e0e0;\n",
       "  color: #000000;\n",
       "}\n",
       "#T_4b185_row4_col11 {\n",
       "  font-size: 6pt;\n",
       "  background-color: #4e4e4e;\n",
       "  color: #f1f1f1;\n",
       "}\n",
       "#T_4b185_row4_col14 {\n",
       "  font-size: 6pt;\n",
       "  background-color: #767676;\n",
       "  color: #f1f1f1;\n",
       "}\n",
       "#T_4b185_row5_col1 {\n",
       "  font-size: 6pt;\n",
       "  background-color: #fcfcfc;\n",
       "  color: #000000;\n",
       "}\n",
       "#T_4b185_row5_col2, #T_4b185_row5_col3 {\n",
       "  font-size: 6pt;\n",
       "  background-color: #f6f6f6;\n",
       "  color: #000000;\n",
       "}\n",
       "#T_4b185_row5_col4, #T_4b185_row7_col7 {\n",
       "  font-size: 6pt;\n",
       "  background-color: #f8f8f8;\n",
       "  color: #000000;\n",
       "}\n",
       "#T_4b185_row5_col10, #T_4b185_row10_col7 {\n",
       "  font-size: 6pt;\n",
       "  background-color: #e8e8e8;\n",
       "  color: #000000;\n",
       "}\n",
       "#T_4b185_row5_col11 {\n",
       "  font-size: 6pt;\n",
       "  background-color: #222222;\n",
       "  color: #f1f1f1;\n",
       "}\n",
       "#T_4b185_row5_col13, #T_4b185_row6_col12 {\n",
       "  font-size: 6pt;\n",
       "  background-color: #090909;\n",
       "  color: #f1f1f1;\n",
       "}\n",
       "#T_4b185_row5_col14 {\n",
       "  font-size: 6pt;\n",
       "  background-color: #d0d0d0;\n",
       "  color: #000000;\n",
       "}\n",
       "#T_4b185_row6_col10, #T_4b185_row7_col11, #T_4b185_row9_col6 {\n",
       "  font-size: 6pt;\n",
       "  background-color: #060606;\n",
       "  color: #f1f1f1;\n",
       "}\n",
       "#T_4b185_row6_col13 {\n",
       "  font-size: 6pt;\n",
       "  background-color: #979797;\n",
       "  color: #f1f1f1;\n",
       "}\n",
       "#T_4b185_row7_col8 {\n",
       "  font-size: 6pt;\n",
       "  background-color: #b6b6b6;\n",
       "  color: #000000;\n",
       "}\n",
       "#T_4b185_row7_col9 {\n",
       "  font-size: 6pt;\n",
       "  background-color: #252525;\n",
       "  color: #f1f1f1;\n",
       "}\n",
       "#T_4b185_row7_col12 {\n",
       "  font-size: 6pt;\n",
       "  background-color: #999999;\n",
       "  color: #f1f1f1;\n",
       "}\n",
       "#T_4b185_row8_col5 {\n",
       "  font-size: 6pt;\n",
       "  background-color: #f9f9f9;\n",
       "  color: #000000;\n",
       "}\n",
       "#T_4b185_row8_col7 {\n",
       "  font-size: 6pt;\n",
       "  background-color: #101010;\n",
       "  color: #f1f1f1;\n",
       "}\n",
       "#T_4b185_row8_col9, #T_4b185_row9_col9 {\n",
       "  font-size: 6pt;\n",
       "  background-color: #020202;\n",
       "  color: #f1f1f1;\n",
       "}\n",
       "#T_4b185_row8_col11 {\n",
       "  font-size: 6pt;\n",
       "  background-color: #545454;\n",
       "  color: #f1f1f1;\n",
       "}\n",
       "#T_4b185_row8_col12 {\n",
       "  font-size: 6pt;\n",
       "  background-color: #f1f1f1;\n",
       "  color: #000000;\n",
       "}\n",
       "#T_4b185_row9_col5 {\n",
       "  font-size: 6pt;\n",
       "  background-color: #f7f7f7;\n",
       "  color: #000000;\n",
       "}\n",
       "#T_4b185_row9_col7 {\n",
       "  font-size: 6pt;\n",
       "  background-color: #030303;\n",
       "  color: #f1f1f1;\n",
       "}\n",
       "#T_4b185_row9_col12 {\n",
       "  font-size: 6pt;\n",
       "  background-color: #181818;\n",
       "  color: #f1f1f1;\n",
       "}\n",
       "#T_4b185_row9_col13 {\n",
       "  font-size: 6pt;\n",
       "  background-color: #303030;\n",
       "  color: #f1f1f1;\n",
       "}\n",
       "#T_4b185_row9_col14 {\n",
       "  font-size: 6pt;\n",
       "  background-color: #a9a9a9;\n",
       "  color: #f1f1f1;\n",
       "}\n",
       "#T_4b185_row9_col15 {\n",
       "  font-size: 6pt;\n",
       "  background-color: #fefefe;\n",
       "  color: #000000;\n",
       "}\n",
       "#T_4b185_row10_col8, #T_4b185_row10_col9 {\n",
       "  font-size: 6pt;\n",
       "  background-color: #bababa;\n",
       "  color: #000000;\n",
       "}\n",
       "#T_4b185_row10_col10 {\n",
       "  font-size: 6pt;\n",
       "  background-color: #393939;\n",
       "  color: #f1f1f1;\n",
       "}\n",
       "</style>\n",
       "<table id=\"T_4b185\">\n",
       "  <thead>\n",
       "    <tr>\n",
       "      <th class=\"blank level0\" >&nbsp;</th>\n",
       "      <th id=\"T_4b185_level0_col0\" class=\"col_heading level0 col0\" >0</th>\n",
       "      <th id=\"T_4b185_level0_col1\" class=\"col_heading level0 col1\" >1</th>\n",
       "      <th id=\"T_4b185_level0_col2\" class=\"col_heading level0 col2\" >2</th>\n",
       "      <th id=\"T_4b185_level0_col3\" class=\"col_heading level0 col3\" >3</th>\n",
       "      <th id=\"T_4b185_level0_col4\" class=\"col_heading level0 col4\" >4</th>\n",
       "      <th id=\"T_4b185_level0_col5\" class=\"col_heading level0 col5\" >5</th>\n",
       "      <th id=\"T_4b185_level0_col6\" class=\"col_heading level0 col6\" >6</th>\n",
       "      <th id=\"T_4b185_level0_col7\" class=\"col_heading level0 col7\" >7</th>\n",
       "      <th id=\"T_4b185_level0_col8\" class=\"col_heading level0 col8\" >8</th>\n",
       "      <th id=\"T_4b185_level0_col9\" class=\"col_heading level0 col9\" >9</th>\n",
       "      <th id=\"T_4b185_level0_col10\" class=\"col_heading level0 col10\" >10</th>\n",
       "      <th id=\"T_4b185_level0_col11\" class=\"col_heading level0 col11\" >11</th>\n",
       "      <th id=\"T_4b185_level0_col12\" class=\"col_heading level0 col12\" >12</th>\n",
       "      <th id=\"T_4b185_level0_col13\" class=\"col_heading level0 col13\" >13</th>\n",
       "      <th id=\"T_4b185_level0_col14\" class=\"col_heading level0 col14\" >14</th>\n",
       "      <th id=\"T_4b185_level0_col15\" class=\"col_heading level0 col15\" >15</th>\n",
       "      <th id=\"T_4b185_level0_col16\" class=\"col_heading level0 col16\" >16</th>\n",
       "      <th id=\"T_4b185_level0_col17\" class=\"col_heading level0 col17\" >17</th>\n",
       "    </tr>\n",
       "  </thead>\n",
       "  <tbody>\n",
       "    <tr>\n",
       "      <th id=\"T_4b185_level0_row0\" class=\"row_heading level0 row0\" >0</th>\n",
       "      <td id=\"T_4b185_row0_col0\" class=\"data row0 col0\" >0</td>\n",
       "      <td id=\"T_4b185_row0_col1\" class=\"data row0 col1\" >0</td>\n",
       "      <td id=\"T_4b185_row0_col2\" class=\"data row0 col2\" >0</td>\n",
       "      <td id=\"T_4b185_row0_col3\" class=\"data row0 col3\" >0</td>\n",
       "      <td id=\"T_4b185_row0_col4\" class=\"data row0 col4\" >0</td>\n",
       "      <td id=\"T_4b185_row0_col5\" class=\"data row0 col5\" >0</td>\n",
       "      <td id=\"T_4b185_row0_col6\" class=\"data row0 col6\" >0</td>\n",
       "      <td id=\"T_4b185_row0_col7\" class=\"data row0 col7\" >0</td>\n",
       "      <td id=\"T_4b185_row0_col8\" class=\"data row0 col8\" >0</td>\n",
       "      <td id=\"T_4b185_row0_col9\" class=\"data row0 col9\" >0</td>\n",
       "      <td id=\"T_4b185_row0_col10\" class=\"data row0 col10\" >0</td>\n",
       "      <td id=\"T_4b185_row0_col11\" class=\"data row0 col11\" >0</td>\n",
       "      <td id=\"T_4b185_row0_col12\" class=\"data row0 col12\" >0</td>\n",
       "      <td id=\"T_4b185_row0_col13\" class=\"data row0 col13\" >0</td>\n",
       "      <td id=\"T_4b185_row0_col14\" class=\"data row0 col14\" >0</td>\n",
       "      <td id=\"T_4b185_row0_col15\" class=\"data row0 col15\" >0</td>\n",
       "      <td id=\"T_4b185_row0_col16\" class=\"data row0 col16\" >0</td>\n",
       "      <td id=\"T_4b185_row0_col17\" class=\"data row0 col17\" >0</td>\n",
       "    </tr>\n",
       "    <tr>\n",
       "      <th id=\"T_4b185_level0_row1\" class=\"row_heading level0 row1\" >1</th>\n",
       "      <td id=\"T_4b185_row1_col0\" class=\"data row1 col0\" >0</td>\n",
       "      <td id=\"T_4b185_row1_col1\" class=\"data row1 col1\" >0</td>\n",
       "      <td id=\"T_4b185_row1_col2\" class=\"data row1 col2\" >0</td>\n",
       "      <td id=\"T_4b185_row1_col3\" class=\"data row1 col3\" >0</td>\n",
       "      <td id=\"T_4b185_row1_col4\" class=\"data row1 col4\" >0</td>\n",
       "      <td id=\"T_4b185_row1_col5\" class=\"data row1 col5\" >29</td>\n",
       "      <td id=\"T_4b185_row1_col6\" class=\"data row1 col6\" >150</td>\n",
       "      <td id=\"T_4b185_row1_col7\" class=\"data row1 col7\" >195</td>\n",
       "      <td id=\"T_4b185_row1_col8\" class=\"data row1 col8\" >254</td>\n",
       "      <td id=\"T_4b185_row1_col9\" class=\"data row1 col9\" >255</td>\n",
       "      <td id=\"T_4b185_row1_col10\" class=\"data row1 col10\" >254</td>\n",
       "      <td id=\"T_4b185_row1_col11\" class=\"data row1 col11\" >176</td>\n",
       "      <td id=\"T_4b185_row1_col12\" class=\"data row1 col12\" >193</td>\n",
       "      <td id=\"T_4b185_row1_col13\" class=\"data row1 col13\" >150</td>\n",
       "      <td id=\"T_4b185_row1_col14\" class=\"data row1 col14\" >96</td>\n",
       "      <td id=\"T_4b185_row1_col15\" class=\"data row1 col15\" >0</td>\n",
       "      <td id=\"T_4b185_row1_col16\" class=\"data row1 col16\" >0</td>\n",
       "      <td id=\"T_4b185_row1_col17\" class=\"data row1 col17\" >0</td>\n",
       "    </tr>\n",
       "    <tr>\n",
       "      <th id=\"T_4b185_level0_row2\" class=\"row_heading level0 row2\" >2</th>\n",
       "      <td id=\"T_4b185_row2_col0\" class=\"data row2 col0\" >0</td>\n",
       "      <td id=\"T_4b185_row2_col1\" class=\"data row2 col1\" >0</td>\n",
       "      <td id=\"T_4b185_row2_col2\" class=\"data row2 col2\" >0</td>\n",
       "      <td id=\"T_4b185_row2_col3\" class=\"data row2 col3\" >48</td>\n",
       "      <td id=\"T_4b185_row2_col4\" class=\"data row2 col4\" >166</td>\n",
       "      <td id=\"T_4b185_row2_col5\" class=\"data row2 col5\" >224</td>\n",
       "      <td id=\"T_4b185_row2_col6\" class=\"data row2 col6\" >253</td>\n",
       "      <td id=\"T_4b185_row2_col7\" class=\"data row2 col7\" >253</td>\n",
       "      <td id=\"T_4b185_row2_col8\" class=\"data row2 col8\" >234</td>\n",
       "      <td id=\"T_4b185_row2_col9\" class=\"data row2 col9\" >196</td>\n",
       "      <td id=\"T_4b185_row2_col10\" class=\"data row2 col10\" >253</td>\n",
       "      <td id=\"T_4b185_row2_col11\" class=\"data row2 col11\" >253</td>\n",
       "      <td id=\"T_4b185_row2_col12\" class=\"data row2 col12\" >253</td>\n",
       "      <td id=\"T_4b185_row2_col13\" class=\"data row2 col13\" >253</td>\n",
       "      <td id=\"T_4b185_row2_col14\" class=\"data row2 col14\" >233</td>\n",
       "      <td id=\"T_4b185_row2_col15\" class=\"data row2 col15\" >0</td>\n",
       "      <td id=\"T_4b185_row2_col16\" class=\"data row2 col16\" >0</td>\n",
       "      <td id=\"T_4b185_row2_col17\" class=\"data row2 col17\" >0</td>\n",
       "    </tr>\n",
       "    <tr>\n",
       "      <th id=\"T_4b185_level0_row3\" class=\"row_heading level0 row3\" >3</th>\n",
       "      <td id=\"T_4b185_row3_col0\" class=\"data row3 col0\" >0</td>\n",
       "      <td id=\"T_4b185_row3_col1\" class=\"data row3 col1\" >93</td>\n",
       "      <td id=\"T_4b185_row3_col2\" class=\"data row3 col2\" >244</td>\n",
       "      <td id=\"T_4b185_row3_col3\" class=\"data row3 col3\" >249</td>\n",
       "      <td id=\"T_4b185_row3_col4\" class=\"data row3 col4\" >253</td>\n",
       "      <td id=\"T_4b185_row3_col5\" class=\"data row3 col5\" >187</td>\n",
       "      <td id=\"T_4b185_row3_col6\" class=\"data row3 col6\" >46</td>\n",
       "      <td id=\"T_4b185_row3_col7\" class=\"data row3 col7\" >10</td>\n",
       "      <td id=\"T_4b185_row3_col8\" class=\"data row3 col8\" >8</td>\n",
       "      <td id=\"T_4b185_row3_col9\" class=\"data row3 col9\" >4</td>\n",
       "      <td id=\"T_4b185_row3_col10\" class=\"data row3 col10\" >10</td>\n",
       "      <td id=\"T_4b185_row3_col11\" class=\"data row3 col11\" >194</td>\n",
       "      <td id=\"T_4b185_row3_col12\" class=\"data row3 col12\" >253</td>\n",
       "      <td id=\"T_4b185_row3_col13\" class=\"data row3 col13\" >253</td>\n",
       "      <td id=\"T_4b185_row3_col14\" class=\"data row3 col14\" >233</td>\n",
       "      <td id=\"T_4b185_row3_col15\" class=\"data row3 col15\" >0</td>\n",
       "      <td id=\"T_4b185_row3_col16\" class=\"data row3 col16\" >0</td>\n",
       "      <td id=\"T_4b185_row3_col17\" class=\"data row3 col17\" >0</td>\n",
       "    </tr>\n",
       "    <tr>\n",
       "      <th id=\"T_4b185_level0_row4\" class=\"row_heading level0 row4\" >4</th>\n",
       "      <td id=\"T_4b185_row4_col0\" class=\"data row4 col0\" >0</td>\n",
       "      <td id=\"T_4b185_row4_col1\" class=\"data row4 col1\" >107</td>\n",
       "      <td id=\"T_4b185_row4_col2\" class=\"data row4 col2\" >253</td>\n",
       "      <td id=\"T_4b185_row4_col3\" class=\"data row4 col3\" >253</td>\n",
       "      <td id=\"T_4b185_row4_col4\" class=\"data row4 col4\" >230</td>\n",
       "      <td id=\"T_4b185_row4_col5\" class=\"data row4 col5\" >48</td>\n",
       "      <td id=\"T_4b185_row4_col6\" class=\"data row4 col6\" >0</td>\n",
       "      <td id=\"T_4b185_row4_col7\" class=\"data row4 col7\" >0</td>\n",
       "      <td id=\"T_4b185_row4_col8\" class=\"data row4 col8\" >0</td>\n",
       "      <td id=\"T_4b185_row4_col9\" class=\"data row4 col9\" >0</td>\n",
       "      <td id=\"T_4b185_row4_col10\" class=\"data row4 col10\" >0</td>\n",
       "      <td id=\"T_4b185_row4_col11\" class=\"data row4 col11\" >192</td>\n",
       "      <td id=\"T_4b185_row4_col12\" class=\"data row4 col12\" >253</td>\n",
       "      <td id=\"T_4b185_row4_col13\" class=\"data row4 col13\" >253</td>\n",
       "      <td id=\"T_4b185_row4_col14\" class=\"data row4 col14\" >156</td>\n",
       "      <td id=\"T_4b185_row4_col15\" class=\"data row4 col15\" >0</td>\n",
       "      <td id=\"T_4b185_row4_col16\" class=\"data row4 col16\" >0</td>\n",
       "      <td id=\"T_4b185_row4_col17\" class=\"data row4 col17\" >0</td>\n",
       "    </tr>\n",
       "    <tr>\n",
       "      <th id=\"T_4b185_level0_row5\" class=\"row_heading level0 row5\" >5</th>\n",
       "      <td id=\"T_4b185_row5_col0\" class=\"data row5 col0\" >0</td>\n",
       "      <td id=\"T_4b185_row5_col1\" class=\"data row5 col1\" >3</td>\n",
       "      <td id=\"T_4b185_row5_col2\" class=\"data row5 col2\" >20</td>\n",
       "      <td id=\"T_4b185_row5_col3\" class=\"data row5 col3\" >20</td>\n",
       "      <td id=\"T_4b185_row5_col4\" class=\"data row5 col4\" >15</td>\n",
       "      <td id=\"T_4b185_row5_col5\" class=\"data row5 col5\" >0</td>\n",
       "      <td id=\"T_4b185_row5_col6\" class=\"data row5 col6\" >0</td>\n",
       "      <td id=\"T_4b185_row5_col7\" class=\"data row5 col7\" >0</td>\n",
       "      <td id=\"T_4b185_row5_col8\" class=\"data row5 col8\" >0</td>\n",
       "      <td id=\"T_4b185_row5_col9\" class=\"data row5 col9\" >0</td>\n",
       "      <td id=\"T_4b185_row5_col10\" class=\"data row5 col10\" >43</td>\n",
       "      <td id=\"T_4b185_row5_col11\" class=\"data row5 col11\" >224</td>\n",
       "      <td id=\"T_4b185_row5_col12\" class=\"data row5 col12\" >253</td>\n",
       "      <td id=\"T_4b185_row5_col13\" class=\"data row5 col13\" >245</td>\n",
       "      <td id=\"T_4b185_row5_col14\" class=\"data row5 col14\" >74</td>\n",
       "      <td id=\"T_4b185_row5_col15\" class=\"data row5 col15\" >0</td>\n",
       "      <td id=\"T_4b185_row5_col16\" class=\"data row5 col16\" >0</td>\n",
       "      <td id=\"T_4b185_row5_col17\" class=\"data row5 col17\" >0</td>\n",
       "    </tr>\n",
       "    <tr>\n",
       "      <th id=\"T_4b185_level0_row6\" class=\"row_heading level0 row6\" >6</th>\n",
       "      <td id=\"T_4b185_row6_col0\" class=\"data row6 col0\" >0</td>\n",
       "      <td id=\"T_4b185_row6_col1\" class=\"data row6 col1\" >0</td>\n",
       "      <td id=\"T_4b185_row6_col2\" class=\"data row6 col2\" >0</td>\n",
       "      <td id=\"T_4b185_row6_col3\" class=\"data row6 col3\" >0</td>\n",
       "      <td id=\"T_4b185_row6_col4\" class=\"data row6 col4\" >0</td>\n",
       "      <td id=\"T_4b185_row6_col5\" class=\"data row6 col5\" >0</td>\n",
       "      <td id=\"T_4b185_row6_col6\" class=\"data row6 col6\" >0</td>\n",
       "      <td id=\"T_4b185_row6_col7\" class=\"data row6 col7\" >0</td>\n",
       "      <td id=\"T_4b185_row6_col8\" class=\"data row6 col8\" >0</td>\n",
       "      <td id=\"T_4b185_row6_col9\" class=\"data row6 col9\" >0</td>\n",
       "      <td id=\"T_4b185_row6_col10\" class=\"data row6 col10\" >249</td>\n",
       "      <td id=\"T_4b185_row6_col11\" class=\"data row6 col11\" >253</td>\n",
       "      <td id=\"T_4b185_row6_col12\" class=\"data row6 col12\" >245</td>\n",
       "      <td id=\"T_4b185_row6_col13\" class=\"data row6 col13\" >126</td>\n",
       "      <td id=\"T_4b185_row6_col14\" class=\"data row6 col14\" >0</td>\n",
       "      <td id=\"T_4b185_row6_col15\" class=\"data row6 col15\" >0</td>\n",
       "      <td id=\"T_4b185_row6_col16\" class=\"data row6 col16\" >0</td>\n",
       "      <td id=\"T_4b185_row6_col17\" class=\"data row6 col17\" >0</td>\n",
       "    </tr>\n",
       "    <tr>\n",
       "      <th id=\"T_4b185_level0_row7\" class=\"row_heading level0 row7\" >7</th>\n",
       "      <td id=\"T_4b185_row7_col0\" class=\"data row7 col0\" >0</td>\n",
       "      <td id=\"T_4b185_row7_col1\" class=\"data row7 col1\" >0</td>\n",
       "      <td id=\"T_4b185_row7_col2\" class=\"data row7 col2\" >0</td>\n",
       "      <td id=\"T_4b185_row7_col3\" class=\"data row7 col3\" >0</td>\n",
       "      <td id=\"T_4b185_row7_col4\" class=\"data row7 col4\" >0</td>\n",
       "      <td id=\"T_4b185_row7_col5\" class=\"data row7 col5\" >0</td>\n",
       "      <td id=\"T_4b185_row7_col6\" class=\"data row7 col6\" >0</td>\n",
       "      <td id=\"T_4b185_row7_col7\" class=\"data row7 col7\" >14</td>\n",
       "      <td id=\"T_4b185_row7_col8\" class=\"data row7 col8\" >101</td>\n",
       "      <td id=\"T_4b185_row7_col9\" class=\"data row7 col9\" >223</td>\n",
       "      <td id=\"T_4b185_row7_col10\" class=\"data row7 col10\" >253</td>\n",
       "      <td id=\"T_4b185_row7_col11\" class=\"data row7 col11\" >248</td>\n",
       "      <td id=\"T_4b185_row7_col12\" class=\"data row7 col12\" >124</td>\n",
       "      <td id=\"T_4b185_row7_col13\" class=\"data row7 col13\" >0</td>\n",
       "      <td id=\"T_4b185_row7_col14\" class=\"data row7 col14\" >0</td>\n",
       "      <td id=\"T_4b185_row7_col15\" class=\"data row7 col15\" >0</td>\n",
       "      <td id=\"T_4b185_row7_col16\" class=\"data row7 col16\" >0</td>\n",
       "      <td id=\"T_4b185_row7_col17\" class=\"data row7 col17\" >0</td>\n",
       "    </tr>\n",
       "    <tr>\n",
       "      <th id=\"T_4b185_level0_row8\" class=\"row_heading level0 row8\" >8</th>\n",
       "      <td id=\"T_4b185_row8_col0\" class=\"data row8 col0\" >0</td>\n",
       "      <td id=\"T_4b185_row8_col1\" class=\"data row8 col1\" >0</td>\n",
       "      <td id=\"T_4b185_row8_col2\" class=\"data row8 col2\" >0</td>\n",
       "      <td id=\"T_4b185_row8_col3\" class=\"data row8 col3\" >0</td>\n",
       "      <td id=\"T_4b185_row8_col4\" class=\"data row8 col4\" >0</td>\n",
       "      <td id=\"T_4b185_row8_col5\" class=\"data row8 col5\" >11</td>\n",
       "      <td id=\"T_4b185_row8_col6\" class=\"data row8 col6\" >166</td>\n",
       "      <td id=\"T_4b185_row8_col7\" class=\"data row8 col7\" >239</td>\n",
       "      <td id=\"T_4b185_row8_col8\" class=\"data row8 col8\" >253</td>\n",
       "      <td id=\"T_4b185_row8_col9\" class=\"data row8 col9\" >253</td>\n",
       "      <td id=\"T_4b185_row8_col10\" class=\"data row8 col10\" >253</td>\n",
       "      <td id=\"T_4b185_row8_col11\" class=\"data row8 col11\" >187</td>\n",
       "      <td id=\"T_4b185_row8_col12\" class=\"data row8 col12\" >30</td>\n",
       "      <td id=\"T_4b185_row8_col13\" class=\"data row8 col13\" >0</td>\n",
       "      <td id=\"T_4b185_row8_col14\" class=\"data row8 col14\" >0</td>\n",
       "      <td id=\"T_4b185_row8_col15\" class=\"data row8 col15\" >0</td>\n",
       "      <td id=\"T_4b185_row8_col16\" class=\"data row8 col16\" >0</td>\n",
       "      <td id=\"T_4b185_row8_col17\" class=\"data row8 col17\" >0</td>\n",
       "    </tr>\n",
       "    <tr>\n",
       "      <th id=\"T_4b185_level0_row9\" class=\"row_heading level0 row9\" >9</th>\n",
       "      <td id=\"T_4b185_row9_col0\" class=\"data row9 col0\" >0</td>\n",
       "      <td id=\"T_4b185_row9_col1\" class=\"data row9 col1\" >0</td>\n",
       "      <td id=\"T_4b185_row9_col2\" class=\"data row9 col2\" >0</td>\n",
       "      <td id=\"T_4b185_row9_col3\" class=\"data row9 col3\" >0</td>\n",
       "      <td id=\"T_4b185_row9_col4\" class=\"data row9 col4\" >0</td>\n",
       "      <td id=\"T_4b185_row9_col5\" class=\"data row9 col5\" >16</td>\n",
       "      <td id=\"T_4b185_row9_col6\" class=\"data row9 col6\" >248</td>\n",
       "      <td id=\"T_4b185_row9_col7\" class=\"data row9 col7\" >250</td>\n",
       "      <td id=\"T_4b185_row9_col8\" class=\"data row9 col8\" >253</td>\n",
       "      <td id=\"T_4b185_row9_col9\" class=\"data row9 col9\" >253</td>\n",
       "      <td id=\"T_4b185_row9_col10\" class=\"data row9 col10\" >253</td>\n",
       "      <td id=\"T_4b185_row9_col11\" class=\"data row9 col11\" >253</td>\n",
       "      <td id=\"T_4b185_row9_col12\" class=\"data row9 col12\" >232</td>\n",
       "      <td id=\"T_4b185_row9_col13\" class=\"data row9 col13\" >213</td>\n",
       "      <td id=\"T_4b185_row9_col14\" class=\"data row9 col14\" >111</td>\n",
       "      <td id=\"T_4b185_row9_col15\" class=\"data row9 col15\" >2</td>\n",
       "      <td id=\"T_4b185_row9_col16\" class=\"data row9 col16\" >0</td>\n",
       "      <td id=\"T_4b185_row9_col17\" class=\"data row9 col17\" >0</td>\n",
       "    </tr>\n",
       "    <tr>\n",
       "      <th id=\"T_4b185_level0_row10\" class=\"row_heading level0 row10\" >10</th>\n",
       "      <td id=\"T_4b185_row10_col0\" class=\"data row10 col0\" >0</td>\n",
       "      <td id=\"T_4b185_row10_col1\" class=\"data row10 col1\" >0</td>\n",
       "      <td id=\"T_4b185_row10_col2\" class=\"data row10 col2\" >0</td>\n",
       "      <td id=\"T_4b185_row10_col3\" class=\"data row10 col3\" >0</td>\n",
       "      <td id=\"T_4b185_row10_col4\" class=\"data row10 col4\" >0</td>\n",
       "      <td id=\"T_4b185_row10_col5\" class=\"data row10 col5\" >0</td>\n",
       "      <td id=\"T_4b185_row10_col6\" class=\"data row10 col6\" >0</td>\n",
       "      <td id=\"T_4b185_row10_col7\" class=\"data row10 col7\" >43</td>\n",
       "      <td id=\"T_4b185_row10_col8\" class=\"data row10 col8\" >98</td>\n",
       "      <td id=\"T_4b185_row10_col9\" class=\"data row10 col9\" >98</td>\n",
       "      <td id=\"T_4b185_row10_col10\" class=\"data row10 col10\" >208</td>\n",
       "      <td id=\"T_4b185_row10_col11\" class=\"data row10 col11\" >253</td>\n",
       "      <td id=\"T_4b185_row10_col12\" class=\"data row10 col12\" >253</td>\n",
       "      <td id=\"T_4b185_row10_col13\" class=\"data row10 col13\" >253</td>\n",
       "      <td id=\"T_4b185_row10_col14\" class=\"data row10 col14\" >253</td>\n",
       "      <td id=\"T_4b185_row10_col15\" class=\"data row10 col15\" >187</td>\n",
       "      <td id=\"T_4b185_row10_col16\" class=\"data row10 col16\" >22</td>\n",
       "      <td id=\"T_4b185_row10_col17\" class=\"data row10 col17\" >0</td>\n",
       "    </tr>\n",
       "  </tbody>\n",
       "</table>\n"
      ],
      "text/plain": [
       "<pandas.io.formats.style.Styler at 0x129aa6b50>"
      ]
     },
     "execution_count": 76,
     "metadata": {},
     "output_type": "execute_result"
    }
   ],
   "source": [
    "im3_df = pd.DataFrame(im3_t)\n",
    "im3_df.style.set_properties(**{'font-size':'6pt'})\\\n",
    ".background_gradient('Greys')"
   ]
  },
  {
   "cell_type": "code",
   "execution_count": 78,
   "metadata": {},
   "outputs": [
    {
     "data": {
      "text/plain": [
       "(50000, 32, 32, 3)"
      ]
     },
     "execution_count": 78,
     "metadata": {},
     "output_type": "execute_result"
    }
   ],
   "source": [
    "import numpy as np\n",
    "from keras.datasets import cifar10\n",
    "\n",
    "(X_train, y_train),(X_test, y_test) = cifar10.load_data()\n",
    "# rozmiar \n",
    "X_train.shape"
   ]
  },
  {
   "cell_type": "code",
   "execution_count": 79,
   "metadata": {},
   "outputs": [
    {
     "name": "stdout",
     "output_type": "stream",
     "text": [
      "0\n"
     ]
    }
   ],
   "source": [
    "import numpy as np\n",
    "skalar = np.array(5)\n",
    "print(skalar.ndim)"
   ]
  },
  {
   "cell_type": "code",
   "execution_count": 80,
   "metadata": {},
   "outputs": [
    {
     "name": "stdout",
     "output_type": "stream",
     "text": [
      "1\n"
     ]
    }
   ],
   "source": [
    "wektor_1d = np.array([3, 5, 7])\n",
    "print(wektor_1d.ndim)"
   ]
  },
  {
   "cell_type": "code",
   "execution_count": 81,
   "metadata": {},
   "outputs": [
    {
     "name": "stdout",
     "output_type": "stream",
     "text": [
      "2\n"
     ]
    }
   ],
   "source": [
    "macierz_2d = np.array([[1,2],[3,4]])\n",
    "print(macierz_2d.ndim)"
   ]
  },
  {
   "cell_type": "code",
   "execution_count": 83,
   "metadata": {},
   "outputs": [
    {
     "name": "stdout",
     "output_type": "stream",
     "text": [
      "tensor([4, 6, 8])\n"
     ]
    }
   ],
   "source": [
    "import torch \n",
    "a = torch.tensor([1,2,3])\n",
    "b = torch.tensor([3,4,5])\n",
    "c = a+b\n",
    "print(c)"
   ]
  },
  {
   "cell_type": "code",
   "execution_count": 84,
   "metadata": {},
   "outputs": [
    {
     "data": {
      "text/plain": [
       "torch.Size([2, 3])"
      ]
     },
     "execution_count": 84,
     "metadata": {},
     "output_type": "execute_result"
    }
   ],
   "source": [
    "d = torch.tensor([[1,2,3],[3,4,5]])\n",
    "d.size()\n"
   ]
  },
  {
   "cell_type": "code",
   "execution_count": 85,
   "metadata": {},
   "outputs": [
    {
     "data": {
      "text/plain": [
       "tensor([[1, 3],\n",
       "        [2, 4],\n",
       "        [3, 5]])"
      ]
     },
     "execution_count": 85,
     "metadata": {},
     "output_type": "execute_result"
    }
   ],
   "source": [
    "d.T"
   ]
  },
  {
   "cell_type": "code",
   "execution_count": 87,
   "metadata": {},
   "outputs": [
    {
     "data": {
      "text/plain": [
       "device(type='cpu')"
      ]
     },
     "execution_count": 87,
     "metadata": {},
     "output_type": "execute_result"
    }
   ],
   "source": [
    "device = \"cuda\" if torch.cuda.is_available() else \"cpu\"\n",
    "\n",
    "x = torch.tensor([[1,2,3],[4,5,6]], device=device)\n",
    "x.device"
   ]
  },
  {
   "cell_type": "markdown",
   "metadata": {},
   "source": [
    "## Podłączenie do Apache Spark\n",
    "\n",
    "Sprawdź rozdział 3"
   ]
  },
  {
   "cell_type": "code",
   "execution_count": 88,
   "metadata": {},
   "outputs": [],
   "source": [
    "import findspark\n",
    "findspark.init('/Users/air/Desktop/spark')"
   ]
  },
  {
   "cell_type": "code",
   "execution_count": 91,
   "metadata": {},
   "outputs": [
    {
     "name": "stderr",
     "output_type": "stream",
     "text": [
      "22/02/05 15:51:02 WARN SparkContext: Another SparkContext is being constructed (or threw an exception in its constructor). This may indicate an error, since only one SparkContext should be running in this JVM (see SPARK-2243). The other SparkContext was created at:\n",
      "org.apache.spark.api.java.JavaSparkContext.<init>(JavaSparkContext.scala:58)\n",
      "sun.reflect.NativeConstructorAccessorImpl.newInstance0(Native Method)\n",
      "sun.reflect.NativeConstructorAccessorImpl.newInstance(NativeConstructorAccessorImpl.java:62)\n",
      "sun.reflect.DelegatingConstructorAccessorImpl.newInstance(DelegatingConstructorAccessorImpl.java:45)\n",
      "java.lang.reflect.Constructor.newInstance(Constructor.java:423)\n",
      "py4j.reflection.MethodInvoker.invoke(MethodInvoker.java:247)\n",
      "py4j.reflection.ReflectionEngine.invoke(ReflectionEngine.java:357)\n",
      "py4j.Gateway.invoke(Gateway.java:238)\n",
      "py4j.commands.ConstructorCommand.invokeConstructor(ConstructorCommand.java:80)\n",
      "py4j.commands.ConstructorCommand.execute(ConstructorCommand.java:69)\n",
      "py4j.ClientServerConnection.waitForCommands(ClientServerConnection.java:182)\n",
      "py4j.ClientServerConnection.run(ClientServerConnection.java:106)\n",
      "java.lang.Thread.run(Thread.java:748)\n"
     ]
    }
   ],
   "source": [
    "from pyspark import SparkContext\n",
    "\n",
    "sc = SparkContext(master='local[*]', appName=\"book app\")"
   ]
  },
  {
   "cell_type": "code",
   "execution_count": 92,
   "metadata": {},
   "outputs": [
    {
     "data": {
      "text/html": [
       "\n",
       "        <div>\n",
       "            <p><b>SparkContext</b></p>\n",
       "\n",
       "            <p><a href=\"http://macbook-air-mac.home:4040\">Spark UI</a></p>\n",
       "\n",
       "            <dl>\n",
       "              <dt>Version</dt>\n",
       "                <dd><code>v3.2.1</code></dd>\n",
       "              <dt>Master</dt>\n",
       "                <dd><code>local[*]</code></dd>\n",
       "              <dt>AppName</dt>\n",
       "                <dd><code>book app</code></dd>\n",
       "            </dl>\n",
       "        </div>\n",
       "        "
      ],
      "text/plain": [
       "<SparkContext master=local[*] appName=book app>"
      ]
     },
     "execution_count": 92,
     "metadata": {},
     "output_type": "execute_result"
    }
   ],
   "source": [
    "sc"
   ]
  },
  {
   "cell_type": "code",
   "execution_count": 94,
   "metadata": {},
   "outputs": [],
   "source": [
    "rdd = sc.parallelize(range(10))"
   ]
  },
  {
   "cell_type": "code",
   "execution_count": 95,
   "metadata": {},
   "outputs": [
    {
     "data": {
      "text/plain": [
       "PythonRDD[1] at RDD at PythonRDD.scala:53"
      ]
     },
     "execution_count": 95,
     "metadata": {},
     "output_type": "execute_result"
    }
   ],
   "source": [
    "rdd"
   ]
  },
  {
   "cell_type": "code",
   "execution_count": 96,
   "metadata": {},
   "outputs": [
    {
     "name": "stderr",
     "output_type": "stream",
     "text": [
      "                                                                                \r"
     ]
    },
    {
     "data": {
      "text/plain": [
       "0"
      ]
     },
     "execution_count": 96,
     "metadata": {},
     "output_type": "execute_result"
    }
   ],
   "source": [
    "# pierwszy element\n",
    "rdd.first()"
   ]
  },
  {
   "cell_type": "code",
   "execution_count": 97,
   "metadata": {},
   "outputs": [
    {
     "data": {
      "text/plain": [
       "[0, 1]"
      ]
     },
     "execution_count": 97,
     "metadata": {},
     "output_type": "execute_result"
    }
   ],
   "source": [
    "# pierwsze dwa elementy\n",
    "rdd.take(2)"
   ]
  },
  {
   "cell_type": "code",
   "execution_count": 98,
   "metadata": {},
   "outputs": [
    {
     "name": "stderr",
     "output_type": "stream",
     "text": [
      "                                                                                \r"
     ]
    },
    {
     "data": {
      "text/plain": [
       "[8, 7, 9]"
      ]
     },
     "execution_count": 98,
     "metadata": {},
     "output_type": "execute_result"
    }
   ],
   "source": [
    "# losowe elementy v1\n",
    "rdd.takeSample(True,3)"
   ]
  },
  {
   "cell_type": "code",
   "execution_count": 99,
   "metadata": {},
   "outputs": [
    {
     "data": {
      "text/plain": [
       "[5, 9, 7]"
      ]
     },
     "execution_count": 99,
     "metadata": {},
     "output_type": "execute_result"
    }
   ],
   "source": [
    "# losowe elementy v2\n",
    "rdd.takeSample(False,3)"
   ]
  },
  {
   "cell_type": "code",
   "execution_count": 100,
   "metadata": {},
   "outputs": [
    {
     "data": {
      "text/plain": [
       "10"
      ]
     },
     "execution_count": 100,
     "metadata": {},
     "output_type": "execute_result"
    }
   ],
   "source": [
    "rdd.count()"
   ]
  },
  {
   "cell_type": "code",
   "execution_count": 101,
   "metadata": {},
   "outputs": [
    {
     "data": {
      "text/plain": [
       "4.5"
      ]
     },
     "execution_count": 101,
     "metadata": {},
     "output_type": "execute_result"
    }
   ],
   "source": [
    "rdd.mean()"
   ]
  },
  {
   "cell_type": "code",
   "execution_count": 102,
   "metadata": {},
   "outputs": [
    {
     "data": {
      "text/plain": [
       "45"
      ]
     },
     "execution_count": 102,
     "metadata": {},
     "output_type": "execute_result"
    }
   ],
   "source": [
    "rdd.reduce(lambda x,y: x+y)"
   ]
  },
  {
   "cell_type": "code",
   "execution_count": 103,
   "metadata": {},
   "outputs": [
    {
     "data": {
      "text/plain": [
       "45"
      ]
     },
     "execution_count": 103,
     "metadata": {},
     "output_type": "execute_result"
    }
   ],
   "source": [
    "rdd.sum()"
   ]
  },
  {
   "cell_type": "code",
   "execution_count": 104,
   "metadata": {},
   "outputs": [
    {
     "data": {
      "text/plain": [
       "[0, 1, 4, 9, 16, 25, 36, 49, 64, 81]"
      ]
     },
     "execution_count": 104,
     "metadata": {},
     "output_type": "execute_result"
    }
   ],
   "source": [
    "rdd2 = rdd.map(lambda x: x*x)\n",
    "rdd2.collect()"
   ]
  },
  {
   "cell_type": "code",
   "execution_count": 105,
   "metadata": {},
   "outputs": [
    {
     "data": {
      "text/plain": [
       "[[0, 0],\n",
       " [1, 1],\n",
       " [2, 2],\n",
       " [3, 3],\n",
       " [4, 4],\n",
       " [5, 5],\n",
       " [6, 6],\n",
       " [7, 7],\n",
       " [8, 8],\n",
       " [9, 9]]"
      ]
     },
     "execution_count": 105,
     "metadata": {},
     "output_type": "execute_result"
    }
   ],
   "source": [
    "rdd3 = rdd.map(lambda x: [x,x])\n",
    "rdd3.collect()"
   ]
  },
  {
   "cell_type": "code",
   "execution_count": 106,
   "metadata": {},
   "outputs": [
    {
     "data": {
      "text/plain": [
       "[0, 0, 1, 1, 2, 2, 3, 3, 4, 4, 5, 5, 6, 6, 7, 7, 8, 8, 9, 9]"
      ]
     },
     "execution_count": 106,
     "metadata": {},
     "output_type": "execute_result"
    }
   ],
   "source": [
    "rdd4 = rdd.flatMap(lambda x: [x,x])\n",
    "rdd4.collect()"
   ]
  },
  {
   "cell_type": "code",
   "execution_count": 107,
   "metadata": {},
   "outputs": [
    {
     "data": {
      "text/plain": [
       "378"
      ]
     },
     "execution_count": 107,
     "metadata": {},
     "output_type": "execute_result"
    }
   ],
   "source": [
    "sc.parallelize(range(20)) \\\n",
    ".map(lambda x: x * 2) \\\n",
    ".filter(lambda x: x != 2) \\\n",
    ".reduce(lambda x,y: x + y)"
   ]
  },
  {
   "cell_type": "code",
   "execution_count": 108,
   "metadata": {},
   "outputs": [
    {
     "name": "stdout",
     "output_type": "stream",
     "text": [
      "Writing example.txt\n"
     ]
    }
   ],
   "source": [
    "%%file example.txt\n",
    "first \n",
    "second line \n",
    "the third line \n",
    "then a fourth line"
   ]
  },
  {
   "cell_type": "code",
   "execution_count": 109,
   "metadata": {},
   "outputs": [],
   "source": [
    "text_rdd = sc.textFile('example.txt')"
   ]
  },
  {
   "cell_type": "code",
   "execution_count": 110,
   "metadata": {},
   "outputs": [
    {
     "data": {
      "text/plain": [
       "'first '"
      ]
     },
     "execution_count": 110,
     "metadata": {},
     "output_type": "execute_result"
    }
   ],
   "source": [
    "text_rdd.first()\n"
   ]
  },
  {
   "cell_type": "code",
   "execution_count": 112,
   "metadata": {},
   "outputs": [
    {
     "data": {
      "text/plain": [
       "['first ', 'second line ', 'the third line ']"
      ]
     },
     "execution_count": 112,
     "metadata": {},
     "output_type": "execute_result"
    }
   ],
   "source": [
    "\n",
    "text_rdd.take(3)"
   ]
  },
  {
   "cell_type": "code",
   "execution_count": 113,
   "metadata": {},
   "outputs": [
    {
     "data": {
      "text/plain": [
       "['first ', 'the third line ']"
      ]
     },
     "execution_count": 113,
     "metadata": {},
     "output_type": "execute_result"
    }
   ],
   "source": [
    "text_rdd.takeSample(True,2)"
   ]
  },
  {
   "cell_type": "code",
   "execution_count": 114,
   "metadata": {},
   "outputs": [
    {
     "data": {
      "text/plain": [
       "4"
      ]
     },
     "execution_count": 114,
     "metadata": {},
     "output_type": "execute_result"
    }
   ],
   "source": [
    "text_rdd.count()"
   ]
  },
  {
   "cell_type": "code",
   "execution_count": 115,
   "metadata": {},
   "outputs": [
    {
     "data": {
      "text/plain": [
       "[['first'],\n",
       " ['second', 'line'],\n",
       " ['the', 'third', 'line'],\n",
       " ['then', 'a', 'fourth', 'line']]"
      ]
     },
     "execution_count": 115,
     "metadata": {},
     "output_type": "execute_result"
    }
   ],
   "source": [
    "text_rdd.map(lambda line: line.split()).collect()"
   ]
  },
  {
   "cell_type": "code",
   "execution_count": 116,
   "metadata": {},
   "outputs": [],
   "source": [
    "def nasza_fun(line):\n",
    "    return line.split()"
   ]
  },
  {
   "cell_type": "code",
   "execution_count": 117,
   "metadata": {},
   "outputs": [
    {
     "data": {
      "text/plain": [
       "[['first'],\n",
       " ['second', 'line'],\n",
       " ['the', 'third', 'line'],\n",
       " ['then', 'a', 'fourth', 'line']]"
      ]
     },
     "execution_count": 117,
     "metadata": {},
     "output_type": "execute_result"
    }
   ],
   "source": [
    "text_rdd.map(nasza_fun).collect()"
   ]
  },
  {
   "cell_type": "code",
   "execution_count": 120,
   "metadata": {},
   "outputs": [
    {
     "data": {
      "text/plain": [
       "[('line', 3),\n",
       " ('third', 1),\n",
       " ('fourth', 1),\n",
       " ('first', 1),\n",
       " ('second', 1),\n",
       " ('the', 1),\n",
       " ('then', 1),\n",
       " ('a', 1)]"
      ]
     },
     "execution_count": 120,
     "metadata": {},
     "output_type": "execute_result"
    }
   ],
   "source": [
    "import re\n",
    "sc.textFile(\"example.txt\") \\\n",
    ".map(lambda x: re.findall(r\"[a-z']+\", x.lower())) \\\n",
    ".flatMap(lambda x: [(y, 1) for y in x]) \\\n",
    ".reduceByKey(lambda x,y: x + y) \\\n",
    ".collect()"
   ]
  },
  {
   "cell_type": "code",
   "execution_count": 121,
   "metadata": {},
   "outputs": [
    {
     "data": {
      "text/plain": [
       "<Response [200]>"
      ]
     },
     "execution_count": 121,
     "metadata": {},
     "output_type": "execute_result"
    }
   ],
   "source": [
    "import requests\n",
    "requests.get('https://sebastianzajac.pl')"
   ]
  },
  {
   "cell_type": "code",
   "execution_count": 122,
   "metadata": {},
   "outputs": [],
   "source": [
    "import requests\n",
    "import json\n",
    "\n",
    "def pobierz_info_slowa(slowo):\n",
    "  language = 'en-gb'\n",
    "  headers = {\"app_id\":\"c7f6d128\",\n",
    "             \"app_key\":\"73ea2ed8109721300050137e74044fa6\"}\n",
    "  url_1 = \"https://od-api.oxforddictionaries.com:443/api/v2/entries/\"\n",
    "  url = f\"{url_1}{language}/{slowo.lower()}\"\n",
    "  return requests.get(url, headers=headers)"
   ]
  },
  {
   "cell_type": "code",
   "execution_count": 124,
   "metadata": {},
   "outputs": [
    {
     "name": "stdout",
     "output_type": "stream",
     "text": [
      "{\n",
      "    \"id\": \"streaming\",\n",
      "    \"metadata\": {\n",
      "        \"operation\": \"retrieve\",\n",
      "        \"provider\": \"Oxford University Press\",\n",
      "        \"schema\": \"RetrieveEntry\"\n",
      "    },\n",
      "    \"results\": [\n",
      "        {\n",
      "            \"id\": \"streaming\",\n",
      "            \"language\": \"en-gb\",\n",
      "            \"lexicalEntries\": [\n",
      "                {\n",
      "                    \"entries\": [\n",
      "                        {\n",
      "                            \"grammaticalFeatures\": [\n",
      "                                {\n",
      "                                    \"id\": \"mass\",\n",
      "                                    \"text\": \"Mass\",\n",
      "                                    \"type\": \"Countability\"\n",
      "                                }\n",
      "                            ],\n",
      "                            \"pronunciations\": [\n",
      "                                {\n",
      "                                    \"audioFile\": \"https://audio.oxforddictionaries.com/en/mp3/streaming_gb_2.mp3\",\n",
      "                                    \"dialects\": [\n",
      "                                        \"British English\"\n",
      "                                    ],\n",
      "                                    \"phoneticNotation\": \"IPA\",\n",
      "                                    \"phoneticSpelling\": \"ˈstriːmɪŋ\"\n",
      "                                }\n",
      "                            ],\n",
      "                            \"senses\": [\n",
      "                                {\n",
      "                                    \"definitions\": [\n",
      "                                        \"a method of transmitting or receiving data (especially video and audio material) over a computer network as a steady, continuous flow, allowing playback to start while the rest of the data is still being received.\"\n",
      "                                    ],\n",
      "                                    \"domainClasses\": [\n",
      "                                        {\n",
      "                                            \"id\": \"audio\",\n",
      "                                            \"text\": \"Audio\"\n",
      "                                        },\n",
      "                                        {\n",
      "                                            \"id\": \"computing\",\n",
      "                                            \"text\": \"Computing\"\n",
      "                                        },\n",
      "                                        {\n",
      "                                            \"id\": \"video\",\n",
      "                                            \"text\": \"Video\"\n",
      "                                        }\n",
      "                                    ],\n",
      "                                    \"id\": \"m_en_gbus1001810.012\",\n",
      "                                    \"semanticClasses\": [\n",
      "                                        {\n",
      "                                            \"id\": \"technical_system\",\n",
      "                                            \"text\": \"Technical_System\"\n",
      "                                        }\n",
      "                                    ],\n",
      "                                    \"shortDefinitions\": [\n",
      "                                        \"method of relaying data over computer network as steady continuous stream\"\n",
      "                                    ]\n",
      "                                },\n",
      "                                {\n",
      "                                    \"definitions\": [\n",
      "                                        \"the practice of putting schoolchildren in groups of the same age and ability to be taught together\"\n",
      "                                    ],\n",
      "                                    \"domainClasses\": [\n",
      "                                        {\n",
      "                                            \"id\": \"education\",\n",
      "                                            \"text\": \"Education\"\n",
      "                                        }\n",
      "                                    ],\n",
      "                                    \"examples\": [\n",
      "                                        {\n",
      "                                            \"text\": \"streaming within secondary schools is common practice\"\n",
      "                                        }\n",
      "                                    ],\n",
      "                                    \"id\": \"m_en_gbus1001810.034\",\n",
      "                                    \"regions\": [\n",
      "                                        {\n",
      "                                            \"id\": \"british\",\n",
      "                                            \"text\": \"British\"\n",
      "                                        }\n",
      "                                    ],\n",
      "                                    \"semanticClasses\": [\n",
      "                                        {\n",
      "                                            \"id\": \"practice\",\n",
      "                                            \"text\": \"Practice\"\n",
      "                                        }\n",
      "                                    ],\n",
      "                                    \"shortDefinitions\": [\n",
      "                                        \"practice of putting schoolchildren in groups of same age and ability to be taught together\"\n",
      "                                    ]\n",
      "                                }\n",
      "                            ]\n",
      "                        }\n",
      "                    ],\n",
      "                    \"language\": \"en-gb\",\n",
      "                    \"lexicalCategory\": {\n",
      "                        \"id\": \"noun\",\n",
      "                        \"text\": \"Noun\"\n",
      "                    },\n",
      "                    \"text\": \"streaming\"\n",
      "                },\n",
      "                {\n",
      "                    \"entries\": [\n",
      "                        {\n",
      "                            \"notes\": [\n",
      "                                {\n",
      "                                    \"text\": \"attributive\",\n",
      "                                    \"type\": \"grammaticalNote\"\n",
      "                                }\n",
      "                            ],\n",
      "                            \"pronunciations\": [\n",
      "                                {\n",
      "                                    \"audioFile\": \"https://audio.oxforddictionaries.com/en/mp3/streaming_gb_2.mp3\",\n",
      "                                    \"dialects\": [\n",
      "                                        \"British English\"\n",
      "                                    ],\n",
      "                                    \"phoneticNotation\": \"IPA\",\n",
      "                                    \"phoneticSpelling\": \"ˈstriːmɪŋ\"\n",
      "                                }\n",
      "                            ],\n",
      "                            \"senses\": [\n",
      "                                {\n",
      "                                    \"definitions\": [\n",
      "                                        \"relating to or using data transmitted in a continuous stream while earlier parts are being used\"\n",
      "                                    ],\n",
      "                                    \"domainClasses\": [\n",
      "                                        {\n",
      "                                            \"id\": \"computing\",\n",
      "                                            \"text\": \"Computing\"\n",
      "                                        }\n",
      "                                    ],\n",
      "                                    \"examples\": [\n",
      "                                        {\n",
      "                                            \"text\": \"a streaming service\"\n",
      "                                        },\n",
      "                                        {\n",
      "                                            \"text\": \"a streaming platform\"\n",
      "                                        }\n",
      "                                    ],\n",
      "                                    \"id\": \"m_en_gbus1001810.010\",\n",
      "                                    \"shortDefinitions\": [\n",
      "                                        \"relating to data transmitted in continuous stream\"\n",
      "                                    ],\n",
      "                                    \"subsenses\": [\n",
      "                                        {\n",
      "                                            \"definitions\": [\n",
      "                                                \"relating to or making use of a form of tape transport, used mainly to provide backup storage, in which data may be transferred in bulk while the tape is in motion\"\n",
      "                                            ],\n",
      "                                            \"domainClasses\": [\n",
      "                                                {\n",
      "                                                    \"id\": \"computing\",\n",
      "                                                    \"text\": \"Computing\"\n",
      "                                                }\n",
      "                                            ],\n",
      "                                            \"domains\": [\n",
      "                                                {\n",
      "                                                    \"id\": \"computing\",\n",
      "                                                    \"text\": \"Computing\"\n",
      "                                                }\n",
      "                                            ],\n",
      "                                            \"examples\": [\n",
      "                                                {\n",
      "                                                    \"text\": \"a streaming tape drive\"\n",
      "                                                }\n",
      "                                            ],\n",
      "                                            \"id\": \"m_en_gbus1001810.009\",\n",
      "                                            \"shortDefinitions\": [\n",
      "                                                \"relating to or making use of form of tape transport\"\n",
      "                                            ]\n",
      "                                        }\n",
      "                                    ]\n",
      "                                },\n",
      "                                {\n",
      "                                    \"definitions\": [\n",
      "                                        \"(of a cold) accompanied by copious running of the nose and eyes\"\n",
      "                                    ],\n",
      "                                    \"examples\": [\n",
      "                                        {\n",
      "                                            \"text\": \"she's got a streaming cold\"\n",
      "                                        }\n",
      "                                    ],\n",
      "                                    \"id\": \"m_en_gbus1001810.006\",\n",
      "                                    \"regions\": [\n",
      "                                        {\n",
      "                                            \"id\": \"british\",\n",
      "                                            \"text\": \"British\"\n",
      "                                        }\n",
      "                                    ],\n",
      "                                    \"shortDefinitions\": [\n",
      "                                        \"denoting cold accompanied by copious running of nose and eyes\"\n",
      "                                    ],\n",
      "                                    \"synonyms\": [\n",
      "                                        {\n",
      "                                            \"language\": \"en\",\n",
      "                                            \"text\": \"flowing\"\n",
      "                                        },\n",
      "                                        {\n",
      "                                            \"language\": \"en\",\n",
      "                                            \"text\": \"streaming\"\n",
      "                                        },\n",
      "                                        {\n",
      "                                            \"language\": \"en\",\n",
      "                                            \"text\": \"gushing\"\n",
      "                                        },\n",
      "                                        {\n",
      "                                            \"language\": \"en\",\n",
      "                                            \"text\": \"rushing\"\n",
      "                                        },\n",
      "                                        {\n",
      "                                            \"language\": \"en\",\n",
      "                                            \"text\": \"moving\"\n",
      "                                        }\n",
      "                                    ],\n",
      "                                    \"thesaurusLinks\": [\n",
      "                                        {\n",
      "                                            \"entry_id\": \"running\",\n",
      "                                            \"sense_id\": \"t_en_gb0012797.006\"\n",
      "                                        }\n",
      "                                    ]\n",
      "                                }\n",
      "                            ]\n",
      "                        }\n",
      "                    ],\n",
      "                    \"language\": \"en-gb\",\n",
      "                    \"lexicalCategory\": {\n",
      "                        \"id\": \"adjective\",\n",
      "                        \"text\": \"Adjective\"\n",
      "                    },\n",
      "                    \"text\": \"streaming\"\n",
      "                }\n",
      "            ],\n",
      "            \"type\": \"headword\",\n",
      "            \"word\": \"streaming\"\n",
      "        }\n",
      "    ],\n",
      "    \"word\": \"streaming\"\n",
      "}\n"
     ]
    }
   ],
   "source": [
    "odp = pobierz_info_slowa('streaming')\n",
    "print(odp.text)"
   ]
  },
  {
   "cell_type": "code",
   "execution_count": 125,
   "metadata": {},
   "outputs": [
    {
     "data": {
      "text/plain": [
       "{'Date': 'Sat, 05 Feb 2022 14:59:46 GMT', 'Content-Type': 'application/json;charset=utf-8', 'Content-Length': '12038', 'Connection': 'keep-alive', 'Server': 'openresty', 'X-Request-Id': '1-61fe90e2-2fd63d780a04800d65e95f2c', 'code_version': 'v2.8.8.0-0-g522bb6a', 'api_version': 'v2'}"
      ]
     },
     "execution_count": 125,
     "metadata": {},
     "output_type": "execute_result"
    }
   ],
   "source": [
    "odp.headers"
   ]
  },
  {
   "cell_type": "code",
   "execution_count": 127,
   "metadata": {},
   "outputs": [],
   "source": [
    "from pyspark.sql import SparkSession\n",
    "spark = SparkSession.builder.appName('newApp').getOrCreate()\n"
   ]
  },
  {
   "cell_type": "code",
   "execution_count": 129,
   "metadata": {},
   "outputs": [],
   "source": [
    "json_rdd = sc.parallelize([odp.text])\n",
    "df = spark.read.json(json_rdd)\n",
    "df.show(truncate=False)"
   ]
  },
  {
   "cell_type": "code",
   "execution_count": 130,
   "metadata": {},
   "outputs": [
    {
     "name": "stdout",
     "output_type": "stream",
     "text": [
      "+------------+--------------------+--------------------+------------+\n",
      "|          id|            metadata|             results|        word|\n",
      "+------------+--------------------+--------------------+------------+\n",
      "|      cogent|{retrieve, Oxford...|[{cogent, en-gb, ...|      cogent|\n",
      "|     digress|{retrieve, Oxford...|[{digress, en-gb,...|     digress|\n",
      "|    tangible|{retrieve, Oxford...|[{tangible, en-gb...|    tangible|\n",
      "|    diligent|{retrieve, Oxford...|[{diligent, en-gb...|    diligent|\n",
      "| mellifluous|{retrieve, Oxford...|[{mellifluous, en...| mellifluous|\n",
      "|     obscure|{retrieve, Oxford...|[{obscure, en-gb,...|     obscure|\n",
      "|intelligible|{retrieve, Oxford...|[{intelligible, e...|intelligible|\n",
      "+------------+--------------------+--------------------+------------+\n",
      "\n"
     ]
    }
   ],
   "source": [
    "words = [\"cogent\", \"digress\", \"tangible\",\n",
    "\"diligent\", \"mellifluous\", \"obscure\", \"intelligible\"]\n",
    "lista_odp = [pobierz_info_slowa(word).text for word in words]\n",
    "json_rdd = sc.parallelize(lista_odp)\n",
    "json_df = spark.read.json(json_rdd)\n",
    "json_df.show()"
   ]
  },
  {
   "cell_type": "code",
   "execution_count": null,
   "metadata": {},
   "outputs": [],
   "source": []
  }
 ],
 "metadata": {
  "kernelspec": {
   "display_name": "Python 3",
   "language": "python",
   "name": "python3"
  },
  "language_info": {
   "codemirror_mode": {
    "name": "ipython",
    "version": 3
   },
   "file_extension": ".py",
   "mimetype": "text/x-python",
   "name": "python",
   "nbconvert_exporter": "python",
   "pygments_lexer": "ipython3",
   "version": "3.8.9"
  }
 },
 "nbformat": 4,
 "nbformat_minor": 4
}
