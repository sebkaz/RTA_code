{
 "cells": [
  {
   "cell_type": "markdown",
   "metadata": {},
   "source": [
    "# 1. Dane i ich modele przetwarzania\n",
    "## 1.1 Dane w pythonie"
   ]
  },
  {
   "cell_type": "code",
   "execution_count": 1,
   "metadata": {},
   "outputs": [],
   "source": [
    "klient = [38, 'Kawaler',1, 56.3]"
   ]
  },
  {
   "cell_type": "code",
   "execution_count": 2,
   "metadata": {},
   "outputs": [
    {
     "data": {
      "text/plain": [
       "list"
      ]
     },
     "execution_count": 2,
     "metadata": {},
     "output_type": "execute_result"
    }
   ],
   "source": [
    "type(klient)"
   ]
  },
  {
   "cell_type": "code",
   "execution_count": 3,
   "metadata": {},
   "outputs": [
    {
     "name": "stdout",
     "output_type": "stream",
     "text": [
      "a+b: [1, 2, 3, 4, 5, 6]\n"
     ]
    }
   ],
   "source": [
    "a = [1,2,3]\n",
    "b = [4,5,6]\n",
    "print(f\"a+b: {a+b}\")"
   ]
  },
  {
   "cell_type": "code",
   "execution_count": 4,
   "metadata": {},
   "outputs": [
    {
     "name": "stdout",
     "output_type": "stream",
     "text": [
      "operacja niezdefiniowana\n"
     ]
    }
   ],
   "source": [
    "try:\n",
    "    print(a*b)\n",
    "except TypeError:\n",
    "    print(\"operacja niezdefiniowana\")"
   ]
  },
  {
   "cell_type": "code",
   "execution_count": 5,
   "metadata": {},
   "outputs": [
    {
     "data": {
      "text/plain": [
       "numpy.ndarray"
      ]
     },
     "execution_count": 5,
     "metadata": {},
     "output_type": "execute_result"
    }
   ],
   "source": [
    "import numpy as np\n",
    "aa = np.array([1,2,3])\n",
    "bb = np.array([4,5,6])\n",
    "\n",
    "type(aa)"
   ]
  },
  {
   "cell_type": "code",
   "execution_count": 6,
   "metadata": {},
   "outputs": [
    {
     "name": "stdout",
     "output_type": "stream",
     "text": [
      "aa+bb: [5 7 9]\n"
     ]
    }
   ],
   "source": [
    "print(f\"aa+bb: {aa+bb}\")"
   ]
  },
  {
   "cell_type": "code",
   "execution_count": 7,
   "metadata": {},
   "outputs": [
    {
     "name": "stdout",
     "output_type": "stream",
     "text": [
      "[ 4 10 18]\n"
     ]
    }
   ],
   "source": [
    "try:\n",
    "    print(aa*bb)\n",
    "except TypeError:\n",
    "    print(\"operacja niezdefiniowana\")"
   ]
  },
  {
   "cell_type": "code",
   "execution_count": 8,
   "metadata": {},
   "outputs": [
    {
     "data": {
      "text/plain": [
       "array([0, 1, 2, 3])"
      ]
     },
     "execution_count": 8,
     "metadata": {},
     "output_type": "execute_result"
    }
   ],
   "source": [
    "x = np.array(range(4))\n",
    "x"
   ]
  },
  {
   "cell_type": "code",
   "execution_count": 9,
   "metadata": {},
   "outputs": [
    {
     "data": {
      "text/plain": [
       "(4,)"
      ]
     },
     "execution_count": 9,
     "metadata": {},
     "output_type": "execute_result"
    }
   ],
   "source": [
    "x.shape"
   ]
  },
  {
   "cell_type": "code",
   "execution_count": 10,
   "metadata": {},
   "outputs": [
    {
     "data": {
      "text/plain": [
       "array([[0, 1, 2, 3],\n",
       "       [0, 1, 2, 3]])"
      ]
     },
     "execution_count": 10,
     "metadata": {},
     "output_type": "execute_result"
    }
   ],
   "source": [
    "A = np.array([range(4),range(4)])\n",
    "A"
   ]
  },
  {
   "cell_type": "code",
   "execution_count": 11,
   "metadata": {},
   "outputs": [
    {
     "data": {
      "text/plain": [
       "(2, 4)"
      ]
     },
     "execution_count": 11,
     "metadata": {},
     "output_type": "execute_result"
    }
   ],
   "source": [
    "A.shape"
   ]
  },
  {
   "cell_type": "code",
   "execution_count": 12,
   "metadata": {},
   "outputs": [
    {
     "data": {
      "text/plain": [
       "array([[0, 0],\n",
       "       [1, 1],\n",
       "       [2, 2],\n",
       "       [3, 3]])"
      ]
     },
     "execution_count": 12,
     "metadata": {},
     "output_type": "execute_result"
    }
   ],
   "source": [
    "A.T"
   ]
  },
  {
   "cell_type": "code",
   "execution_count": 13,
   "metadata": {},
   "outputs": [],
   "source": [
    "from sklearn.datasets import load_iris\n",
    "iris = load_iris()"
   ]
  },
  {
   "cell_type": "code",
   "execution_count": 14,
   "metadata": {},
   "outputs": [
    {
     "data": {
      "text/plain": [
       "sklearn.utils.Bunch"
      ]
     },
     "execution_count": 14,
     "metadata": {},
     "output_type": "execute_result"
    }
   ],
   "source": [
    "type(iris)"
   ]
  },
  {
   "cell_type": "code",
   "execution_count": 15,
   "metadata": {},
   "outputs": [
    {
     "data": {
      "text/plain": [
       "dict_keys(['data', 'target', 'frame', 'target_names', 'DESCR', 'feature_names', 'filename', 'data_module'])"
      ]
     },
     "execution_count": 15,
     "metadata": {},
     "output_type": "execute_result"
    }
   ],
   "source": [
    "iris.keys()"
   ]
  },
  {
   "cell_type": "code",
   "execution_count": 16,
   "metadata": {},
   "outputs": [
    {
     "name": "stdout",
     "output_type": "stream",
     "text": [
      "<class 'pandas.core.frame.DataFrame'>\n"
     ]
    }
   ],
   "source": [
    "import numpy as np\n",
    "import pandas as pd\n",
    "pd.set_option('display.precision',2)\n",
    "\n",
    "df = pd.DataFrame(data= np.c_[iris['data'], iris['target']],\n",
    "                  columns= iris['feature_names'] + ['target'])\n",
    "                  \n",
    "print(type(df))"
   ]
  },
  {
   "cell_type": "code",
   "execution_count": 17,
   "metadata": {},
   "outputs": [],
   "source": [
    "# nowa kolumna\n",
    "df['species'] = pd.Categorical.from_codes(iris.target, iris.target_names)"
   ]
  },
  {
   "cell_type": "code",
   "execution_count": 18,
   "metadata": {},
   "outputs": [],
   "source": [
    "# usuniecie kolumny\n",
    "df = df.drop(columns=['target'])"
   ]
  },
  {
   "cell_type": "code",
   "execution_count": 19,
   "metadata": {},
   "outputs": [
    {
     "data": {
      "text/html": [
       "<div>\n",
       "<style scoped>\n",
       "    .dataframe tbody tr th:only-of-type {\n",
       "        vertical-align: middle;\n",
       "    }\n",
       "\n",
       "    .dataframe tbody tr th {\n",
       "        vertical-align: top;\n",
       "    }\n",
       "\n",
       "    .dataframe thead th {\n",
       "        text-align: right;\n",
       "    }\n",
       "</style>\n",
       "<table border=\"1\" class=\"dataframe\">\n",
       "  <thead>\n",
       "    <tr style=\"text-align: right;\">\n",
       "      <th></th>\n",
       "      <th>sepal length (cm)</th>\n",
       "      <th>sepal width (cm)</th>\n",
       "      <th>petal length (cm)</th>\n",
       "      <th>petal width (cm)</th>\n",
       "      <th>species</th>\n",
       "    </tr>\n",
       "  </thead>\n",
       "  <tbody>\n",
       "    <tr>\n",
       "      <th>0</th>\n",
       "      <td>5.1</td>\n",
       "      <td>3.5</td>\n",
       "      <td>1.4</td>\n",
       "      <td>0.2</td>\n",
       "      <td>setosa</td>\n",
       "    </tr>\n",
       "    <tr>\n",
       "      <th>1</th>\n",
       "      <td>4.9</td>\n",
       "      <td>3.0</td>\n",
       "      <td>1.4</td>\n",
       "      <td>0.2</td>\n",
       "      <td>setosa</td>\n",
       "    </tr>\n",
       "    <tr>\n",
       "      <th>2</th>\n",
       "      <td>4.7</td>\n",
       "      <td>3.2</td>\n",
       "      <td>1.3</td>\n",
       "      <td>0.2</td>\n",
       "      <td>setosa</td>\n",
       "    </tr>\n",
       "    <tr>\n",
       "      <th>3</th>\n",
       "      <td>4.6</td>\n",
       "      <td>3.1</td>\n",
       "      <td>1.5</td>\n",
       "      <td>0.2</td>\n",
       "      <td>setosa</td>\n",
       "    </tr>\n",
       "    <tr>\n",
       "      <th>4</th>\n",
       "      <td>5.0</td>\n",
       "      <td>3.6</td>\n",
       "      <td>1.4</td>\n",
       "      <td>0.2</td>\n",
       "      <td>setosa</td>\n",
       "    </tr>\n",
       "  </tbody>\n",
       "</table>\n",
       "</div>"
      ],
      "text/plain": [
       "   sepal length (cm)  sepal width (cm)  petal length (cm)  petal width (cm)  \\\n",
       "0                5.1               3.5                1.4               0.2   \n",
       "1                4.9               3.0                1.4               0.2   \n",
       "2                4.7               3.2                1.3               0.2   \n",
       "3                4.6               3.1                1.5               0.2   \n",
       "4                5.0               3.6                1.4               0.2   \n",
       "\n",
       "  species  \n",
       "0  setosa  \n",
       "1  setosa  \n",
       "2  setosa  \n",
       "3  setosa  \n",
       "4  setosa  "
      ]
     },
     "execution_count": 19,
     "metadata": {},
     "output_type": "execute_result"
    }
   ],
   "source": [
    "# pierwsze wiersze\n",
    "df.head()"
   ]
  },
  {
   "cell_type": "code",
   "execution_count": 20,
   "metadata": {},
   "outputs": [
    {
     "data": {
      "text/html": [
       "<div>\n",
       "<style scoped>\n",
       "    .dataframe tbody tr th:only-of-type {\n",
       "        vertical-align: middle;\n",
       "    }\n",
       "\n",
       "    .dataframe tbody tr th {\n",
       "        vertical-align: top;\n",
       "    }\n",
       "\n",
       "    .dataframe thead th {\n",
       "        text-align: right;\n",
       "    }\n",
       "</style>\n",
       "<table border=\"1\" class=\"dataframe\">\n",
       "  <thead>\n",
       "    <tr style=\"text-align: right;\">\n",
       "      <th></th>\n",
       "      <th>sepal length (cm)</th>\n",
       "      <th>sepal width (cm)</th>\n",
       "      <th>petal length (cm)</th>\n",
       "      <th>petal width (cm)</th>\n",
       "      <th>species</th>\n",
       "    </tr>\n",
       "  </thead>\n",
       "  <tbody>\n",
       "    <tr>\n",
       "      <th>145</th>\n",
       "      <td>6.7</td>\n",
       "      <td>3.0</td>\n",
       "      <td>5.2</td>\n",
       "      <td>2.3</td>\n",
       "      <td>virginica</td>\n",
       "    </tr>\n",
       "    <tr>\n",
       "      <th>146</th>\n",
       "      <td>6.3</td>\n",
       "      <td>2.5</td>\n",
       "      <td>5.0</td>\n",
       "      <td>1.9</td>\n",
       "      <td>virginica</td>\n",
       "    </tr>\n",
       "    <tr>\n",
       "      <th>147</th>\n",
       "      <td>6.5</td>\n",
       "      <td>3.0</td>\n",
       "      <td>5.2</td>\n",
       "      <td>2.0</td>\n",
       "      <td>virginica</td>\n",
       "    </tr>\n",
       "    <tr>\n",
       "      <th>148</th>\n",
       "      <td>6.2</td>\n",
       "      <td>3.4</td>\n",
       "      <td>5.4</td>\n",
       "      <td>2.3</td>\n",
       "      <td>virginica</td>\n",
       "    </tr>\n",
       "    <tr>\n",
       "      <th>149</th>\n",
       "      <td>5.9</td>\n",
       "      <td>3.0</td>\n",
       "      <td>5.1</td>\n",
       "      <td>1.8</td>\n",
       "      <td>virginica</td>\n",
       "    </tr>\n",
       "  </tbody>\n",
       "</table>\n",
       "</div>"
      ],
      "text/plain": [
       "     sepal length (cm)  sepal width (cm)  petal length (cm)  petal width (cm)  \\\n",
       "145                6.7               3.0                5.2               2.3   \n",
       "146                6.3               2.5                5.0               1.9   \n",
       "147                6.5               3.0                5.2               2.0   \n",
       "148                6.2               3.4                5.4               2.3   \n",
       "149                5.9               3.0                5.1               1.8   \n",
       "\n",
       "       species  \n",
       "145  virginica  \n",
       "146  virginica  \n",
       "147  virginica  \n",
       "148  virginica  \n",
       "149  virginica  "
      ]
     },
     "execution_count": 20,
     "metadata": {},
     "output_type": "execute_result"
    }
   ],
   "source": [
    "# ostatnie wiersze\n",
    "df.tail()"
   ]
  },
  {
   "cell_type": "code",
   "execution_count": 21,
   "metadata": {},
   "outputs": [
    {
     "name": "stdout",
     "output_type": "stream",
     "text": [
      "<class 'pandas.core.frame.DataFrame'>\n",
      "RangeIndex: 150 entries, 0 to 149\n",
      "Data columns (total 5 columns):\n",
      " #   Column             Non-Null Count  Dtype   \n",
      "---  ------             --------------  -----   \n",
      " 0   sepal length (cm)  150 non-null    float64 \n",
      " 1   sepal width (cm)   150 non-null    float64 \n",
      " 2   petal length (cm)  150 non-null    float64 \n",
      " 3   petal width (cm)   150 non-null    float64 \n",
      " 4   species            150 non-null    category\n",
      "dtypes: category(1), float64(4)\n",
      "memory usage: 5.1 KB\n"
     ]
    }
   ],
   "source": [
    "# podstawowe informacje\n",
    "df.info()"
   ]
  },
  {
   "cell_type": "code",
   "execution_count": 22,
   "metadata": {},
   "outputs": [
    {
     "data": {
      "text/html": [
       "<div>\n",
       "<style scoped>\n",
       "    .dataframe tbody tr th:only-of-type {\n",
       "        vertical-align: middle;\n",
       "    }\n",
       "\n",
       "    .dataframe tbody tr th {\n",
       "        vertical-align: top;\n",
       "    }\n",
       "\n",
       "    .dataframe thead th {\n",
       "        text-align: right;\n",
       "    }\n",
       "</style>\n",
       "<table border=\"1\" class=\"dataframe\">\n",
       "  <thead>\n",
       "    <tr style=\"text-align: right;\">\n",
       "      <th></th>\n",
       "      <th>sepal length (cm)</th>\n",
       "      <th>sepal width (cm)</th>\n",
       "      <th>petal length (cm)</th>\n",
       "      <th>petal width (cm)</th>\n",
       "    </tr>\n",
       "  </thead>\n",
       "  <tbody>\n",
       "    <tr>\n",
       "      <th>count</th>\n",
       "      <td>150.00</td>\n",
       "      <td>150.00</td>\n",
       "      <td>150.00</td>\n",
       "      <td>150.00</td>\n",
       "    </tr>\n",
       "    <tr>\n",
       "      <th>mean</th>\n",
       "      <td>5.84</td>\n",
       "      <td>3.06</td>\n",
       "      <td>3.76</td>\n",
       "      <td>1.20</td>\n",
       "    </tr>\n",
       "    <tr>\n",
       "      <th>std</th>\n",
       "      <td>0.83</td>\n",
       "      <td>0.44</td>\n",
       "      <td>1.77</td>\n",
       "      <td>0.76</td>\n",
       "    </tr>\n",
       "    <tr>\n",
       "      <th>min</th>\n",
       "      <td>4.30</td>\n",
       "      <td>2.00</td>\n",
       "      <td>1.00</td>\n",
       "      <td>0.10</td>\n",
       "    </tr>\n",
       "    <tr>\n",
       "      <th>25%</th>\n",
       "      <td>5.10</td>\n",
       "      <td>2.80</td>\n",
       "      <td>1.60</td>\n",
       "      <td>0.30</td>\n",
       "    </tr>\n",
       "    <tr>\n",
       "      <th>50%</th>\n",
       "      <td>5.80</td>\n",
       "      <td>3.00</td>\n",
       "      <td>4.35</td>\n",
       "      <td>1.30</td>\n",
       "    </tr>\n",
       "    <tr>\n",
       "      <th>75%</th>\n",
       "      <td>6.40</td>\n",
       "      <td>3.30</td>\n",
       "      <td>5.10</td>\n",
       "      <td>1.80</td>\n",
       "    </tr>\n",
       "    <tr>\n",
       "      <th>max</th>\n",
       "      <td>7.90</td>\n",
       "      <td>4.40</td>\n",
       "      <td>6.90</td>\n",
       "      <td>2.50</td>\n",
       "    </tr>\n",
       "  </tbody>\n",
       "</table>\n",
       "</div>"
      ],
      "text/plain": [
       "       sepal length (cm)  sepal width (cm)  petal length (cm)  \\\n",
       "count             150.00            150.00             150.00   \n",
       "mean                5.84              3.06               3.76   \n",
       "std                 0.83              0.44               1.77   \n",
       "min                 4.30              2.00               1.00   \n",
       "25%                 5.10              2.80               1.60   \n",
       "50%                 5.80              3.00               4.35   \n",
       "75%                 6.40              3.30               5.10   \n",
       "max                 7.90              4.40               6.90   \n",
       "\n",
       "       petal width (cm)  \n",
       "count            150.00  \n",
       "mean               1.20  \n",
       "std                0.76  \n",
       "min                0.10  \n",
       "25%                0.30  \n",
       "50%                1.30  \n",
       "75%                1.80  \n",
       "max                2.50  "
      ]
     },
     "execution_count": 22,
     "metadata": {},
     "output_type": "execute_result"
    }
   ],
   "source": [
    "# podstawowe statystyki \n",
    "df.describe()"
   ]
  },
  {
   "cell_type": "code",
   "execution_count": 23,
   "metadata": {},
   "outputs": [],
   "source": [
    "# filtrowanie danych\n",
    "X = df.iloc[:100,[0,2]].values \n",
    "# pierwsze sto wierszy + kolumna 0 i 2, "
   ]
  },
  {
   "cell_type": "code",
   "execution_count": 24,
   "metadata": {},
   "outputs": [],
   "source": [
    "\n",
    "# values- zamienia DataFrame na np.array\n",
    "y = df.iloc[:100,4].values"
   ]
  },
  {
   "cell_type": "code",
   "execution_count": 25,
   "metadata": {},
   "outputs": [
    {
     "data": {
      "text/plain": [
       "['setosa', 'versicolor']\n",
       "Categories (3, object): ['setosa', 'versicolor', 'virginica']"
      ]
     },
     "execution_count": 25,
     "metadata": {},
     "output_type": "execute_result"
    }
   ],
   "source": [
    "# unikalne wartosci\n",
    "y.unique()"
   ]
  },
  {
   "cell_type": "code",
   "execution_count": 26,
   "metadata": {},
   "outputs": [],
   "source": [
    "# przetwarzanie warunkowe\n",
    "y = np.where(y == 'setosa',-1,1)"
   ]
  },
  {
   "cell_type": "code",
   "execution_count": 27,
   "metadata": {},
   "outputs": [],
   "source": [
    "import matplotlib.pyplot as plt"
   ]
  },
  {
   "cell_type": "code",
   "execution_count": 28,
   "metadata": {},
   "outputs": [
    {
     "data": {
      "image/png": "[encoded data removed]",
      "text/plain": [
       "<Figure size 432x288 with 1 Axes>"
      ]
     },
     "metadata": {
      "needs_background": "light"
     },
     "output_type": "display_data"
    }
   ],
   "source": [
    "plt.scatter(X[:50,0],X[:50,1],color='red', marker='o',label='setosa')\n",
    "plt.scatter(X[50:100,0],X[50:100,1],color='blue', marker='x',\n",
    "label='versicolor')\n",
    "plt.xlabel('sepal length (cm)')\n",
    "plt.ylabel('petal length (cm)')\n",
    "plt.legend(loc='upper left')\n",
    "plt.show()"
   ]
  },
  {
   "cell_type": "code",
   "execution_count": 29,
   "metadata": {},
   "outputs": [
    {
     "data": {
      "text/plain": [
       "(60000, 28, 28)"
      ]
     },
     "execution_count": 29,
     "metadata": {},
     "output_type": "execute_result"
    }
   ],
   "source": [
    "import numpy as np\n",
    "from keras.datasets import mnist\n",
    "\n",
    "(X_train, y_train),(X_test, y_test) = mnist.load_data()\n",
    "\n",
    "X_train.shape"
   ]
  },
  {
   "cell_type": "code",
   "execution_count": 30,
   "metadata": {},
   "outputs": [
    {
     "data": {
      "text/plain": [
       "<matplotlib.image.AxesImage at 0x131d67460>"
      ]
     },
     "execution_count": 30,
     "metadata": {},
     "output_type": "execute_result"
    },
    {
     "data": {
      "image/png": "[encoded data removed]",
      "text/plain": [
       "<Figure size 432x288 with 1 Axes>"
      ]
     },
     "metadata": {
      "needs_background": "light"
     },
     "output_type": "display_data"
    }
   ],
   "source": [
    "import matplotlib.pyplot as plt\n",
    "plt.imshow(X_train[0], cmap=plt.cm.binary)"
   ]
  },
  {
   "cell_type": "code",
   "execution_count": 31,
   "metadata": {},
   "outputs": [],
   "source": [
    "from fastai.vision.all import *"
   ]
  },
  {
   "cell_type": "code",
   "execution_count": 32,
   "metadata": {},
   "outputs": [],
   "source": [
    "path = untar_data(URLs.MNIST_SAMPLE)\n",
    "# wybierz trojke\n",
    "thress = (path/'train'/'3').ls().sorted()\n",
    "im3_path = thress[1]\n",
    "im3 = Image.open(im3_path)\n",
    "# zapisz obraz jako tensor i wytnij czesc\n",
    "im3_t = tensor(im3)[4:15,4:22]"
   ]
  },
  {
   "cell_type": "code",
   "execution_count": 33,
   "metadata": {},
   "outputs": [
    {
     "data": {
      "text/html": [
       "<style type=\"text/css\">\n",
       "#T_6a9df_row0_col0, #T_6a9df_row0_col1, #T_6a9df_row0_col2, #T_6a9df_row0_col3, #T_6a9df_row0_col4, #T_6a9df_row0_col5, #T_6a9df_row0_col6, #T_6a9df_row0_col7, #T_6a9df_row0_col8, #T_6a9df_row0_col9, #T_6a9df_row0_col10, #T_6a9df_row0_col11, #T_6a9df_row0_col12, #T_6a9df_row0_col13, #T_6a9df_row0_col14, #T_6a9df_row0_col15, #T_6a9df_row0_col16, #T_6a9df_row0_col17, #T_6a9df_row1_col0, #T_6a9df_row1_col1, #T_6a9df_row1_col2, #T_6a9df_row1_col3, #T_6a9df_row1_col4, #T_6a9df_row1_col15, #T_6a9df_row1_col16, #T_6a9df_row1_col17, #T_6a9df_row2_col0, #T_6a9df_row2_col1, #T_6a9df_row2_col2, #T_6a9df_row2_col15, #T_6a9df_row2_col16, #T_6a9df_row2_col17, #T_6a9df_row3_col0, #T_6a9df_row3_col15, #T_6a9df_row3_col16, #T_6a9df_row3_col17, #T_6a9df_row4_col0, #T_6a9df_row4_col6, #T_6a9df_row4_col7, #T_6a9df_row4_col8, #T_6a9df_row4_col9, #T_6a9df_row4_col10, #T_6a9df_row4_col15, #T_6a9df_row4_col16, #T_6a9df_row4_col17, #T_6a9df_row5_col0, #T_6a9df_row5_col5, #T_6a9df_row5_col6, #T_6a9df_row5_col7, #T_6a9df_row5_col8, #T_6a9df_row5_col9, #T_6a9df_row5_col15, #T_6a9df_row5_col16, #T_6a9df_row5_col17, #T_6a9df_row6_col0, #T_6a9df_row6_col1, #T_6a9df_row6_col2, #T_6a9df_row6_col3, #T_6a9df_row6_col4, #T_6a9df_row6_col5, #T_6a9df_row6_col6, #T_6a9df_row6_col7, #T_6a9df_row6_col8, #T_6a9df_row6_col9, #T_6a9df_row6_col14, #T_6a9df_row6_col15, #T_6a9df_row6_col16, #T_6a9df_row6_col17, #T_6a9df_row7_col0, #T_6a9df_row7_col1, #T_6a9df_row7_col2, #T_6a9df_row7_col3, #T_6a9df_row7_col4, #T_6a9df_row7_col5, #T_6a9df_row7_col6, #T_6a9df_row7_col13, #T_6a9df_row7_col14, #T_6a9df_row7_col15, #T_6a9df_row7_col16, #T_6a9df_row7_col17, #T_6a9df_row8_col0, #T_6a9df_row8_col1, #T_6a9df_row8_col2, #T_6a9df_row8_col3, #T_6a9df_row8_col4, #T_6a9df_row8_col13, #T_6a9df_row8_col14, #T_6a9df_row8_col15, #T_6a9df_row8_col16, #T_6a9df_row8_col17, #T_6a9df_row9_col0, #T_6a9df_row9_col1, #T_6a9df_row9_col2, #T_6a9df_row9_col3, #T_6a9df_row9_col4, #T_6a9df_row9_col16, #T_6a9df_row9_col17, #T_6a9df_row10_col0, #T_6a9df_row10_col1, #T_6a9df_row10_col2, #T_6a9df_row10_col3, #T_6a9df_row10_col4, #T_6a9df_row10_col5, #T_6a9df_row10_col6, #T_6a9df_row10_col17 {\n",
       "  font-size: 6pt;\n",
       "  background-color: #ffffff;\n",
       "  color: #000000;\n",
       "}\n",
       "#T_6a9df_row1_col5 {\n",
       "  font-size: 6pt;\n",
       "  background-color: #efefef;\n",
       "  color: #000000;\n",
       "}\n",
       "#T_6a9df_row1_col6, #T_6a9df_row1_col13 {\n",
       "  font-size: 6pt;\n",
       "  background-color: #7c7c7c;\n",
       "  color: #f1f1f1;\n",
       "}\n",
       "#T_6a9df_row1_col7 {\n",
       "  font-size: 6pt;\n",
       "  background-color: #4a4a4a;\n",
       "  color: #f1f1f1;\n",
       "}\n",
       "#T_6a9df_row1_col8, #T_6a9df_row1_col9, #T_6a9df_row1_col10, #T_6a9df_row2_col5, #T_6a9df_row2_col6, #T_6a9df_row2_col7, #T_6a9df_row2_col11, #T_6a9df_row2_col12, #T_6a9df_row2_col13, #T_6a9df_row3_col4, #T_6a9df_row3_col12, #T_6a9df_row3_col13, #T_6a9df_row4_col1, #T_6a9df_row4_col2, #T_6a9df_row4_col3, #T_6a9df_row4_col12, #T_6a9df_row4_col13, #T_6a9df_row5_col12, #T_6a9df_row6_col11, #T_6a9df_row9_col11, #T_6a9df_row10_col11, #T_6a9df_row10_col12, #T_6a9df_row10_col13, #T_6a9df_row10_col14, #T_6a9df_row10_col15, #T_6a9df_row10_col16 {\n",
       "  font-size: 6pt;\n",
       "  background-color: #000000;\n",
       "  color: #f1f1f1;\n",
       "}\n",
       "#T_6a9df_row1_col11 {\n",
       "  font-size: 6pt;\n",
       "  background-color: #606060;\n",
       "  color: #f1f1f1;\n",
       "}\n",
       "#T_6a9df_row1_col12 {\n",
       "  font-size: 6pt;\n",
       "  background-color: #4d4d4d;\n",
       "  color: #f1f1f1;\n",
       "}\n",
       "#T_6a9df_row1_col14 {\n",
       "  font-size: 6pt;\n",
       "  background-color: #bbbbbb;\n",
       "  color: #000000;\n",
       "}\n",
       "#T_6a9df_row2_col3 {\n",
       "  font-size: 6pt;\n",
       "  background-color: #e4e4e4;\n",
       "  color: #000000;\n",
       "}\n",
       "#T_6a9df_row2_col4, #T_6a9df_row8_col6 {\n",
       "  font-size: 6pt;\n",
       "  background-color: #6b6b6b;\n",
       "  color: #f1f1f1;\n",
       "}\n",
       "#T_6a9df_row2_col8, #T_6a9df_row2_col14, #T_6a9df_row3_col14 {\n",
       "  font-size: 6pt;\n",
       "  background-color: #171717;\n",
       "  color: #f1f1f1;\n",
       "}\n",
       "#T_6a9df_row2_col9, #T_6a9df_row3_col11 {\n",
       "  font-size: 6pt;\n",
       "  background-color: #4b4b4b;\n",
       "  color: #f1f1f1;\n",
       "}\n",
       "#T_6a9df_row2_col10, #T_6a9df_row7_col10, #T_6a9df_row8_col8, #T_6a9df_row8_col10, #T_6a9df_row9_col8, #T_6a9df_row9_col10 {\n",
       "  font-size: 6pt;\n",
       "  background-color: #010101;\n",
       "  color: #f1f1f1;\n",
       "}\n",
       "#T_6a9df_row3_col1 {\n",
       "  font-size: 6pt;\n",
       "  background-color: #272727;\n",
       "  color: #f1f1f1;\n",
       "}\n",
       "#T_6a9df_row3_col2 {\n",
       "  font-size: 6pt;\n",
       "  background-color: #0a0a0a;\n",
       "  color: #f1f1f1;\n",
       "}\n",
       "#T_6a9df_row3_col3 {\n",
       "  font-size: 6pt;\n",
       "  background-color: #050505;\n",
       "  color: #f1f1f1;\n",
       "}\n",
       "#T_6a9df_row3_col5 {\n",
       "  font-size: 6pt;\n",
       "  background-color: #333333;\n",
       "  color: #f1f1f1;\n",
       "}\n",
       "#T_6a9df_row3_col6 {\n",
       "  font-size: 6pt;\n",
       "  background-color: #e6e6e6;\n",
       "  color: #000000;\n",
       "}\n",
       "#T_6a9df_row3_col7, #T_6a9df_row3_col10 {\n",
       "  font-size: 6pt;\n",
       "  background-color: #fafafa;\n",
       "  color: #000000;\n",
       "}\n",
       "#T_6a9df_row3_col8 {\n",
       "  font-size: 6pt;\n",
       "  background-color: #fbfbfb;\n",
       "  color: #000000;\n",
       "}\n",
       "#T_6a9df_row3_col9 {\n",
       "  font-size: 6pt;\n",
       "  background-color: #fdfdfd;\n",
       "  color: #000000;\n",
       "}\n",
       "#T_6a9df_row4_col4 {\n",
       "  font-size: 6pt;\n",
       "  background-color: #1b1b1b;\n",
       "  color: #f1f1f1;\n",
       "}\n",
       "#T_6a9df_row4_col5 {\n",
       "  font-size: 6pt;\n",
       "  background-color: #e0e0e0;\n",
       "  color: #000000;\n",
       "}\n",
       "#T_6a9df_row4_col11 {\n",
       "  font-size: 6pt;\n",
       "  background-color: #4e4e4e;\n",
       "  color: #f1f1f1;\n",
       "}\n",
       "#T_6a9df_row4_col14 {\n",
       "  font-size: 6pt;\n",
       "  background-color: #767676;\n",
       "  color: #f1f1f1;\n",
       "}\n",
       "#T_6a9df_row5_col1 {\n",
       "  font-size: 6pt;\n",
       "  background-color: #fcfcfc;\n",
       "  color: #000000;\n",
       "}\n",
       "#T_6a9df_row5_col2, #T_6a9df_row5_col3 {\n",
       "  font-size: 6pt;\n",
       "  background-color: #f6f6f6;\n",
       "  color: #000000;\n",
       "}\n",
       "#T_6a9df_row5_col4, #T_6a9df_row7_col7 {\n",
       "  font-size: 6pt;\n",
       "  background-color: #f8f8f8;\n",
       "  color: #000000;\n",
       "}\n",
       "#T_6a9df_row5_col10, #T_6a9df_row10_col7 {\n",
       "  font-size: 6pt;\n",
       "  background-color: #e8e8e8;\n",
       "  color: #000000;\n",
       "}\n",
       "#T_6a9df_row5_col11 {\n",
       "  font-size: 6pt;\n",
       "  background-color: #222222;\n",
       "  color: #f1f1f1;\n",
       "}\n",
       "#T_6a9df_row5_col13, #T_6a9df_row6_col12 {\n",
       "  font-size: 6pt;\n",
       "  background-color: #090909;\n",
       "  color: #f1f1f1;\n",
       "}\n",
       "#T_6a9df_row5_col14 {\n",
       "  font-size: 6pt;\n",
       "  background-color: #d0d0d0;\n",
       "  color: #000000;\n",
       "}\n",
       "#T_6a9df_row6_col10, #T_6a9df_row7_col11, #T_6a9df_row9_col6 {\n",
       "  font-size: 6pt;\n",
       "  background-color: #060606;\n",
       "  color: #f1f1f1;\n",
       "}\n",
       "#T_6a9df_row6_col13 {\n",
       "  font-size: 6pt;\n",
       "  background-color: #979797;\n",
       "  color: #f1f1f1;\n",
       "}\n",
       "#T_6a9df_row7_col8 {\n",
       "  font-size: 6pt;\n",
       "  background-color: #b6b6b6;\n",
       "  color: #000000;\n",
       "}\n",
       "#T_6a9df_row7_col9 {\n",
       "  font-size: 6pt;\n",
       "  background-color: #252525;\n",
       "  color: #f1f1f1;\n",
       "}\n",
       "#T_6a9df_row7_col12 {\n",
       "  font-size: 6pt;\n",
       "  background-color: #999999;\n",
       "  color: #f1f1f1;\n",
       "}\n",
       "#T_6a9df_row8_col5 {\n",
       "  font-size: 6pt;\n",
       "  background-color: #f9f9f9;\n",
       "  color: #000000;\n",
       "}\n",
       "#T_6a9df_row8_col7 {\n",
       "  font-size: 6pt;\n",
       "  background-color: #101010;\n",
       "  color: #f1f1f1;\n",
       "}\n",
       "#T_6a9df_row8_col9, #T_6a9df_row9_col9 {\n",
       "  font-size: 6pt;\n",
       "  background-color: #020202;\n",
       "  color: #f1f1f1;\n",
       "}\n",
       "#T_6a9df_row8_col11 {\n",
       "  font-size: 6pt;\n",
       "  background-color: #545454;\n",
       "  color: #f1f1f1;\n",
       "}\n",
       "#T_6a9df_row8_col12 {\n",
       "  font-size: 6pt;\n",
       "  background-color: #f1f1f1;\n",
       "  color: #000000;\n",
       "}\n",
       "#T_6a9df_row9_col5 {\n",
       "  font-size: 6pt;\n",
       "  background-color: #f7f7f7;\n",
       "  color: #000000;\n",
       "}\n",
       "#T_6a9df_row9_col7 {\n",
       "  font-size: 6pt;\n",
       "  background-color: #030303;\n",
       "  color: #f1f1f1;\n",
       "}\n",
       "#T_6a9df_row9_col12 {\n",
       "  font-size: 6pt;\n",
       "  background-color: #181818;\n",
       "  color: #f1f1f1;\n",
       "}\n",
       "#T_6a9df_row9_col13 {\n",
       "  font-size: 6pt;\n",
       "  background-color: #303030;\n",
       "  color: #f1f1f1;\n",
       "}\n",
       "#T_6a9df_row9_col14 {\n",
       "  font-size: 6pt;\n",
       "  background-color: #a9a9a9;\n",
       "  color: #f1f1f1;\n",
       "}\n",
       "#T_6a9df_row9_col15 {\n",
       "  font-size: 6pt;\n",
       "  background-color: #fefefe;\n",
       "  color: #000000;\n",
       "}\n",
       "#T_6a9df_row10_col8, #T_6a9df_row10_col9 {\n",
       "  font-size: 6pt;\n",
       "  background-color: #bababa;\n",
       "  color: #000000;\n",
       "}\n",
       "#T_6a9df_row10_col10 {\n",
       "  font-size: 6pt;\n",
       "  background-color: #393939;\n",
       "  color: #f1f1f1;\n",
       "}\n",
       "</style>\n",
       "<table id=\"T_6a9df\">\n",
       "  <thead>\n",
       "    <tr>\n",
       "      <th class=\"blank level0\" >&nbsp;</th>\n",
       "      <th id=\"T_6a9df_level0_col0\" class=\"col_heading level0 col0\" >0</th>\n",
       "      <th id=\"T_6a9df_level0_col1\" class=\"col_heading level0 col1\" >1</th>\n",
       "      <th id=\"T_6a9df_level0_col2\" class=\"col_heading level0 col2\" >2</th>\n",
       "      <th id=\"T_6a9df_level0_col3\" class=\"col_heading level0 col3\" >3</th>\n",
       "      <th id=\"T_6a9df_level0_col4\" class=\"col_heading level0 col4\" >4</th>\n",
       "      <th id=\"T_6a9df_level0_col5\" class=\"col_heading level0 col5\" >5</th>\n",
       "      <th id=\"T_6a9df_level0_col6\" class=\"col_heading level0 col6\" >6</th>\n",
       "      <th id=\"T_6a9df_level0_col7\" class=\"col_heading level0 col7\" >7</th>\n",
       "      <th id=\"T_6a9df_level0_col8\" class=\"col_heading level0 col8\" >8</th>\n",
       "      <th id=\"T_6a9df_level0_col9\" class=\"col_heading level0 col9\" >9</th>\n",
       "      <th id=\"T_6a9df_level0_col10\" class=\"col_heading level0 col10\" >10</th>\n",
       "      <th id=\"T_6a9df_level0_col11\" class=\"col_heading level0 col11\" >11</th>\n",
       "      <th id=\"T_6a9df_level0_col12\" class=\"col_heading level0 col12\" >12</th>\n",
       "      <th id=\"T_6a9df_level0_col13\" class=\"col_heading level0 col13\" >13</th>\n",
       "      <th id=\"T_6a9df_level0_col14\" class=\"col_heading level0 col14\" >14</th>\n",
       "      <th id=\"T_6a9df_level0_col15\" class=\"col_heading level0 col15\" >15</th>\n",
       "      <th id=\"T_6a9df_level0_col16\" class=\"col_heading level0 col16\" >16</th>\n",
       "      <th id=\"T_6a9df_level0_col17\" class=\"col_heading level0 col17\" >17</th>\n",
       "    </tr>\n",
       "  </thead>\n",
       "  <tbody>\n",
       "    <tr>\n",
       "      <th id=\"T_6a9df_level0_row0\" class=\"row_heading level0 row0\" >0</th>\n",
       "      <td id=\"T_6a9df_row0_col0\" class=\"data row0 col0\" >0</td>\n",
       "      <td id=\"T_6a9df_row0_col1\" class=\"data row0 col1\" >0</td>\n",
       "      <td id=\"T_6a9df_row0_col2\" class=\"data row0 col2\" >0</td>\n",
       "      <td id=\"T_6a9df_row0_col3\" class=\"data row0 col3\" >0</td>\n",
       "      <td id=\"T_6a9df_row0_col4\" class=\"data row0 col4\" >0</td>\n",
       "      <td id=\"T_6a9df_row0_col5\" class=\"data row0 col5\" >0</td>\n",
       "      <td id=\"T_6a9df_row0_col6\" class=\"data row0 col6\" >0</td>\n",
       "      <td id=\"T_6a9df_row0_col7\" class=\"data row0 col7\" >0</td>\n",
       "      <td id=\"T_6a9df_row0_col8\" class=\"data row0 col8\" >0</td>\n",
       "      <td id=\"T_6a9df_row0_col9\" class=\"data row0 col9\" >0</td>\n",
       "      <td id=\"T_6a9df_row0_col10\" class=\"data row0 col10\" >0</td>\n",
       "      <td id=\"T_6a9df_row0_col11\" class=\"data row0 col11\" >0</td>\n",
       "      <td id=\"T_6a9df_row0_col12\" class=\"data row0 col12\" >0</td>\n",
       "      <td id=\"T_6a9df_row0_col13\" class=\"data row0 col13\" >0</td>\n",
       "      <td id=\"T_6a9df_row0_col14\" class=\"data row0 col14\" >0</td>\n",
       "      <td id=\"T_6a9df_row0_col15\" class=\"data row0 col15\" >0</td>\n",
       "      <td id=\"T_6a9df_row0_col16\" class=\"data row0 col16\" >0</td>\n",
       "      <td id=\"T_6a9df_row0_col17\" class=\"data row0 col17\" >0</td>\n",
       "    </tr>\n",
       "    <tr>\n",
       "      <th id=\"T_6a9df_level0_row1\" class=\"row_heading level0 row1\" >1</th>\n",
       "      <td id=\"T_6a9df_row1_col0\" class=\"data row1 col0\" >0</td>\n",
       "      <td id=\"T_6a9df_row1_col1\" class=\"data row1 col1\" >0</td>\n",
       "      <td id=\"T_6a9df_row1_col2\" class=\"data row1 col2\" >0</td>\n",
       "      <td id=\"T_6a9df_row1_col3\" class=\"data row1 col3\" >0</td>\n",
       "      <td id=\"T_6a9df_row1_col4\" class=\"data row1 col4\" >0</td>\n",
       "      <td id=\"T_6a9df_row1_col5\" class=\"data row1 col5\" >29</td>\n",
       "      <td id=\"T_6a9df_row1_col6\" class=\"data row1 col6\" >150</td>\n",
       "      <td id=\"T_6a9df_row1_col7\" class=\"data row1 col7\" >195</td>\n",
       "      <td id=\"T_6a9df_row1_col8\" class=\"data row1 col8\" >254</td>\n",
       "      <td id=\"T_6a9df_row1_col9\" class=\"data row1 col9\" >255</td>\n",
       "      <td id=\"T_6a9df_row1_col10\" class=\"data row1 col10\" >254</td>\n",
       "      <td id=\"T_6a9df_row1_col11\" class=\"data row1 col11\" >176</td>\n",
       "      <td id=\"T_6a9df_row1_col12\" class=\"data row1 col12\" >193</td>\n",
       "      <td id=\"T_6a9df_row1_col13\" class=\"data row1 col13\" >150</td>\n",
       "      <td id=\"T_6a9df_row1_col14\" class=\"data row1 col14\" >96</td>\n",
       "      <td id=\"T_6a9df_row1_col15\" class=\"data row1 col15\" >0</td>\n",
       "      <td id=\"T_6a9df_row1_col16\" class=\"data row1 col16\" >0</td>\n",
       "      <td id=\"T_6a9df_row1_col17\" class=\"data row1 col17\" >0</td>\n",
       "    </tr>\n",
       "    <tr>\n",
       "      <th id=\"T_6a9df_level0_row2\" class=\"row_heading level0 row2\" >2</th>\n",
       "      <td id=\"T_6a9df_row2_col0\" class=\"data row2 col0\" >0</td>\n",
       "      <td id=\"T_6a9df_row2_col1\" class=\"data row2 col1\" >0</td>\n",
       "      <td id=\"T_6a9df_row2_col2\" class=\"data row2 col2\" >0</td>\n",
       "      <td id=\"T_6a9df_row2_col3\" class=\"data row2 col3\" >48</td>\n",
       "      <td id=\"T_6a9df_row2_col4\" class=\"data row2 col4\" >166</td>\n",
       "      <td id=\"T_6a9df_row2_col5\" class=\"data row2 col5\" >224</td>\n",
       "      <td id=\"T_6a9df_row2_col6\" class=\"data row2 col6\" >253</td>\n",
       "      <td id=\"T_6a9df_row2_col7\" class=\"data row2 col7\" >253</td>\n",
       "      <td id=\"T_6a9df_row2_col8\" class=\"data row2 col8\" >234</td>\n",
       "      <td id=\"T_6a9df_row2_col9\" class=\"data row2 col9\" >196</td>\n",
       "      <td id=\"T_6a9df_row2_col10\" class=\"data row2 col10\" >253</td>\n",
       "      <td id=\"T_6a9df_row2_col11\" class=\"data row2 col11\" >253</td>\n",
       "      <td id=\"T_6a9df_row2_col12\" class=\"data row2 col12\" >253</td>\n",
       "      <td id=\"T_6a9df_row2_col13\" class=\"data row2 col13\" >253</td>\n",
       "      <td id=\"T_6a9df_row2_col14\" class=\"data row2 col14\" >233</td>\n",
       "      <td id=\"T_6a9df_row2_col15\" class=\"data row2 col15\" >0</td>\n",
       "      <td id=\"T_6a9df_row2_col16\" class=\"data row2 col16\" >0</td>\n",
       "      <td id=\"T_6a9df_row2_col17\" class=\"data row2 col17\" >0</td>\n",
       "    </tr>\n",
       "    <tr>\n",
       "      <th id=\"T_6a9df_level0_row3\" class=\"row_heading level0 row3\" >3</th>\n",
       "      <td id=\"T_6a9df_row3_col0\" class=\"data row3 col0\" >0</td>\n",
       "      <td id=\"T_6a9df_row3_col1\" class=\"data row3 col1\" >93</td>\n",
       "      <td id=\"T_6a9df_row3_col2\" class=\"data row3 col2\" >244</td>\n",
       "      <td id=\"T_6a9df_row3_col3\" class=\"data row3 col3\" >249</td>\n",
       "      <td id=\"T_6a9df_row3_col4\" class=\"data row3 col4\" >253</td>\n",
       "      <td id=\"T_6a9df_row3_col5\" class=\"data row3 col5\" >187</td>\n",
       "      <td id=\"T_6a9df_row3_col6\" class=\"data row3 col6\" >46</td>\n",
       "      <td id=\"T_6a9df_row3_col7\" class=\"data row3 col7\" >10</td>\n",
       "      <td id=\"T_6a9df_row3_col8\" class=\"data row3 col8\" >8</td>\n",
       "      <td id=\"T_6a9df_row3_col9\" class=\"data row3 col9\" >4</td>\n",
       "      <td id=\"T_6a9df_row3_col10\" class=\"data row3 col10\" >10</td>\n",
       "      <td id=\"T_6a9df_row3_col11\" class=\"data row3 col11\" >194</td>\n",
       "      <td id=\"T_6a9df_row3_col12\" class=\"data row3 col12\" >253</td>\n",
       "      <td id=\"T_6a9df_row3_col13\" class=\"data row3 col13\" >253</td>\n",
       "      <td id=\"T_6a9df_row3_col14\" class=\"data row3 col14\" >233</td>\n",
       "      <td id=\"T_6a9df_row3_col15\" class=\"data row3 col15\" >0</td>\n",
       "      <td id=\"T_6a9df_row3_col16\" class=\"data row3 col16\" >0</td>\n",
       "      <td id=\"T_6a9df_row3_col17\" class=\"data row3 col17\" >0</td>\n",
       "    </tr>\n",
       "    <tr>\n",
       "      <th id=\"T_6a9df_level0_row4\" class=\"row_heading level0 row4\" >4</th>\n",
       "      <td id=\"T_6a9df_row4_col0\" class=\"data row4 col0\" >0</td>\n",
       "      <td id=\"T_6a9df_row4_col1\" class=\"data row4 col1\" >107</td>\n",
       "      <td id=\"T_6a9df_row4_col2\" class=\"data row4 col2\" >253</td>\n",
       "      <td id=\"T_6a9df_row4_col3\" class=\"data row4 col3\" >253</td>\n",
       "      <td id=\"T_6a9df_row4_col4\" class=\"data row4 col4\" >230</td>\n",
       "      <td id=\"T_6a9df_row4_col5\" class=\"data row4 col5\" >48</td>\n",
       "      <td id=\"T_6a9df_row4_col6\" class=\"data row4 col6\" >0</td>\n",
       "      <td id=\"T_6a9df_row4_col7\" class=\"data row4 col7\" >0</td>\n",
       "      <td id=\"T_6a9df_row4_col8\" class=\"data row4 col8\" >0</td>\n",
       "      <td id=\"T_6a9df_row4_col9\" class=\"data row4 col9\" >0</td>\n",
       "      <td id=\"T_6a9df_row4_col10\" class=\"data row4 col10\" >0</td>\n",
       "      <td id=\"T_6a9df_row4_col11\" class=\"data row4 col11\" >192</td>\n",
       "      <td id=\"T_6a9df_row4_col12\" class=\"data row4 col12\" >253</td>\n",
       "      <td id=\"T_6a9df_row4_col13\" class=\"data row4 col13\" >253</td>\n",
       "      <td id=\"T_6a9df_row4_col14\" class=\"data row4 col14\" >156</td>\n",
       "      <td id=\"T_6a9df_row4_col15\" class=\"data row4 col15\" >0</td>\n",
       "      <td id=\"T_6a9df_row4_col16\" class=\"data row4 col16\" >0</td>\n",
       "      <td id=\"T_6a9df_row4_col17\" class=\"data row4 col17\" >0</td>\n",
       "    </tr>\n",
       "    <tr>\n",
       "      <th id=\"T_6a9df_level0_row5\" class=\"row_heading level0 row5\" >5</th>\n",
       "      <td id=\"T_6a9df_row5_col0\" class=\"data row5 col0\" >0</td>\n",
       "      <td id=\"T_6a9df_row5_col1\" class=\"data row5 col1\" >3</td>\n",
       "      <td id=\"T_6a9df_row5_col2\" class=\"data row5 col2\" >20</td>\n",
       "      <td id=\"T_6a9df_row5_col3\" class=\"data row5 col3\" >20</td>\n",
       "      <td id=\"T_6a9df_row5_col4\" class=\"data row5 col4\" >15</td>\n",
       "      <td id=\"T_6a9df_row5_col5\" class=\"data row5 col5\" >0</td>\n",
       "      <td id=\"T_6a9df_row5_col6\" class=\"data row5 col6\" >0</td>\n",
       "      <td id=\"T_6a9df_row5_col7\" class=\"data row5 col7\" >0</td>\n",
       "      <td id=\"T_6a9df_row5_col8\" class=\"data row5 col8\" >0</td>\n",
       "      <td id=\"T_6a9df_row5_col9\" class=\"data row5 col9\" >0</td>\n",
       "      <td id=\"T_6a9df_row5_col10\" class=\"data row5 col10\" >43</td>\n",
       "      <td id=\"T_6a9df_row5_col11\" class=\"data row5 col11\" >224</td>\n",
       "      <td id=\"T_6a9df_row5_col12\" class=\"data row5 col12\" >253</td>\n",
       "      <td id=\"T_6a9df_row5_col13\" class=\"data row5 col13\" >245</td>\n",
       "      <td id=\"T_6a9df_row5_col14\" class=\"data row5 col14\" >74</td>\n",
       "      <td id=\"T_6a9df_row5_col15\" class=\"data row5 col15\" >0</td>\n",
       "      <td id=\"T_6a9df_row5_col16\" class=\"data row5 col16\" >0</td>\n",
       "      <td id=\"T_6a9df_row5_col17\" class=\"data row5 col17\" >0</td>\n",
       "    </tr>\n",
       "    <tr>\n",
       "      <th id=\"T_6a9df_level0_row6\" class=\"row_heading level0 row6\" >6</th>\n",
       "      <td id=\"T_6a9df_row6_col0\" class=\"data row6 col0\" >0</td>\n",
       "      <td id=\"T_6a9df_row6_col1\" class=\"data row6 col1\" >0</td>\n",
       "      <td id=\"T_6a9df_row6_col2\" class=\"data row6 col2\" >0</td>\n",
       "      <td id=\"T_6a9df_row6_col3\" class=\"data row6 col3\" >0</td>\n",
       "      <td id=\"T_6a9df_row6_col4\" class=\"data row6 col4\" >0</td>\n",
       "      <td id=\"T_6a9df_row6_col5\" class=\"data row6 col5\" >0</td>\n",
       "      <td id=\"T_6a9df_row6_col6\" class=\"data row6 col6\" >0</td>\n",
       "      <td id=\"T_6a9df_row6_col7\" class=\"data row6 col7\" >0</td>\n",
       "      <td id=\"T_6a9df_row6_col8\" class=\"data row6 col8\" >0</td>\n",
       "      <td id=\"T_6a9df_row6_col9\" class=\"data row6 col9\" >0</td>\n",
       "      <td id=\"T_6a9df_row6_col10\" class=\"data row6 col10\" >249</td>\n",
       "      <td id=\"T_6a9df_row6_col11\" class=\"data row6 col11\" >253</td>\n",
       "      <td id=\"T_6a9df_row6_col12\" class=\"data row6 col12\" >245</td>\n",
       "      <td id=\"T_6a9df_row6_col13\" class=\"data row6 col13\" >126</td>\n",
       "      <td id=\"T_6a9df_row6_col14\" class=\"data row6 col14\" >0</td>\n",
       "      <td id=\"T_6a9df_row6_col15\" class=\"data row6 col15\" >0</td>\n",
       "      <td id=\"T_6a9df_row6_col16\" class=\"data row6 col16\" >0</td>\n",
       "      <td id=\"T_6a9df_row6_col17\" class=\"data row6 col17\" >0</td>\n",
       "    </tr>\n",
       "    <tr>\n",
       "      <th id=\"T_6a9df_level0_row7\" class=\"row_heading level0 row7\" >7</th>\n",
       "      <td id=\"T_6a9df_row7_col0\" class=\"data row7 col0\" >0</td>\n",
       "      <td id=\"T_6a9df_row7_col1\" class=\"data row7 col1\" >0</td>\n",
       "      <td id=\"T_6a9df_row7_col2\" class=\"data row7 col2\" >0</td>\n",
       "      <td id=\"T_6a9df_row7_col3\" class=\"data row7 col3\" >0</td>\n",
       "      <td id=\"T_6a9df_row7_col4\" class=\"data row7 col4\" >0</td>\n",
       "      <td id=\"T_6a9df_row7_col5\" class=\"data row7 col5\" >0</td>\n",
       "      <td id=\"T_6a9df_row7_col6\" class=\"data row7 col6\" >0</td>\n",
       "      <td id=\"T_6a9df_row7_col7\" class=\"data row7 col7\" >14</td>\n",
       "      <td id=\"T_6a9df_row7_col8\" class=\"data row7 col8\" >101</td>\n",
       "      <td id=\"T_6a9df_row7_col9\" class=\"data row7 col9\" >223</td>\n",
       "      <td id=\"T_6a9df_row7_col10\" class=\"data row7 col10\" >253</td>\n",
       "      <td id=\"T_6a9df_row7_col11\" class=\"data row7 col11\" >248</td>\n",
       "      <td id=\"T_6a9df_row7_col12\" class=\"data row7 col12\" >124</td>\n",
       "      <td id=\"T_6a9df_row7_col13\" class=\"data row7 col13\" >0</td>\n",
       "      <td id=\"T_6a9df_row7_col14\" class=\"data row7 col14\" >0</td>\n",
       "      <td id=\"T_6a9df_row7_col15\" class=\"data row7 col15\" >0</td>\n",
       "      <td id=\"T_6a9df_row7_col16\" class=\"data row7 col16\" >0</td>\n",
       "      <td id=\"T_6a9df_row7_col17\" class=\"data row7 col17\" >0</td>\n",
       "    </tr>\n",
       "    <tr>\n",
       "      <th id=\"T_6a9df_level0_row8\" class=\"row_heading level0 row8\" >8</th>\n",
       "      <td id=\"T_6a9df_row8_col0\" class=\"data row8 col0\" >0</td>\n",
       "      <td id=\"T_6a9df_row8_col1\" class=\"data row8 col1\" >0</td>\n",
       "      <td id=\"T_6a9df_row8_col2\" class=\"data row8 col2\" >0</td>\n",
       "      <td id=\"T_6a9df_row8_col3\" class=\"data row8 col3\" >0</td>\n",
       "      <td id=\"T_6a9df_row8_col4\" class=\"data row8 col4\" >0</td>\n",
       "      <td id=\"T_6a9df_row8_col5\" class=\"data row8 col5\" >11</td>\n",
       "      <td id=\"T_6a9df_row8_col6\" class=\"data row8 col6\" >166</td>\n",
       "      <td id=\"T_6a9df_row8_col7\" class=\"data row8 col7\" >239</td>\n",
       "      <td id=\"T_6a9df_row8_col8\" class=\"data row8 col8\" >253</td>\n",
       "      <td id=\"T_6a9df_row8_col9\" class=\"data row8 col9\" >253</td>\n",
       "      <td id=\"T_6a9df_row8_col10\" class=\"data row8 col10\" >253</td>\n",
       "      <td id=\"T_6a9df_row8_col11\" class=\"data row8 col11\" >187</td>\n",
       "      <td id=\"T_6a9df_row8_col12\" class=\"data row8 col12\" >30</td>\n",
       "      <td id=\"T_6a9df_row8_col13\" class=\"data row8 col13\" >0</td>\n",
       "      <td id=\"T_6a9df_row8_col14\" class=\"data row8 col14\" >0</td>\n",
       "      <td id=\"T_6a9df_row8_col15\" class=\"data row8 col15\" >0</td>\n",
       "      <td id=\"T_6a9df_row8_col16\" class=\"data row8 col16\" >0</td>\n",
       "      <td id=\"T_6a9df_row8_col17\" class=\"data row8 col17\" >0</td>\n",
       "    </tr>\n",
       "    <tr>\n",
       "      <th id=\"T_6a9df_level0_row9\" class=\"row_heading level0 row9\" >9</th>\n",
       "      <td id=\"T_6a9df_row9_col0\" class=\"data row9 col0\" >0</td>\n",
       "      <td id=\"T_6a9df_row9_col1\" class=\"data row9 col1\" >0</td>\n",
       "      <td id=\"T_6a9df_row9_col2\" class=\"data row9 col2\" >0</td>\n",
       "      <td id=\"T_6a9df_row9_col3\" class=\"data row9 col3\" >0</td>\n",
       "      <td id=\"T_6a9df_row9_col4\" class=\"data row9 col4\" >0</td>\n",
       "      <td id=\"T_6a9df_row9_col5\" class=\"data row9 col5\" >16</td>\n",
       "      <td id=\"T_6a9df_row9_col6\" class=\"data row9 col6\" >248</td>\n",
       "      <td id=\"T_6a9df_row9_col7\" class=\"data row9 col7\" >250</td>\n",
       "      <td id=\"T_6a9df_row9_col8\" class=\"data row9 col8\" >253</td>\n",
       "      <td id=\"T_6a9df_row9_col9\" class=\"data row9 col9\" >253</td>\n",
       "      <td id=\"T_6a9df_row9_col10\" class=\"data row9 col10\" >253</td>\n",
       "      <td id=\"T_6a9df_row9_col11\" class=\"data row9 col11\" >253</td>\n",
       "      <td id=\"T_6a9df_row9_col12\" class=\"data row9 col12\" >232</td>\n",
       "      <td id=\"T_6a9df_row9_col13\" class=\"data row9 col13\" >213</td>\n",
       "      <td id=\"T_6a9df_row9_col14\" class=\"data row9 col14\" >111</td>\n",
       "      <td id=\"T_6a9df_row9_col15\" class=\"data row9 col15\" >2</td>\n",
       "      <td id=\"T_6a9df_row9_col16\" class=\"data row9 col16\" >0</td>\n",
       "      <td id=\"T_6a9df_row9_col17\" class=\"data row9 col17\" >0</td>\n",
       "    </tr>\n",
       "    <tr>\n",
       "      <th id=\"T_6a9df_level0_row10\" class=\"row_heading level0 row10\" >10</th>\n",
       "      <td id=\"T_6a9df_row10_col0\" class=\"data row10 col0\" >0</td>\n",
       "      <td id=\"T_6a9df_row10_col1\" class=\"data row10 col1\" >0</td>\n",
       "      <td id=\"T_6a9df_row10_col2\" class=\"data row10 col2\" >0</td>\n",
       "      <td id=\"T_6a9df_row10_col3\" class=\"data row10 col3\" >0</td>\n",
       "      <td id=\"T_6a9df_row10_col4\" class=\"data row10 col4\" >0</td>\n",
       "      <td id=\"T_6a9df_row10_col5\" class=\"data row10 col5\" >0</td>\n",
       "      <td id=\"T_6a9df_row10_col6\" class=\"data row10 col6\" >0</td>\n",
       "      <td id=\"T_6a9df_row10_col7\" class=\"data row10 col7\" >43</td>\n",
       "      <td id=\"T_6a9df_row10_col8\" class=\"data row10 col8\" >98</td>\n",
       "      <td id=\"T_6a9df_row10_col9\" class=\"data row10 col9\" >98</td>\n",
       "      <td id=\"T_6a9df_row10_col10\" class=\"data row10 col10\" >208</td>\n",
       "      <td id=\"T_6a9df_row10_col11\" class=\"data row10 col11\" >253</td>\n",
       "      <td id=\"T_6a9df_row10_col12\" class=\"data row10 col12\" >253</td>\n",
       "      <td id=\"T_6a9df_row10_col13\" class=\"data row10 col13\" >253</td>\n",
       "      <td id=\"T_6a9df_row10_col14\" class=\"data row10 col14\" >253</td>\n",
       "      <td id=\"T_6a9df_row10_col15\" class=\"data row10 col15\" >187</td>\n",
       "      <td id=\"T_6a9df_row10_col16\" class=\"data row10 col16\" >22</td>\n",
       "      <td id=\"T_6a9df_row10_col17\" class=\"data row10 col17\" >0</td>\n",
       "    </tr>\n",
       "  </tbody>\n",
       "</table>\n"
      ],
      "text/plain": [
       "<pandas.io.formats.style.Styler at 0x1317db190>"
      ]
     },
     "execution_count": 33,
     "metadata": {},
     "output_type": "execute_result"
    }
   ],
   "source": [
    "im3_df = pd.DataFrame(im3_t)\n",
    "im3_df.style.set_properties(**{'font-size':'6pt'})\\\n",
    ".background_gradient('Greys')"
   ]
  },
  {
   "cell_type": "code",
   "execution_count": 34,
   "metadata": {},
   "outputs": [
    {
     "data": {
      "text/plain": [
       "(50000, 32, 32, 3)"
      ]
     },
     "execution_count": 34,
     "metadata": {},
     "output_type": "execute_result"
    }
   ],
   "source": [
    "import numpy as np\n",
    "from keras.datasets import cifar10\n",
    "\n",
    "(X_train, y_train),(X_test, y_test) = cifar10.load_data()\n",
    "# rozmiar \n",
    "X_train.shape"
   ]
  },
  {
   "cell_type": "code",
   "execution_count": 35,
   "metadata": {},
   "outputs": [
    {
     "name": "stdout",
     "output_type": "stream",
     "text": [
      "0\n"
     ]
    }
   ],
   "source": [
    "import numpy as np\n",
    "skalar = np.array(5)\n",
    "print(skalar.ndim)"
   ]
  },
  {
   "cell_type": "code",
   "execution_count": 36,
   "metadata": {},
   "outputs": [
    {
     "name": "stdout",
     "output_type": "stream",
     "text": [
      "1\n"
     ]
    }
   ],
   "source": [
    "wektor_1d = np.array([3, 5, 7])\n",
    "print(wektor_1d.ndim)"
   ]
  },
  {
   "cell_type": "code",
   "execution_count": 37,
   "metadata": {},
   "outputs": [
    {
     "name": "stdout",
     "output_type": "stream",
     "text": [
      "2\n"
     ]
    }
   ],
   "source": [
    "macierz_2d = np.array([[1,2],[3,4]])\n",
    "print(macierz_2d.ndim)"
   ]
  },
  {
   "cell_type": "code",
   "execution_count": 38,
   "metadata": {},
   "outputs": [
    {
     "name": "stdout",
     "output_type": "stream",
     "text": [
      "tensor([4, 6, 8])\n"
     ]
    }
   ],
   "source": [
    "import torch \n",
    "a = torch.tensor([1,2,3])\n",
    "b = torch.tensor([3,4,5])\n",
    "c = a+b\n",
    "print(c)"
   ]
  },
  {
   "cell_type": "code",
   "execution_count": 39,
   "metadata": {},
   "outputs": [
    {
     "data": {
      "text/plain": [
       "torch.Size([2, 3])"
      ]
     },
     "execution_count": 39,
     "metadata": {},
     "output_type": "execute_result"
    }
   ],
   "source": [
    "d = torch.tensor([[1,2,3],[3,4,5]])\n",
    "d.size()\n"
   ]
  },
  {
   "cell_type": "code",
   "execution_count": 40,
   "metadata": {},
   "outputs": [
    {
     "data": {
      "text/plain": [
       "tensor([[1, 3],\n",
       "        [2, 4],\n",
       "        [3, 5]])"
      ]
     },
     "execution_count": 40,
     "metadata": {},
     "output_type": "execute_result"
    }
   ],
   "source": [
    "d.T"
   ]
  },
  {
   "cell_type": "code",
   "execution_count": 41,
   "metadata": {},
   "outputs": [
    {
     "data": {
      "text/plain": [
       "device(type='cpu')"
      ]
     },
     "execution_count": 41,
     "metadata": {},
     "output_type": "execute_result"
    }
   ],
   "source": [
    "device = \"cuda\" if torch.cuda.is_available() else \"cpu\"\n",
    "\n",
    "x = torch.tensor([[1,2,3],[4,5,6]], device=device)\n",
    "x.device"
   ]
  },
  {
   "cell_type": "markdown",
   "metadata": {},
   "source": [
    "## Podłączenie do Apache Spark\n",
    "\n",
    "Sprawdź rozdział 3"
   ]
  },
  {
   "cell_type": "code",
   "execution_count": 42,
   "metadata": {},
   "outputs": [],
   "source": [
    "import findspark\n",
    "findspark.init('/Users/air/Desktop/spark')"
   ]
  },
  {
   "cell_type": "code",
   "execution_count": 43,
   "metadata": {},
   "outputs": [
    {
     "name": "stderr",
     "output_type": "stream",
     "text": [
      "Using Spark's default log4j profile: org/apache/spark/log4j-defaults.properties\n",
      "Setting default log level to \"WARN\".\n",
      "To adjust logging level use sc.setLogLevel(newLevel). For SparkR, use setLogLevel(newLevel).\n",
      "22/02/05 18:33:11 WARN NativeCodeLoader: Unable to load native-hadoop library for your platform... using builtin-java classes where applicable\n"
     ]
    }
   ],
   "source": [
    "from pyspark import SparkContext\n",
    "\n",
    "sc = SparkContext(master='local[*]', appName=\"book app\")"
   ]
  },
  {
   "cell_type": "code",
   "execution_count": 44,
   "metadata": {},
   "outputs": [
    {
     "data": {
      "text/html": [
       "\n",
       "        <div>\n",
       "            <p><b>SparkContext</b></p>\n",
       "\n",
       "            <p><a href=\"http://macbook-air-mac.home:4040\">Spark UI</a></p>\n",
       "\n",
       "            <dl>\n",
       "              <dt>Version</dt>\n",
       "                <dd><code>v3.2.1</code></dd>\n",
       "              <dt>Master</dt>\n",
       "                <dd><code>local[*]</code></dd>\n",
       "              <dt>AppName</dt>\n",
       "                <dd><code>book app</code></dd>\n",
       "            </dl>\n",
       "        </div>\n",
       "        "
      ],
      "text/plain": [
       "<SparkContext master=local[*] appName=book app>"
      ]
     },
     "execution_count": 44,
     "metadata": {},
     "output_type": "execute_result"
    }
   ],
   "source": [
    "sc"
   ]
  },
  {
   "cell_type": "code",
   "execution_count": 45,
   "metadata": {},
   "outputs": [],
   "source": [
    "rdd = sc.parallelize(range(10))"
   ]
  },
  {
   "cell_type": "code",
   "execution_count": 46,
   "metadata": {},
   "outputs": [
    {
     "data": {
      "text/plain": [
       "PythonRDD[1] at RDD at PythonRDD.scala:53"
      ]
     },
     "execution_count": 46,
     "metadata": {},
     "output_type": "execute_result"
    }
   ],
   "source": [
    "rdd"
   ]
  },
  {
   "cell_type": "code",
   "execution_count": 47,
   "metadata": {},
   "outputs": [
    {
     "name": "stderr",
     "output_type": "stream",
     "text": [
      "                                                                                \r"
     ]
    },
    {
     "data": {
      "text/plain": [
       "0"
      ]
     },
     "execution_count": 47,
     "metadata": {},
     "output_type": "execute_result"
    }
   ],
   "source": [
    "# pierwszy element\n",
    "rdd.first()"
   ]
  },
  {
   "cell_type": "code",
   "execution_count": 48,
   "metadata": {},
   "outputs": [
    {
     "data": {
      "text/plain": [
       "[0, 1]"
      ]
     },
     "execution_count": 48,
     "metadata": {},
     "output_type": "execute_result"
    }
   ],
   "source": [
    "# pierwsze dwa elementy\n",
    "rdd.take(2)"
   ]
  },
  {
   "cell_type": "code",
   "execution_count": 49,
   "metadata": {},
   "outputs": [
    {
     "data": {
      "text/plain": [
       "[6, 3, 6]"
      ]
     },
     "execution_count": 49,
     "metadata": {},
     "output_type": "execute_result"
    }
   ],
   "source": [
    "# losowe elementy v1\n",
    "rdd.takeSample(True,3)"
   ]
  },
  {
   "cell_type": "code",
   "execution_count": 50,
   "metadata": {},
   "outputs": [
    {
     "data": {
      "text/plain": [
       "[3, 0, 2]"
      ]
     },
     "execution_count": 50,
     "metadata": {},
     "output_type": "execute_result"
    }
   ],
   "source": [
    "# losowe elementy v2\n",
    "rdd.takeSample(False,3)"
   ]
  },
  {
   "cell_type": "code",
   "execution_count": 51,
   "metadata": {},
   "outputs": [
    {
     "data": {
      "text/plain": [
       "10"
      ]
     },
     "execution_count": 51,
     "metadata": {},
     "output_type": "execute_result"
    }
   ],
   "source": [
    "rdd.count()"
   ]
  },
  {
   "cell_type": "code",
   "execution_count": 52,
   "metadata": {},
   "outputs": [
    {
     "data": {
      "text/plain": [
       "4.5"
      ]
     },
     "execution_count": 52,
     "metadata": {},
     "output_type": "execute_result"
    }
   ],
   "source": [
    "rdd.mean()"
   ]
  },
  {
   "cell_type": "code",
   "execution_count": 53,
   "metadata": {},
   "outputs": [
    {
     "data": {
      "text/plain": [
       "45"
      ]
     },
     "execution_count": 53,
     "metadata": {},
     "output_type": "execute_result"
    }
   ],
   "source": [
    "rdd.reduce(lambda x,y: x+y)"
   ]
  },
  {
   "cell_type": "code",
   "execution_count": 54,
   "metadata": {},
   "outputs": [
    {
     "data": {
      "text/plain": [
       "45"
      ]
     },
     "execution_count": 54,
     "metadata": {},
     "output_type": "execute_result"
    }
   ],
   "source": [
    "rdd.sum()"
   ]
  },
  {
   "cell_type": "code",
   "execution_count": 55,
   "metadata": {},
   "outputs": [
    {
     "data": {
      "text/plain": [
       "[0, 1, 4, 9, 16, 25, 36, 49, 64, 81]"
      ]
     },
     "execution_count": 55,
     "metadata": {},
     "output_type": "execute_result"
    }
   ],
   "source": [
    "rdd2 = rdd.map(lambda x: x*x)\n",
    "rdd2.collect()"
   ]
  },
  {
   "cell_type": "code",
   "execution_count": 56,
   "metadata": {},
   "outputs": [
    {
     "data": {
      "text/plain": [
       "[[0, 0],\n",
       " [1, 1],\n",
       " [2, 2],\n",
       " [3, 3],\n",
       " [4, 4],\n",
       " [5, 5],\n",
       " [6, 6],\n",
       " [7, 7],\n",
       " [8, 8],\n",
       " [9, 9]]"
      ]
     },
     "execution_count": 56,
     "metadata": {},
     "output_type": "execute_result"
    }
   ],
   "source": [
    "rdd3 = rdd.map(lambda x: [x,x])\n",
    "rdd3.collect()"
   ]
  },
  {
   "cell_type": "code",
   "execution_count": 57,
   "metadata": {},
   "outputs": [
    {
     "data": {
      "text/plain": [
       "[0, 0, 1, 1, 2, 2, 3, 3, 4, 4, 5, 5, 6, 6, 7, 7, 8, 8, 9, 9]"
      ]
     },
     "execution_count": 57,
     "metadata": {},
     "output_type": "execute_result"
    }
   ],
   "source": [
    "rdd4 = rdd.flatMap(lambda x: [x,x])\n",
    "rdd4.collect()"
   ]
  },
  {
   "cell_type": "code",
   "execution_count": 58,
   "metadata": {},
   "outputs": [
    {
     "data": {
      "text/plain": [
       "378"
      ]
     },
     "execution_count": 58,
     "metadata": {},
     "output_type": "execute_result"
    }
   ],
   "source": [
    "sc.parallelize(range(20)) \\\n",
    ".map(lambda x: x * 2) \\\n",
    ".filter(lambda x: x != 2) \\\n",
    ".reduce(lambda x,y: x + y)"
   ]
  },
  {
   "cell_type": "code",
   "execution_count": 59,
   "metadata": {},
   "outputs": [
    {
     "name": "stdout",
     "output_type": "stream",
     "text": [
      "Overwriting example.txt\n"
     ]
    }
   ],
   "source": [
    "%%file example.txt\n",
    "first \n",
    "second line \n",
    "the third line \n",
    "then a fourth line"
   ]
  },
  {
   "cell_type": "code",
   "execution_count": 60,
   "metadata": {},
   "outputs": [],
   "source": [
    "text_rdd = sc.textFile('example.txt')"
   ]
  },
  {
   "cell_type": "code",
   "execution_count": 61,
   "metadata": {},
   "outputs": [
    {
     "data": {
      "text/plain": [
       "'first '"
      ]
     },
     "execution_count": 61,
     "metadata": {},
     "output_type": "execute_result"
    }
   ],
   "source": [
    "text_rdd.first()\n"
   ]
  },
  {
   "cell_type": "code",
   "execution_count": 62,
   "metadata": {},
   "outputs": [
    {
     "data": {
      "text/plain": [
       "['first ', 'second line ', 'the third line ']"
      ]
     },
     "execution_count": 62,
     "metadata": {},
     "output_type": "execute_result"
    }
   ],
   "source": [
    "\n",
    "text_rdd.take(3)"
   ]
  },
  {
   "cell_type": "code",
   "execution_count": 63,
   "metadata": {},
   "outputs": [
    {
     "data": {
      "text/plain": [
       "['second line ', 'first ']"
      ]
     },
     "execution_count": 63,
     "metadata": {},
     "output_type": "execute_result"
    }
   ],
   "source": [
    "text_rdd.takeSample(True,2)"
   ]
  },
  {
   "cell_type": "code",
   "execution_count": 64,
   "metadata": {},
   "outputs": [
    {
     "data": {
      "text/plain": [
       "4"
      ]
     },
     "execution_count": 64,
     "metadata": {},
     "output_type": "execute_result"
    }
   ],
   "source": [
    "text_rdd.count()"
   ]
  },
  {
   "cell_type": "code",
   "execution_count": 65,
   "metadata": {},
   "outputs": [
    {
     "data": {
      "text/plain": [
       "[['first'],\n",
       " ['second', 'line'],\n",
       " ['the', 'third', 'line'],\n",
       " ['then', 'a', 'fourth', 'line']]"
      ]
     },
     "execution_count": 65,
     "metadata": {},
     "output_type": "execute_result"
    }
   ],
   "source": [
    "text_rdd.map(lambda line: line.split()).collect()"
   ]
  },
  {
   "cell_type": "code",
   "execution_count": 66,
   "metadata": {},
   "outputs": [],
   "source": [
    "def nasza_fun(line):\n",
    "    return line.split()"
   ]
  },
  {
   "cell_type": "code",
   "execution_count": 67,
   "metadata": {},
   "outputs": [
    {
     "data": {
      "text/plain": [
       "[['first'],\n",
       " ['second', 'line'],\n",
       " ['the', 'third', 'line'],\n",
       " ['then', 'a', 'fourth', 'line']]"
      ]
     },
     "execution_count": 67,
     "metadata": {},
     "output_type": "execute_result"
    }
   ],
   "source": [
    "text_rdd.map(nasza_fun).collect()"
   ]
  },
  {
   "cell_type": "code",
   "execution_count": 68,
   "metadata": {},
   "outputs": [
    {
     "name": "stderr",
     "output_type": "stream",
     "text": [
      "                                                                                \r"
     ]
    },
    {
     "data": {
      "text/plain": [
       "[('line', 3),\n",
       " ('third', 1),\n",
       " ('fourth', 1),\n",
       " ('first', 1),\n",
       " ('second', 1),\n",
       " ('the', 1),\n",
       " ('then', 1),\n",
       " ('a', 1)]"
      ]
     },
     "execution_count": 68,
     "metadata": {},
     "output_type": "execute_result"
    }
   ],
   "source": [
    "import re\n",
    "sc.textFile(\"example.txt\") \\\n",
    ".map(lambda x: re.findall(r\"[a-z']+\", x.lower())) \\\n",
    ".flatMap(lambda x: [(y, 1) for y in x]) \\\n",
    ".reduceByKey(lambda x,y: x + y) \\\n",
    ".collect()"
   ]
  },
  {
   "cell_type": "code",
   "execution_count": 69,
   "metadata": {},
   "outputs": [
    {
     "data": {
      "text/plain": [
       "<Response [200]>"
      ]
     },
     "execution_count": 69,
     "metadata": {},
     "output_type": "execute_result"
    }
   ],
   "source": [
    "import requests\n",
    "requests.get('https://sebastianzajac.pl')"
   ]
  },
  {
   "cell_type": "code",
   "execution_count": 70,
   "metadata": {},
   "outputs": [],
   "source": [
    "import requests\n",
    "import json\n",
    "\n",
    "def pobierz_info_slowa(slowo):\n",
    "  language = 'en-gb'\n",
    "  headers = {\"app_id\":\"c7f6d128\",\n",
    "             \"app_key\":\"73ea2ed8109721300050137e74044fa6\"}\n",
    "  url_1 = \"https://od-api.oxforddictionaries.com:443/api/v2/entries/\"\n",
    "  url = f\"{url_1}{language}/{slowo.lower()}\"\n",
    "  return requests.get(url, headers=headers)"
   ]
  },
  {
   "cell_type": "code",
   "execution_count": 71,
   "metadata": {},
   "outputs": [
    {
     "name": "stdout",
     "output_type": "stream",
     "text": [
      "{\n",
      "    \"id\": \"streaming\",\n",
      "    \"metadata\": {\n",
      "        \"operation\": \"retrieve\",\n",
      "        \"provider\": \"Oxford University Press\",\n",
      "        \"schema\": \"RetrieveEntry\"\n",
      "    },\n",
      "    \"results\": [\n",
      "        {\n",
      "            \"id\": \"streaming\",\n",
      "            \"language\": \"en-gb\",\n",
      "            \"lexicalEntries\": [\n",
      "                {\n",
      "                    \"entries\": [\n",
      "                        {\n",
      "                            \"grammaticalFeatures\": [\n",
      "                                {\n",
      "                                    \"id\": \"mass\",\n",
      "                                    \"text\": \"Mass\",\n",
      "                                    \"type\": \"Countability\"\n",
      "                                }\n",
      "                            ],\n",
      "                            \"pronunciations\": [\n",
      "                                {\n",
      "                                    \"audioFile\": \"https://audio.oxforddictionaries.com/en/mp3/streaming_gb_2.mp3\",\n",
      "                                    \"dialects\": [\n",
      "                                        \"British English\"\n",
      "                                    ],\n",
      "                                    \"phoneticNotation\": \"IPA\",\n",
      "                                    \"phoneticSpelling\": \"ˈstriːmɪŋ\"\n",
      "                                }\n",
      "                            ],\n",
      "                            \"senses\": [\n",
      "                                {\n",
      "                                    \"definitions\": [\n",
      "                                        \"a method of transmitting or receiving data (especially video and audio material) over a computer network as a steady, continuous flow, allowing playback to start while the rest of the data is still being received.\"\n",
      "                                    ],\n",
      "                                    \"domainClasses\": [\n",
      "                                        {\n",
      "                                            \"id\": \"audio\",\n",
      "                                            \"text\": \"Audio\"\n",
      "                                        },\n",
      "                                        {\n",
      "                                            \"id\": \"computing\",\n",
      "                                            \"text\": \"Computing\"\n",
      "                                        },\n",
      "                                        {\n",
      "                                            \"id\": \"video\",\n",
      "                                            \"text\": \"Video\"\n",
      "                                        }\n",
      "                                    ],\n",
      "                                    \"id\": \"m_en_gbus1001810.012\",\n",
      "                                    \"semanticClasses\": [\n",
      "                                        {\n",
      "                                            \"id\": \"technical_system\",\n",
      "                                            \"text\": \"Technical_System\"\n",
      "                                        }\n",
      "                                    ],\n",
      "                                    \"shortDefinitions\": [\n",
      "                                        \"method of relaying data over computer network as steady continuous stream\"\n",
      "                                    ]\n",
      "                                },\n",
      "                                {\n",
      "                                    \"definitions\": [\n",
      "                                        \"the practice of putting schoolchildren in groups of the same age and ability to be taught together\"\n",
      "                                    ],\n",
      "                                    \"domainClasses\": [\n",
      "                                        {\n",
      "                                            \"id\": \"education\",\n",
      "                                            \"text\": \"Education\"\n",
      "                                        }\n",
      "                                    ],\n",
      "                                    \"examples\": [\n",
      "                                        {\n",
      "                                            \"text\": \"streaming within secondary schools is common practice\"\n",
      "                                        }\n",
      "                                    ],\n",
      "                                    \"id\": \"m_en_gbus1001810.034\",\n",
      "                                    \"regions\": [\n",
      "                                        {\n",
      "                                            \"id\": \"british\",\n",
      "                                            \"text\": \"British\"\n",
      "                                        }\n",
      "                                    ],\n",
      "                                    \"semanticClasses\": [\n",
      "                                        {\n",
      "                                            \"id\": \"practice\",\n",
      "                                            \"text\": \"Practice\"\n",
      "                                        }\n",
      "                                    ],\n",
      "                                    \"shortDefinitions\": [\n",
      "                                        \"practice of putting schoolchildren in groups of same age and ability to be taught together\"\n",
      "                                    ]\n",
      "                                }\n",
      "                            ]\n",
      "                        }\n",
      "                    ],\n",
      "                    \"language\": \"en-gb\",\n",
      "                    \"lexicalCategory\": {\n",
      "                        \"id\": \"noun\",\n",
      "                        \"text\": \"Noun\"\n",
      "                    },\n",
      "                    \"text\": \"streaming\"\n",
      "                },\n",
      "                {\n",
      "                    \"entries\": [\n",
      "                        {\n",
      "                            \"notes\": [\n",
      "                                {\n",
      "                                    \"text\": \"attributive\",\n",
      "                                    \"type\": \"grammaticalNote\"\n",
      "                                }\n",
      "                            ],\n",
      "                            \"pronunciations\": [\n",
      "                                {\n",
      "                                    \"audioFile\": \"https://audio.oxforddictionaries.com/en/mp3/streaming_gb_2.mp3\",\n",
      "                                    \"dialects\": [\n",
      "                                        \"British English\"\n",
      "                                    ],\n",
      "                                    \"phoneticNotation\": \"IPA\",\n",
      "                                    \"phoneticSpelling\": \"ˈstriːmɪŋ\"\n",
      "                                }\n",
      "                            ],\n",
      "                            \"senses\": [\n",
      "                                {\n",
      "                                    \"definitions\": [\n",
      "                                        \"relating to or using data transmitted in a continuous stream while earlier parts are being used\"\n",
      "                                    ],\n",
      "                                    \"domainClasses\": [\n",
      "                                        {\n",
      "                                            \"id\": \"computing\",\n",
      "                                            \"text\": \"Computing\"\n",
      "                                        }\n",
      "                                    ],\n",
      "                                    \"examples\": [\n",
      "                                        {\n",
      "                                            \"text\": \"a streaming service\"\n",
      "                                        },\n",
      "                                        {\n",
      "                                            \"text\": \"a streaming platform\"\n",
      "                                        }\n",
      "                                    ],\n",
      "                                    \"id\": \"m_en_gbus1001810.010\",\n",
      "                                    \"shortDefinitions\": [\n",
      "                                        \"relating to data transmitted in continuous stream\"\n",
      "                                    ],\n",
      "                                    \"subsenses\": [\n",
      "                                        {\n",
      "                                            \"definitions\": [\n",
      "                                                \"relating to or making use of a form of tape transport, used mainly to provide backup storage, in which data may be transferred in bulk while the tape is in motion\"\n",
      "                                            ],\n",
      "                                            \"domainClasses\": [\n",
      "                                                {\n",
      "                                                    \"id\": \"computing\",\n",
      "                                                    \"text\": \"Computing\"\n",
      "                                                }\n",
      "                                            ],\n",
      "                                            \"domains\": [\n",
      "                                                {\n",
      "                                                    \"id\": \"computing\",\n",
      "                                                    \"text\": \"Computing\"\n",
      "                                                }\n",
      "                                            ],\n",
      "                                            \"examples\": [\n",
      "                                                {\n",
      "                                                    \"text\": \"a streaming tape drive\"\n",
      "                                                }\n",
      "                                            ],\n",
      "                                            \"id\": \"m_en_gbus1001810.009\",\n",
      "                                            \"shortDefinitions\": [\n",
      "                                                \"relating to or making use of form of tape transport\"\n",
      "                                            ]\n",
      "                                        }\n",
      "                                    ]\n",
      "                                },\n",
      "                                {\n",
      "                                    \"definitions\": [\n",
      "                                        \"(of a cold) accompanied by copious running of the nose and eyes\"\n",
      "                                    ],\n",
      "                                    \"examples\": [\n",
      "                                        {\n",
      "                                            \"text\": \"she's got a streaming cold\"\n",
      "                                        }\n",
      "                                    ],\n",
      "                                    \"id\": \"m_en_gbus1001810.006\",\n",
      "                                    \"regions\": [\n",
      "                                        {\n",
      "                                            \"id\": \"british\",\n",
      "                                            \"text\": \"British\"\n",
      "                                        }\n",
      "                                    ],\n",
      "                                    \"shortDefinitions\": [\n",
      "                                        \"denoting cold accompanied by copious running of nose and eyes\"\n",
      "                                    ],\n",
      "                                    \"synonyms\": [\n",
      "                                        {\n",
      "                                            \"language\": \"en\",\n",
      "                                            \"text\": \"flowing\"\n",
      "                                        },\n",
      "                                        {\n",
      "                                            \"language\": \"en\",\n",
      "                                            \"text\": \"streaming\"\n",
      "                                        },\n",
      "                                        {\n",
      "                                            \"language\": \"en\",\n",
      "                                            \"text\": \"gushing\"\n",
      "                                        },\n",
      "                                        {\n",
      "                                            \"language\": \"en\",\n",
      "                                            \"text\": \"rushing\"\n",
      "                                        },\n",
      "                                        {\n",
      "                                            \"language\": \"en\",\n",
      "                                            \"text\": \"moving\"\n",
      "                                        }\n",
      "                                    ],\n",
      "                                    \"thesaurusLinks\": [\n",
      "                                        {\n",
      "                                            \"entry_id\": \"running\",\n",
      "                                            \"sense_id\": \"t_en_gb0012797.006\"\n",
      "                                        }\n",
      "                                    ]\n",
      "                                }\n",
      "                            ]\n",
      "                        }\n",
      "                    ],\n",
      "                    \"language\": \"en-gb\",\n",
      "                    \"lexicalCategory\": {\n",
      "                        \"id\": \"adjective\",\n",
      "                        \"text\": \"Adjective\"\n",
      "                    },\n",
      "                    \"text\": \"streaming\"\n",
      "                }\n",
      "            ],\n",
      "            \"type\": \"headword\",\n",
      "            \"word\": \"streaming\"\n",
      "        }\n",
      "    ],\n",
      "    \"word\": \"streaming\"\n",
      "}\n"
     ]
    }
   ],
   "source": [
    "odp = pobierz_info_slowa('streaming')\n",
    "print(odp.text)"
   ]
  },
  {
   "cell_type": "code",
   "execution_count": 72,
   "metadata": {},
   "outputs": [
    {
     "data": {
      "text/plain": [
       "{'Date': 'Sat, 05 Feb 2022 17:33:29 GMT', 'Content-Type': 'application/json;charset=utf-8', 'Content-Length': '12038', 'Connection': 'keep-alive', 'Server': 'openresty', 'X-Request-Id': '1-61feb4e9-5bf335943b4f1cca4df605da', 'code_version': 'v2.8.8.0-0-g522bb6a', 'api_version': 'v2'}"
      ]
     },
     "execution_count": 72,
     "metadata": {},
     "output_type": "execute_result"
    }
   ],
   "source": [
    "odp.headers"
   ]
  },
  {
   "cell_type": "code",
   "execution_count": 73,
   "metadata": {},
   "outputs": [],
   "source": [
    "from pyspark.sql import SparkSession\n",
    "spark = SparkSession.builder.appName('newApp').getOrCreate()\n"
   ]
  },
  {
   "cell_type": "code",
   "execution_count": 74,
   "metadata": {},
   "outputs": [
    {
     "name": "stdout",
     "output_type": "stream",
     "text": [
      "+---------+--------------------------------------------------+-----------------------------------------------------------------------------------------------------------------------------------------------------------------------------------------------------------------------------------------------------------------------------------------------------------------------------------------------------------------------------------------------------------------------------------------------------------------------------------------------------------------------------------------------------------------------------------------------------------------------------------------------------------------------------------------------------------------------------------------------------------------------------------------------------------------------------------------------------------------------------------------------------------------------------------------------------------------------------------------------------------------------------------------------------------------------------------------------------------------------------------------------------------------------------------------------------------------------------------------------------------------------------------------------------------------------------------------------------------------------------------------------------------------------------------------------------------------------------------------------------------------------------------------------------------------------------------------------------------------------------------------------------------------------------------------------------------------------------------------------------------------------------------------------------------------------------------------------------------------------------------------------------------------------------------------------------------------------------------------------------------------------------------------------------------------------------------------------------------------------------------------------------------------------------------------------------------------------------------------------------------+---------+\n",
      "|id       |metadata                                          |results                                                                                                                                                                                                                                                                                                                                                                                                                                                                                                                                                                                                                                                                                                                                                                                                                                                                                                                                                                                                                                                                                                                                                                                                                                                                                                                                                                                                                                                                                                                                                                                                                                                                                                                                                                                                                                                                                                                                                                                                                                                                                                                                                                                                                                                    |word     |\n",
      "+---------+--------------------------------------------------+-----------------------------------------------------------------------------------------------------------------------------------------------------------------------------------------------------------------------------------------------------------------------------------------------------------------------------------------------------------------------------------------------------------------------------------------------------------------------------------------------------------------------------------------------------------------------------------------------------------------------------------------------------------------------------------------------------------------------------------------------------------------------------------------------------------------------------------------------------------------------------------------------------------------------------------------------------------------------------------------------------------------------------------------------------------------------------------------------------------------------------------------------------------------------------------------------------------------------------------------------------------------------------------------------------------------------------------------------------------------------------------------------------------------------------------------------------------------------------------------------------------------------------------------------------------------------------------------------------------------------------------------------------------------------------------------------------------------------------------------------------------------------------------------------------------------------------------------------------------------------------------------------------------------------------------------------------------------------------------------------------------------------------------------------------------------------------------------------------------------------------------------------------------------------------------------------------------------------------------------------------------+---------+\n",
      "|streaming|{retrieve, Oxford University Press, RetrieveEntry}|[{streaming, en-gb, [{[{[{mass, Mass, Countability}], null, [{https://audio.oxforddictionaries.com/en/mp3/streaming_gb_2.mp3, [British English], IPA, ˈstriːmɪŋ}], [{[a method of transmitting or receiving data (especially video and audio material) over a computer network as a steady, continuous flow, allowing playback to start while the rest of the data is still being received.], [{audio, Audio}, {computing, Computing}, {video, Video}], null, m_en_gbus1001810.012, null, [{technical_system, Technical_System}], [method of relaying data over computer network as steady continuous stream], null, null, null}, {[the practice of putting schoolchildren in groups of the same age and ability to be taught together], [{education, Education}], [{streaming within secondary schools is common practice}], m_en_gbus1001810.034, [{british, British}], [{practice, Practice}], [practice of putting schoolchildren in groups of same age and ability to be taught together], null, null, null}]}], en-gb, {noun, Noun}, streaming}, {[{null, [{attributive, grammaticalNote}], [{https://audio.oxforddictionaries.com/en/mp3/streaming_gb_2.mp3, [British English], IPA, ˈstriːmɪŋ}], [{[relating to or using data transmitted in a continuous stream while earlier parts are being used], [{computing, Computing}], [{a streaming service}, {a streaming platform}], m_en_gbus1001810.010, null, null, [relating to data transmitted in continuous stream], [{[relating to or making use of a form of tape transport, used mainly to provide backup storage, in which data may be transferred in bulk while the tape is in motion], [{computing, Computing}], [{computing, Computing}], [{a streaming tape drive}], m_en_gbus1001810.009, [relating to or making use of form of tape transport]}], null, null}, {[(of a cold) accompanied by copious running of the nose and eyes], null, [{she's got a streaming cold}], m_en_gbus1001810.006, [{british, British}], null, [denoting cold accompanied by copious running of nose and eyes], null, [{en, flowing}, {en, streaming}, {en, gushing}, {en, rushing}, {en, moving}], [{running, t_en_gb0012797.006}]}]}], en-gb, {adjective, Adjective}, streaming}], headword, streaming}]|streaming|\n",
      "+---------+--------------------------------------------------+-----------------------------------------------------------------------------------------------------------------------------------------------------------------------------------------------------------------------------------------------------------------------------------------------------------------------------------------------------------------------------------------------------------------------------------------------------------------------------------------------------------------------------------------------------------------------------------------------------------------------------------------------------------------------------------------------------------------------------------------------------------------------------------------------------------------------------------------------------------------------------------------------------------------------------------------------------------------------------------------------------------------------------------------------------------------------------------------------------------------------------------------------------------------------------------------------------------------------------------------------------------------------------------------------------------------------------------------------------------------------------------------------------------------------------------------------------------------------------------------------------------------------------------------------------------------------------------------------------------------------------------------------------------------------------------------------------------------------------------------------------------------------------------------------------------------------------------------------------------------------------------------------------------------------------------------------------------------------------------------------------------------------------------------------------------------------------------------------------------------------------------------------------------------------------------------------------------------------------------------------------------+---------+\n",
      "\n"
     ]
    }
   ],
   "source": [
    "json_rdd = sc.parallelize([odp.text])\n",
    "df_sp = spark.read.json(json_rdd)\n",
    "df_sp.show(truncate=False)"
   ]
  },
  {
   "cell_type": "code",
   "execution_count": 75,
   "metadata": {},
   "outputs": [
    {
     "name": "stdout",
     "output_type": "stream",
     "text": [
      "+------------+--------------------+--------------------+------------+\n",
      "|          id|            metadata|             results|        word|\n",
      "+------------+--------------------+--------------------+------------+\n",
      "|      cogent|{retrieve, Oxford...|[{cogent, en-gb, ...|      cogent|\n",
      "|     digress|{retrieve, Oxford...|[{digress, en-gb,...|     digress|\n",
      "|    tangible|{retrieve, Oxford...|[{tangible, en-gb...|    tangible|\n",
      "|    diligent|{retrieve, Oxford...|[{diligent, en-gb...|    diligent|\n",
      "| mellifluous|{retrieve, Oxford...|[{mellifluous, en...| mellifluous|\n",
      "|     obscure|{retrieve, Oxford...|[{obscure, en-gb,...|     obscure|\n",
      "|intelligible|{retrieve, Oxford...|[{intelligible, e...|intelligible|\n",
      "+------------+--------------------+--------------------+------------+\n",
      "\n"
     ]
    }
   ],
   "source": [
    "words = [\"cogent\", \"digress\", \"tangible\",\n",
    "\"diligent\", \"mellifluous\", \"obscure\", \"intelligible\"]\n",
    "lista_odp = [pobierz_info_slowa(word).text for word in words]\n",
    "json_rdd = sc.parallelize(lista_odp)\n",
    "json_df = spark.read.json(json_rdd)\n",
    "json_df.show()"
   ]
  },
  {
   "cell_type": "code",
   "execution_count": 76,
   "metadata": {},
   "outputs": [
    {
     "name": "stdout",
     "output_type": "stream",
     "text": [
      "root\n",
      " |-- id: string (nullable = true)\n",
      " |-- metadata: struct (nullable = true)\n",
      " |    |-- operation: string (nullable = true)\n",
      " |    |-- provider: string (nullable = true)\n",
      " |    |-- schema: string (nullable = true)\n",
      " |-- results: array (nullable = true)\n",
      " |    |-- element: struct (containsNull = true)\n",
      " |    |    |-- id: string (nullable = true)\n",
      " |    |    |-- language: string (nullable = true)\n",
      " |    |    |-- lexicalEntries: array (nullable = true)\n",
      " |    |    |    |-- element: struct (containsNull = true)\n",
      " |    |    |    |    |-- derivatives: array (nullable = true)\n",
      " |    |    |    |    |    |-- element: struct (containsNull = true)\n",
      " |    |    |    |    |    |    |-- id: string (nullable = true)\n",
      " |    |    |    |    |    |    |-- text: string (nullable = true)\n",
      " |    |    |    |    |-- entries: array (nullable = true)\n",
      " |    |    |    |    |    |-- element: struct (containsNull = true)\n",
      " |    |    |    |    |    |    |-- etymologies: array (nullable = true)\n",
      " |    |    |    |    |    |    |    |-- element: string (containsNull = true)\n",
      " |    |    |    |    |    |    |-- grammaticalFeatures: array (nullable = true)\n",
      " |    |    |    |    |    |    |    |-- element: struct (containsNull = true)\n",
      " |    |    |    |    |    |    |    |    |-- id: string (nullable = true)\n",
      " |    |    |    |    |    |    |    |    |-- text: string (nullable = true)\n",
      " |    |    |    |    |    |    |    |    |-- type: string (nullable = true)\n",
      " |    |    |    |    |    |    |-- inflections: array (nullable = true)\n",
      " |    |    |    |    |    |    |    |-- element: struct (containsNull = true)\n",
      " |    |    |    |    |    |    |    |    |-- inflectedForm: string (nullable = true)\n",
      " |    |    |    |    |    |    |-- notes: array (nullable = true)\n",
      " |    |    |    |    |    |    |    |-- element: struct (containsNull = true)\n",
      " |    |    |    |    |    |    |    |    |-- text: string (nullable = true)\n",
      " |    |    |    |    |    |    |    |    |-- type: string (nullable = true)\n",
      " |    |    |    |    |    |    |-- pronunciations: array (nullable = true)\n",
      " |    |    |    |    |    |    |    |-- element: struct (containsNull = true)\n",
      " |    |    |    |    |    |    |    |    |-- audioFile: string (nullable = true)\n",
      " |    |    |    |    |    |    |    |    |-- dialects: array (nullable = true)\n",
      " |    |    |    |    |    |    |    |    |    |-- element: string (containsNull = true)\n",
      " |    |    |    |    |    |    |    |    |-- phoneticNotation: string (nullable = true)\n",
      " |    |    |    |    |    |    |    |    |-- phoneticSpelling: string (nullable = true)\n",
      " |    |    |    |    |    |    |-- senses: array (nullable = true)\n",
      " |    |    |    |    |    |    |    |-- element: struct (containsNull = true)\n",
      " |    |    |    |    |    |    |    |    |-- constructions: array (nullable = true)\n",
      " |    |    |    |    |    |    |    |    |    |-- element: struct (containsNull = true)\n",
      " |    |    |    |    |    |    |    |    |    |    |-- text: string (nullable = true)\n",
      " |    |    |    |    |    |    |    |    |-- definitions: array (nullable = true)\n",
      " |    |    |    |    |    |    |    |    |    |-- element: string (containsNull = true)\n",
      " |    |    |    |    |    |    |    |    |-- examples: array (nullable = true)\n",
      " |    |    |    |    |    |    |    |    |    |-- element: struct (containsNull = true)\n",
      " |    |    |    |    |    |    |    |    |    |    |-- text: string (nullable = true)\n",
      " |    |    |    |    |    |    |    |    |-- id: string (nullable = true)\n",
      " |    |    |    |    |    |    |    |    |-- semanticClasses: array (nullable = true)\n",
      " |    |    |    |    |    |    |    |    |    |-- element: struct (containsNull = true)\n",
      " |    |    |    |    |    |    |    |    |    |    |-- id: string (nullable = true)\n",
      " |    |    |    |    |    |    |    |    |    |    |-- text: string (nullable = true)\n",
      " |    |    |    |    |    |    |    |    |-- shortDefinitions: array (nullable = true)\n",
      " |    |    |    |    |    |    |    |    |    |-- element: string (containsNull = true)\n",
      " |    |    |    |    |    |    |    |    |-- subsenses: array (nullable = true)\n",
      " |    |    |    |    |    |    |    |    |    |-- element: struct (containsNull = true)\n",
      " |    |    |    |    |    |    |    |    |    |    |-- definitions: array (nullable = true)\n",
      " |    |    |    |    |    |    |    |    |    |    |    |-- element: string (containsNull = true)\n",
      " |    |    |    |    |    |    |    |    |    |    |-- domainClasses: array (nullable = true)\n",
      " |    |    |    |    |    |    |    |    |    |    |    |-- element: struct (containsNull = true)\n",
      " |    |    |    |    |    |    |    |    |    |    |    |    |-- id: string (nullable = true)\n",
      " |    |    |    |    |    |    |    |    |    |    |    |    |-- text: string (nullable = true)\n",
      " |    |    |    |    |    |    |    |    |    |    |-- domains: array (nullable = true)\n",
      " |    |    |    |    |    |    |    |    |    |    |    |-- element: struct (containsNull = true)\n",
      " |    |    |    |    |    |    |    |    |    |    |    |    |-- id: string (nullable = true)\n",
      " |    |    |    |    |    |    |    |    |    |    |    |    |-- text: string (nullable = true)\n",
      " |    |    |    |    |    |    |    |    |    |    |-- examples: array (nullable = true)\n",
      " |    |    |    |    |    |    |    |    |    |    |    |-- element: struct (containsNull = true)\n",
      " |    |    |    |    |    |    |    |    |    |    |    |    |-- text: string (nullable = true)\n",
      " |    |    |    |    |    |    |    |    |    |    |-- id: string (nullable = true)\n",
      " |    |    |    |    |    |    |    |    |    |    |-- shortDefinitions: array (nullable = true)\n",
      " |    |    |    |    |    |    |    |    |    |    |    |-- element: string (containsNull = true)\n",
      " |    |    |    |    |    |    |    |    |    |    |-- synonyms: array (nullable = true)\n",
      " |    |    |    |    |    |    |    |    |    |    |    |-- element: struct (containsNull = true)\n",
      " |    |    |    |    |    |    |    |    |    |    |    |    |-- language: string (nullable = true)\n",
      " |    |    |    |    |    |    |    |    |    |    |    |    |-- text: string (nullable = true)\n",
      " |    |    |    |    |    |    |    |    |    |    |-- thesaurusLinks: array (nullable = true)\n",
      " |    |    |    |    |    |    |    |    |    |    |    |-- element: struct (containsNull = true)\n",
      " |    |    |    |    |    |    |    |    |    |    |    |    |-- entry_id: string (nullable = true)\n",
      " |    |    |    |    |    |    |    |    |    |    |    |    |-- sense_id: string (nullable = true)\n",
      " |    |    |    |    |    |    |    |    |-- synonyms: array (nullable = true)\n",
      " |    |    |    |    |    |    |    |    |    |-- element: struct (containsNull = true)\n",
      " |    |    |    |    |    |    |    |    |    |    |-- language: string (nullable = true)\n",
      " |    |    |    |    |    |    |    |    |    |    |-- text: string (nullable = true)\n",
      " |    |    |    |    |    |    |    |    |-- thesaurusLinks: array (nullable = true)\n",
      " |    |    |    |    |    |    |    |    |    |-- element: struct (containsNull = true)\n",
      " |    |    |    |    |    |    |    |    |    |    |-- entry_id: string (nullable = true)\n",
      " |    |    |    |    |    |    |    |    |    |    |-- sense_id: string (nullable = true)\n",
      " |    |    |    |    |-- language: string (nullable = true)\n",
      " |    |    |    |    |-- lexicalCategory: struct (nullable = true)\n",
      " |    |    |    |    |    |-- id: string (nullable = true)\n",
      " |    |    |    |    |    |-- text: string (nullable = true)\n",
      " |    |    |    |    |-- text: string (nullable = true)\n",
      " |    |    |-- type: string (nullable = true)\n",
      " |    |    |-- word: string (nullable = true)\n",
      " |-- word: string (nullable = true)\n",
      "\n"
     ]
    }
   ],
   "source": [
    "json_df.printSchema()"
   ]
  },
  {
   "cell_type": "code",
   "execution_count": 77,
   "metadata": {},
   "outputs": [
    {
     "name": "stdout",
     "output_type": "stream",
     "text": [
      "root\n",
      " |-- operation: string (nullable = true)\n",
      " |-- provider: string (nullable = true)\n",
      " |-- schema: string (nullable = true)\n",
      "\n"
     ]
    }
   ],
   "source": [
    "json_df.select('metadata.*').printSchema()"
   ]
  },
  {
   "cell_type": "code",
   "execution_count": 78,
   "metadata": {},
   "outputs": [],
   "source": [
    "json1 = \"\"\"\n",
    "{\n",
    "\"num\": [1,2,3,4]\n",
    "}\n",
    "\"\"\""
   ]
  },
  {
   "cell_type": "code",
   "execution_count": 79,
   "metadata": {},
   "outputs": [
    {
     "name": "stdout",
     "output_type": "stream",
     "text": [
      "root\n",
      " |-- num: array (nullable = true)\n",
      " |    |-- element: long (containsNull = true)\n",
      "\n"
     ]
    }
   ],
   "source": [
    "df1 = spark.read.json(sc.parallelize([json1]))\n",
    "df1.printSchema()"
   ]
  },
  {
   "cell_type": "code",
   "execution_count": 80,
   "metadata": {},
   "outputs": [
    {
     "name": "stdout",
     "output_type": "stream",
     "text": [
      "+------+\n",
      "|number|\n",
      "+------+\n",
      "|     1|\n",
      "|     2|\n",
      "|     3|\n",
      "|     4|\n",
      "+------+\n",
      "\n"
     ]
    }
   ],
   "source": [
    "from pyspark.sql.functions import *\n",
    "\n",
    "df1.select(explode('num').alias('number')).show()"
   ]
  },
  {
   "cell_type": "code",
   "execution_count": 81,
   "metadata": {},
   "outputs": [],
   "source": [
    "json_df.createOrReplaceTempView('slownik')"
   ]
  },
  {
   "cell_type": "code",
   "execution_count": 82,
   "metadata": {},
   "outputs": [
    {
     "name": "stdout",
     "output_type": "stream",
     "text": [
      "+------------+--------+\n",
      "|        word|language|\n",
      "+------------+--------+\n",
      "|      cogent|   en-gb|\n",
      "|     digress|   en-gb|\n",
      "|    tangible|   en-gb|\n",
      "|    diligent|   en-gb|\n",
      "| mellifluous|   en-gb|\n",
      "|     obscure|   en-gb|\n",
      "|intelligible|   en-gb|\n",
      "+------------+--------+\n",
      "\n"
     ]
    }
   ],
   "source": [
    "flat_df = spark.sql(\"\"\"select id as word, \n",
    "a.language\n",
    "from slownik\n",
    "lateral view outer explode(results)tmp1 as a\n",
    "\"\"\")\n",
    "flat_df.show()"
   ]
  },
  {
   "cell_type": "code",
   "execution_count": 83,
   "metadata": {},
   "outputs": [],
   "source": [
    "flat_df2 = spark.sql(\"\"\"select id as word, \n",
    "a.language, b\n",
    "from slownik\n",
    "lateral view outer explode(results)tmp1 as a\n",
    "lateral view outer explode(a.lexicalEntries)tmp2 as b\n",
    "\"\"\")"
   ]
  },
  {
   "cell_type": "code",
   "execution_count": 84,
   "metadata": {},
   "outputs": [],
   "source": [
    "flat_df3 = spark.sql(\"\"\"select id as word, \n",
    "a.language, definitions as definition,\n",
    "examples.text as example\n",
    "from slownik\n",
    "lateral view outer explode(results)tmp1 as a\n",
    "lateral view outer explode(a.lexicalEntries)tmp2 as b\n",
    "lateral view outer explode(b.entries)tmp3 as c\n",
    "lateral view outer explode(c.senses)tmp4 as d\n",
    "lateral view outer explode(d.definitions)tmp5 as definitions\n",
    "lateral view outer explode(d.examples)tmp6 as examples\n",
    "\"\"\")"
   ]
  },
  {
   "cell_type": "markdown",
   "metadata": {},
   "source": [
    "## 1.2. Żródła i przechowywanie danych"
   ]
  },
  {
   "cell_type": "code",
   "execution_count": 85,
   "metadata": {},
   "outputs": [
    {
     "data": {
      "text/html": [
       "<div>\n",
       "<style scoped>\n",
       "    .dataframe tbody tr th:only-of-type {\n",
       "        vertical-align: middle;\n",
       "    }\n",
       "\n",
       "    .dataframe tbody tr th {\n",
       "        vertical-align: top;\n",
       "    }\n",
       "\n",
       "    .dataframe thead th {\n",
       "        text-align: right;\n",
       "    }\n",
       "</style>\n",
       "<table border=\"1\" class=\"dataframe\">\n",
       "  <thead>\n",
       "    <tr style=\"text-align: right;\">\n",
       "      <th></th>\n",
       "      <th>sepal length (cm)</th>\n",
       "      <th>sepal width (cm)</th>\n",
       "      <th>petal length (cm)</th>\n",
       "      <th>petal width (cm)</th>\n",
       "      <th>species</th>\n",
       "    </tr>\n",
       "  </thead>\n",
       "  <tbody>\n",
       "    <tr>\n",
       "      <th>0</th>\n",
       "      <td>5.1</td>\n",
       "      <td>3.5</td>\n",
       "      <td>1.4</td>\n",
       "      <td>0.2</td>\n",
       "      <td>setosa</td>\n",
       "    </tr>\n",
       "    <tr>\n",
       "      <th>1</th>\n",
       "      <td>4.9</td>\n",
       "      <td>3.0</td>\n",
       "      <td>1.4</td>\n",
       "      <td>0.2</td>\n",
       "      <td>setosa</td>\n",
       "    </tr>\n",
       "    <tr>\n",
       "      <th>2</th>\n",
       "      <td>4.7</td>\n",
       "      <td>3.2</td>\n",
       "      <td>1.3</td>\n",
       "      <td>0.2</td>\n",
       "      <td>setosa</td>\n",
       "    </tr>\n",
       "    <tr>\n",
       "      <th>3</th>\n",
       "      <td>4.6</td>\n",
       "      <td>3.1</td>\n",
       "      <td>1.5</td>\n",
       "      <td>0.2</td>\n",
       "      <td>setosa</td>\n",
       "    </tr>\n",
       "    <tr>\n",
       "      <th>4</th>\n",
       "      <td>5.0</td>\n",
       "      <td>3.6</td>\n",
       "      <td>1.4</td>\n",
       "      <td>0.2</td>\n",
       "      <td>setosa</td>\n",
       "    </tr>\n",
       "  </tbody>\n",
       "</table>\n",
       "</div>"
      ],
      "text/plain": [
       "   sepal length (cm)  sepal width (cm)  petal length (cm)  petal width (cm)  \\\n",
       "0                5.1               3.5                1.4               0.2   \n",
       "1                4.9               3.0                1.4               0.2   \n",
       "2                4.7               3.2                1.3               0.2   \n",
       "3                4.6               3.1                1.5               0.2   \n",
       "4                5.0               3.6                1.4               0.2   \n",
       "\n",
       "  species  \n",
       "0  setosa  \n",
       "1  setosa  \n",
       "2  setosa  \n",
       "3  setosa  \n",
       "4  setosa  "
      ]
     },
     "execution_count": 85,
     "metadata": {},
     "output_type": "execute_result"
    }
   ],
   "source": [
    "df.head()"
   ]
  },
  {
   "cell_type": "code",
   "execution_count": 86,
   "metadata": {},
   "outputs": [],
   "source": [
    "from sqlalchemy import create_engine"
   ]
  },
  {
   "cell_type": "code",
   "execution_count": 87,
   "metadata": {},
   "outputs": [
    {
     "data": {
      "text/plain": [
       "150"
      ]
     },
     "execution_count": 87,
     "metadata": {},
     "output_type": "execute_result"
    }
   ],
   "source": [
    "engine = create_engine('sqlite:///irysy.db')\n",
    "# zapis ramki do bazy SQL\n",
    "df.to_sql('dane', con=engine, index=False)"
   ]
  },
  {
   "cell_type": "code",
   "execution_count": 88,
   "metadata": {},
   "outputs": [
    {
     "data": {
      "text/html": [
       "<div>\n",
       "<style scoped>\n",
       "    .dataframe tbody tr th:only-of-type {\n",
       "        vertical-align: middle;\n",
       "    }\n",
       "\n",
       "    .dataframe tbody tr th {\n",
       "        vertical-align: top;\n",
       "    }\n",
       "\n",
       "    .dataframe thead th {\n",
       "        text-align: right;\n",
       "    }\n",
       "</style>\n",
       "<table border=\"1\" class=\"dataframe\">\n",
       "  <thead>\n",
       "    <tr style=\"text-align: right;\">\n",
       "      <th></th>\n",
       "      <th>sepal length (cm)</th>\n",
       "      <th>sepal width (cm)</th>\n",
       "      <th>petal length (cm)</th>\n",
       "      <th>petal width (cm)</th>\n",
       "      <th>species</th>\n",
       "    </tr>\n",
       "  </thead>\n",
       "  <tbody>\n",
       "    <tr>\n",
       "      <th>0</th>\n",
       "      <td>5.1</td>\n",
       "      <td>3.5</td>\n",
       "      <td>1.4</td>\n",
       "      <td>0.2</td>\n",
       "      <td>setosa</td>\n",
       "    </tr>\n",
       "    <tr>\n",
       "      <th>1</th>\n",
       "      <td>4.9</td>\n",
       "      <td>3.0</td>\n",
       "      <td>1.4</td>\n",
       "      <td>0.2</td>\n",
       "      <td>setosa</td>\n",
       "    </tr>\n",
       "    <tr>\n",
       "      <th>2</th>\n",
       "      <td>4.7</td>\n",
       "      <td>3.2</td>\n",
       "      <td>1.3</td>\n",
       "      <td>0.2</td>\n",
       "      <td>setosa</td>\n",
       "    </tr>\n",
       "    <tr>\n",
       "      <th>3</th>\n",
       "      <td>4.6</td>\n",
       "      <td>3.1</td>\n",
       "      <td>1.5</td>\n",
       "      <td>0.2</td>\n",
       "      <td>setosa</td>\n",
       "    </tr>\n",
       "    <tr>\n",
       "      <th>4</th>\n",
       "      <td>5.0</td>\n",
       "      <td>3.6</td>\n",
       "      <td>1.4</td>\n",
       "      <td>0.2</td>\n",
       "      <td>setosa</td>\n",
       "    </tr>\n",
       "  </tbody>\n",
       "</table>\n",
       "</div>"
      ],
      "text/plain": [
       "   sepal length (cm)  sepal width (cm)  petal length (cm)  petal width (cm)  \\\n",
       "0                5.1               3.5                1.4               0.2   \n",
       "1                4.9               3.0                1.4               0.2   \n",
       "2                4.7               3.2                1.3               0.2   \n",
       "3                4.6               3.1                1.5               0.2   \n",
       "4                5.0               3.6                1.4               0.2   \n",
       "\n",
       "  species  \n",
       "0  setosa  \n",
       "1  setosa  \n",
       "2  setosa  \n",
       "3  setosa  \n",
       "4  setosa  "
      ]
     },
     "execution_count": 88,
     "metadata": {},
     "output_type": "execute_result"
    }
   ],
   "source": [
    "a = engine.execute(\"SELECT * FROM dane\").fetchall()\n",
    "df2 = pd.DataFrame(a, columns=df.columns)\n",
    "df2.head()"
   ]
  },
  {
   "cell_type": "code",
   "execution_count": 89,
   "metadata": {},
   "outputs": [
    {
     "name": "stdout",
     "output_type": "stream",
     "text": [
      "{'name': 'Alice', 'languages': ['English', 'French']}\n"
     ]
    }
   ],
   "source": [
    "import json\n",
    "person = '{\"name\": \"Alice\", \"languages\": [\"English\", \"French\"]}'\n",
    "person_dict = json.loads(person)\n",
    "\n",
    "print( person_dict)"
   ]
  },
  {
   "cell_type": "code",
   "execution_count": 90,
   "metadata": {},
   "outputs": [
    {
     "name": "stdout",
     "output_type": "stream",
     "text": [
      "['English', 'French']\n"
     ]
    }
   ],
   "source": [
    "print(person_dict['languages'])"
   ]
  },
  {
   "cell_type": "code",
   "execution_count": 93,
   "metadata": {},
   "outputs": [
    {
     "name": "stdout",
     "output_type": "stream",
     "text": [
      "Writing test.json\n"
     ]
    }
   ],
   "source": [
    "%%file test.json\n",
    "{\"name\": \"Alice\", \"languages\": [\"English\", \"French\"]}"
   ]
  },
  {
   "cell_type": "code",
   "execution_count": 94,
   "metadata": {},
   "outputs": [
    {
     "name": "stdout",
     "output_type": "stream",
     "text": [
      "{'name': 'Alice', 'languages': ['English', 'French']}\n"
     ]
    }
   ],
   "source": [
    "with open('test.json') as f:\n",
    "    data = json.load(f)\n",
    "\n",
    "print(data)"
   ]
  },
  {
   "cell_type": "code",
   "execution_count": 95,
   "metadata": {},
   "outputs": [],
   "source": [
    "with open('person.json', 'w') as json_file:\n",
    "    json.dump(person_dict, json_file)"
   ]
  },
  {
   "cell_type": "code",
   "execution_count": 96,
   "metadata": {},
   "outputs": [
    {
     "data": {
      "text/plain": [
       "RandomForestClassifier()"
      ]
     },
     "execution_count": 96,
     "metadata": {},
     "output_type": "execute_result"
    }
   ],
   "source": [
    "from sklearn import datasets\n",
    "from sklearn.ensemble import RandomForestClassifier\n",
    "\n",
    "X, y = datasets.make_classification(n_samples=10**5,\n",
    "n_features=20, n_informative=2, n_redundant=2)\n",
    "                                    \n",
    "train_samples = 100 \n",
    "\n",
    "X_train = X[:train_samples]\n",
    "X_test = X[train_samples:]\n",
    "y_train = y[:train_samples]\n",
    "y_test = y[train_samples:]\n",
    "\n",
    "rfc = RandomForestClassifier()\n",
    "rfc.fit(X_train, y_train)"
   ]
  },
  {
   "cell_type": "code",
   "execution_count": 97,
   "metadata": {},
   "outputs": [],
   "source": [
    "import pickle"
   ]
  },
  {
   "cell_type": "code",
   "execution_count": 98,
   "metadata": {},
   "outputs": [],
   "source": [
    "with open('model.pkl', \"wb\") as picklefile:\n",
    "    pickle.dump(rfc, picklefile)"
   ]
  },
  {
   "cell_type": "code",
   "execution_count": 99,
   "metadata": {},
   "outputs": [],
   "source": [
    "with open('model.pkl',\"rb\") as picklefile:\n",
    "    model = pickle.load(picklefile)"
   ]
  },
  {
   "cell_type": "code",
   "execution_count": 100,
   "metadata": {},
   "outputs": [],
   "source": [
    "from joblib import dump, load"
   ]
  },
  {
   "cell_type": "code",
   "execution_count": 101,
   "metadata": {},
   "outputs": [],
   "source": [
    "with open('model.joblib', \"wb\") as jobf:\n",
    "    dump(rfc, jobf)"
   ]
  },
  {
   "cell_type": "code",
   "execution_count": 102,
   "metadata": {},
   "outputs": [],
   "source": [
    "with open('model.joblib',\"rb\") as jobf:\n",
    "    model = load(jobf)"
   ]
  },
  {
   "cell_type": "markdown",
   "metadata": {},
   "source": [
    "## 1.3. Dane i Metadane"
   ]
  },
  {
   "cell_type": "code",
   "execution_count": 104,
   "metadata": {},
   "outputs": [],
   "source": [
    "import pandas as pd\n",
    "import pyarrow as pa\n",
    "import pyarrow.parquet as pq\n",
    "import json"
   ]
  },
  {
   "cell_type": "code",
   "execution_count": 110,
   "metadata": {},
   "outputs": [],
   "source": [
    "dane = {'temp':[15.2, 10, 13, 10, 12, 10],\n",
    "        'deszcz':[2.5, 0.2, 0.6, 0.3, 1.8, 0.2]}\n",
    "df = pd.DataFrame(dane)\n",
    "df.index = pd.DatetimeIndex(['2021-10-01', '2021-10-02',\n",
    "    '2021-10-03', '2021-10-04', '2021-10-05', '2021-10-06'], name=\"data\")"
   ]
  },
  {
   "cell_type": "code",
   "execution_count": 112,
   "metadata": {},
   "outputs": [],
   "source": [
    "meta_dane = {'czas_zapisu': '2021-10-10T10:10:59',\n",
    "'user':'Sebastian Zajac', 'wsp':'52.143 N, 21.1554 E'}"
   ]
  },
  {
   "cell_type": "code",
   "execution_count": 114,
   "metadata": {},
   "outputs": [],
   "source": [
    "meta_dane_key = 'pogoda.iot'"
   ]
  },
  {
   "cell_type": "code",
   "execution_count": 116,
   "metadata": {},
   "outputs": [
    {
     "name": "stdout",
     "output_type": "stream",
     "text": [
      "{b'pandas': b'{\"index_columns\": [\"data\"], \"column_indexes\": [{\"name\": null, \"field_name\": null, \"pandas_type\": \"unicode\", \"numpy_type\": \"object\", \"metadata\": {\"encoding\": \"UTF-8\"}}], \"columns\": [{\"name\": \"temp\", \"field_name\": \"temp\", \"pandas_type\": \"float64\", \"numpy_type\": \"float64\", \"metadata\": null}, {\"name\": \"deszcz\", \"field_name\": \"deszcz\", \"pandas_type\": \"float64\", \"numpy_type\": \"float64\", \"metadata\": null}, {\"name\": \"data\", \"field_name\": \"data\", \"pandas_type\": \"datetime\", \"numpy_type\": \"datetime64[ns]\", \"metadata\": null}], \"creator\": {\"library\": \"pyarrow\", \"version\": \"7.0.0\"}, \"pandas_version\": \"1.4.0\"}'}\n"
     ]
    }
   ],
   "source": [
    "tabela_A = pa.Table.from_pandas(df)\n",
    "print(tabela_A.schema.metadata)"
   ]
  },
  {
   "cell_type": "code",
   "execution_count": 117,
   "metadata": {},
   "outputs": [],
   "source": [
    "meta_json = json.dumps(meta_dane)"
   ]
  },
  {
   "cell_type": "code",
   "execution_count": 118,
   "metadata": {},
   "outputs": [],
   "source": [
    "istniejace_metadane = tabela_A.schema.metadata\n",
    "all_metadane = {meta_dane_key.encode() : meta_json.encode(),\n",
    "**istniejace_metadane}"
   ]
  },
  {
   "cell_type": "code",
   "execution_count": 119,
   "metadata": {},
   "outputs": [],
   "source": [
    "tabela_A_md = tabela_A.replace_schema_metadata(all_metadane)\n",
    "pq.write_table(tabela_A_md, 'przyklad.parquet',\n",
    "compression='GZIP')"
   ]
  },
  {
   "cell_type": "code",
   "execution_count": 120,
   "metadata": {},
   "outputs": [],
   "source": [
    "tabela = pq.read_table('przyklad.parquet')\n",
    "df2 = tabela.to_pandas()"
   ]
  },
  {
   "cell_type": "code",
   "execution_count": 121,
   "metadata": {},
   "outputs": [],
   "source": [
    "moje_meta_dane = tabela.schema.metadata[meta_dane_key.encode()]\n",
    "m_m_d = json.loads(moje_meta_dane)"
   ]
  },
  {
   "cell_type": "markdown",
   "metadata": {},
   "source": [
    "## 1.5. Obiektowośc Pythona a dane\n",
    "\n",
    "### 1.5.1. Klasa 0 - Pusta klasa"
   ]
  },
  {
   "cell_type": "code",
   "execution_count": 126,
   "metadata": {},
   "outputs": [],
   "source": [
    "def moja_funkcja():\n",
    "    pass"
   ]
  },
  {
   "cell_type": "code",
   "execution_count": 127,
   "metadata": {},
   "outputs": [],
   "source": [
    "class Nazwa(object):\n",
    "    pass"
   ]
  },
  {
   "cell_type": "code",
   "execution_count": 128,
   "metadata": {},
   "outputs": [],
   "source": [
    "a = Nazwa()\n",
    "b = Nazwa()"
   ]
  },
  {
   "cell_type": "code",
   "execution_count": 129,
   "metadata": {},
   "outputs": [
    {
     "data": {
      "text/plain": [
       "[<__main__.Nazwa at 0x1383443d0>,\n",
       " <__main__.Nazwa at 0x138344040>,\n",
       " <__main__.Nazwa at 0x138344100>,\n",
       " <__main__.Nazwa at 0x1383441c0>,\n",
       " <__main__.Nazwa at 0x138344370>]"
      ]
     },
     "execution_count": 129,
     "metadata": {},
     "output_type": "execute_result"
    }
   ],
   "source": [
    "[Nazwa() for x in range(5)]"
   ]
  },
  {
   "cell_type": "code",
   "execution_count": 130,
   "metadata": {},
   "outputs": [
    {
     "data": {
      "text/plain": [
       "['__module__',\n",
       " '__dict__',\n",
       " '__weakref__',\n",
       " '__doc__',\n",
       " '__repr__',\n",
       " '__hash__',\n",
       " '__str__',\n",
       " '__getattribute__',\n",
       " '__setattr__',\n",
       " '__delattr__',\n",
       " '__lt__',\n",
       " '__le__',\n",
       " '__eq__',\n",
       " '__ne__',\n",
       " '__gt__',\n",
       " '__ge__',\n",
       " '__init__',\n",
       " '__new__',\n",
       " '__reduce_ex__',\n",
       " '__reduce__',\n",
       " '__subclasshook__',\n",
       " '__init_subclass__',\n",
       " '__format__',\n",
       " '__sizeof__',\n",
       " '__dir__',\n",
       " '__class__']"
      ]
     },
     "execution_count": 130,
     "metadata": {},
     "output_type": "execute_result"
    }
   ],
   "source": [
    "b.__dir__()"
   ]
  },
  {
   "cell_type": "code",
   "execution_count": 131,
   "metadata": {},
   "outputs": [
    {
     "data": {
      "text/plain": [
       "['__repr__',\n",
       " '__hash__',\n",
       " '__str__',\n",
       " '__getattribute__',\n",
       " '__lt__',\n",
       " '__le__',\n",
       " '__eq__',\n",
       " '__ne__',\n",
       " '__gt__',\n",
       " '__ge__',\n",
       " '__iter__',\n",
       " '__mod__',\n",
       " '__rmod__',\n",
       " '__len__',\n",
       " '__getitem__',\n",
       " '__add__',\n",
       " '__mul__',\n",
       " '__rmul__',\n",
       " '__contains__',\n",
       " '__new__',\n",
       " 'encode',\n",
       " 'replace',\n",
       " 'split',\n",
       " 'rsplit',\n",
       " 'join',\n",
       " 'capitalize',\n",
       " 'casefold',\n",
       " 'title',\n",
       " 'center',\n",
       " 'count',\n",
       " 'expandtabs',\n",
       " 'find',\n",
       " 'partition',\n",
       " 'index',\n",
       " 'ljust',\n",
       " 'lower',\n",
       " 'lstrip',\n",
       " 'rfind',\n",
       " 'rindex',\n",
       " 'rjust',\n",
       " 'rstrip',\n",
       " 'rpartition',\n",
       " 'splitlines',\n",
       " 'strip',\n",
       " 'swapcase',\n",
       " 'translate',\n",
       " 'upper',\n",
       " 'startswith',\n",
       " 'endswith',\n",
       " 'isascii',\n",
       " 'islower',\n",
       " 'isupper',\n",
       " 'istitle',\n",
       " 'isspace',\n",
       " 'isdecimal',\n",
       " 'isdigit',\n",
       " 'isnumeric',\n",
       " 'isalpha',\n",
       " 'isalnum',\n",
       " 'isidentifier',\n",
       " 'isprintable',\n",
       " 'zfill',\n",
       " 'format',\n",
       " 'format_map',\n",
       " '__format__',\n",
       " 'maketrans',\n",
       " '__sizeof__',\n",
       " '__getnewargs__',\n",
       " '__doc__',\n",
       " '__setattr__',\n",
       " '__delattr__',\n",
       " '__init__',\n",
       " '__reduce_ex__',\n",
       " '__reduce__',\n",
       " '__subclasshook__',\n",
       " '__init_subclass__',\n",
       " '__dir__',\n",
       " '__class__']"
      ]
     },
     "execution_count": 131,
     "metadata": {},
     "output_type": "execute_result"
    }
   ],
   "source": [
    "'napis'.__dir__()"
   ]
  },
  {
   "cell_type": "markdown",
   "metadata": {},
   "source": [
    "### 1.5.2. Klasa 1 - rzut kością"
   ]
  },
  {
   "cell_type": "code",
   "execution_count": 136,
   "metadata": {},
   "outputs": [],
   "source": [
    "from random import randint\n",
    "\n",
    "class Kosc(object):\n",
    "    \"\"\"\n",
    "    Klasa realizująca pojedynczy rzut kością\n",
    "    \n",
    "    Atributes\n",
    "    ---------\n",
    "    sciany : int, optional\n",
    "        liczba ścian losowej kości (default is 6)\n",
    "    \n",
    "    Methods\n",
    "    -------\n",
    "    roll() :\n",
    "        zwraca losową wartość od 1 do liczby ścian \n",
    "    \"\"\"\n",
    "    def __init__(self, sciany: int=6):\n",
    "        \"\"\"\n",
    "        Parameters\n",
    "        ----------\n",
    "        sciany : int\n",
    "            liczba ścian kości\n",
    "        \"\"\"\n",
    "\n",
    "        self.sciany = sciany\n",
    "\n",
    "    def roll(self):\n",
    "        '''\n",
    "        Zwraca losową liczbę naturalną od 1 do liczby ścian\n",
    "        Return\n",
    "        ------\n",
    "        losowa wartość ściany kości\n",
    "        '''\n",
    "        return randint(1,self.sciany)"
   ]
  },
  {
   "cell_type": "code",
   "execution_count": 137,
   "metadata": {},
   "outputs": [],
   "source": [
    "kosc = Kosc() # stwórz kość"
   ]
  },
  {
   "cell_type": "code",
   "execution_count": 138,
   "metadata": {},
   "outputs": [
    {
     "name": "stdout",
     "output_type": "stream",
     "text": [
      "[2, 6, 4, 5, 5, 4, 6, 1, 6, 4]\n"
     ]
    }
   ],
   "source": [
    "results = []\n",
    "for _ in range(10): # powtórz 10 razy\n",
    "    result = kosc.roll() # rzuć kością raz\n",
    "    results.append(result) # zapisz do listy\n",
    "\n",
    "print(results)"
   ]
  },
  {
   "cell_type": "markdown",
   "metadata": {},
   "source": [
    "### 1.5.3. Klasa 2 - błądzenie losowe"
   ]
  },
  {
   "cell_type": "code",
   "execution_count": 141,
   "metadata": {},
   "outputs": [],
   "source": [
    "from random import choice\n",
    "\n",
    "class RandomWalk(object):\n",
    "    \"\"\"\n",
    "    Klasa generująca błądzenie losowego w 2D\n",
    "\n",
    "    Atributes\n",
    "    ---------\n",
    "    num_points : int\n",
    "        liczba ścian losowej kości\n",
    "    \n",
    "    Methods\n",
    "    -------\n",
    "    fill_walk()) :\n",
    "        zwraca realizację błądzenia losowego na płaszczyźnie\n",
    "    \"\"\"\n",
    "    \n",
    "    def __init__(self, num_points: int=5000):\n",
    "        \"\"\"\n",
    "        Parameters\n",
    "        ----------\n",
    "        num_points : int, optional\n",
    "            liczba kroków\n",
    "        x_values : list \n",
    "            lista losowych połozen x\n",
    "            początkowo punkt 0\n",
    "        y_values : list\n",
    "            lista losowych połozen y\n",
    "            początkowo punkt 0\n",
    "        \"\"\"\n",
    "        self.num_points = num_points\n",
    "        self.x_values = [0]\n",
    "        self.y_values = [0]\n",
    "\n",
    "    def fill_walk(self):\n",
    "        '''\n",
    "        Zwraca wygenerowany przypadek bładzenia losowego\n",
    "        Return\n",
    "        ------\n",
    "        listy x_values i y_values\n",
    "        '''\n",
    "        while len(self.x_values) < self.num_points:\n",
    "            x_direction = choice([-1,1])\n",
    "            x_distance = choice([0,1,2,3,4])\n",
    "            x_step = x_direction*x_distance\n",
    "\n",
    "            y_direction = choice([-1,1])\n",
    "            y_distance = choice([0,1,2,3,4])\n",
    "            y_step = y_direction*y_distance\n",
    "\n",
    "            if x_step == 0 and y_step == 0:\n",
    "                continue\n",
    "\n",
    "            next_x = self.x_values[-1] + x_step\n",
    "            next_y = self.y_values[-1] + y_step\n",
    "\n",
    "            self.x_values.append(next_x)\n",
    "            self.y_values.append(next_y)"
   ]
  },
  {
   "cell_type": "code",
   "execution_count": 142,
   "metadata": {},
   "outputs": [],
   "source": [
    "rw = RandomWalk(50000)\n",
    "rw.fill_walk()"
   ]
  },
  {
   "cell_type": "code",
   "execution_count": 153,
   "metadata": {},
   "outputs": [
    {
     "data": {
      "image/png": "[encoded data removed]",
      "text/plain": [
       "<Figure size 432x288 with 1 Axes>"
      ]
     },
     "metadata": {
      "needs_background": "light"
     },
     "output_type": "display_data"
    }
   ],
   "source": [
    "point_number = list(range(rw.num_points))\n",
    "plt.scatter(rw.x_values, rw.y_values, c=point_number, cmap=plt.cm.Blues, edgecolor='none', s=15)\n",
    "plt.scatter(0, 0, c='green', edgecolor='none', s=100)\n",
    "plt.scatter(rw.x_values[-1], rw.y_values[-1], c='red', edgecolor='none', s=100)\n",
    "plt.axis('off')\n",
    "plt.show()"
   ]
  },
  {
   "cell_type": "markdown",
   "metadata": {},
   "source": [
    "### 1.5.4. Obiekty i bazy danych"
   ]
  },
  {
   "cell_type": "code",
   "execution_count": 154,
   "metadata": {},
   "outputs": [],
   "source": [
    "from sqlalchemy import create_engine\n",
    "from sqlalchemy import Column, String, Integer\n",
    "from sqlalchemy.ext.declarative import declarative_base\n",
    "from sqlalchemy.orm import sessionmaker"
   ]
  },
  {
   "cell_type": "code",
   "execution_count": 155,
   "metadata": {},
   "outputs": [],
   "source": [
    "engine = create_engine('sqlite:///irysy.db')\n",
    "base = declarative_base()"
   ]
  },
  {
   "cell_type": "code",
   "execution_count": 156,
   "metadata": {},
   "outputs": [],
   "source": [
    "class Transakcje(base):\n",
    "    \"\"\"Tabela danych\"\"\"\n",
    "    __tablename__ = 'transakcje'\n",
    "    transakcja_id = Column(Integer, primary_key=True )\n",
    "    data = Column(String)\n",
    "    przedmiot_id = Column(Integer)\n",
    "    cena = Column(Integer)\n",
    "\n",
    "    def __init__(self, transakcja_id, data, przedmiot_id, cena):\n",
    "        self.transakcja_id = transakcja_id\n",
    "        self.data = data\n",
    "        self.przedmiot_id = przedmiot_id\n",
    "        self.cena = cena"
   ]
  },
  {
   "cell_type": "code",
   "execution_count": 157,
   "metadata": {},
   "outputs": [],
   "source": [
    "base.metadata.create_all(engine)\n",
    "\n",
    "from sqlalchemy.orm import sessionmaker\n",
    "# Stworzenie nowej sesji\n",
    "Session = sessionmaker(bind=engine)\n",
    "session = Session()"
   ]
  },
  {
   "cell_type": "code",
   "execution_count": 158,
   "metadata": {},
   "outputs": [],
   "source": [
    "for t in range(10):\n",
    "    tr = Transakcje(t, f'200{t}/05/06', t**2-t*2, 19)\n",
    "    session.add(tr)\n",
    "# zapis zmian w bazie danych\n",
    "session.commit()"
   ]
  },
  {
   "cell_type": "code",
   "execution_count": 159,
   "metadata": {},
   "outputs": [
    {
     "name": "stdout",
     "output_type": "stream",
     "text": [
      "0 2000/05/06 19\n",
      "1 2001/05/06 19\n",
      "2 2002/05/06 19\n",
      "3 2003/05/06 19\n",
      "4 2004/05/06 19\n",
      "5 2005/05/06 19\n",
      "6 2006/05/06 19\n",
      "7 2007/05/06 19\n",
      "8 2008/05/06 19\n",
      "9 2009/05/06 19\n"
     ]
    }
   ],
   "source": [
    "for s in session.query(Transakcje).all():\n",
    "    print(s.transakcja_id, s.data, s.cena)"
   ]
  },
  {
   "cell_type": "code",
   "execution_count": 160,
   "metadata": {},
   "outputs": [
    {
     "name": "stdout",
     "output_type": "stream",
     "text": [
      "6 2006/05/06\n",
      "7 2007/05/06\n",
      "8 2008/05/06\n",
      "9 2009/05/06\n"
     ]
    }
   ],
   "source": [
    "# wybrane transakcje\n",
    "for s in session.query(Transakcje).filter(Transakcje.transakcja_id>5):\n",
    "    print(s.transakcja_id, s.data)"
   ]
  },
  {
   "cell_type": "markdown",
   "metadata": {},
   "source": [
    "### 1.5.5. Obiektowoś w pakiecie Scikit-Learn"
   ]
  },
  {
   "cell_type": "code",
   "execution_count": 161,
   "metadata": {},
   "outputs": [],
   "source": [
    "from sklearn.pipeline import Pipeline\n",
    "from sklearn.compose import ColumnTransformer\n",
    "from sklearn.preprocessing import StandardScaler\n",
    "from sklearn.impute import SimpleImputer\n",
    "from sklearn.preprocessing import OneHotEncoder"
   ]
  },
  {
   "cell_type": "code",
   "execution_count": 162,
   "metadata": {},
   "outputs": [],
   "source": [
    "numeric_features = [\"zm1\", \"zm2\"]\n",
    "numeric_transformer = Pipeline(steps=[\n",
    "    (\"imputer\", SimpleImputer(strategy=\"mean\")),\n",
    "    (\"scaler\", StandardScaler())\n",
    "])\n",
    "categorical_features = [\"zm3\", \"zm4\"]\n",
    "categorical_transformer = OneHotEncoder(handle_unknown=\"ignore\")\n",
    "\n",
    "preprocessor = ColumnTransformer(transformers=[\n",
    "    (\"num_trans\", numeric_transformer, numeric_features),\n",
    "    (\"cat_trans\", categorical_transformer, categorical_features)\n",
    "])"
   ]
  },
  {
   "cell_type": "markdown",
   "metadata": {},
   "source": []
  }
 ],
 "metadata": {
  "kernelspec": {
   "display_name": "Python 3",
   "language": "python",
   "name": "python3"
  },
  "language_info": {
   "codemirror_mode": {
    "name": "ipython",
    "version": 3
   },
   "file_extension": ".py",
   "mimetype": "text/x-python",
   "name": "python",
   "nbconvert_exporter": "python",
   "pygments_lexer": "ipython3",
   "version": "3.8.9"
  }
 },
 "nbformat": 4,
 "nbformat_minor": 4
}
